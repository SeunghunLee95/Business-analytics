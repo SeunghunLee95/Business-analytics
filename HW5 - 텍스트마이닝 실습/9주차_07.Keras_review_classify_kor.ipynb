{
 "cells": [
  {
   "cell_type": "code",
   "execution_count": 12,
   "metadata": {},
   "outputs": [],
   "source": [
    "import csv\n",
    "\n",
    "text = []\n",
    "y = []\n",
    "with open('movie_data_new.csv', encoding='utf-8') as csvfile:\n",
    "    csvreader = csv.reader(csvfile)\n",
    "    for row in csvreader:\n",
    "        #print(row)\n",
    "        if row: #그 줄에 내용이 있는 경우에만\n",
    "            text.append(row[0]) #영화 리뷰를 text 리스트에 추가\n",
    "            y.append(row[2]) #영화이름을 text 리스트에 추가"
   ]
  },
  {
   "cell_type": "code",
   "execution_count": 13,
   "metadata": {},
   "outputs": [
    {
     "name": "stdout",
     "output_type": "stream",
     "text": [
      "Num of samples: 14967\n",
      "Movie titles of reivews: {'라라랜드', '곤지암', '범죄도시', '택시운전사', '신과함께', '코코', '인피니티 워'}\n"
     ]
    }
   ],
   "source": [
    "print('Num of samples: {}'.format(len(text)))\n",
    "print('Movie titles of reivews: {}'.format(set(y)))"
   ]
  },
  {
   "cell_type": "code",
   "execution_count": 14,
   "metadata": {},
   "outputs": [
    {
     "name": "stdout",
     "output_type": "stream",
     "text": [
      "14967\n",
      "[5, 5, 5, 5, 5, 5, 5, 5, 5, 5]\n"
     ]
    }
   ],
   "source": [
    "label_dict = dict(zip(set(y),range(len(set(y)))))\n",
    "y = [label_dict[c] for c in y]\n",
    "print(len(y))\n",
    "print(y[-10:])"
   ]
  },
  {
   "cell_type": "code",
   "execution_count": 15,
   "metadata": {},
   "outputs": [
    {
     "name": "stderr",
     "output_type": "stream",
     "text": [
      "Using TensorFlow backend.\n"
     ]
    }
   ],
   "source": [
    "from keras.utils.np_utils import to_categorical\n",
    "y = to_categorical(y)"
   ]
  },
  {
   "cell_type": "code",
   "execution_count": 16,
   "metadata": {},
   "outputs": [],
   "source": [
    "from konlpy.tag import Okt #konlpy에서 Twitter 형태소 분석기를 import\n",
    "#from konlpy.tag import Twitter #konlpy에서 Twitter 형태소 분석기를 import\n",
    "twitter_tag = Okt()\n",
    "#twitter_tag = Twitter()"
   ]
  },
  {
   "cell_type": "code",
   "execution_count": 17,
   "metadata": {},
   "outputs": [
    {
     "name": "stdout",
     "output_type": "stream",
     "text": [
      "['내', '졸라']\n"
     ]
    }
   ],
   "source": [
    "print(twitter_tag.nouns(text[4]))"
   ]
  },
  {
   "cell_type": "code",
   "execution_count": 21,
   "metadata": {},
   "outputs": [],
   "source": [
    "from tensorflow.keras.preprocessing.text import Tokenizer\n",
    "from sklearn.feature_extraction.text import CountVectorizer"
   ]
  },
  {
   "cell_type": "code",
   "execution_count": 24,
   "metadata": {},
   "outputs": [
    {
     "name": "stdout",
     "output_type": "stream",
     "text": [
      "voca_size 57554\n"
     ]
    }
   ],
   "source": [
    "# SequenceGenKor가 없어서 바꿔서 진행\n",
    "num_words = 10000\n",
    "tokenizer = Tokenizer(num_words=num_words)\n",
    "tokenizer.fit_on_texts(text)\n",
    "\n",
    "X = tokenizer.texts_to_sequences(text)\n",
    "print('voca_size', len(tokenizer.word_index))"
   ]
  },
  {
   "cell_type": "code",
   "execution_count": 25,
   "metadata": {},
   "outputs": [
    {
     "name": "stdout",
     "output_type": "stream",
     "text": [
      "[[1011, 10, 522, 6501, 1825], [2414, 540], [], [5149, 1826, 4211, 9145, 3055, 5150, 4211, 17, 188, 9146], [], [143], [3, 5151, 49, 832], [49, 238], [78, 6502, 5152], [381, 1827], [426], [333]]\n"
     ]
    }
   ],
   "source": [
    "print(X[:12])"
   ]
  },
  {
   "cell_type": "code",
   "execution_count": 10,
   "metadata": {
    "scrolled": true
   },
   "outputs": [
    {
     "data": {
      "text/plain": [
       "['헐..다 죽었어....나중에 앤트맨 보다가도 깜놀...',\n",
       " '충격 결말',\n",
       " '응집력',\n",
       " '개연성은 무시해라 액션을 즐겨라 스타로드가 이끌어준다 각각의 영웅들을 즐겨라 그리고 단적인 신념이 얼마나 부질없는지 보셔라',\n",
       " '내가졸라이상하네',\n",
       " '대박',\n",
       " '정말 지루할틈없이 넘잘만들었다 역시 대단하다',\n",
       " '역시 어벤져스!!',\n",
       " '마지막에 누구한테 연락한거지? 궁금',\n",
       " '다음 편이 궁굼해지네요^^',\n",
       " '안잼있는사람 있음???????????',\n",
       " '타노스 개갞기']"
      ]
     },
     "execution_count": 10,
     "metadata": {},
     "output_type": "execute_result"
    }
   ],
   "source": [
    "text[:12]"
   ]
  },
  {
   "cell_type": "code",
   "execution_count": 26,
   "metadata": {},
   "outputs": [
    {
     "name": "stdout",
     "output_type": "stream",
     "text": [
      "[   0    0    0    0    0    0    0    0    0    0    0    0    0    0\n",
      "    0 1011   10  522 6501 1825]\n"
     ]
    }
   ],
   "source": [
    "from keras import preprocessing\n",
    "\n",
    "maxlen = 20\n",
    "\n",
    "X = preprocessing.sequence.pad_sequences(X, maxlen=maxlen, truncating='pre')\n",
    "print(X[0])"
   ]
  },
  {
   "cell_type": "code",
   "execution_count": 27,
   "metadata": {},
   "outputs": [
    {
     "name": "stdout",
     "output_type": "stream",
     "text": [
      "Train set count: 11973\n",
      "Test set count: 2994\n",
      "Test samples: [[0. 0. 0. 0. 1. 0. 0.]\n",
      " [0. 0. 0. 0. 1. 0. 0.]\n",
      " [0. 0. 0. 1. 0. 0. 0.]\n",
      " [0. 0. 0. 0. 0. 1. 0.]\n",
      " [0. 0. 0. 0. 1. 0. 0.]\n",
      " [0. 0. 0. 1. 0. 0. 0.]\n",
      " [0. 1. 0. 0. 0. 0. 0.]\n",
      " [0. 0. 0. 0. 1. 0. 0.]\n",
      " [0. 0. 0. 1. 0. 0. 0.]\n",
      " [0. 0. 0. 0. 0. 1. 0.]\n",
      " [0. 0. 1. 0. 0. 0. 0.]\n",
      " [0. 0. 1. 0. 0. 0. 0.]\n",
      " [0. 0. 0. 0. 0. 0. 1.]\n",
      " [0. 0. 0. 0. 1. 0. 0.]\n",
      " [0. 0. 0. 0. 1. 0. 0.]\n",
      " [0. 0. 1. 0. 0. 0. 0.]\n",
      " [0. 0. 0. 1. 0. 0. 0.]\n",
      " [0. 0. 0. 0. 1. 0. 0.]\n",
      " [0. 0. 0. 0. 1. 0. 0.]\n",
      " [0. 0. 0. 0. 1. 0. 0.]]\n"
     ]
    }
   ],
   "source": [
    "from sklearn.model_selection import train_test_split #sklearn에서 제공하는 split 함수를 사용\n",
    "X_train, X_test, y_train, y_test = train_test_split(X, y, test_size=0.2, random_state=10)\n",
    "# sklearn의 train_test_split 함수는 먼저 data set을 shuffle하고 주어진 비율에 따라 train set과 test set을 나눠 줌\n",
    "# 위에서는 reviews를 X_train과 X_test로 8:2의 비율로 나누고, categories를 y_train과 y_test로 나눔\n",
    "# 이 때 X와 y의 순서는 동일하게 유지해서 각 입력값과 label이 정확하게 match되도록 함\n",
    "# random_state는 shuffle에서의 seed 값으로, 지정한 경우 항상 동일한 결과로 shuffle이 됨\n",
    "\n",
    "print('Train set count:', len(X_train))\n",
    "print('Test set count:', len(X_test))\n",
    "print('Test samples:', y_test[:20])"
   ]
  },
  {
   "cell_type": "code",
   "execution_count": 28,
   "metadata": {},
   "outputs": [
    {
     "name": "stdout",
     "output_type": "stream",
     "text": [
      "Model: \"sequential_1\"\n",
      "_________________________________________________________________\n",
      "Layer (type)                 Output Shape              Param #   \n",
      "=================================================================\n",
      "embedding_1 (Embedding)      (None, None, 32)          320000    \n",
      "_________________________________________________________________\n",
      "lstm_1 (LSTM)                (None, 32)                8320      \n",
      "_________________________________________________________________\n",
      "dense_1 (Dense)              (None, 7)                 231       \n",
      "=================================================================\n",
      "Total params: 328,551\n",
      "Trainable params: 328,551\n",
      "Non-trainable params: 0\n",
      "_________________________________________________________________\n"
     ]
    }
   ],
   "source": [
    "from keras.layers import SimpleRNN, LSTM\n",
    "from keras.models import Sequential\n",
    "from keras.layers import Flatten, Dense, Embedding\n",
    "\n",
    "model = Sequential()\n",
    "model.add(Embedding(num_words, 32))\n",
    "#model.add(SimpleRNN(32))\n",
    "model.add(LSTM(32))\n",
    "model.add(Dense(7, activation='softmax'))\n",
    "model.summary()"
   ]
  },
  {
   "cell_type": "code",
   "execution_count": 29,
   "metadata": {},
   "outputs": [
    {
     "name": "stdout",
     "output_type": "stream",
     "text": [
      "WARNING:tensorflow:From C:\\Users\\User\\anaconda3\\lib\\site-packages\\keras\\backend\\tensorflow_backend.py:422: The name tf.global_variables is deprecated. Please use tf.compat.v1.global_variables instead.\n",
      "\n",
      "Train on 9578 samples, validate on 2395 samples\n",
      "Epoch 1/30\n",
      "9578/9578 [==============================] - 3s 301us/step - loss: 1.8274 - acc: 0.3292 - val_loss: 1.7684 - val_acc: 0.3365\n",
      "Epoch 2/30\n",
      "9578/9578 [==============================] - 2s 220us/step - loss: 1.7409 - acc: 0.3339 - val_loss: 1.7022 - val_acc: 0.3390\n",
      "Epoch 3/30\n",
      "9578/9578 [==============================] - 2s 194us/step - loss: 1.6276 - acc: 0.3689 - val_loss: 1.6363 - val_acc: 0.3933\n",
      "Epoch 4/30\n",
      "9578/9578 [==============================] - 2s 214us/step - loss: 1.5217 - acc: 0.4484 - val_loss: 1.6271 - val_acc: 0.4084\n",
      "Epoch 5/30\n",
      "9578/9578 [==============================] - 2s 194us/step - loss: 1.4182 - acc: 0.5033 - val_loss: 1.5233 - val_acc: 0.4785\n",
      "Epoch 6/30\n",
      "9578/9578 [==============================] - 2s 214us/step - loss: 1.3115 - acc: 0.5430 - val_loss: 1.6624 - val_acc: 0.4443\n",
      "Epoch 7/30\n",
      "9578/9578 [==============================] - 2s 194us/step - loss: 1.2179 - acc: 0.5775 - val_loss: 1.5461 - val_acc: 0.4823\n",
      "Epoch 8/30\n",
      "9578/9578 [==============================] - 2s 210us/step - loss: 1.1172 - acc: 0.6170 - val_loss: 1.4090 - val_acc: 0.5303\n",
      "Epoch 9/30\n",
      "9578/9578 [==============================] - 2s 191us/step - loss: 1.0110 - acc: 0.6605 - val_loss: 1.3696 - val_acc: 0.5411\n",
      "Epoch 10/30\n",
      "9578/9578 [==============================] - 2s 211us/step - loss: 0.9205 - acc: 0.6962 - val_loss: 1.4584 - val_acc: 0.5315\n",
      "Epoch 11/30\n",
      "9578/9578 [==============================] - 2s 206us/step - loss: 0.8349 - acc: 0.7272 - val_loss: 1.6721 - val_acc: 0.5261\n",
      "Epoch 12/30\n",
      "9578/9578 [==============================] - 2s 202us/step - loss: 0.7731 - acc: 0.7482 - val_loss: 1.4276 - val_acc: 0.5587\n",
      "Epoch 13/30\n",
      "9578/9578 [==============================] - 2s 201us/step - loss: 0.7097 - acc: 0.7683 - val_loss: 1.3690 - val_acc: 0.5637\n",
      "Epoch 14/30\n",
      "9578/9578 [==============================] - 2s 195us/step - loss: 0.6641 - acc: 0.7822 - val_loss: 1.4294 - val_acc: 0.5136\n",
      "Epoch 15/30\n",
      "9578/9578 [==============================] - 2s 210us/step - loss: 0.6224 - acc: 0.7967 - val_loss: 1.3811 - val_acc: 0.5712\n",
      "Epoch 16/30\n",
      "9578/9578 [==============================] - 2s 189us/step - loss: 0.5831 - acc: 0.8058 - val_loss: 1.3628 - val_acc: 0.5787\n",
      "Epoch 17/30\n",
      "9578/9578 [==============================] - 2s 224us/step - loss: 0.5484 - acc: 0.8231 - val_loss: 1.5098 - val_acc: 0.5390\n",
      "Epoch 18/30\n",
      "9578/9578 [==============================] - 2s 191us/step - loss: 0.5179 - acc: 0.8331 - val_loss: 1.5963 - val_acc: 0.5787\n",
      "Epoch 19/30\n",
      "9578/9578 [==============================] - 2s 218us/step - loss: 0.4915 - acc: 0.8413 - val_loss: 1.5612 - val_acc: 0.5361\n",
      "Epoch 20/30\n",
      "9578/9578 [==============================] - 2s 193us/step - loss: 0.4637 - acc: 0.8527 - val_loss: 1.5040 - val_acc: 0.5762\n",
      "Epoch 21/30\n",
      "9578/9578 [==============================] - 2s 219us/step - loss: 0.4427 - acc: 0.8532 - val_loss: 1.5572 - val_acc: 0.5779\n",
      "Epoch 22/30\n",
      "9578/9578 [==============================] - 2s 193us/step - loss: 0.4194 - acc: 0.8654 - val_loss: 1.6151 - val_acc: 0.5850\n",
      "Epoch 23/30\n",
      "9578/9578 [==============================] - 2s 213us/step - loss: 0.4003 - acc: 0.8687 - val_loss: 1.6429 - val_acc: 0.5783\n",
      "Epoch 24/30\n",
      "9578/9578 [==============================] - 2s 199us/step - loss: 0.3848 - acc: 0.8714 - val_loss: 1.7298 - val_acc: 0.5816\n",
      "Epoch 25/30\n",
      "9578/9578 [==============================] - 2s 209us/step - loss: 0.3688 - acc: 0.8752 - val_loss: 1.7474 - val_acc: 0.5775\n",
      "Epoch 26/30\n",
      "9578/9578 [==============================] - 2s 193us/step - loss: 0.3524 - acc: 0.8794 - val_loss: 1.6873 - val_acc: 0.5783\n",
      "Epoch 27/30\n",
      "9578/9578 [==============================] - 2s 214us/step - loss: 0.3453 - acc: 0.8825 - val_loss: 1.7304 - val_acc: 0.5470\n",
      "Epoch 28/30\n",
      "9578/9578 [==============================] - 2s 198us/step - loss: 0.3367 - acc: 0.8847 - val_loss: 1.8574 - val_acc: 0.5749\n",
      "Epoch 29/30\n",
      "9578/9578 [==============================] - 2s 203us/step - loss: 0.3278 - acc: 0.8862 - val_loss: 1.8606 - val_acc: 0.5441\n",
      "Epoch 30/30\n",
      "9578/9578 [==============================] - 2s 202us/step - loss: 0.3190 - acc: 0.8878 - val_loss: 1.9525 - val_acc: 0.5729\n"
     ]
    }
   ],
   "source": [
    "model.compile(optimizer='rmsprop', loss='categorical_crossentropy', metrics=['acc'])\n",
    "\n",
    "history = model.fit(X_train, y_train, \n",
    "                    epochs=30,\n",
    "                    batch_size=256,\n",
    "                    validation_split=0.2)"
   ]
  },
  {
   "cell_type": "code",
   "execution_count": 30,
   "metadata": {},
   "outputs": [
    {
     "data": {
      "image/png": "[encoded data removed]",
      "text/plain": [
       "<Figure size 432x288 with 1 Axes>"
      ]
     },
     "metadata": {
      "needs_background": "light"
     },
     "output_type": "display_data"
    }
   ],
   "source": [
    "%matplotlib inline\n",
    "import matplotlib.pyplot as plt\n",
    "\n",
    "history_dict = history.history\n",
    "acc = history_dict['acc']\n",
    "val_acc = history_dict['val_acc']\n",
    "\n",
    "epochs = range(1, len(acc) + 1)\n",
    "\n",
    "plt.plot(epochs, acc, 'bo', label='Training acc')\n",
    "plt.plot(epochs, val_acc, 'r', label='Validation acc')\n",
    "plt.title('Training and validation acc')\n",
    "plt.xlabel('Epochs')\n",
    "plt.ylabel('Accuracy')\n",
    "plt.legend()\n",
    "\n",
    "plt.show()"
   ]
  },
  {
   "cell_type": "code",
   "execution_count": 31,
   "metadata": {},
   "outputs": [
    {
     "name": "stdout",
     "output_type": "stream",
     "text": [
      "2994/2994 [==============================] - 0s 162us/step\n",
      "[1.9090614138879056, 0.5754842758178711]\n"
     ]
    }
   ],
   "source": [
    "score = model.evaluate(X_test, y_test)\n",
    "print(score)"
   ]
  },
  {
   "cell_type": "code",
   "execution_count": null,
   "metadata": {},
   "outputs": [],
   "source": []
  }
 ],
 "metadata": {
  "kernelspec": {
   "display_name": "Python 3",
   "language": "python",
   "name": "python3"
  },
  "language_info": {
   "codemirror_mode": {
    "name": "ipython",
    "version": 3
   },
   "file_extension": ".py",
   "mimetype": "text/x-python",
   "name": "python",
   "nbconvert_exporter": "python",
   "pygments_lexer": "ipython3",
   "version": "3.7.6"
  }
 },
 "nbformat": 4,
 "nbformat_minor": 4
}
