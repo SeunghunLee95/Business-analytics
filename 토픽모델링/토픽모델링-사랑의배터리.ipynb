{
 "cells": [
  {
   "cell_type": "code",
   "execution_count": 1,
   "metadata": {},
   "outputs": [],
   "source": [
    "import numpy as np\n",
    "import pandas as pd\n",
    "import re \n",
    "import matplotlib.pyplot as plt\n",
    "\n",
    "etc = pd.read_csv('youtube_trot3.csv',encoding='utf-8')\n"
   ]
  },
  {
   "cell_type": "code",
   "execution_count": 2,
   "metadata": {},
   "outputs": [
    {
     "data": {
      "text/plain": [
       "676"
      ]
     },
     "execution_count": 2,
     "metadata": {},
     "output_type": "execute_result"
    }
   ],
   "source": [
    "len(etc)"
   ]
  },
  {
   "cell_type": "code",
   "execution_count": 3,
   "metadata": {},
   "outputs": [
    {
     "data": {
      "text/html": [
       "<div>\n",
       "<style scoped>\n",
       "    .dataframe tbody tr th:only-of-type {\n",
       "        vertical-align: middle;\n",
       "    }\n",
       "\n",
       "    .dataframe tbody tr th {\n",
       "        vertical-align: top;\n",
       "    }\n",
       "\n",
       "    .dataframe thead th {\n",
       "        text-align: right;\n",
       "    }\n",
       "</style>\n",
       "<table border=\"1\" class=\"dataframe\">\n",
       "  <thead>\n",
       "    <tr style=\"text-align: right;\">\n",
       "      <th></th>\n",
       "      <th>Unnamed: 0</th>\n",
       "      <th>ID</th>\n",
       "      <th>Comment</th>\n",
       "    </tr>\n",
       "  </thead>\n",
       "  <tbody>\n",
       "    <tr>\n",
       "      <th>0</th>\n",
       "      <td>0</td>\n",
       "      <td>안주희</td>\n",
       "      <td>자막이음의높낮이로결정되네ㅋㅋㅋ</td>\n",
       "    </tr>\n",
       "    <tr>\n",
       "      <th>1</th>\n",
       "      <td>1</td>\n",
       "      <td>chanbaek6104</td>\n",
       "      <td>I'mnotevenkoreanandidon'tundrestanditbutireall...</td>\n",
       "    </tr>\n",
       "    <tr>\n",
       "      <th>2</th>\n",
       "      <td>2</td>\n",
       "      <td>호랭이탈</td>\n",
       "      <td>오오오기아의헤즐베이커오오오기아의헤즐베이커~승리를위하여기아헤즐베이커기아의헤즐베이커~</td>\n",
       "    </tr>\n",
       "  </tbody>\n",
       "</table>\n",
       "</div>"
      ],
      "text/plain": [
       "   Unnamed: 0            ID                                            Comment\n",
       "0           0           안주희                                   자막이음의높낮이로결정되네ㅋㅋㅋ\n",
       "1           1  chanbaek6104  I'mnotevenkoreanandidon'tundrestanditbutireall...\n",
       "2           2          호랭이탈      오오오기아의헤즐베이커오오오기아의헤즐베이커~승리를위하여기아헤즐베이커기아의헤즐베이커~"
      ]
     },
     "execution_count": 3,
     "metadata": {},
     "output_type": "execute_result"
    }
   ],
   "source": [
    "etc.head(3)"
   ]
  },
  {
   "cell_type": "code",
   "execution_count": 4,
   "metadata": {},
   "outputs": [
    {
     "data": {
      "text/plain": [
       "['자막이음의높낮이로결정되네ㅋㅋㅋ',\n",
       " \"I'mnotevenkoreanandidon'tundrestanditbutireallylovethissong.\"]"
      ]
     },
     "execution_count": 4,
     "metadata": {},
     "output_type": "execute_result"
    }
   ],
   "source": [
    "etc2=list(etc.Comment)\n",
    "etc2[0:2]"
   ]
  },
  {
   "cell_type": "code",
   "execution_count": 5,
   "metadata": {},
   "outputs": [
    {
     "data": {
      "text/plain": [
       "['자막이음의높낮이로결정되네ㅋㅋㅋ']"
      ]
     },
     "execution_count": 5,
     "metadata": {},
     "output_type": "execute_result"
    }
   ],
   "source": [
    "from string import punctuation\n",
    "def strip_punctuation(s):\n",
    "    return ''.join(c for c in s if c not in punctuation)\n",
    "\n",
    "clean_title = []\n",
    "for sent in etc2:\n",
    "    clean = strip_punctuation(sent)\n",
    "    clean_title.append(clean)\n",
    "    \n",
    "clean_title[0:1]"
   ]
  },
  {
   "cell_type": "code",
   "execution_count": 6,
   "metadata": {},
   "outputs": [],
   "source": [
    "from konlpy.tag import Okt #konlpy에서 Twitter 형태소 분석기를 import\n",
    "twitter_tag = Okt()"
   ]
  },
  {
   "cell_type": "code",
   "execution_count": 7,
   "metadata": {},
   "outputs": [],
   "source": [
    "import time\n",
    "import datetime\n",
    "start = time.time()"
   ]
  },
  {
   "cell_type": "code",
   "execution_count": 8,
   "metadata": {},
   "outputs": [
    {
     "name": "stdout",
     "output_type": "stream",
     "text": [
      "0:06:44\n"
     ]
    }
   ],
   "source": [
    "dataset = []\n",
    "for i in range(len(clean_title)):\n",
    "    dataset.append(twitter_tag.nouns(re.sub('[^가-힣a-zA-Z\\s]','',clean_title[i])))\n",
    "\n",
    "\n",
    "sec = time.time()-start\n",
    "times = str(datetime.timedelta(seconds=sec)).split(\".\")\n",
    "times=times[0]\n",
    "print(times)"
   ]
  },
  {
   "cell_type": "code",
   "execution_count": 9,
   "metadata": {},
   "outputs": [],
   "source": [
    "from gensim import corpora, models \n",
    "import gensim"
   ]
  },
  {
   "cell_type": "code",
   "execution_count": 10,
   "metadata": {},
   "outputs": [],
   "source": [
    "high_score_reviews = dataset"
   ]
  },
  {
   "cell_type": "code",
   "execution_count": 11,
   "metadata": {},
   "outputs": [],
   "source": [
    "high_score_reviews = [[y for y in x if not len(y)==1]\n",
    "                       for x in high_score_reviews]\n",
    "dictionary = corpora.Dictionary(high_score_reviews)\n",
    "corpus=[dictionary.doc2bow(text) for text in high_score_reviews]"
   ]
  },
  {
   "cell_type": "code",
   "execution_count": 12,
   "metadata": {},
   "outputs": [],
   "source": [
    "import matplotlib.pyplot as plt\n",
    "from gensim.models import CoherenceModel\n",
    "\n",
    "coherence_values=[]\n",
    "for i in range(2,15):\n",
    "    ldamodel = gensim.models.LdaModel(corpus,num_topics=i, id2word=dictionary)\n",
    "    coherence_model_lda = CoherenceModel(model=ldamodel, texts=high_score_reviews,dictionary=dictionary,topn=10)\n",
    "    coherence_lda = coherence_model_lda.get_coherence()\n",
    "    coherence_values.append(coherence_lda)"
   ]
  },
  {
   "cell_type": "code",
   "execution_count": 13,
   "metadata": {},
   "outputs": [
    {
     "data": {
      "image/png": "[encoded data removed]",
      "text/plain": [
       "<Figure size 432x288 with 1 Axes>"
      ]
     },
     "metadata": {
      "needs_background": "light"
     },
     "output_type": "display_data"
    }
   ],
   "source": [
    "x = range(2,15)\n",
    "plt.plot(x,coherence_values)\n",
    "plt.xlabel('number of topics')\n",
    "plt.ylabel('coherence score')\n",
    "plt.show()"
   ]
  },
  {
   "cell_type": "code",
   "execution_count": 14,
   "metadata": {},
   "outputs": [],
   "source": [
    "import matplotlib.pyplot as plt\n",
    "perplexity_values=[]\n",
    "for i in range(2,20):\n",
    "    ldamodel=gensim.models.ldamodel.LdaModel(corpus,num_topics=i, id2word=dictionary)\n",
    "    perplexity_values.append(ldamodel.log_perplexity(corpus))"
   ]
  },
  {
   "cell_type": "code",
   "execution_count": 15,
   "metadata": {},
   "outputs": [
    {
     "data": {
      "image/png": "[encoded data removed]",
      "text/plain": [
       "<Figure size 432x288 with 1 Axes>"
      ]
     },
     "metadata": {
      "needs_background": "light"
     },
     "output_type": "display_data"
    }
   ],
   "source": [
    "x=range(2,20)\n",
    "plt.plot(x,perplexity_values)\n",
    "plt.xlabel('number of topics')\n",
    "plt.ylabel('perplexity score')\n",
    "plt.show()"
   ]
  },
  {
   "cell_type": "code",
   "execution_count": 16,
   "metadata": {},
   "outputs": [],
   "source": [
    "ldamodel = gensim.models.ldamodel.LdaModel(corpus, num_topics=4,alpha=0.2,id2word = dictionary)"
   ]
  },
  {
   "cell_type": "code",
   "execution_count": 17,
   "metadata": {},
   "outputs": [
    {
     "data": {
      "text/plain": [
       "[(0,\n",
       "  '0.036*\"트로트\" + 0.031*\"배터리\" + 0.030*\"노래\" + 0.030*\"사랑\" + 0.022*\"베이커\" + 0.022*\"기아\" + 0.022*\"당신\" + 0.017*\"헤즐\" + 0.015*\"지금\" + 0.014*\"홍진영\" + 0.013*\"오늘\" + 0.013*\"정말\" + 0.012*\"하루\" + 0.012*\"오오오\" + 0.010*\"사람\" + 0.008*\"화이팅\" + 0.008*\"시간\" + 0.007*\"학교\" + 0.006*\"진짜\" + 0.006*\"진영\"'),\n",
       " (1,\n",
       "  '0.122*\"사랑\" + 0.078*\"당신\" + 0.065*\"배터리\" + 0.038*\"노래\" + 0.021*\"정말\" + 0.016*\"하나\" + 0.015*\"홍진영\" + 0.013*\"완전\" + 0.013*\"전부\" + 0.012*\"내사\" + 0.011*\"진짜\" + 0.009*\"가슴\" + 0.009*\"요나\" + 0.008*\"이아\" + 0.008*\"의약\" + 0.008*\"다사\" + 0.006*\"지금\" + 0.006*\"할머니\" + 0.006*\"듣기\" + 0.005*\"데리\"'),\n",
       " (2,\n",
       "  '0.035*\"노래\" + 0.026*\"배터리\" + 0.020*\"치킨\" + 0.015*\"초딩\" + 0.012*\"요즘\" + 0.011*\"중독\" + 0.011*\"진영\" + 0.007*\"홍진영\" + 0.007*\"정말\" + 0.007*\"지금\" + 0.007*\"박동원\" + 0.007*\"조상우\" + 0.007*\"오빠\" + 0.007*\"추억\" + 0.005*\"트로트\" + 0.005*\"진짜\" + 0.005*\"못살\" + 0.005*\"노래방\" + 0.005*\"그때\" + 0.005*\"느낌\"'),\n",
       " (3,\n",
       "  '0.086*\"당신\" + 0.076*\"노래\" + 0.062*\"홍진영\" + 0.040*\"사랑\" + 0.020*\"배터리\" + 0.016*\"완전\" + 0.010*\"내사\" + 0.010*\"전부\" + 0.009*\"초딩\" + 0.009*\"최고\" + 0.009*\"정말\" + 0.009*\"하나\" + 0.008*\"대박\" + 0.007*\"의약\" + 0.007*\"이아\" + 0.007*\"라면\" + 0.006*\"요나\" + 0.006*\"다사\" + 0.006*\"가슴\" + 0.006*\"이제\"')]"
      ]
     },
     "execution_count": 17,
     "metadata": {},
     "output_type": "execute_result"
    }
   ],
   "source": [
    "ldamodel.print_topics(num_words=20)"
   ]
  },
  {
   "cell_type": "code",
   "execution_count": 18,
   "metadata": {},
   "outputs": [
    {
     "data": {
      "text/html": [
       "\n",
       "<link rel=\"stylesheet\" type=\"text/css\" href=\"https://cdn.rawgit.com/bmabey/pyLDAvis/files/ldavis.v1.0.0.css\">\n",
       "\n",
       "\n",
       "<div id=\"ldavis_el1605230363764411604855052596\"></div>\n",
       "<script type=\"text/javascript\">\n",
       "\n",
       "var ldavis_el1605230363764411604855052596_data = {\"mdsDat\": {\"x\": [0.10097587586921182, -0.030556096314380186, 0.06647037428313442, -0.13689015383796607], \"y\": [0.02665036277418219, -0.11817724711213407, 0.03062074172693834, 0.060906142611013556], \"topics\": [1, 2, 3, 4], \"cluster\": [1, 1, 1, 1], \"Freq\": [45.61557388305664, 22.38224983215332, 19.19818878173828, 12.803983688354492]}, \"tinfo\": {\"Term\": [\"\\ub2f9\\uc2e0\", \"\\ud64d\\uc9c4\\uc601\", \"\\ub178\\ub798\", \"\\uc0ac\\ub791\", \"\\ud2b8\\ub85c\\ud2b8\", \"\\uae30\\uc544\", \"\\uce58\\ud0a8\", \"\\ubca0\\uc774\\ucee4\", \"\\ud5e4\\uc990\", \"\\ucd08\\ub529\", \"\\ud558\\ub8e8\", \"\\uc624\\uc624\\uc624\", \"\\uc624\\ub298\", \"\\uc694\\uc998\", \"\\uc9c4\\uc601\", \"\\uc911\\ub3c5\", \"\\uc644\\uc804\", \"\\uc2dc\\uac04\", \"\\ucd5c\\uace0\", \"\\ud654\\uc774\\ud305\", \"\\uc9c0\\uae08\", \"\\ubc15\\ub3d9\\uc6d0\", \"\\uc870\\uc0c1\\uc6b0\", \"\\uc0ac\\ub78c\", \"\\uc624\\ube60\", \"\\ucd94\\uc5b5\", \"\\ub300\\ubc15\", \"\\ud559\\uad50\", \"\\uc5ec\\uce5c\", \"\\ubcf4\\uc870\", \"\\ud560\\uba38\\ub2c8\", \"\\ubb38\\uad6c\", \"\\ub178\\ubb34\", \"\\uba85\\uace1\", \"\\ub3d9\\uc758\", \"\\ub77c\\ub5bc\", \"\\uac00\\uc81c\", \"\\uace0\\uc0dd\", \"\\uac00\\uc0c1\", \"\\uac00\\uc9d1\", \"\\ub179\\ucc28\", \"\\ubc30\\ud130\", \"\\ubcfc\\ub54c\", \"\\ub2ec\\ub77c\", \"\\ubc14\\uc774\\uc62c\\ub9b0\", \"\\ub9ac\\uac00\", \"\\uc5f0\\uc8fc\", \"\\uacf5\\ubd80\", \"\\uc7ac\\ubbf8\", \"\\ub370\\ub9ac\", \"\\ud639\\uc2dc\", \"\\uc0ac\\ub791\", \"\\ucf54\\ub4dc\", \"\\ubc94\\uc704\", \"\\uacfc\\ubaa9\", \"\\uad50\\uacfc\\uc11c\", \"\\ub124\\ub098\", \"\\ubc88\\ud638\", \"\\uac00\\ud574\", \"\\uc720\\uc9c4\", \"\\ud558\\ub098\", \"\\uc2dc\\ud5d8\", \"\\ubc30\\ud130\\ub9ac\", \"\\ub2f9\\uc2e0\", \"\\uc804\\ubd80\", \"\\uc815\\ub9d0\", \"\\uc9c4\\uc9dc\", \"\\uac00\\uc2b4\", \"\\ub0b4\\uc0ac\", \"\\ub4e3\\uae30\", \"\\uc644\\uc804\", \"\\ub2e4\\uc0ac\", \"\\uc694\\ub098\", \"\\uc774\\uc544\", \"\\ub178\\ub798\", \"\\uc758\\uc57d\", \"\\uac90\\uc9f1\\uc774\\ub78d\", \"\\ub2e4\\ud55c\", \"\\ubc88\\ub354\", \"\\ud64d\\uc9c4\\uc601\", \"\\uc5bc\\uc9f1\", \"\\ubab8\\uc9f1\", \"\\uc544\\uc774\\ub3cc\", \"\\uc774\\ubc14\", \"\\uc704\\ud574\", \"\\uc9c0\\uae08\", \"\\uc678\\ub85c\\uc6cc\", \"\\ub77c\\uba74\", \"\\uac00\\ub4dd\", \"\\ud5e4\\uc990\", \"\\ud558\\ub8e8\", \"\\uc624\\uc624\\uc624\", \"\\uc2dc\\uac04\", \"\\uae30\\uc544\", \"\\ubcf4\\uc870\", \"\\ud2b8\\ub85c\\ud2b8\", \"\\ud578\\ub4dc\\ud3f0\", \"\\ud654\\uc774\\ud305\", \"\\uc0e4\\ub7b4\", \"\\ubca0\\uc774\\ucee4\", \"\\uc624\\ub298\", \"\\ud559\\uad50\", \"\\uc548\\uc628\", \"\\uc2ac\\uc2ac\", \"\\uc885\\uc77c\", \"\\ucda9\\uc804\\uae30\", \"\\ubc14\\ub78c\", \"\\uc378\\ub0a8\", \"\\ub0a8\\uce5c\", \"\\ub54c\\ubb38\", \"\\ube75\\uc9d1\", \"\\uc720\\ud589\", \"\\ub9c8\\ub9c8\", \"\\ud559\\uc608\\ud68c\", \"\\uc640\\uc6b0\", \"\\uc5ec\\uce5c\", \"\\uc2b9\\ub9ac\", \"\\uc0ac\\ub78c\", \"\\ub098\\uc65c\", \"\\uc751\\uc6d0\", \"\\uc9c0\\uae08\", \"\\ubc30\\ud130\\ub9ac\", \"\\ub178\\ub798\", \"\\uc0ac\\ub791\", \"\\uc815\\ub9d0\", \"\\uc9c4\\uc601\", \"\\uc5bc\\uad74\", \"\\ub2f9\\uc2e0\", \"\\ud64d\\uc9c4\\uc601\", \"\\uc6b0\\ub9ac\", \"\\uc9c4\\uc9dc\", \"\\ub0b4\\uc0ac\", \"\\ud558\\ub098\", \"\\uc758\\uc57d\", \"\\uc0dd\\uc77c\", \"\\uc5ec\\uae30\", \"\\ub178\\uc744\", \"\\uc308\\ubc14\\ud64d\", \"\\uacf5\\uc778\", \"\\uc5b4\\uae30\", \"\\ud788\\ud788\\ud788\", \"\\uc904\\ub118\\uae30\", \"\\uc774\\ubaa8\", \"\\uc2e4\\ubb3c\", \"\\ub2e4\\ub098\", \"\\ud0a4\\ud0a4\", \"\\ubc29\\uc1a1\", \"\\uc794\\uce58\", \"\\uc2dc\\uccad\\uc790\", \"\\uc5ec\\ub7ec\\ubd84\", \"\\ub2e4\\ub978\\uc0ac\\ub78c\", \"\\ub300\\ubc15\", \"\\ucd5c\\uace0\", \"\\uc544\\ube60\", \"\\uc911\\uc774\", \"\\uc774\\uc81c\", \"\\uc744\\uae30\", \"\\ub2f9\\uc7a5\", \"\\ud32c\\uc2ec\", \"\\uacb0\\ucf54\", \"\\uc190\\ubc14\\ub2e5\", \"\\uc65c\\uace1\", \"\\ubc94\\uc8c4\", \"\\ub3c4\\ub355\", \"\\ud64d\\uc9c4\\uc601\", \"\\uc9d1\\ub3c4\", \"\\ucd95\\ud558\", \"\\ub178\\ub798\", \"\\uc0ac\\uc9c4\", \"\\ub098\\uc774\", \"\\ub2f9\\uc2e0\", \"\\uc74c\\uc545\", \"\\ucd08\\ub529\", \"\\ub77c\\uba74\", \"\\uc644\\uc804\", \"\\ubaa9\\uc18c\\ub9ac\", \"\\uc0ac\\ub791\", \"\\uc804\\ubd80\", \"\\ub0b4\\uc0ac\", \"\\ubc30\\ud130\\ub9ac\", \"\\uc758\\uc57d\", \"\\uc774\\uc544\", \"\\ud558\\ub098\", \"\\uc694\\ub098\", \"\\ub2e4\\uc0ac\", \"\\uc815\\ub9d0\", \"\\uc704\\ud574\", \"\\uac00\\uc2b4\", \"\\uac00\\ub4dd\", \"\\ubca0\\uc774\\ucee4\", \"\\uc678\\ub85c\\uc6cc\", \"\\uc9c0\\uae08\", \"\\uc6b0\\ub9ac\", \"\\ud2b8\\ub85c\\ud2b8\", \"\\uce58\\ud0a8\", \"\\uc624\\ube60\", \"\\uadfc\\ub144\", \"\\ubc14\\ub85c\", \"\\ub313\\uae00\", \"\\uc791\\uace1\", \"\\ub9c8\\ud06c\", \"\\ud64d\\uc9c4\", \"\\ucd94\\uc5b5\", \"\\uc911\\ub3c5\", \"\\uc0b4\\ub3c8\", \"\\uc7ac\\ubc1c\", \"\\uadf8\\uac8c\", \"\\ub2e4\\ub978\", \"\\uc81c\\ubc1c\", \"\\uae38\\uac70\\ub9ac\", \"\\uac70\\uad6c\", \"\\uac70\\uc9c0\", \"\\uad81\\uae08\", \"\\uc218\\ud608\", \"\\uc0e4\\ub8cc\\ub798\\ub7b4\", \"\\uac74\\uac00\", \"\\uc0e4\\uc7c8\\uc0e4\\ub7b4\\uac38\", \"\\ud765\\ud589\", \"\\ub178\\ub798\\uae30\", \"\\uc778\\uac04\", \"\\uac74\\uc870\", \"\\ub2f9\\uc2dc\", \"\\uc5bc\\ub9c8\\ub098\", \"\\ubb34\\uc2a8\", \"\\uc694\\uc998\", \"\\ub290\\ub08c\", \"\\ubc15\\ub3d9\\uc6d0\", \"\\uc870\\uc0c1\\uc6b0\", \"\\uce5c\\uad6c\", \"\\ucd08\\ub529\", \"\\uc9c4\\uc601\", \"\\uadf8\\ub54c\", \"\\uc81c\\ubaa9\", \"\\uc548\\ub098\", \"\\ud55c\\ubc88\", \"\\ub178\\ub798\", \"\\ubc30\\ud130\\ub9ac\", \"\\ubabb\\uc0b4\", \"\\uac00\\uc0ac\", \"\\uac00\\uc218\", \"\\ud559\\ub144\", \"\\ub178\\ub798\\ubc29\", \"\\uc9c0\\uae08\", \"\\uc815\\ub9d0\", \"\\ud64d\\uc9c4\\uc601\", \"\\ud2b8\\ub85c\\ud2b8\", \"\\uc9c4\\uc9dc\"], \"Freq\": [126.0, 50.0, 95.0, 155.0, 22.0, 12.0, 7.0, 13.0, 9.0, 9.0, 6.0, 6.0, 8.0, 5.0, 6.0, 5.0, 21.0, 4.0, 6.0, 5.0, 17.0, 3.0, 3.0, 7.0, 2.0, 3.0, 5.0, 4.0, 3.0, 3.0, 5.626579284667969, 3.4916744232177734, 3.4857029914855957, 3.4705395698547363, 2.4171979427337646, 2.41711688041687, 2.417057514190674, 2.417083978652954, 2.4169654846191406, 2.416957378387451, 2.416768789291382, 2.4147372245788574, 2.412837505340576, 2.4109432697296143, 2.4091010093688965, 2.408078193664551, 2.4075398445129395, 2.4072000980377197, 2.3820860385894775, 5.556684970855713, 2.2043609619140625, 123.21610260009766, 2.0989527702331543, 2.091142177581787, 2.0744807720184326, 2.0380823612213135, 1.343000888824463, 1.3429410457611084, 1.3429151773452759, 1.3428508043289185, 16.316572189331055, 3.1661856174468994, 65.41835021972656, 78.82101440429688, 12.891532897949219, 21.516794204711914, 10.969680786132812, 9.521041870117188, 12.517398834228516, 5.6099958419799805, 13.549440383911133, 7.7098188400268555, 8.917710304260254, 8.517818450927734, 37.932743072509766, 8.125486373901367, 4.812615871429443, 4.847498416900635, 4.511680603027344, 15.373028755187988, 4.366817951202393, 4.310573101043701, 3.4890849590301514, 4.1808648109436035, 4.36754846572876, 6.176682949066162, 3.9254822731018066, 3.849550247192383, 3.5665061473846436, 8.65283489227295, 6.043659687042236, 5.84621524810791, 4.083329200744629, 10.774222373962402, 2.7734742164611816, 17.749561309814453, 2.1225953102111816, 4.083520889282227, 2.1180174350738525, 10.91092586517334, 6.304157733917236, 3.2583351135253906, 1.470131754875183, 1.4701112508773804, 1.4700806140899658, 1.4698598384857178, 1.4697343111038208, 1.4695717096328735, 1.4694204330444336, 1.469120979309082, 2.399186849594116, 1.466834306716919, 1.4641832113265991, 1.4557017087936401, 1.4540883302688599, 2.7761943340301514, 2.122586250305176, 4.712808609008789, 0.8168222904205322, 2.1218156814575195, 7.400152683258057, 15.436762809753418, 14.712288856506348, 14.627201080322266, 6.27163553237915, 2.777869462966919, 2.1266095638275146, 10.736796379089355, 6.760018348693848, 2.7679901123046875, 2.9870543479919434, 2.5180492401123047, 2.289731025695801, 2.169001817703247, 2.1883585453033447, 1.6722142696380615, 1.6703141927719116, 1.6555609703063965, 1.1614595651626587, 1.1603178977966309, 1.1599740982055664, 1.1583656072616577, 1.157994031906128, 1.1580473184585571, 1.1576224565505981, 1.1561670303344727, 1.1558870077133179, 1.155199408531189, 1.1510035991668701, 1.1487786769866943, 1.5043816566467285, 3.191737174987793, 3.719428062438965, 1.6587615013122559, 0.9876905083656311, 2.4425089359283447, 0.6454447507858276, 0.6454160809516907, 0.6454062461853027, 0.6453803181648254, 0.6453702449798584, 0.6453647017478943, 0.645344614982605, 0.6453355550765991, 26.322301864624023, 0.9262478947639465, 1.1632834672927856, 32.38692855834961, 1.1582545042037964, 1.157686710357666, 36.642608642578125, 1.1585615873336792, 3.734515428543091, 2.836550235748291, 6.653293132781982, 1.6698873043060303, 16.830097198486328, 4.197137355804443, 4.25779390335083, 8.388533592224121, 3.0309712886810303, 2.9620883464813232, 3.646034002304077, 2.71574330329895, 2.4961934089660645, 3.6797878742218018, 2.061967611312866, 2.4465434551239014, 1.8691593408584595, 2.1960089206695557, 1.7274788618087769, 1.8999418020248413, 1.6780973672866821, 1.6865544319152832, 5.605382442474365, 1.9549325704574585, 1.3615132570266724, 1.3603640794754028, 1.3600826263427734, 1.3582168817520142, 1.3580982685089111, 1.3549851179122925, 1.9446172714233398, 3.161911725997925, 0.7572029232978821, 0.7571749091148376, 0.7571811676025391, 0.7571398615837097, 0.7571004033088684, 0.7567077875137329, 0.7566686272621155, 0.7566732168197632, 0.7566079497337341, 0.7565584182739258, 0.7565532922744751, 0.7565780878067017, 0.7565577626228333, 0.7565336227416992, 0.7565275430679321, 0.7564730644226074, 0.7564196586608887, 0.7564447522163391, 0.7564191818237305, 0.7564007043838501, 3.3446719646453857, 1.361550211906433, 1.9593234062194824, 1.9584107398986816, 1.3523659706115723, 4.379823684692383, 3.159203290939331, 1.362194538116455, 1.3611407279968262, 1.357269048690796, 1.3600695133209229, 9.987821578979492, 7.430711269378662, 1.3627070188522339, 1.3438618183135986, 1.3613572120666504, 1.3588407039642334, 1.3624460697174072, 1.9697792530059814, 1.973404884338379, 2.0523855686187744, 1.3814212083816528, 1.370134711265564], \"Total\": [126.0, 50.0, 95.0, 155.0, 22.0, 12.0, 7.0, 13.0, 9.0, 9.0, 6.0, 6.0, 8.0, 5.0, 6.0, 5.0, 21.0, 4.0, 6.0, 5.0, 17.0, 3.0, 3.0, 7.0, 2.0, 3.0, 5.0, 4.0, 3.0, 3.0, 6.078999996185303, 3.9362897872924805, 3.9334306716918945, 3.9266481399536133, 2.861703395843506, 2.8616652488708496, 2.8616225719451904, 2.8616628646850586, 2.8615546226501465, 2.861560583114624, 2.861469268798828, 2.8605520725250244, 2.859706163406372, 2.8588385581970215, 2.858027696609497, 2.8576087951660156, 2.8571956157684326, 2.8572022914886475, 2.8456716537475586, 6.653935432434082, 2.7687950134277344, 155.50552368164062, 2.696506977081299, 2.692492723464966, 2.6838295459747314, 2.6649575233459473, 1.7872679233551025, 1.7872462272644043, 1.787224292755127, 1.7871898412704468, 22.40601921081543, 4.2850871086120605, 96.67435455322266, 126.37116241455078, 18.910192489624023, 33.44162368774414, 16.339405059814453, 14.179549217224121, 19.448396682739258, 7.983191967010498, 21.78350067138672, 11.49653434753418, 13.824771881103516, 13.64997386932373, 95.01978302001953, 13.47799301147461, 7.413120746612549, 8.033920288085938, 7.238567352294922, 50.50773620605469, 7.153979301452637, 7.161885738372803, 5.194445610046387, 7.08831262588501, 7.687778472900391, 17.446556091308594, 6.949763774871826, 7.279308795928955, 6.771490573883057, 9.209468841552734, 6.594673156738281, 6.581330299377441, 4.634128570556641, 12.305872917175293, 3.3274106979370117, 22.209701538085938, 2.6734793186187744, 5.153750419616699, 2.6736977100372314, 13.866050720214844, 8.229704856872559, 4.465041160583496, 2.019864082336426, 2.0198402404785156, 2.0198726654052734, 2.019925355911255, 2.0199265480041504, 2.0199131965637207, 2.0198473930358887, 2.01991868019104, 3.2999489307403564, 2.0205485820770264, 2.0201568603515625, 2.0211286544799805, 2.021242141723633, 3.933621883392334, 3.1905717849731445, 7.488755226135254, 1.3663302659988403, 3.7461423873901367, 17.446556091308594, 96.67435455322266, 95.01978302001953, 155.50552368164062, 33.44162368774414, 6.884368896484375, 4.3175048828125, 126.37116241455078, 50.50773620605469, 8.098199844360352, 16.339405059814453, 19.448396682739258, 22.40601921081543, 13.47799301147461, 2.7827088832855225, 2.2653424739837646, 2.266782760620117, 2.27394700050354, 1.746217131614685, 1.7465934753417969, 1.7469696998596191, 1.7477238178253174, 1.7478760480880737, 1.7480119466781616, 1.7484805583953857, 1.7489155530929565, 1.7492645978927612, 1.7490391731262207, 1.7509498596191406, 1.7532107830047607, 2.3103885650634766, 5.096107006072998, 6.488777160644531, 2.9258906841278076, 1.793253779411316, 4.62706184387207, 1.2294543981552124, 1.2294784784317017, 1.2294743061065674, 1.229493260383606, 1.2294790744781494, 1.229508876800537, 1.2294855117797852, 1.2294992208480835, 50.50773620605469, 1.8085191249847412, 2.3572874069213867, 95.01978302001953, 2.354966402053833, 2.354586124420166, 126.37116241455078, 2.402702569961548, 9.658071517944336, 7.279308795928955, 21.78350067138672, 3.9411091804504395, 155.50552368164062, 18.910192489624023, 19.448396682739258, 96.67435455322266, 13.47799301147461, 13.64997386932373, 22.40601921081543, 13.824771881103516, 11.49653434753418, 33.44162368774414, 7.687778472900391, 14.179549217224121, 6.771490573883057, 13.866050720214844, 6.949763774871826, 17.446556091308594, 8.098199844360352, 22.209701538085938, 7.236584663391113, 2.5339345932006836, 1.9254796504974365, 1.9255740642547607, 1.925697684288025, 1.9262776374816895, 1.9262423515319824, 1.9267330169677734, 3.052827835083008, 5.474266052246094, 1.3189420700073242, 1.3189254999160767, 1.318960428237915, 1.3189793825149536, 1.3189654350280762, 1.319037675857544, 1.319019079208374, 1.3190598487854004, 1.3190364837646484, 1.319047451019287, 1.3190577030181885, 1.3191202878952026, 1.319146990776062, 1.319114327430725, 1.3191285133361816, 1.319043517112732, 1.3190492391586304, 1.3191111087799072, 1.3191771507263184, 1.3192037343978882, 5.989479064941406, 2.4425220489501953, 3.606314182281494, 3.606102228164673, 2.446932315826416, 9.658071517944336, 6.884368896484375, 2.9973270893096924, 2.9970414638519287, 3.0002059936523438, 3.149369478225708, 95.01978302001953, 96.67435455322266, 3.9658498764038086, 4.273228645324707, 4.6876606941223145, 5.107526779174805, 5.897897720336914, 17.446556091308594, 33.44162368774414, 50.50773620605469, 22.209701538085938, 16.339405059814453], \"Category\": [\"Default\", \"Default\", \"Default\", \"Default\", \"Default\", \"Default\", \"Default\", \"Default\", \"Default\", \"Default\", \"Default\", \"Default\", \"Default\", \"Default\", \"Default\", \"Default\", \"Default\", \"Default\", \"Default\", \"Default\", \"Default\", \"Default\", \"Default\", \"Default\", \"Default\", \"Default\", \"Default\", \"Default\", \"Default\", \"Default\", \"Topic1\", \"Topic1\", \"Topic1\", \"Topic1\", \"Topic1\", \"Topic1\", \"Topic1\", \"Topic1\", \"Topic1\", \"Topic1\", \"Topic1\", \"Topic1\", \"Topic1\", \"Topic1\", \"Topic1\", \"Topic1\", \"Topic1\", \"Topic1\", \"Topic1\", \"Topic1\", \"Topic1\", \"Topic1\", \"Topic1\", \"Topic1\", \"Topic1\", \"Topic1\", \"Topic1\", \"Topic1\", \"Topic1\", \"Topic1\", \"Topic1\", \"Topic1\", \"Topic1\", \"Topic1\", \"Topic1\", \"Topic1\", \"Topic1\", \"Topic1\", \"Topic1\", \"Topic1\", \"Topic1\", \"Topic1\", \"Topic1\", \"Topic1\", \"Topic1\", \"Topic1\", \"Topic1\", \"Topic1\", \"Topic1\", \"Topic1\", \"Topic1\", \"Topic1\", \"Topic1\", \"Topic1\", \"Topic1\", \"Topic1\", \"Topic1\", \"Topic1\", \"Topic1\", \"Topic2\", \"Topic2\", \"Topic2\", \"Topic2\", \"Topic2\", \"Topic2\", \"Topic2\", \"Topic2\", \"Topic2\", \"Topic2\", \"Topic2\", \"Topic2\", \"Topic2\", \"Topic2\", \"Topic2\", \"Topic2\", \"Topic2\", \"Topic2\", \"Topic2\", \"Topic2\", \"Topic2\", \"Topic2\", \"Topic2\", \"Topic2\", \"Topic2\", \"Topic2\", \"Topic2\", \"Topic2\", \"Topic2\", \"Topic2\", \"Topic2\", \"Topic2\", \"Topic2\", \"Topic2\", \"Topic2\", \"Topic2\", \"Topic2\", \"Topic2\", \"Topic2\", \"Topic2\", \"Topic2\", \"Topic2\", \"Topic2\", \"Topic2\", \"Topic2\", \"Topic3\", \"Topic3\", \"Topic3\", \"Topic3\", \"Topic3\", \"Topic3\", \"Topic3\", \"Topic3\", \"Topic3\", \"Topic3\", \"Topic3\", \"Topic3\", \"Topic3\", \"Topic3\", \"Topic3\", \"Topic3\", \"Topic3\", \"Topic3\", \"Topic3\", \"Topic3\", \"Topic3\", \"Topic3\", \"Topic3\", \"Topic3\", \"Topic3\", \"Topic3\", \"Topic3\", \"Topic3\", \"Topic3\", \"Topic3\", \"Topic3\", \"Topic3\", \"Topic3\", \"Topic3\", \"Topic3\", \"Topic3\", \"Topic3\", \"Topic3\", \"Topic3\", \"Topic3\", \"Topic3\", \"Topic3\", \"Topic3\", \"Topic3\", \"Topic3\", \"Topic3\", \"Topic3\", \"Topic3\", \"Topic3\", \"Topic3\", \"Topic3\", \"Topic3\", \"Topic3\", \"Topic3\", \"Topic3\", \"Topic3\", \"Topic3\", \"Topic3\", \"Topic3\", \"Topic3\", \"Topic4\", \"Topic4\", \"Topic4\", \"Topic4\", \"Topic4\", \"Topic4\", \"Topic4\", \"Topic4\", \"Topic4\", \"Topic4\", \"Topic4\", \"Topic4\", \"Topic4\", \"Topic4\", \"Topic4\", \"Topic4\", \"Topic4\", \"Topic4\", \"Topic4\", \"Topic4\", \"Topic4\", \"Topic4\", \"Topic4\", \"Topic4\", \"Topic4\", \"Topic4\", \"Topic4\", \"Topic4\", \"Topic4\", \"Topic4\", \"Topic4\", \"Topic4\", \"Topic4\", \"Topic4\", \"Topic4\", \"Topic4\", \"Topic4\", \"Topic4\", \"Topic4\", \"Topic4\", \"Topic4\", \"Topic4\", \"Topic4\", \"Topic4\", \"Topic4\", \"Topic4\", \"Topic4\", \"Topic4\", \"Topic4\", \"Topic4\", \"Topic4\", \"Topic4\", \"Topic4\"], \"logprob\": [30.0, 29.0, 28.0, 27.0, 26.0, 25.0, 24.0, 23.0, 22.0, 21.0, 20.0, 19.0, 18.0, 17.0, 16.0, 15.0, 14.0, 13.0, 12.0, 11.0, 10.0, 9.0, 8.0, 7.0, 6.0, 5.0, 4.0, 3.0, 2.0, 1.0, -5.1905999183654785, -5.667699813842773, -5.669400215148926, -5.673799991607666, -6.0355000495910645, -6.0355000495910645, -6.0355000495910645, -6.0355000495910645, -6.035600185394287, -6.035600185394287, -6.035699844360352, -6.036499977111816, -6.037300109863281, -6.038099765777588, -6.03879976272583, -6.039299964904785, -6.0395002365112305, -6.039599895477295, -6.050099849700928, -5.203100204467773, -6.127600193023682, -2.104099988937378, -6.176599979400635, -6.1803998947143555, -6.188399791717529, -6.206099987030029, -6.623199939727783, -6.623199939727783, -6.623199939727783, -6.623300075531006, -4.125899791717529, -5.765600204467773, -2.737299919128418, -2.5508999824523926, -4.361499786376953, -3.849299907684326, -4.5229997634887695, -4.664599895477295, -4.390999794006348, -5.19350004196167, -4.311699867248535, -4.8755998611450195, -4.730000019073486, -4.775899887084961, -3.2822999954223633, -4.8231000900268555, -5.346799850463867, -5.339600086212158, -5.411399841308594, -4.185500144958496, -5.4440999031066895, -5.456999778747559, -5.668399810791016, -5.487599849700928, -5.443900108337402, -5.097300052642822, -5.550600051879883, -5.570099830627441, -5.646500110626221, -4.0482001304626465, -4.407100200653076, -4.440299987792969, -4.799200057983398, -3.828900098800659, -5.185999870300293, -3.329699993133545, -5.453499794006348, -4.799099922180176, -5.455599784851074, -3.8162999153137207, -4.3649001121521, -5.024899959564209, -5.820799827575684, -5.820799827575684, -5.820799827575684, -5.820899963378906, -5.821000099182129, -5.821100234985352, -5.821199893951416, -5.821400165557861, -5.330999851226807, -5.822999954223633, -5.82480001449585, -5.830599784851074, -5.831699848175049, -5.184999942779541, -5.453499794006348, -4.655799865722656, -6.408400058746338, -5.453800201416016, -4.204599857330322, -3.469399929046631, -3.517400026321411, -3.523200035095215, -4.370100021362305, -5.1844000816345215, -5.451600074768066, -3.83240008354187, -4.295100212097168, -5.188000202178955, -5.111800193786621, -5.282599925994873, -5.377699851989746, -5.43179988861084, -5.269499778747559, -5.53849983215332, -5.539599895477295, -5.548500061035156, -5.9029998779296875, -5.9039998054504395, -5.904300212860107, -5.905600070953369, -5.906000137329102, -5.905900001525879, -5.906300067901611, -5.90749979019165, -5.907800197601318, -5.908400058746338, -5.9120001792907715, -5.914000034332275, -5.6442999839782715, -4.892099857330322, -4.739099979400635, -5.546599864959717, -6.065000057220459, -5.159599781036377, -6.490499973297119, -6.490499973297119, -6.490499973297119, -6.490600109100342, -6.490600109100342, -6.490600109100342, -6.490600109100342, -6.490600109100342, -2.7822000980377197, -6.129300117492676, -5.901400089263916, -2.574899911880493, -5.905700206756592, -5.906199932098389, -2.4514000415802, -5.9054999351501465, -4.735000133514404, -5.0100998878479, -4.15749979019165, -5.539899826049805, -3.2295000553131104, -4.618299961090088, -4.603899955749512, -3.925800085067749, -4.94379997253418, -4.966800212860107, -4.758999824523926, -5.053599834442139, -5.137899875640869, -4.749800205230713, -5.328999996185303, -5.1579999923706055, -5.427199840545654, -5.265999794006348, -5.50600004196167, -5.410799980163574, -5.534999847412109, -5.53000020980835, -3.9238998889923096, -4.977200031280518, -5.339000225067139, -5.339799880981445, -5.340000152587891, -5.341400146484375, -5.3414998054504395, -5.343800067901611, -4.982500076293945, -4.496399879455566, -5.9257001876831055, -5.92579984664917, -5.9257001876831055, -5.92579984664917, -5.925899982452393, -5.926400184631348, -5.926400184631348, -5.926400184631348, -5.926499843597412, -5.926599979400635, -5.926599979400635, -5.926499843597412, -5.926599979400635, -5.926599979400635, -5.926599979400635, -5.926700115203857, -5.926799774169922, -5.926700115203857, -5.926799774169922, -5.926799774169922, -4.440199851989746, -5.339000225067139, -4.974999904632568, -4.975500106811523, -5.345699787139893, -4.170599937438965, -4.497300148010254, -5.338500022888184, -5.339300155639648, -5.342100143432617, -5.340099811553955, -3.3461999893188477, -3.6419999599456787, -5.338099956512451, -5.3520002365112305, -5.339099884033203, -5.341000080108643, -5.3383002281188965, -4.969699859619141, -4.967800140380859, -4.928599834442139, -5.32450008392334, -5.332699775695801], \"loglift\": [30.0, 29.0, 28.0, 27.0, 26.0, 25.0, 24.0, 23.0, 22.0, 21.0, 20.0, 19.0, 18.0, 17.0, 16.0, 15.0, 14.0, 13.0, 12.0, 11.0, 10.0, 9.0, 8.0, 7.0, 6.0, 5.0, 4.0, 3.0, 2.0, 1.0, 0.7075999975204468, 0.6650999784469604, 0.6640999913215637, 0.6614000201225281, 0.616100013256073, 0.616100013256073, 0.616100013256073, 0.616100013256073, 0.616100013256073, 0.616100013256073, 0.6159999966621399, 0.6154999732971191, 0.6150000095367432, 0.6144999861717224, 0.6140000224113464, 0.6137999892234802, 0.6136999726295471, 0.6134999990463257, 0.6071000099182129, 0.6047000288963318, 0.5569000244140625, 0.5522000193595886, 0.5343999862670898, 0.5321999788284302, 0.527400016784668, 0.516700029373169, 0.499099999666214, 0.499099999666214, 0.499099999666214, 0.499099999666214, 0.46779999136924744, 0.4823000133037567, 0.3944000005722046, 0.31290000677108765, 0.4018000066280365, 0.3440000116825104, 0.3865000009536743, 0.38659998774528503, 0.3443000018596649, 0.43209999799728394, 0.3100999891757965, 0.3853999972343445, 0.3465000092983246, 0.3133000135421753, -0.13330000638961792, 0.27889999747276306, 0.3528999984264374, 0.27970001101493835, 0.31220000982284546, -0.40459999442100525, 0.2912999987602234, 0.27720001339912415, 0.3869999945163727, 0.25699999928474426, 0.21950000524520874, -0.2533999979496002, 0.21369999647140503, 0.1477999985218048, 0.14380000531673431, 1.4345999956130981, 1.409600019454956, 1.378499984741211, 1.3703999519348145, 1.3639999628067017, 1.3148000240325928, 1.2726999521255493, 1.2661999464035034, 1.2640999555587769, 1.2639000415802002, 1.257200002670288, 1.2303999662399292, 1.1818000078201294, 1.1792000532150269, 1.1792000532150269, 1.1792000532150269, 1.1790000200271606, 1.1789000034332275, 1.1787999868392944, 1.1786999702453613, 1.1785000562667847, 1.1780999898910522, 1.1765999794006348, 1.1749999523162842, 1.1686999797821045, 1.1676000356674194, 1.1483999490737915, 1.0893000364303589, 1.0338000059127808, 0.9824000000953674, 0.9283999800682068, 0.6392999887466431, -0.3377000093460083, -0.3684999942779541, -0.8669000267982483, -0.1768999993801117, 0.5892999768257141, 0.7888000011444092, -0.9685999751091003, -0.51419997215271, 0.42340001463890076, -0.20239999890327454, -0.5473999977111816, -0.7839999794960022, -0.32989999651908875, 1.410099983215332, 1.3467999696731567, 1.3450000286102295, 1.3329999446868896, 1.2425999641418457, 1.2414000034332275, 1.2409000396728516, 1.2389999628067017, 1.2386000156402588, 1.2386000156402588, 1.2380000352859497, 1.2365000247955322, 1.2359999418258667, 1.2355999946594238, 1.2308000326156616, 1.2275999784469604, 1.2213000059127808, 1.1823999881744385, 1.0938999652862549, 1.082800030708313, 1.0539000034332275, 1.0115000009536743, 1.00600004196167, 1.0059000253677368, 1.0059000253677368, 1.0058000087738037, 1.0058000087738037, 1.0058000087738037, 1.0058000087738037, 1.0058000087738037, 0.9986000061035156, 0.9811999797821045, 0.944100022315979, 0.5740000009536743, 0.9406999945640564, 0.9404000043869019, 0.4122999906539917, 0.9208999872207642, 0.7002000212669373, 0.7078999876976013, 0.4643000066280365, 0.7915999889373779, -0.573199987411499, 0.14509999752044678, 0.13130000233650208, -0.7940999865531921, 0.1581999957561493, 0.12250000238418579, -0.16529999673366547, 0.023000000044703484, 0.12309999763965607, -0.5565999746322632, 0.3343999981880188, -0.10679999738931656, 0.36309999227523804, -0.1923999935388565, 0.2583000063896179, -0.5669999718666077, 0.07639999687671661, -0.9275000095367432, 1.7999999523162842, 1.7960000038146973, 1.708799958229065, 1.707900047302246, 1.7077000141143799, 1.7059999704360962, 1.705899953842163, 1.7034000158309937, 1.6044000387191772, 1.506500005722046, 1.500499963760376, 1.5003999471664429, 1.5003999471664429, 1.5003000497817993, 1.5003000497817993, 1.4996999502182007, 1.4996999502182007, 1.4996999502182007, 1.4996000528335571, 1.499500036239624, 1.499500036239624, 1.499500036239624, 1.499500036239624, 1.499400019645691, 1.499400019645691, 1.499400019645691, 1.4993000030517578, 1.4993000030517578, 1.4991999864578247, 1.4991999864578247, 1.4728000164031982, 1.4709999561309814, 1.4452999830245972, 1.4449000358581543, 1.462399959564209, 1.2646000385284424, 1.2764999866485596, 1.266800045967102, 1.2661000490188599, 1.2621999979019165, 1.2157000303268433, -0.1973000019788742, -0.5102999806404114, 0.9872000217437744, 0.8985999822616577, 0.8190000057220459, 0.7312999963760376, 0.5900999903678894, -0.1257999986410141, -0.7746000289916992, -1.1476999521255493, -0.722000002861023, -0.42329999804496765]}, \"token.table\": {\"Topic\": [1, 2, 3, 2, 3, 4, 1, 1, 2, 3, 4, 1, 2, 3, 1, 1, 1, 4, 4, 4, 4, 1, 2, 3, 3, 1, 1, 3, 1, 1, 4, 4, 1, 4, 4, 2, 3, 4, 4, 2, 3, 4, 2, 1, 2, 3, 1, 1, 2, 3, 4, 4, 1, 2, 3, 4, 1, 3, 1, 3, 4, 3, 4, 3, 1, 2, 3, 1, 2, 3, 4, 1, 4, 1, 2, 3, 3, 2, 3, 4, 4, 1, 4, 3, 1, 1, 2, 4, 2, 1, 1, 3, 1, 2, 4, 1, 1, 3, 4, 1, 2, 3, 1, 2, 3, 4, 4, 1, 2, 4, 1, 1, 4, 3, 1, 1, 2, 3, 4, 1, 2, 3, 1, 1, 3, 2, 3, 2, 1, 2, 4, 1, 2, 3, 4, 1, 2, 3, 4, 3, 4, 4, 3, 2, 4, 4, 3, 4, 2, 2, 3, 2, 3, 1, 3, 3, 3, 2, 2, 3, 1, 2, 4, 1, 4, 2, 3, 2, 3, 4, 4, 1, 2, 3, 3, 3, 2, 4, 1, 1, 2, 4, 2, 2, 1, 2, 3, 4, 3, 1, 2, 3, 1, 2, 3, 4, 1, 2, 4, 1, 2, 3, 1, 2, 3, 1, 2, 3, 2, 3, 1, 2, 1, 2, 3, 3, 1, 2, 3, 1, 2, 3, 2, 3, 4, 4, 4, 3, 1, 4, 1, 2, 3, 4, 1, 2, 3, 4, 1, 4, 4, 1, 4, 2, 3, 1, 2, 4, 3, 1, 2, 3, 4, 2, 3, 4, 1, 2, 3, 4, 3, 1, 3, 4, 1, 3, 3, 4, 3, 4, 2, 1, 4, 3, 4, 1, 3, 1, 2, 3, 4, 3, 1, 2, 3, 2, 2, 3, 1, 3, 4, 2, 2, 4, 1, 2, 2, 1, 4, 1, 2, 3, 4, 2, 3, 4, 3], \"Freq\": [0.5907118916511536, 0.1476779729127884, 0.2953559458255768, 0.234015092253685, 0.234015092253685, 0.234015092253685, 0.6989207863807678, 0.21332602202892303, 0.21332602202892303, 0.21332602202892303, 0.21332602202892303, 0.7052410244941711, 0.14104820787906647, 0.14104820787906647, 0.6989042162895203, 0.6989193558692932, 0.5595268607139587, 0.7581391334533691, 0.7581157088279724, 0.7580809593200684, 0.7581217885017395, 0.6744797825813293, 0.1348959505558014, 0.1348959505558014, 0.8133432269096375, 0.6988943219184875, 0.6999854445457458, 0.5726664662361145, 0.7452037930488586, 0.7504810094833374, 0.7581291198730469, 0.758172869682312, 0.33363059163093567, 0.33363059163093567, 0.5193511247634888, 0.893882155418396, 0.0812620148062706, 0.0812620148062706, 0.7581284642219543, 0.7318874597549438, 0.42470309138298035, 0.42470309138298035, 0.4950869083404541, 0.6684355735778809, 0.15425436198711395, 0.205672487616539, 0.5595132112503052, 0.39991670846939087, 0.1578618586063385, 0.33677196502685547, 0.10524123907089233, 0.7580762505531311, 0.3391038775444031, 0.16955193877220154, 0.16955193877220154, 0.16955193877220154, 0.7626929879188538, 0.882307767868042, 0.6989416480064392, 0.4094128906726837, 0.4094128906726837, 0.571925163269043, 0.7581619620323181, 0.865655243396759, 0.6958618760108948, 0.08698273450136185, 0.1739654690027237, 0.6223611831665039, 0.1244722306728363, 0.1244722306728363, 0.1244722306728363, 0.6995847821235657, 0.7580862641334534, 0.6251426339149475, 0.08704517781734467, 0.2927883267402649, 0.8133530020713806, 0.19622822105884552, 0.5886846780776978, 0.19622822105884552, 0.5192922949790955, 0.9017220139503479, 0.15028700232505798, 0.8133392930030823, 0.6988844275474548, 0.7515790462493896, 0.12526318430900574, 0.12526318430900574, 0.4950694441795349, 0.6988937854766846, 0.5495027303695679, 0.4121270477771759, 0.6998858451843262, 0.4950110614299774, 0.5191454887390137, 0.7640103697776794, 0.25373566150665283, 0.5074713230133057, 0.25373566150665283, 0.5585121512413025, 0.13962803781032562, 0.13962803781032562, 0.25215277075767517, 0.25215277075767517, 0.25215277075767517, 0.25215277075767517, 0.758033037185669, 0.7621390223503113, 0.4950675070285797, 0.5193256735801697, 0.6997832655906677, 0.2772914171218872, 0.5545828342437744, 0.571668803691864, 0.6991657614707947, 0.6723603010177612, 0.1551600694656372, 0.0827520415186882, 0.0724080353975296, 0.6907444000244141, 0.13814888894557953, 0.27629777789115906, 0.5595200061798096, 0.742806077003479, 0.8133483529090881, 0.793304443359375, 0.14423717558383942, 0.9016019701957703, 0.6993725299835205, 0.6060699820518494, 0.3030349910259247, 0.1335335373878479, 0.6676676869392395, 0.1335335373878479, 0.1335335373878479, 0.7909687161445618, 0.09645959734916687, 0.10932087898254395, 0.006430639885365963, 0.42463451623916626, 0.42463451623916626, 0.7581834197044373, 0.7187241315841675, 0.7480277419090271, 0.7581169605255127, 0.7580656409263611, 0.8133525848388672, 0.7581228613853455, 0.495088666677475, 0.6268469095230103, 0.3134234547615051, 0.8631612062454224, 0.5711185932159424, 0.7001024484634399, 0.23336748778820038, 0.5720784664154053, 0.8795279860496521, 0.49507078528404236, 0.3417762815952301, 0.6835525631904602, 0.5775399804115295, 0.1925133317708969, 0.1925133317708969, 0.33331045508384705, 0.33331045508384705, 0.495082825422287, 0.5725430846214294, 0.46323052048683167, 0.23161526024341583, 0.23161526024341583, 0.7580482959747314, 0.5591293573379517, 0.13978233933448792, 0.27956467866897583, 0.8828687071800232, 0.5703820586204529, 0.7626559138298035, 0.2542186379432678, 0.6999870538711548, 0.12151104211807251, 0.7290662527084351, 0.7892863750457764, 0.9116697907447815, 0.49474528431892395, 0.6426882743835449, 0.04590630531311035, 0.32134413719177246, 0.04590630531311035, 0.8133328557014465, 0.575559139251709, 0.14388978481292725, 0.2877795696258545, 0.6510053277015686, 0.072333924472332, 0.2170017659664154, 0.072333924472332, 0.16695943474769592, 0.16695943474769592, 0.5008782744407654, 0.3704527020454407, 0.3704527020454407, 0.24696846306324005, 0.5203063488006592, 0.1300765872001648, 0.2601531744003296, 0.5595376491546631, 0.49491509795188904, 0.8133689165115356, 0.4161979854106903, 0.4161979854106903, 0.26694127917289734, 0.5338825583457947, 0.5935601592063904, 0.1483900398015976, 0.222585067152977, 0.5721229314804077, 0.5643091797828674, 0.14107729494571686, 0.2821545898914337, 0.6593419313430786, 0.14652042090892792, 0.21978063881397247, 0.21611987054347992, 0.43223974108695984, 0.21611987054347992, 0.7581251263618469, 0.5191359519958496, 0.5717424750328064, 0.7028217911720276, 0.7581929564476013, 0.6874599456787109, 0.05288153514266014, 0.21152614057064056, 0.05288153514266014, 0.6578627824783325, 0.17941711843013763, 0.11961141973733902, 0.05980570986866951, 0.33366239070892334, 0.33366239070892334, 0.7581700086593628, 0.2773077189922333, 0.5546154379844666, 0.49508070945739746, 0.5721727609634399, 0.1826728880405426, 0.1826728880405426, 0.5480186939239502, 0.5576455593109131, 0.3439074158668518, 0.40122532844543457, 0.11463580280542374, 0.11463580280542374, 0.43576979637145996, 0.14525659382343292, 0.43576979637145996, 0.6732191443443298, 0.18360520899295807, 0.06120174005627632, 0.06120174005627632, 0.5529385805130005, 0.10354033857584, 0.41416135430336, 0.41416135430336, 0.30822449922561646, 0.6164489984512329, 0.32756513357162476, 0.6551302671432495, 0.4242164194583893, 0.4242164194583893, 0.4950678050518036, 0.1381867378950119, 0.829120397567749, 0.4086749851703644, 0.4086749851703644, 0.741700291633606, 0.5717828869819641, 0.04502536728978157, 0.8104566335678101, 0.09005073457956314, 0.04502536728978157, 0.8133557438850403, 0.714093804359436, 0.0892617255449295, 0.178523451089859, 0.9098252058029175, 0.6718863248825073, 0.22396209836006165, 0.39157894253730774, 0.19578947126865387, 0.19578947126865387, 0.4947730600833893, 0.31752386689186096, 0.31752386689186096, 0.9870044589042664, 0.7480888366699219, 0.9772550463676453, 0.7223358750343323, 0.5190132856369019, 0.2969841957092285, 0.13859263062477112, 0.5147726535797119, 0.03959789499640465, 0.7761338353157043, 0.1940334588289261, 0.7580844163894653, 0.5724197626113892], \"Term\": [\"\\uac00\\ub4dd\", \"\\uac00\\ub4dd\", \"\\uac00\\ub4dd\", \"\\uac00\\uc0ac\", \"\\uac00\\uc0ac\", \"\\uac00\\uc0ac\", \"\\uac00\\uc0c1\", \"\\uac00\\uc218\", \"\\uac00\\uc218\", \"\\uac00\\uc218\", \"\\uac00\\uc218\", \"\\uac00\\uc2b4\", \"\\uac00\\uc2b4\", \"\\uac00\\uc2b4\", \"\\uac00\\uc81c\", \"\\uac00\\uc9d1\", \"\\uac00\\ud574\", \"\\uac70\\uad6c\", \"\\uac70\\uc9c0\", \"\\uac74\\uac00\", \"\\uac74\\uc870\", \"\\uac90\\uc9f1\\uc774\\ub78d\", \"\\uac90\\uc9f1\\uc774\\ub78d\", \"\\uac90\\uc9f1\\uc774\\ub78d\", \"\\uacb0\\ucf54\", \"\\uace0\\uc0dd\", \"\\uacf5\\ubd80\", \"\\uacf5\\uc778\", \"\\uacfc\\ubaa9\", \"\\uad50\\uacfc\\uc11c\", \"\\uad81\\uae08\", \"\\uadf8\\uac8c\", \"\\uadf8\\ub54c\", \"\\uadf8\\ub54c\", \"\\uadfc\\ub144\", \"\\uae30\\uc544\", \"\\uae30\\uc544\", \"\\uae30\\uc544\", \"\\uae38\\uac70\\ub9ac\", \"\\ub098\\uc65c\", \"\\ub098\\uc774\", \"\\ub098\\uc774\", \"\\ub0a8\\uce5c\", \"\\ub0b4\\uc0ac\", \"\\ub0b4\\uc0ac\", \"\\ub0b4\\uc0ac\", \"\\ub124\\ub098\", \"\\ub178\\ub798\", \"\\ub178\\ub798\", \"\\ub178\\ub798\", \"\\ub178\\ub798\", \"\\ub178\\ub798\\uae30\", \"\\ub178\\ub798\\ubc29\", \"\\ub178\\ub798\\ubc29\", \"\\ub178\\ub798\\ubc29\", \"\\ub178\\ub798\\ubc29\", \"\\ub178\\ubb34\", \"\\ub178\\uc744\", \"\\ub179\\ucc28\", \"\\ub290\\ub08c\", \"\\ub290\\ub08c\", \"\\ub2e4\\ub098\", \"\\ub2e4\\ub978\", \"\\ub2e4\\ub978\\uc0ac\\ub78c\", \"\\ub2e4\\uc0ac\", \"\\ub2e4\\uc0ac\", \"\\ub2e4\\uc0ac\", \"\\ub2e4\\ud55c\", \"\\ub2e4\\ud55c\", \"\\ub2e4\\ud55c\", \"\\ub2e4\\ud55c\", \"\\ub2ec\\ub77c\", \"\\ub2f9\\uc2dc\", \"\\ub2f9\\uc2e0\", \"\\ub2f9\\uc2e0\", \"\\ub2f9\\uc2e0\", \"\\ub2f9\\uc7a5\", \"\\ub300\\ubc15\", \"\\ub300\\ubc15\", \"\\ub300\\ubc15\", \"\\ub313\\uae00\", \"\\ub370\\ub9ac\", \"\\ub370\\ub9ac\", \"\\ub3c4\\ub355\", \"\\ub3d9\\uc758\", \"\\ub4e3\\uae30\", \"\\ub4e3\\uae30\", \"\\ub4e3\\uae30\", \"\\ub54c\\ubb38\", \"\\ub77c\\ub5bc\", \"\\ub77c\\uba74\", \"\\ub77c\\uba74\", \"\\ub9ac\\uac00\", \"\\ub9c8\\ub9c8\", \"\\ub9c8\\ud06c\", \"\\uba85\\uace1\", \"\\ubaa9\\uc18c\\ub9ac\", \"\\ubaa9\\uc18c\\ub9ac\", \"\\ubaa9\\uc18c\\ub9ac\", \"\\ubab8\\uc9f1\", \"\\ubab8\\uc9f1\", \"\\ubab8\\uc9f1\", \"\\ubabb\\uc0b4\", \"\\ubabb\\uc0b4\", \"\\ubabb\\uc0b4\", \"\\ubabb\\uc0b4\", \"\\ubb34\\uc2a8\", \"\\ubb38\\uad6c\", \"\\ubc14\\ub78c\", \"\\ubc14\\ub85c\", \"\\ubc14\\uc774\\uc62c\\ub9b0\", \"\\ubc15\\ub3d9\\uc6d0\", \"\\ubc15\\ub3d9\\uc6d0\", \"\\ubc29\\uc1a1\", \"\\ubc30\\ud130\", \"\\ubc30\\ud130\\ub9ac\", \"\\ubc30\\ud130\\ub9ac\", \"\\ubc30\\ud130\\ub9ac\", \"\\ubc30\\ud130\\ub9ac\", \"\\ubc88\\ub354\", \"\\ubc88\\ub354\", \"\\ubc88\\ub354\", \"\\ubc88\\ud638\", \"\\ubc94\\uc704\", \"\\ubc94\\uc8c4\", \"\\ubca0\\uc774\\ucee4\", \"\\ubca0\\uc774\\ucee4\", \"\\ubcf4\\uc870\", \"\\ubcfc\\ub54c\", \"\\ube75\\uc9d1\", \"\\ube75\\uc9d1\", \"\\uc0ac\\ub78c\", \"\\uc0ac\\ub78c\", \"\\uc0ac\\ub78c\", \"\\uc0ac\\ub78c\", \"\\uc0ac\\ub791\", \"\\uc0ac\\ub791\", \"\\uc0ac\\ub791\", \"\\uc0ac\\ub791\", \"\\uc0ac\\uc9c4\", \"\\uc0ac\\uc9c4\", \"\\uc0b4\\ub3c8\", \"\\uc0dd\\uc77c\", \"\\uc0e4\\ub7b4\", \"\\uc0e4\\ub8cc\\ub798\\ub7b4\", \"\\uc0e4\\uc7c8\\uc0e4\\ub7b4\\uac38\", \"\\uc190\\ubc14\\ub2e5\", \"\\uc218\\ud608\", \"\\uc2ac\\uc2ac\", \"\\uc2b9\\ub9ac\", \"\\uc2b9\\ub9ac\", \"\\uc2dc\\uac04\", \"\\uc2dc\\uccad\\uc790\", \"\\uc2dc\\ud5d8\", \"\\uc2dc\\ud5d8\", \"\\uc2e4\\ubb3c\", \"\\uc308\\ubc14\\ud64d\", \"\\uc378\\ub0a8\", \"\\uc544\\ube60\", \"\\uc544\\ube60\", \"\\uc544\\uc774\\ub3cc\", \"\\uc544\\uc774\\ub3cc\", \"\\uc544\\uc774\\ub3cc\", \"\\uc548\\ub098\", \"\\uc548\\ub098\", \"\\uc548\\uc628\", \"\\uc5b4\\uae30\", \"\\uc5bc\\uad74\", \"\\uc5bc\\uad74\", \"\\uc5bc\\uad74\", \"\\uc5bc\\ub9c8\\ub098\", \"\\uc5bc\\uc9f1\", \"\\uc5bc\\uc9f1\", \"\\uc5bc\\uc9f1\", \"\\uc5ec\\uae30\", \"\\uc5ec\\ub7ec\\ubd84\", \"\\uc5ec\\uce5c\", \"\\uc5ec\\uce5c\", \"\\uc5f0\\uc8fc\", \"\\uc624\\ub298\", \"\\uc624\\ub298\", \"\\uc624\\ube60\", \"\\uc624\\uc624\\uc624\", \"\\uc640\\uc6b0\", \"\\uc644\\uc804\", \"\\uc644\\uc804\", \"\\uc644\\uc804\", \"\\uc644\\uc804\", \"\\uc65c\\uace1\", \"\\uc678\\ub85c\\uc6cc\", \"\\uc678\\ub85c\\uc6cc\", \"\\uc678\\ub85c\\uc6cc\", \"\\uc694\\ub098\", \"\\uc694\\ub098\", \"\\uc694\\ub098\", \"\\uc694\\ub098\", \"\\uc694\\uc998\", \"\\uc694\\uc998\", \"\\uc694\\uc998\", \"\\uc6b0\\ub9ac\", \"\\uc6b0\\ub9ac\", \"\\uc6b0\\ub9ac\", \"\\uc704\\ud574\", \"\\uc704\\ud574\", \"\\uc704\\ud574\", \"\\uc720\\uc9c4\", \"\\uc720\\ud589\", \"\\uc744\\uae30\", \"\\uc74c\\uc545\", \"\\uc74c\\uc545\", \"\\uc751\\uc6d0\", \"\\uc751\\uc6d0\", \"\\uc758\\uc57d\", \"\\uc758\\uc57d\", \"\\uc758\\uc57d\", \"\\uc774\\ubaa8\", \"\\uc774\\ubc14\", \"\\uc774\\ubc14\", \"\\uc774\\ubc14\", \"\\uc774\\uc544\", \"\\uc774\\uc544\", \"\\uc774\\uc544\", \"\\uc774\\uc81c\", \"\\uc774\\uc81c\", \"\\uc774\\uc81c\", \"\\uc778\\uac04\", \"\\uc791\\uace1\", \"\\uc794\\uce58\", \"\\uc7ac\\ubbf8\", \"\\uc7ac\\ubc1c\", \"\\uc804\\ubd80\", \"\\uc804\\ubd80\", \"\\uc804\\ubd80\", \"\\uc804\\ubd80\", \"\\uc815\\ub9d0\", \"\\uc815\\ub9d0\", \"\\uc815\\ub9d0\", \"\\uc815\\ub9d0\", \"\\uc81c\\ubaa9\", \"\\uc81c\\ubaa9\", \"\\uc81c\\ubc1c\", \"\\uc870\\uc0c1\\uc6b0\", \"\\uc870\\uc0c1\\uc6b0\", \"\\uc885\\uc77c\", \"\\uc904\\ub118\\uae30\", \"\\uc911\\ub3c5\", \"\\uc911\\ub3c5\", \"\\uc911\\ub3c5\", \"\\uc911\\uc774\", \"\\uc9c0\\uae08\", \"\\uc9c0\\uae08\", \"\\uc9c0\\uae08\", \"\\uc9c0\\uae08\", \"\\uc9c4\\uc601\", \"\\uc9c4\\uc601\", \"\\uc9c4\\uc601\", \"\\uc9c4\\uc9dc\", \"\\uc9c4\\uc9dc\", \"\\uc9c4\\uc9dc\", \"\\uc9c4\\uc9dc\", \"\\uc9d1\\ub3c4\", \"\\ucd08\\ub529\", \"\\ucd08\\ub529\", \"\\ucd08\\ub529\", \"\\ucd5c\\uace0\", \"\\ucd5c\\uace0\", \"\\ucd94\\uc5b5\", \"\\ucd94\\uc5b5\", \"\\ucd95\\ud558\", \"\\ucd95\\ud558\", \"\\ucda9\\uc804\\uae30\", \"\\uce58\\ud0a8\", \"\\uce58\\ud0a8\", \"\\uce5c\\uad6c\", \"\\uce5c\\uad6c\", \"\\ucf54\\ub4dc\", \"\\ud0a4\\ud0a4\", \"\\ud2b8\\ub85c\\ud2b8\", \"\\ud2b8\\ub85c\\ud2b8\", \"\\ud2b8\\ub85c\\ud2b8\", \"\\ud2b8\\ub85c\\ud2b8\", \"\\ud32c\\uc2ec\", \"\\ud558\\ub098\", \"\\ud558\\ub098\", \"\\ud558\\ub098\", \"\\ud558\\ub8e8\", \"\\ud559\\uad50\", \"\\ud559\\uad50\", \"\\ud559\\ub144\", \"\\ud559\\ub144\", \"\\ud559\\ub144\", \"\\ud559\\uc608\\ud68c\", \"\\ud55c\\ubc88\", \"\\ud55c\\ubc88\", \"\\ud560\\uba38\\ub2c8\", \"\\ud578\\ub4dc\\ud3f0\", \"\\ud5e4\\uc990\", \"\\ud639\\uc2dc\", \"\\ud64d\\uc9c4\", \"\\ud64d\\uc9c4\\uc601\", \"\\ud64d\\uc9c4\\uc601\", \"\\ud64d\\uc9c4\\uc601\", \"\\ud64d\\uc9c4\\uc601\", \"\\ud654\\uc774\\ud305\", \"\\ud654\\uc774\\ud305\", \"\\ud765\\ud589\", \"\\ud788\\ud788\\ud788\"]}, \"R\": 30, \"lambda.step\": 0.01, \"plot.opts\": {\"xlab\": \"PC1\", \"ylab\": \"PC2\"}, \"topic.order\": [2, 1, 4, 3]};\n",
       "\n",
       "function LDAvis_load_lib(url, callback){\n",
       "  var s = document.createElement('script');\n",
       "  s.src = url;\n",
       "  s.async = true;\n",
       "  s.onreadystatechange = s.onload = callback;\n",
       "  s.onerror = function(){console.warn(\"failed to load library \" + url);};\n",
       "  document.getElementsByTagName(\"head\")[0].appendChild(s);\n",
       "}\n",
       "\n",
       "if(typeof(LDAvis) !== \"undefined\"){\n",
       "   // already loaded: just create the visualization\n",
       "   !function(LDAvis){\n",
       "       new LDAvis(\"#\" + \"ldavis_el1605230363764411604855052596\", ldavis_el1605230363764411604855052596_data);\n",
       "   }(LDAvis);\n",
       "}else if(typeof define === \"function\" && define.amd){\n",
       "   // require.js is available: use it to load d3/LDAvis\n",
       "   require.config({paths: {d3: \"https://cdnjs.cloudflare.com/ajax/libs/d3/3.5.5/d3.min\"}});\n",
       "   require([\"d3\"], function(d3){\n",
       "      window.d3 = d3;\n",
       "      LDAvis_load_lib(\"https://cdn.rawgit.com/bmabey/pyLDAvis/files/ldavis.v1.0.0.js\", function(){\n",
       "        new LDAvis(\"#\" + \"ldavis_el1605230363764411604855052596\", ldavis_el1605230363764411604855052596_data);\n",
       "      });\n",
       "    });\n",
       "}else{\n",
       "    // require.js not available: dynamically load d3 & LDAvis\n",
       "    LDAvis_load_lib(\"https://cdnjs.cloudflare.com/ajax/libs/d3/3.5.5/d3.min.js\", function(){\n",
       "         LDAvis_load_lib(\"https://cdn.rawgit.com/bmabey/pyLDAvis/files/ldavis.v1.0.0.js\", function(){\n",
       "                 new LDAvis(\"#\" + \"ldavis_el1605230363764411604855052596\", ldavis_el1605230363764411604855052596_data);\n",
       "            })\n",
       "         });\n",
       "}\n",
       "</script>"
      ],
      "text/plain": [
       "PreparedData(topic_coordinates=              x         y  topics  cluster       Freq\n",
       "topic                                                \n",
       "1      0.100976  0.026650       1        1  45.615574\n",
       "0     -0.030556 -0.118177       2        1  22.382250\n",
       "3      0.066470  0.030621       3        1  19.198189\n",
       "2     -0.136890  0.060906       4        1  12.803984, topic_info=    Term        Freq       Total Category  logprob  loglift\n",
       "283   당신  126.000000  126.000000  Default  30.0000  30.0000\n",
       "12   홍진영   50.000000   50.000000  Default  29.0000  29.0000\n",
       "20    노래   95.000000   95.000000  Default  28.0000  28.0000\n",
       "37    사랑  155.000000  155.000000  Default  27.0000  27.0000\n",
       "11   트로트   22.000000   22.000000  Default  26.0000  26.0000\n",
       "..   ...         ...         ...      ...      ...      ...\n",
       "29    지금    1.969779   17.446556   Topic4  -4.9697  -0.1258\n",
       "35    정말    1.973405   33.441624   Topic4  -4.9678  -0.7746\n",
       "12   홍진영    2.052386   50.507736   Topic4  -4.9286  -1.1477\n",
       "11   트로트    1.381421   22.209702   Topic4  -5.3245  -0.7220\n",
       "15    진짜    1.370135   16.339405   Topic4  -5.3327  -0.4233\n",
       "\n",
       "[247 rows x 6 columns], token_table=      Topic      Freq Term\n",
       "term                      \n",
       "386       1  0.590712   가득\n",
       "386       2  0.147678   가득\n",
       "386       3  0.295356   가득\n",
       "76        2  0.234015   가사\n",
       "76        3  0.234015   가사\n",
       "...     ...       ...  ...\n",
       "12        4  0.039598  홍진영\n",
       "100       2  0.776134  화이팅\n",
       "100       3  0.194033  화이팅\n",
       "374       4  0.758084   흥행\n",
       "379       3  0.572420  히히히\n",
       "\n",
       "[307 rows x 3 columns], R=30, lambda_step=0.01, plot_opts={'xlab': 'PC1', 'ylab': 'PC2'}, topic_order=[2, 1, 4, 3])"
      ]
     },
     "execution_count": 18,
     "metadata": {},
     "output_type": "execute_result"
    }
   ],
   "source": [
    "import pyLDAvis\n",
    "import pyLDAvis.gensim\n",
    "\n",
    "pyLDAvis.enable_notebook()\n",
    "vis = pyLDAvis.gensim.prepare(ldamodel,corpus,dictionary)\n",
    "vis"
   ]
  },
  {
   "cell_type": "code",
   "execution_count": null,
   "metadata": {},
   "outputs": [],
   "source": []
  }
 ],
 "metadata": {
  "kernelspec": {
   "display_name": "Python 3",
   "language": "python",
   "name": "python3"
  },
  "language_info": {
   "codemirror_mode": {
    "name": "ipython",
    "version": 3
   },
   "file_extension": ".py",
   "mimetype": "text/x-python",
   "name": "python",
   "nbconvert_exporter": "python",
   "pygments_lexer": "ipython3",
   "version": "3.7.6"
  }
 },
 "nbformat": 4,
 "nbformat_minor": 4
}
