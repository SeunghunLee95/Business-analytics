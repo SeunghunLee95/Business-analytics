{
 "cells": [
  {
   "cell_type": "code",
   "execution_count": 54,
   "metadata": {},
   "outputs": [
    {
     "data": {
      "text/html": [
       "<div>\n",
       "<style scoped>\n",
       "    .dataframe tbody tr th:only-of-type {\n",
       "        vertical-align: middle;\n",
       "    }\n",
       "\n",
       "    .dataframe tbody tr th {\n",
       "        vertical-align: top;\n",
       "    }\n",
       "\n",
       "    .dataframe thead th {\n",
       "        text-align: right;\n",
       "    }\n",
       "</style>\n",
       "<table border=\"1\" class=\"dataframe\">\n",
       "  <thead>\n",
       "    <tr style=\"text-align: right;\">\n",
       "      <th></th>\n",
       "      <th>Unnamed: 0</th>\n",
       "      <th>ID</th>\n",
       "      <th>Comment</th>\n",
       "    </tr>\n",
       "  </thead>\n",
       "  <tbody>\n",
       "    <tr>\n",
       "      <th>0</th>\n",
       "      <td>0</td>\n",
       "      <td>큐리</td>\n",
       "      <td>태풍바비온대서기념으로보러옴.</td>\n",
       "    </tr>\n",
       "    <tr>\n",
       "      <th>1</th>\n",
       "      <td>1</td>\n",
       "      <td>꧁꧂꧁꧂꧁꧂꧁꧂꧁꧂꧁꧂꧁꧂꧁꧂꧁꧂꧁꧂</td>\n",
       "      <td>체크해보겠습니다2020하반기는손을들어주세요</td>\n",
       "    </tr>\n",
       "    <tr>\n",
       "      <th>2</th>\n",
       "      <td>2</td>\n",
       "      <td>FrédéricFrançoisChopin</td>\n",
       "      <td>이건ㅅㅂ쇼팽인내가들어도가슴이웅장해진다</td>\n",
       "    </tr>\n",
       "    <tr>\n",
       "      <th>3</th>\n",
       "      <td>3</td>\n",
       "      <td>ᄉᄒ</td>\n",
       "      <td>아니어떻게고등학생이무대장악력이ㅋㅋㅋ</td>\n",
       "    </tr>\n",
       "    <tr>\n",
       "      <th>4</th>\n",
       "      <td>4</td>\n",
       "      <td>랄라</td>\n",
       "      <td>진짜레전드인건바비가저무대할때나이가19살이었다는거임ㅋㅋㅋㅋㅋ요즘고등래퍼라는프로가생겨서...</td>\n",
       "    </tr>\n",
       "    <tr>\n",
       "      <th>...</th>\n",
       "      <td>...</td>\n",
       "      <td>...</td>\n",
       "      <td>...</td>\n",
       "    </tr>\n",
       "    <tr>\n",
       "      <th>1575</th>\n",
       "      <td>1575</td>\n",
       "      <td>Herring</td>\n",
       "      <td>지금은뭐하고살아요?</td>\n",
       "    </tr>\n",
       "    <tr>\n",
       "      <th>1576</th>\n",
       "      <td>1576</td>\n",
       "      <td>0222chan</td>\n",
       "      <td>아니며번을보고봐도행주는곡도곡이지만무대구성이소름돋게놀라워</td>\n",
       "    </tr>\n",
       "    <tr>\n",
       "      <th>1577</th>\n",
       "      <td>1577</td>\n",
       "      <td>GG</td>\n",
       "      <td>이건다시봐도전설이다</td>\n",
       "    </tr>\n",
       "    <tr>\n",
       "      <th>1578</th>\n",
       "      <td>1578</td>\n",
       "      <td>김지후</td>\n",
       "      <td>스윙스에대한반응이나여론이좋지는않지만레드썬무대보고나니까국힙에한획을그은인물임은알것같다....</td>\n",
       "    </tr>\n",
       "    <tr>\n",
       "      <th>1579</th>\n",
       "      <td>1579</td>\n",
       "      <td>유노유노</td>\n",
       "      <td>1:566:24초인데요</td>\n",
       "    </tr>\n",
       "  </tbody>\n",
       "</table>\n",
       "<p>3820 rows × 3 columns</p>\n",
       "</div>"
      ],
      "text/plain": [
       "      Unnamed: 0                      ID  \\\n",
       "0              0                      큐리   \n",
       "1              1    ꧁꧂꧁꧂꧁꧂꧁꧂꧁꧂꧁꧂꧁꧂꧁꧂꧁꧂꧁꧂   \n",
       "2              2  FrédéricFrançoisChopin   \n",
       "3              3                      ᄉᄒ   \n",
       "4              4                      랄라   \n",
       "...          ...                     ...   \n",
       "1575        1575                 Herring   \n",
       "1576        1576                0222chan   \n",
       "1577        1577                      GG   \n",
       "1578        1578                     김지후   \n",
       "1579        1579                    유노유노   \n",
       "\n",
       "                                                Comment  \n",
       "0                                       태풍바비온대서기념으로보러옴.  \n",
       "1                               체크해보겠습니다2020하반기는손을들어주세요  \n",
       "2                                  이건ㅅㅂ쇼팽인내가들어도가슴이웅장해진다  \n",
       "3                                   아니어떻게고등학생이무대장악력이ㅋㅋㅋ  \n",
       "4     진짜레전드인건바비가저무대할때나이가19살이었다는거임ㅋㅋㅋㅋㅋ요즘고등래퍼라는프로가생겨서...  \n",
       "...                                                 ...  \n",
       "1575                                         지금은뭐하고살아요?  \n",
       "1576                     아니며번을보고봐도행주는곡도곡이지만무대구성이소름돋게놀라워  \n",
       "1577                                         이건다시봐도전설이다  \n",
       "1578  스윙스에대한반응이나여론이좋지는않지만레드썬무대보고나니까국힙에한획을그은인물임은알것같다....  \n",
       "1579                                       1:566:24초인데요  \n",
       "\n",
       "[3820 rows x 3 columns]"
      ]
     },
     "execution_count": 54,
     "metadata": {},
     "output_type": "execute_result"
    }
   ],
   "source": [
    "etc = pd.read_csv('youtube_hiphop1.csv',encoding='utf-8')\n",
    "etc1 = pd.read_csv('youtube_hiphop2.csv',encoding='utf-8')\n",
    "etc2 = pd.read_csv('youtube_hiphop3.csv',encoding='utf-8')\n",
    "\n",
    "etc = pd.concat([etc, etc1])\n",
    "etc = pd.concat([etc, etc2])\n",
    "etc"
   ]
  },
  {
   "cell_type": "code",
   "execution_count": 37,
   "metadata": {},
   "outputs": [
    {
     "data": {
      "text/plain": [
       "3820"
      ]
     },
     "execution_count": 37,
     "metadata": {},
     "output_type": "execute_result"
    }
   ],
   "source": [
    "len(etc)"
   ]
  },
  {
   "cell_type": "code",
   "execution_count": 38,
   "metadata": {},
   "outputs": [
    {
     "data": {
      "text/plain": [
       "['태풍바비온대서기념으로보러옴.', '체크해보겠습니다2020하반기는손을들어주세요', '이건ㅅㅂ쇼팽인내가들어도가슴이웅장해진다']"
      ]
     },
     "execution_count": 38,
     "metadata": {},
     "output_type": "execute_result"
    }
   ],
   "source": [
    "etc2=list(etc.Comment)\n",
    "etc2[0:3]"
   ]
  },
  {
   "cell_type": "code",
   "execution_count": 39,
   "metadata": {},
   "outputs": [
    {
     "data": {
      "text/plain": [
       "['태풍바비온대서기념으로보러옴.', '체크해보겠습니다2020하반기는손을들어주세요']"
      ]
     },
     "execution_count": 39,
     "metadata": {},
     "output_type": "execute_result"
    }
   ],
   "source": [
    "etc2=list(etc.Comment)\n",
    "etc2[0:2]"
   ]
  },
  {
   "cell_type": "code",
   "execution_count": 40,
   "metadata": {},
   "outputs": [
    {
     "data": {
      "text/plain": [
       "['태풍바비온대서기념으로보러옴', '체크해보겠습니다2020하반기는손을들어주세요', '이건ㅅㅂ쇼팽인내가들어도가슴이웅장해진다']"
      ]
     },
     "execution_count": 40,
     "metadata": {},
     "output_type": "execute_result"
    }
   ],
   "source": [
    "from string import punctuation\n",
    "def strip_punctuation(s):\n",
    "    return ''.join(c for c in s if c not in punctuation)\n",
    "\n",
    "clean_title = []\n",
    "for sent in etc2:\n",
    "    clean = strip_punctuation(sent)\n",
    "    clean_title.append(clean)\n",
    "    \n",
    "clean_title[0:3]"
   ]
  },
  {
   "cell_type": "code",
   "execution_count": 41,
   "metadata": {},
   "outputs": [],
   "source": [
    "from konlpy.tag import Okt #konlpy에서 Twitter 형태소 분석기를 import\n",
    "twitter_tag = Okt()"
   ]
  },
  {
   "cell_type": "code",
   "execution_count": 42,
   "metadata": {},
   "outputs": [],
   "source": [
    "import time\n",
    "import datetime\n",
    "start = time.time()"
   ]
  },
  {
   "cell_type": "code",
   "execution_count": 43,
   "metadata": {},
   "outputs": [
    {
     "name": "stdout",
     "output_type": "stream",
     "text": [
      "0:02:43\n"
     ]
    }
   ],
   "source": [
    "dataset = []\n",
    "for i in range(len(clean_title)):\n",
    "    dataset.append(twitter_tag.nouns(re.sub('[^가-힣a-zA-Z\\s]','',clean_title[i])))\n",
    "\n",
    "\n",
    "sec = time.time()-start\n",
    "times = str(datetime.timedelta(seconds=sec)).split(\".\")\n",
    "times=times[0]\n",
    "print(times)"
   ]
  },
  {
   "cell_type": "code",
   "execution_count": 44,
   "metadata": {},
   "outputs": [],
   "source": [
    "from gensim import corpora, models \n",
    "import gensim"
   ]
  },
  {
   "cell_type": "code",
   "execution_count": 45,
   "metadata": {},
   "outputs": [],
   "source": [
    "high_score_reviews = dataset"
   ]
  },
  {
   "cell_type": "code",
   "execution_count": 46,
   "metadata": {},
   "outputs": [],
   "source": [
    "high_score_reviews = [[y for y in x if not len(y)==1]\n",
    "                       for x in high_score_reviews]\n",
    "dictionary = corpora.Dictionary(high_score_reviews)\n",
    "corpus=[dictionary.doc2bow(text) for text in high_score_reviews]"
   ]
  },
  {
   "cell_type": "code",
   "execution_count": 47,
   "metadata": {},
   "outputs": [],
   "source": [
    "import matplotlib.pyplot as plt\n",
    "from gensim.models import CoherenceModel\n",
    "\n",
    "coherence_values=[]\n",
    "for i in range(2,15):\n",
    "    ldamodel = gensim.models.LdaModel(corpus,num_topics=i, id2word=dictionary)\n",
    "    coherence_model_lda = CoherenceModel(model=ldamodel, texts=high_score_reviews,dictionary=dictionary,topn=10)\n",
    "    coherence_lda = coherence_model_lda.get_coherence()\n",
    "    coherence_values.append(coherence_lda)\n"
   ]
  },
  {
   "cell_type": "code",
   "execution_count": 48,
   "metadata": {},
   "outputs": [
    {
     "data": {
      "image/png": "[encoded data removed]",
      "text/plain": [
       "<Figure size 432x288 with 1 Axes>"
      ]
     },
     "metadata": {
      "needs_background": "light"
     },
     "output_type": "display_data"
    }
   ],
   "source": [
    "x = range(2,15)\n",
    "plt.plot(x,coherence_values)\n",
    "plt.xlabel('number of topics')\n",
    "plt.ylabel('coherence score')\n",
    "plt.show()"
   ]
  },
  {
   "cell_type": "code",
   "execution_count": 49,
   "metadata": {},
   "outputs": [],
   "source": [
    "import matplotlib.pyplot as plt\n",
    "perplexity_values=[]\n",
    "for i in range(2,20):\n",
    "    ldamodel=gensim.models.ldamodel.LdaModel(corpus,num_topics=i, id2word=dictionary)\n",
    "    perplexity_values.append(ldamodel.log_perplexity(corpus))"
   ]
  },
  {
   "cell_type": "code",
   "execution_count": 50,
   "metadata": {},
   "outputs": [
    {
     "data": {
      "image/png": "[encoded data removed]",
      "text/plain": [
       "<Figure size 432x288 with 1 Axes>"
      ]
     },
     "metadata": {
      "needs_background": "light"
     },
     "output_type": "display_data"
    }
   ],
   "source": [
    "x=range(2,20)\n",
    "plt.plot(x,perplexity_values)\n",
    "plt.xlabel('number of topics')\n",
    "plt.ylabel('perplexity score')\n",
    "plt.show()"
   ]
  },
  {
   "cell_type": "code",
   "execution_count": 51,
   "metadata": {},
   "outputs": [],
   "source": [
    "ldamodel = gensim.models.ldamodel.LdaModel(corpus, num_topics=4,alpha=0.2,id2word = dictionary)"
   ]
  },
  {
   "cell_type": "code",
   "execution_count": 52,
   "metadata": {},
   "outputs": [
    {
     "data": {
      "text/plain": [
       "[(0,\n",
       "  '0.041*\"진짜\" + 0.031*\"스윙스\" + 0.019*\"돈까스\" + 0.018*\"무대\" + 0.016*\"지코\" + 0.012*\"레전드\" + 0.010*\"존나\" + 0.010*\"실눈\" + 0.009*\"노래\" + 0.008*\"우승\" + 0.008*\"지금\" + 0.007*\"역시\" + 0.007*\"바비\" + 0.007*\"순간\" + 0.006*\"계속\" + 0.006*\"소름\" + 0.005*\"간지\" + 0.005*\"소리\" + 0.005*\"분위기\" + 0.005*\"카메라\"'),\n",
       " (1,\n",
       "  '0.053*\"행주\" + 0.037*\"무대\" + 0.030*\"스윙스\" + 0.023*\"사람\" + 0.020*\"바비\" + 0.018*\"진짜\" + 0.012*\"레드\" + 0.008*\"비트\" + 0.008*\"년월\" + 0.007*\"생각\" + 0.007*\"노래\" + 0.006*\"보고\" + 0.006*\"실력\" + 0.006*\"처음\" + 0.006*\"가사\" + 0.005*\"표정\" + 0.005*\"존나\" + 0.005*\"레전드\" + 0.005*\"힙합\" + 0.004*\"연결고리\"'),\n",
       " (2,\n",
       "  '0.021*\"소름\" + 0.018*\"무대\" + 0.017*\"바비\" + 0.017*\"진짜\" + 0.012*\"시즌\" + 0.011*\"힙합\" + 0.007*\"다시\" + 0.007*\"사람\" + 0.007*\"음원\" + 0.007*\"라이브\" + 0.006*\"지금\" + 0.006*\"최고\" + 0.006*\"레전드\" + 0.006*\"댄서\" + 0.006*\"출석\" + 0.006*\"볼때\" + 0.006*\"왼쪽\" + 0.005*\"조명\" + 0.005*\"스윙스\" + 0.005*\"생각\"'),\n",
       " (3,\n",
       "  '0.017*\"무대\" + 0.010*\"진짜\" + 0.009*\"출첵\" + 0.009*\"쇼미더머니\" + 0.008*\"여기\" + 0.008*\"최고\" + 0.006*\"도끼\" + 0.006*\"힙합\" + 0.006*\"요즘\" + 0.006*\"레전드\" + 0.005*\"소름\" + 0.005*\"역대\" + 0.005*\"혼자\" + 0.005*\"댓글\" + 0.005*\"소리\" + 0.004*\"참가\" + 0.004*\"최면\" + 0.004*\"바비\" + 0.004*\"형주\" + 0.004*\"다시\"')]"
      ]
     },
     "execution_count": 52,
     "metadata": {},
     "output_type": "execute_result"
    }
   ],
   "source": [
    "ldamodel.print_topics(num_words=20)"
   ]
  },
  {
   "cell_type": "code",
   "execution_count": 53,
   "metadata": {},
   "outputs": [
    {
     "data": {
      "text/html": [
       "\n",
       "<link rel=\"stylesheet\" type=\"text/css\" href=\"https://cdn.rawgit.com/bmabey/pyLDAvis/files/ldavis.v1.0.0.css\">\n",
       "\n",
       "\n",
       "<div id=\"ldavis_el17820173505691194498634758\"></div>\n",
       "<script type=\"text/javascript\">\n",
       "\n",
       "var ldavis_el17820173505691194498634758_data = {\"mdsDat\": {\"x\": [-0.09219898056419787, -0.01855728081332889, -0.030035857019787678, 0.1407921183973144], \"y\": [0.07256608490832256, 0.009618228436073533, -0.10794432672903678, 0.02576001338464065], \"topics\": [1, 2, 3, 4], \"cluster\": [1, 1, 1, 1], \"Freq\": [31.680492401123047, 29.549753189086914, 23.946935653686523, 14.822819709777832]}, \"tinfo\": {\"Term\": [\"\\ud589\\uc8fc\", \"\\ub3c8\\uae4c\\uc2a4\", \"\\uc2a4\\uc719\\uc2a4\", \"\\uc9c0\\ucf54\", \"\\uc0ac\\ub78c\", \"\\uc2e4\\ub208\", \"\\uc9c4\\uc9dc\", \"\\ub808\\ub4dc\", \"\\uc18c\\ub984\", \"\\ucd9c\\uccb5\", \"\\ub144\\uc6d4\", \"\\ube44\\ud2b8\", \"\\ucd5c\\uace0\", \"\\uc74c\\uc6d0\", \"\\uc5ed\\uc2dc\", \"\\uc1fc\\ubbf8\\ub354\\uba38\\ub2c8\", \"\\uc21c\\uac04\", \"\\uc2dc\\uc98c\", \"\\uc67c\\ucabd\", \"\\ub3c4\\ub07c\", \"\\uc5ec\\uae30\", \"\\uc694\\uc998\", \"\\ub178\\ub798\", \"\\ub304\\uc11c\", \"\\ub77c\\uc774\\ube0c\", \"\\uc874\\ub098\", \"\\ubaa8\\uc790\", \"\\ub2e4\\uc2dc\", \"\\ucc38\\uac00\", \"\\uccb4\\ud06c\", \"\\ud589\\uc8fc\", \"\\ub144\\uc6d4\", \"\\uc218\\ud37c\", \"\\uc6d0\\uc7ac\", \"\\ube44\\ud2b8\", \"\\uad6c\\uc131\", \"\\ubd84\\ucd08\", \"\\uc65c\\ucf00\", \"\\uc624\\uc2dc\", \"\\uc124\\ub9c8\", \"\\ubc1c\\uc131\", \"\\ube60\\ub3cc\\uc774\", \"\\uacb0\\uc2b9\", \"\\uc544\\uc545\", \"\\ub4c0\\uc2f1\", \"\\uc77c\\uc624\", \"\\ud0c0\\uc774\\ubc0d\", \"\\uc5b8\\uae09\", \"\\uc640\\uc911\", \"\\ud6c4\\uc2dc\", \"\\uc774\\ub984\", \"\\ub9ac\\uc9c0\", \"\\ubbf8\\ub300\", \"\\uc545\\ub9c8\", \"\\uae08\\ub3c4\", \"\\uac74\\uac00\", \"\\uac10\\ud0c4\", \"\\uc815\\uc0c1\", \"\\uc308\\ub514\", \"\\uc9c0\\ub124\", \"\\ub9cc\\uc6d0\", \"\\uc138\\ubbf8\", \"\\ub808\\ub4dc\", \"\\uc2e0\\ubd84\", \"\\uc0ac\\ub78c\", \"\\uc5f0\\ucd9c\", \"\\uc2e4\\ub825\", \"\\ucc38\\uac00\\uc790\", \"\\ud3ec\\uc5d0\\ubc84\", \"\\ub808\\ub514\", \"\\ud0dc\\ud48d\", \"\\ubb34\\ub300\", \"\\uc2a4\\uc719\\uc2a4\", \"\\ubc14\\ube44\", \"\\uac00\\uc0ac\", \"\\uc0b4\\uc774\", \"\\ud53c\\uccd0\\ub9c1\", \"\\ubcf4\\uace0\", \"\\uad6d\\ud799\", \"\\ucc98\\uc74c\", \"\\ud45c\\uc815\", \"\\ub178\\ub798\", \"\\uc9c4\\uc9dc\", \"\\uc0dd\\uac01\", \"\\ud30c\\uc774\\ub110\", \"\\ud55c\\ubc88\", \"\\uc5f0\\uacb0\\uace0\\ub9ac\", \"\\uc874\\ub098\", \"\\ubd80\\ubd84\", \"\\ub808\\uc804\\ub4dc\", \"\\ud799\\ud569\", \"\\uc9c0\\uae08\", \"\\uc9c0\\ucf54\", \"\\uc2dc\\uc98c\", \"\\uc9dd\\uc9dd\", \"\\uc67c\\ucabd\", \"\\ud615\\ub2d8\", \"\\ubaa8\\uc790\", \"\\uc0b4\\uc9dd\", \"\\uac1c\\uac04\", \"\\uc790\\ub9c9\", \"\\ub355\\ubd84\", \"\\uc74c\\uc6d0\", \"\\uae09\\uc2dd\", \"\\uc5ec\\ub7ec\\ubd84\", \"\\uc790\\ub9ac\", \"\\ud0c0\\uace0\", \"\\uc5d0\\ubc14\", \"\\ube61\\ube61\\uc774\", \"\\uc778\\uae30\\ud22c\\ud45c\", \"\\uc624\\ube60\", \"\\ub7f0\\uac00\", \"\\uca50\\ub2e4\", \"\\uac70\\ubd81\\uc120\", \"\\uc608\\uc0c1\", \"\\uacb0\\uacfc\", \"\\uce59\\ucd09\", \"\\uac00\\uc6b0\", \"\\uc798\\ub9cc\", \"\\uac70\\ub098\", \"\\ub9cc\\uc57d\", \"\\uac8c\\uc824\", \"\\uc528\\ubc1c\", \"\\uadf8\\ub808\\uc774\\uc2a4\", \"\\ubc18\\uc751\", \"\\ub77c\\uc774\\ube0c\", \"\\uc18c\\ub984\", \"\\uc719\\uc2a4\", \"\\uc870\\uba85\", \"\\uc2dc\\uc98c\", \"\\uac1c\\uc778\", \"\\ubcfc\\ub54c\", \"\\ub54c\\ubb38\", \"\\ub2e4\\uc2dc\", \"\\ub304\\uc11c\", \"\\uc774\\uace1\", \"\\ubc14\\uc2a4\\ucf54\", \"\\ud799\\ud569\", \"\\uad00\\uac1d\", \"\\ud638\\uc751\", \"\\ucd9c\\uc11d\", \"\\ubc14\\ube44\", \"\\ucd5c\\uace0\", \"\\uc774\\uac74\", \"\\ubbf8\\uc5ed\", \"\\ubb34\\ub300\", \"\\uc9c4\\uc9dc\", \"\\ubc15\\uc7ac\\ubc94\", \"\\uc9c0\\uae08\", \"\\uc601\\uc0c1\", \"\\uc5f0\\uacb0\\uace0\\ub9ac\", \"\\ub808\\uc804\\ub4dc\", \"\\uc0ac\\ub78c\", \"\\ubcf4\\uace0\", \"\\uc0dd\\uac01\", \"\\ubd80\\ubd84\", \"\\uc6b0\\uc2b9\", \"\\uc2a4\\uc719\\uc2a4\", \"\\ub3c8\\uae4c\\uc2a4\", \"\\uc2e4\\ub208\", \"\\ubcf4\\uc774\", \"\\uae30\\ub3c5\\uad50\", \"\\ucc9c\\uc7ac\", \"\\ud3ec\\uc2a4\", \"\\uad6c\\ub3c4\", \"\\uc139\\uc2dc\", \"\\uc804\\uc758\", \"\\ub808\\uc54c\", \"\\uc77c\\uc774\", \"\\ub2ec\\ub77c\", \"\\uc2b9\\ub9ac\", \"\\uacfc\\ud559\", \"\\uccb4\\uc778\", \"\\uc5ed\\uc2dc\", \"\\ud751\\uc6b0\", \"\\ub808\\uac8c\", \"\\uc774\\ub178\", \"\\uc9c0\\ub9ac\", \"\\uc800\\uc2a4\\ub514\\uc2a4\", \"\\ube14\\ub799\", \"\\ubb3c\\uc5b4\", \"\\uba5c\\ub85c\\ub514\", \"\\ud558\\ub098\\ub2d8\", \"\\ud30c\\ud2b8\", \"\\uc190\\uac00\\ub77d\", \"\\uc740\\uc560\", \"\\uc804\\uc728\", \"\\uce58\\uc988\", \"\\uc2f8\\uc6c0\", \"\\uc21c\\uac04\", \"\\uc9c0\\ucf54\", \"\\ub204\\uac00\", \"\\ubd80\\uc815\", \"\\ub370\\uc774\\ub370\\uc774\", \"\\uce74\\uba54\\ub77c\", \"\\uccb4\\ud06c\", \"\\uc9c4\\uc9dc\", \"\\ub9c8\\uc9c0\\ub9c9\", \"\\uc874\\ub098\", \"\\uc2a4\\uc719\\uc2a4\", \"\\uac04\\uc9c0\", \"\\uacc4\\uc18d\", \"\\ub808\\uc804\\ub4dc\", \"\\ub178\\ub798\", \"\\ubb54\\uac00\", \"\\uc0ac\\uae30\", \"\\uc6b0\\uc2b9\", \"\\ubd84\\uc704\\uae30\", \"\\ub354\\ube14\", \"\\uc9c0\\uae08\", \"\\ubb34\\ub300\", \"\\uc18c\\ub9ac\", \"\\ub798\\ud37c\", \"\\ubd80\\ubd84\", \"\\ucd9c\\uc11d\", \"\\ubc14\\ube44\", \"\\ub808\\ub4dc\", \"\\uc0dd\\uac01\", \"\\uc18c\\ub984\", \"\\uc815\\ub3c4\", \"\\ucc38\\uac00\", \"\\uc378\\ub124\\uc77c\", \"\\uc544\\uce68\", \"\\ucd9c\\uccb5\", \"\\uc5d0\\uc774\", \"\\uc218\\ub3c4\", \"\\uc7a5\\uc131\\uaddc\", \"\\uc804\\uc774\", \"\\ub9c8\\uc774\\ud06c\\ub85c\", \"\\uac78\\uc74c\", \"\\uba58\\ud0c8\", \"\\uce58\\uacfc\\uc758\\uc0ac\", \"\\ub9c8\\uc624\", \"\\ub2e4\\ub2e4\\ub2e4\", \"\\uc5b8\\ud589\", \"\\uae30\\ud615\", \"\\uc740\\uadfc\", \"\\uc378\\ub12c\", \"\\uc5b4\\ub3c4\", \"\\uac00\\uc218\", \"\\uac70\\uc65c\", \"\\uc778\\ubb3c\", \"\\uc5c5\\uc801\", \"\\ub304\\uc2a4\", \"\\uc5ed\\uc0ac\\uc0c1\", \"\\uae30\\ub7c9\", \"\\ud48d\\uc120\", \"\\uc544\\uac00\", \"\\ub3c8\\uac00\\uc4f0\", \"\\uc694\\uc998\", \"\\ud615\\uc8fc\", \"\\ub3c4\\ub07c\", \"\\ub2ee\\uc74c\", \"\\ub3fc\\uc9c0\", \"\\ud63c\\uc790\", \"\\uc5b4\\ub514\", \"\\ubc8c\\uc368\", \"\\uc1fc\\ubbf8\\ub354\\uba38\\ub2c8\", \"\\uc5ec\\uae30\", \"\\ub3c8\\uac00\\uc2a4\", \"\\ucd5c\\uace0\", \"\\ub313\\uae00\", \"\\uc778\\uc0dd\", \"\\ucd5c\\uba74\", \"\\ucf54\\ub85c\\ub098\", \"\\ubb34\\ub300\", \"\\uc5ed\\ub300\", \"\\ud799\\ud569\", \"\\uc18c\\ub9ac\", \"\\uc9c4\\uc9dc\", \"\\ud53c\\ucc98\\ub9c1\", \"\\uc138\\uba74\", \"\\ub808\\uc804\\ub4dc\", \"\\uc18c\\ub984\", \"\\ub2e4\\uc2dc\", \"\\uc544\\uc774\\ub3cc\", \"\\uc0dd\\uac01\", \"\\ucd1b\\ubd88\", \"\\ubc14\\ube44\", \"\\uc6b0\\uc2b9\", \"\\uc9c0\\uae08\", \"\\ub798\\ud37c\", \"\\uad00\\uac1d\"], \"Freq\": [253.0, 70.0, 280.0, 76.0, 153.0, 36.0, 331.0, 76.0, 140.0, 23.0, 37.0, 41.0, 53.0, 32.0, 30.0, 42.0, 32.0, 75.0, 26.0, 21.0, 42.0, 18.0, 70.0, 43.0, 36.0, 71.0, 21.0, 54.0, 10.0, 25.0, 250.59979248046875, 36.90318298339844, 17.36056137084961, 16.784648895263672, 38.84027099609375, 9.334516525268555, 8.14394760131836, 8.069072723388672, 10.360990524291992, 6.6012187004089355, 7.98353910446167, 6.13536262512207, 20.765846252441406, 5.6622633934021, 10.555541038513184, 5.658871650695801, 5.600403308868408, 4.882996082305908, 4.867896556854248, 4.421884536743164, 8.364808082580566, 4.419397354125977, 4.4192047119140625, 4.418053150177002, 4.414281368255615, 4.387396335601807, 4.3821868896484375, 4.3797173500061035, 4.113058567047119, 4.360240459442139, 9.65600872039795, 20.890453338623047, 57.60744094848633, 7.4113945960998535, 111.69843292236328, 16.581222534179688, 28.29488182067871, 7.277466773986816, 6.137162685394287, 20.14742088317871, 9.395508766174316, 175.65243530273438, 141.82774353027344, 96.90520477294922, 26.45099639892578, 10.012343406677246, 15.719472885131836, 30.19474220275879, 13.038118362426758, 26.558481216430664, 25.75641632080078, 32.48222732543945, 85.22547912597656, 33.519290924072266, 16.14607048034668, 17.475112915039062, 21.426116943359375, 24.640424728393555, 19.576467514038086, 24.21070098876953, 21.53067970275879, 19.69031524658203, 17.251182556152344, 16.623079299926758, 14.227307319641113, 25.098905563354492, 11.596477508544922, 19.901784896850586, 8.389257431030273, 9.101483345031738, 7.573360919952393, 6.592759609222412, 30.004640579223633, 6.175276279449463, 5.9603376388549805, 7.373086929321289, 5.847114086151123, 5.818592548370361, 5.12051248550415, 4.890645503997803, 6.246055603027344, 4.854644775390625, 12.207205772399902, 5.676635265350342, 4.269054412841797, 4.268740177154541, 14.49805736541748, 4.253718376159668, 4.236318111419678, 5.254848957061768, 4.229859828948975, 4.221811294555664, 4.199862480163574, 4.038121223449707, 16.475780487060547, 29.080842971801758, 94.9027099609375, 13.013019561767578, 23.90851402282715, 51.177791595458984, 22.039777755737305, 25.133134841918945, 21.50235939025879, 32.68032455444336, 26.665380477905273, 17.530738830566406, 20.71407127380371, 46.74652099609375, 22.295982360839844, 13.276040077209473, 26.386362075805664, 77.07439422607422, 27.146997451782227, 23.10957908630371, 19.90111541748047, 80.57763671875, 74.95938110351562, 15.010139465332031, 27.42884635925293, 20.2729434967041, 19.925907135009766, 27.125272750854492, 30.97511863708496, 21.139245986938477, 23.116853713989258, 20.180509567260742, 20.87836265563965, 23.60137176513672, 69.883544921875, 35.533748626708984, 10.080574989318848, 7.765305519104004, 7.718250274658203, 6.49180793762207, 5.537238597869873, 5.386355400085449, 5.345503330230713, 4.353544235229492, 4.600921154022217, 5.247798442840576, 4.595460414886475, 4.205558776855469, 4.163636684417725, 25.908796310424805, 3.588008165359497, 3.464935064315796, 3.4612650871276855, 11.157663345336914, 3.0227863788604736, 3.022587537765503, 3.015994071960449, 3.014641284942627, 3.015805721282959, 5.435588836669922, 3.399216890335083, 2.9180569648742676, 7.465761661529541, 2.455195188522339, 4.761658191680908, 25.03850555419922, 57.284610748291016, 12.748950004577637, 9.587996482849121, 10.28683090209961, 18.350788116455078, 16.965118408203125, 149.4474334716797, 15.187874794006348, 36.898746490478516, 112.3369140625, 19.798568725585938, 21.336671829223633, 44.551151275634766, 31.899681091308594, 14.306578636169434, 8.934359550476074, 29.95026969909668, 18.645578384399414, 14.115941047668457, 28.288684844970703, 65.54931640625, 19.53239631652832, 16.780746459960938, 17.867324829101562, 15.207961082458496, 25.687824249267578, 17.913713455200195, 17.765783309936523, 19.84370231628418, 13.26513385772705, 9.90020751953125, 8.529603958129883, 6.483450412750244, 20.95327377319336, 5.520555019378662, 4.512753486633301, 3.9725332260131836, 3.532254219055176, 3.5311930179595947, 3.514009475708008, 3.503516912460327, 3.081667184829712, 3.076977252960205, 3.0727388858795166, 3.0496585369110107, 3.0414044857025146, 2.540846824645996, 2.54118013381958, 2.5413658618927, 4.899855613708496, 2.531667947769165, 2.5220625400543213, 2.5141007900238037, 2.509037494659424, 2.2952632904052734, 2.108358144760132, 2.09995436668396, 2.0997862815856934, 2.0949888229370117, 13.650537490844727, 8.76236629486084, 14.318359375, 3.532320499420166, 6.22783899307251, 10.37764835357666, 5.115971088409424, 4.0236639976501465, 19.361799240112305, 18.2455997467041, 5.934242248535156, 17.435054779052734, 10.296419143676758, 5.816000461578369, 9.630406379699707, 4.901717662811279, 36.96764373779297, 10.779372215270996, 14.089542388916016, 10.27316951751709, 21.90547752380371, 7.133337020874023, 5.8187456130981445, 12.34522819519043, 12.248183250427246, 8.643217086791992, 7.377792835235596, 8.524826049804688, 5.9026312828063965, 9.050796508789062, 7.592995643615723, 7.595436096191406, 6.626760005950928, 6.281912326812744], \"Total\": [253.0, 70.0, 280.0, 76.0, 153.0, 36.0, 331.0, 76.0, 140.0, 23.0, 37.0, 41.0, 53.0, 32.0, 30.0, 42.0, 32.0, 75.0, 26.0, 21.0, 42.0, 18.0, 70.0, 43.0, 36.0, 71.0, 21.0, 54.0, 10.0, 25.0, 253.21250915527344, 37.67618179321289, 18.026264190673828, 17.53761100769043, 41.46117401123047, 10.078071594238281, 8.814281463623047, 8.80001449584961, 11.338314056396484, 7.264649391174316, 8.794937133789062, 6.79496955871582, 23.097301483154297, 6.322447299957275, 11.786382675170898, 6.322124481201172, 6.326847553253174, 5.546328544616699, 5.544473648071289, 5.075505256652832, 9.602252006530762, 5.075235843658447, 5.0764970779418945, 5.076478958129883, 5.073843002319336, 5.077398777008057, 5.072851657867432, 5.070354461669922, 4.769401550292969, 5.0769476890563965, 11.331775665283203, 25.779260635375977, 76.25342559814453, 8.813544273376465, 153.6629638671875, 20.595256805419922, 37.092342376708984, 8.696638107299805, 7.244463920593262, 26.92568016052246, 11.818764686584473, 358.7470397949219, 280.0024108886719, 208.7182159423828, 43.23231887817383, 12.947892189025879, 23.528352737426758, 56.921592712402344, 18.820476531982422, 50.229148864746094, 49.33952713012695, 70.92011260986328, 331.53778076171875, 82.9267578125, 27.09202003479004, 30.960987091064453, 44.84999465942383, 71.93138122558594, 59.03627014160156, 108.23236083984375, 94.05673217773438, 83.00328826904297, 76.62805938720703, 75.45939636230469, 14.81224536895752, 26.356103897094727, 12.211912155151367, 21.044260025024414, 9.043087005615234, 9.840792655944824, 8.200321197509766, 7.177848815917969, 32.717811584472656, 6.762790679931641, 6.542635917663574, 8.119927406311035, 6.502458095550537, 6.486617088317871, 5.711508750915527, 5.4892449378967285, 7.037682056427002, 5.474076271057129, 13.814245223999023, 6.437330722808838, 4.8581719398498535, 4.857912540435791, 16.515960693359375, 4.853453636169434, 4.847266674041748, 6.012691020965576, 4.845768928527832, 4.842414855957031, 4.836256504058838, 4.651581764221191, 19.014835357666016, 36.0347785949707, 140.11843872070312, 16.274559020996094, 32.427955627441406, 75.45939636230469, 29.873443603515625, 36.61808395385742, 31.045190811157227, 54.37181854248047, 43.553977966308594, 26.103609085083008, 32.56658172607422, 94.05673217773438, 37.413063049316406, 19.161367416381836, 48.37660217285156, 208.7182159423828, 53.49002456665039, 42.530513763427734, 34.35416030883789, 358.7470397949219, 331.53778076171875, 24.35769271850586, 83.00328826904297, 45.289031982421875, 44.84999465942383, 108.23236083984375, 153.6629638671875, 56.921592712402344, 82.9267578125, 59.03627014160156, 74.71153259277344, 280.0024108886719, 70.74147033691406, 36.25550842285156, 10.816253662109375, 8.445840835571289, 8.44902515411377, 7.252866744995117, 6.239882946014404, 6.070311069488525, 6.063329696655273, 5.035143852233887, 5.324509143829346, 6.077531337738037, 5.322928428649902, 4.878499984741211, 4.874395847320557, 30.532487869262695, 4.268798828125, 4.138118267059326, 4.138002872467041, 13.602038383483887, 3.689354181289673, 3.6892545223236084, 3.688748359680176, 3.687509775161743, 3.689399480819702, 6.650811672210693, 4.168413162231445, 3.676424264907837, 9.429367065429688, 3.1311821937561035, 6.0852952003479, 32.778385162353516, 76.62805938720703, 17.234149932861328, 12.911174774169922, 14.111519813537598, 27.444011688232422, 25.67127227783203, 331.53778076171875, 23.704511642456055, 71.93138122558594, 280.0024108886719, 35.56098175048828, 40.897682189941406, 108.23236083984375, 70.92011260986328, 24.802936553955078, 13.310463905334473, 74.71153259277344, 38.46827697753906, 26.92534065246582, 83.00328826904297, 358.7470397949219, 54.43083190917969, 50.69319534301758, 59.03627014160156, 48.37660217285156, 208.7182159423828, 76.25342559814453, 82.9267578125, 140.11843872070312, 37.98379135131836, 10.628668785095215, 9.244372367858887, 7.255469799041748, 23.5025634765625, 6.246109962463379, 5.248223304748535, 4.716091632843018, 4.2429609298706055, 4.242555618286133, 4.247448921203613, 4.2521257400512695, 3.781486988067627, 3.779179096221924, 3.7771010398864746, 3.765897512435913, 3.762221574783325, 3.240767002105713, 3.241400718688965, 3.2422802448272705, 6.264342308044434, 3.243713855743408, 3.2453479766845703, 3.251678943634033, 3.261636257171631, 2.995232582092285, 2.8075101375579834, 2.8033180236816406, 2.8032732009887695, 2.800931692123413, 18.276216506958008, 12.295439720153809, 21.13372039794922, 4.879011154174805, 9.268302917480469, 16.41114616394043, 7.695008754730225, 5.788141250610352, 42.3056526184082, 42.23899841308594, 10.124791145324707, 53.49002456665039, 24.792335510253906, 10.814010620117188, 27.508563995361328, 8.575305938720703, 358.7470397949219, 40.06635284423828, 94.05673217773438, 54.43083190917969, 331.53778076171875, 24.59428596496582, 15.124396324157715, 108.23236083984375, 140.11843872070312, 54.37181854248047, 36.73619842529297, 82.9267578125, 16.892515182495117, 208.7182159423828, 74.71153259277344, 83.00328826904297, 50.69319534301758, 37.413063049316406], \"Category\": [\"Default\", \"Default\", \"Default\", \"Default\", \"Default\", \"Default\", \"Default\", \"Default\", \"Default\", \"Default\", \"Default\", \"Default\", \"Default\", \"Default\", \"Default\", \"Default\", \"Default\", \"Default\", \"Default\", \"Default\", \"Default\", \"Default\", \"Default\", \"Default\", \"Default\", \"Default\", \"Default\", \"Default\", \"Default\", \"Default\", \"Topic1\", \"Topic1\", \"Topic1\", \"Topic1\", \"Topic1\", \"Topic1\", \"Topic1\", \"Topic1\", \"Topic1\", \"Topic1\", \"Topic1\", \"Topic1\", \"Topic1\", \"Topic1\", \"Topic1\", \"Topic1\", \"Topic1\", \"Topic1\", \"Topic1\", \"Topic1\", \"Topic1\", \"Topic1\", \"Topic1\", \"Topic1\", \"Topic1\", \"Topic1\", \"Topic1\", \"Topic1\", \"Topic1\", \"Topic1\", \"Topic1\", \"Topic1\", \"Topic1\", \"Topic1\", \"Topic1\", \"Topic1\", \"Topic1\", \"Topic1\", \"Topic1\", \"Topic1\", \"Topic1\", \"Topic1\", \"Topic1\", \"Topic1\", \"Topic1\", \"Topic1\", \"Topic1\", \"Topic1\", \"Topic1\", \"Topic1\", \"Topic1\", \"Topic1\", \"Topic1\", \"Topic1\", \"Topic1\", \"Topic1\", \"Topic1\", \"Topic1\", \"Topic1\", \"Topic1\", \"Topic1\", \"Topic1\", \"Topic1\", \"Topic1\", \"Topic2\", \"Topic2\", \"Topic2\", \"Topic2\", \"Topic2\", \"Topic2\", \"Topic2\", \"Topic2\", \"Topic2\", \"Topic2\", \"Topic2\", \"Topic2\", \"Topic2\", \"Topic2\", \"Topic2\", \"Topic2\", \"Topic2\", \"Topic2\", \"Topic2\", \"Topic2\", \"Topic2\", \"Topic2\", \"Topic2\", \"Topic2\", \"Topic2\", \"Topic2\", \"Topic2\", \"Topic2\", \"Topic2\", \"Topic2\", \"Topic2\", \"Topic2\", \"Topic2\", \"Topic2\", \"Topic2\", \"Topic2\", \"Topic2\", \"Topic2\", \"Topic2\", \"Topic2\", \"Topic2\", \"Topic2\", \"Topic2\", \"Topic2\", \"Topic2\", \"Topic2\", \"Topic2\", \"Topic2\", \"Topic2\", \"Topic2\", \"Topic2\", \"Topic2\", \"Topic2\", \"Topic2\", \"Topic2\", \"Topic2\", \"Topic2\", \"Topic2\", \"Topic2\", \"Topic2\", \"Topic2\", \"Topic2\", \"Topic2\", \"Topic2\", \"Topic3\", \"Topic3\", \"Topic3\", \"Topic3\", \"Topic3\", \"Topic3\", \"Topic3\", \"Topic3\", \"Topic3\", \"Topic3\", \"Topic3\", \"Topic3\", \"Topic3\", \"Topic3\", \"Topic3\", \"Topic3\", \"Topic3\", \"Topic3\", \"Topic3\", \"Topic3\", \"Topic3\", \"Topic3\", \"Topic3\", \"Topic3\", \"Topic3\", \"Topic3\", \"Topic3\", \"Topic3\", \"Topic3\", \"Topic3\", \"Topic3\", \"Topic3\", \"Topic3\", \"Topic3\", \"Topic3\", \"Topic3\", \"Topic3\", \"Topic3\", \"Topic3\", \"Topic3\", \"Topic3\", \"Topic3\", \"Topic3\", \"Topic3\", \"Topic3\", \"Topic3\", \"Topic3\", \"Topic3\", \"Topic3\", \"Topic3\", \"Topic3\", \"Topic3\", \"Topic3\", \"Topic3\", \"Topic3\", \"Topic3\", \"Topic3\", \"Topic3\", \"Topic3\", \"Topic3\", \"Topic3\", \"Topic3\", \"Topic4\", \"Topic4\", \"Topic4\", \"Topic4\", \"Topic4\", \"Topic4\", \"Topic4\", \"Topic4\", \"Topic4\", \"Topic4\", \"Topic4\", \"Topic4\", \"Topic4\", \"Topic4\", \"Topic4\", \"Topic4\", \"Topic4\", \"Topic4\", \"Topic4\", \"Topic4\", \"Topic4\", \"Topic4\", \"Topic4\", \"Topic4\", \"Topic4\", \"Topic4\", \"Topic4\", \"Topic4\", \"Topic4\", \"Topic4\", \"Topic4\", \"Topic4\", \"Topic4\", \"Topic4\", \"Topic4\", \"Topic4\", \"Topic4\", \"Topic4\", \"Topic4\", \"Topic4\", \"Topic4\", \"Topic4\", \"Topic4\", \"Topic4\", \"Topic4\", \"Topic4\", \"Topic4\", \"Topic4\", \"Topic4\", \"Topic4\", \"Topic4\", \"Topic4\", \"Topic4\", \"Topic4\", \"Topic4\", \"Topic4\", \"Topic4\", \"Topic4\", \"Topic4\", \"Topic4\", \"Topic4\", \"Topic4\", \"Topic4\"], \"logprob\": [30.0, 29.0, 28.0, 27.0, 26.0, 25.0, 24.0, 23.0, 22.0, 21.0, 20.0, 19.0, 18.0, 17.0, 16.0, 15.0, 14.0, 13.0, 12.0, 11.0, 10.0, 9.0, 8.0, 7.0, 6.0, 5.0, 4.0, 3.0, 2.0, 1.0, -2.9463000297546387, -4.861800193786621, -5.615900039672852, -5.649700164794922, -4.810699939727783, -6.236400127410889, -6.372900009155273, -6.3821001052856445, -6.1321001052856445, -6.582900047302246, -6.3927001953125, -6.656099796295166, -5.436800003051758, -6.736299991607666, -6.113500118255615, -6.7368998527526855, -6.747300148010254, -6.884399890899658, -6.887499809265137, -6.98360013961792, -6.346099853515625, -6.984099864959717, -6.9842000007629395, -6.984399795532227, -6.985300064086914, -6.991399765014648, -6.992599964141846, -6.993100166320801, -7.056000232696533, -6.997600078582764, -6.202499866485596, -5.430799961090088, -4.416500091552734, -6.467100143432617, -3.754300117492676, -5.661900043487549, -5.127399921417236, -6.485300064086914, -6.655799865722656, -5.467100143432617, -6.229899883270264, -3.3015999794006348, -3.515500068664551, -3.896399974822998, -5.194799900054932, -6.166299819946289, -5.715199947357178, -5.0625, -5.902299880981445, -5.190800189971924, -5.221399784088135, -4.9893999099731445, -4.024799823760986, -4.958000183105469, -5.688499927520752, -5.609399795532227, -5.4054999351501465, -5.265699863433838, -5.495800018310547, -5.283299922943115, -5.400599956512451, -5.489999771118164, -5.622200012207031, -5.659299850463867, -5.745299816131592, -5.177700042724609, -5.94980001449585, -5.4096999168396, -6.273600101470947, -6.1921000480651855, -6.375899791717529, -6.514500141143799, -4.999199867248535, -6.579999923706055, -6.6153998374938965, -6.402699947357178, -6.6346001625061035, -6.639400005340576, -6.767199993133545, -6.813199996948242, -6.568600177764893, -6.8206000328063965, -5.898499965667725, -6.664100170135498, -6.949100017547607, -6.94920015335083, -5.726500034332275, -6.952700138092041, -6.9567999839782715, -6.741399765014648, -6.9583001136779785, -6.96019983291626, -6.9654998779296875, -7.004700183868408, -5.598599910736084, -5.030399799346924, -3.8477001190185547, -5.83459997177124, -5.22629976272583, -4.465199947357178, -5.307700157165527, -5.176300048828125, -5.332300186157227, -4.913700103759766, -5.117099761962891, -5.536499977111816, -5.369699954986572, -4.555799961090088, -5.29610013961792, -5.814499855041504, -5.127699851989746, -4.055699825286865, -5.0991997718811035, -5.260300159454346, -5.4096999168396, -4.011300086975098, -4.083600044250488, -5.691800117492676, -5.088900089263916, -5.391200065612793, -5.4085001945495605, -5.099999904632568, -4.967299938201904, -5.349400043487549, -5.259900093078613, -5.3958001136779785, -5.361800193786621, -5.239200115203857, -3.9433999061584473, -4.619800090789795, -5.879700183868408, -6.140600204467773, -6.146699905395508, -6.319699764251709, -6.478799819946289, -6.506400108337402, -6.513999938964844, -6.719299793243408, -6.664000034332275, -6.53249979019165, -6.665200233459473, -6.753900051116943, -6.763899803161621, -4.935699939727783, -6.912700176239014, -6.9475998878479, -6.948599815368652, -5.77810001373291, -7.084099769592285, -7.084199905395508, -7.086299896240234, -7.0868000984191895, -7.086400032043457, -6.497300148010254, -6.966700077056885, -7.1194000244140625, -6.179900169372559, -7.292099952697754, -6.629700183868408, -4.969900131225586, -4.142199993133545, -5.644800186157227, -5.929800033569336, -5.859399795532227, -5.280600070953369, -5.359099864959717, -3.183300018310547, -5.469799995422363, -4.582099914550781, -3.4688000679016113, -5.204699993133545, -5.129799842834473, -4.393599987030029, -4.727700233459473, -5.5295000076293945, -6.000400066375732, -4.7906999588012695, -5.264699935913086, -5.543000221252441, -4.847799777984619, -4.007500171661377, -5.218200206756592, -5.369999885559082, -5.307300090789795, -5.468400001525879, -4.944300174713135, -5.304699897766113, -5.313000202178955, -5.202400207519531, -5.605100154876709, -5.418000221252441, -5.5671000480651855, -5.841300010681152, -4.668300151824951, -6.002099990844727, -6.203700065612793, -6.331200122833252, -6.448699951171875, -6.448999881744385, -6.453800201416016, -6.4567999839782715, -6.585100173950195, -6.586599826812744, -6.5879998207092285, -6.595600128173828, -6.598299980163574, -6.77810001373291, -6.7779998779296875, -6.777900218963623, -6.121399879455566, -6.781700134277344, -6.7855000495910645, -6.788700103759766, -6.7906999588012695, -6.879700183868408, -6.964700222015381, -6.968699932098389, -6.968800067901611, -6.9710001945495605, -5.096799850463867, -5.54010009765625, -5.049099922180176, -6.448599815368652, -5.8815999031066895, -5.3709001541137695, -6.078199863433838, -6.318399906158447, -4.747300148010254, -4.806700229644775, -5.929900169372559, -4.852099895477295, -5.378799915313721, -5.949999809265137, -5.445700168609619, -6.120999813079834, -4.100599765777588, -5.333000183105469, -5.065199851989746, -5.381100177764893, -4.623899936676025, -5.745800018310547, -5.94950008392334, -5.197299957275391, -5.2052001953125, -5.553800106048584, -5.712100028991699, -5.567599773406982, -5.935200214385986, -5.507699966430664, -5.6834001541137695, -5.683000087738037, -5.819499969482422, -5.872900009155273], \"loglift\": [30.0, 29.0, 28.0, 27.0, 26.0, 25.0, 24.0, 23.0, 22.0, 21.0, 20.0, 19.0, 18.0, 17.0, 16.0, 15.0, 14.0, 13.0, 12.0, 11.0, 10.0, 9.0, 8.0, 7.0, 6.0, 5.0, 4.0, 3.0, 2.0, 1.0, 1.1390999555587769, 1.1287000179290771, 1.111799955368042, 1.1055999994277954, 1.0842000246047974, 1.0728000402450562, 1.0703999996185303, 1.0628000497817993, 1.0592999458312988, 1.0536999702453613, 1.0527000427246094, 1.0473999977111816, 1.0430999994277954, 1.039199948310852, 1.039199948310852, 1.038599967956543, 1.027500033378601, 1.0220999717712402, 1.0192999839782715, 1.0116000175476074, 1.0115000009536743, 1.0111000537872314, 1.0108000040054321, 1.010599970817566, 1.010200023651123, 1.0033999681472778, 1.003100037574768, 1.003000020980835, 1.0013999938964844, 0.9973000288009644, 0.9894000291824341, 0.9391999840736389, 0.8690999746322632, 0.9761999845504761, 0.8305000066757202, 0.932699978351593, 0.8787000179290771, 0.9713000059127808, 0.9836000204086304, 0.859499990940094, 0.9200000166893005, 0.43540000915527344, 0.4693000018596649, 0.3822000026702881, 0.6582000255584717, 0.8924000263214111, 0.7462000250816345, 0.515500009059906, 0.7824000120162964, 0.5121999979019165, 0.49939998984336853, 0.3686000108718872, -0.20900000631809235, 0.243599995970726, 0.6319000124931335, 0.5774999856948853, 0.4108000099658966, 0.07810000330209732, 0.04560000076889992, -0.3479999899864197, -0.32499998807907104, -0.28929999470710754, -0.3416000008583069, -0.36329999566078186, 1.1787999868392944, 1.170199990272522, 1.1674000024795532, 1.1633000373840332, 1.1440000534057617, 1.1410000324249268, 1.1396000385284424, 1.1340999603271484, 1.1325000524520874, 1.1282000541687012, 1.1259000301361084, 1.1225999593734741, 1.1129000186920166, 1.1103999614715576, 1.1098999977111816, 1.103600025177002, 1.0997999906539917, 1.0989999771118164, 1.0953999757766724, 1.0932999849319458, 1.0898000001907349, 1.0898000001907349, 1.0887999534606934, 1.0872000455856323, 1.0844000577926636, 1.0844000577926636, 1.0831999778747559, 1.0819000005722046, 1.0779999494552612, 1.0777000188827515, 1.0757999420166016, 1.004699945449829, 0.8295000195503235, 0.9954000115394592, 0.9143000245094299, 0.8307999968528748, 0.9150000214576721, 0.8427000045776367, 0.8518000245094299, 0.7099999785423279, 0.7285000085830688, 0.8209999799728394, 0.7666000127792358, 0.5199000239372253, 0.7014999985694885, 0.8521999716758728, 0.6129000186920166, 0.22290000319480896, 0.5408999919891357, 0.6090999841690063, 0.6730999946594238, -0.2743000090122223, -0.2676999866962433, 0.7350000143051147, 0.11180000007152557, 0.41530001163482666, 0.40779998898506165, -0.1647000014781952, -0.3824999928474426, 0.22859999537467957, -0.05829999968409538, 0.14569999277591705, -0.055799998342990875, -1.2544000148773193, 1.417099952697754, 1.4091999530792236, 1.3588999509811401, 1.3452999591827393, 1.3388999700546265, 1.31850004196167, 1.3099000453948975, 1.3098000288009644, 1.3033000230789185, 1.2839000225067139, 1.2833000421524048, 1.2825000286102295, 1.2824000120162964, 1.280900001525879, 1.2717000246047974, 1.2651000022888184, 1.2555999755859375, 1.2517999410629272, 1.2508000135421753, 1.2311999797821045, 1.2301000356674194, 1.2300000190734863, 1.2280000448226929, 1.2279000282287598, 1.2276999950408936, 1.2275999784469604, 1.2252999544143677, 1.1983000040054321, 1.1957999467849731, 1.1861000061035156, 1.1841000318527222, 1.159999966621399, 1.1383999586105347, 1.1279000043869019, 1.131700038909912, 1.1131999492645264, 1.026900053024292, 1.0151000022888184, 0.6324999928474426, 0.9842000007629395, 0.7617999911308289, 0.515999972820282, 0.8436999917030334, 0.7786999940872192, 0.541700005531311, 0.6304000020027161, 0.8791000247001648, 1.0306999683380127, 0.5152000188827515, 0.7050999999046326, 0.7835999727249146, 0.3528999984264374, -0.2705000042915344, 0.40450000762939453, 0.3237999975681305, 0.23420000076293945, 0.2721000015735626, -0.6656000018119812, -0.019200000911951065, -0.11140000075101852, -0.5253000259399414, 0.3772999942302704, 1.8380000591278076, 1.8285000324249268, 1.7964999675750732, 1.7941999435424805, 1.7855000495910645, 1.7580000162124634, 1.7374000549316406, 1.7257000207901, 1.7254999876022339, 1.7194000482559204, 1.715399980545044, 1.7043999433517456, 1.7034000158309937, 1.7026000022888184, 1.6979999542236328, 1.6963000297546387, 1.6656999588012695, 1.6655999422073364, 1.6654000282287598, 1.6633000373840332, 1.6612000465393066, 1.6569000482559204, 1.6517000198364258, 1.6467000246047974, 1.642799973487854, 1.6225999593734741, 1.6201000213623047, 1.6201000213623047, 1.6186000108718872, 1.6172000169754028, 1.570199966430664, 1.519700050354004, 1.5859999656677246, 1.5113999843597412, 1.450700044631958, 1.5008000135421753, 1.5454000234603882, 1.1274000406265259, 1.069599986076355, 1.3747999668121338, 0.7879999876022339, 1.0303000211715698, 1.2888000011444092, 0.8593999743461609, 1.3496999740600586, -0.3635999858379364, 0.5960999727249146, 0.010499999858438969, 0.24160000681877136, -0.8080000281333923, 0.6712999939918518, 0.9538000226020813, -0.2619999945163727, -0.5281000137329102, 0.06989999860525131, 0.3037000000476837, -0.3659999966621399, 0.8575000166893005, -1.229099988937378, -0.3774000108242035, -0.4823000133037567, -0.1256999969482422, 0.12470000237226486]}, \"token.table\": {\"Topic\": [1, 2, 3, 4, 2, 4, 2, 1, 2, 3, 1, 2, 1, 2, 3, 4, 2, 2, 4, 1, 4, 2, 2, 1, 2, 4, 1, 2, 3, 4, 3, 1, 2, 3, 4, 3, 1, 1, 2, 3, 4, 2, 1, 2, 3, 4, 4, 1, 1, 2, 3, 4, 1, 3, 4, 1, 2, 3, 4, 3, 2, 4, 1, 2, 4, 1, 2, 3, 4, 1, 2, 3, 4, 2, 1, 3, 1, 2, 3, 4, 1, 3, 4, 4, 3, 1, 2, 4, 1, 2, 1, 2, 3, 4, 2, 3, 4, 1, 2, 3, 4, 2, 3, 1, 3, 1, 2, 4, 3, 1, 2, 3, 4, 1, 4, 4, 1, 2, 3, 4, 2, 1, 4, 4, 3, 2, 3, 1, 2, 3, 4, 3, 1, 3, 1, 1, 2, 3, 4, 1, 2, 3, 4, 1, 2, 3, 4, 1, 2, 3, 4, 2, 3, 1, 3, 4, 1, 2, 3, 4, 3, 1, 2, 3, 4, 1, 2, 3, 4, 1, 2, 3, 1, 2, 3, 4, 1, 3, 1, 2, 3, 4, 1, 2, 1, 2, 3, 4, 1, 2, 3, 4, 1, 4, 2, 1, 2, 3, 4, 1, 1, 2, 3, 4, 1, 3, 3, 1, 2, 3, 4, 1, 2, 3, 4, 3, 1, 2, 3, 4, 4, 1, 2, 3, 1, 2, 3, 4, 3, 1, 2, 3, 4, 1, 3, 3, 1, 2, 3, 4, 1, 3, 1, 4, 4, 2, 4, 1, 1, 2, 3, 4, 4, 1, 4, 2, 4, 1, 4, 4, 2, 4, 1, 2, 3, 4, 2, 1, 2, 3, 4, 4, 1, 2, 3, 1, 2, 3, 1, 2, 1, 2, 3, 4, 2, 2, 1, 1, 1, 2, 3, 1, 2, 3, 4, 1, 2, 3, 4, 1, 1, 2, 3, 4, 3, 1, 2, 3, 1, 2, 3, 4, 1, 2, 3, 3, 1, 2, 2, 4, 3, 4, 1, 3, 2, 2, 2, 4, 3, 2, 3, 3, 4, 1, 2, 3, 4, 1, 1, 2, 3, 4, 1, 2, 3, 4, 1, 2, 3, 4, 1, 1, 2, 3, 1, 2, 3, 4, 1, 2, 3, 4, 2, 1, 2, 4, 4, 1, 2, 1, 2, 3, 4, 3, 3, 2, 3, 1, 2, 3, 4, 1, 2, 3, 4, 1, 2, 3, 4, 1, 2, 3, 1, 4, 4, 3, 1, 2, 3, 1, 2, 3, 4, 2, 4, 2, 1, 1, 2, 3, 1, 2, 3, 4, 2, 3, 3, 1, 3, 1, 2, 3, 4, 4, 1, 2, 3, 4, 1, 2, 3, 4, 3, 1, 2, 3, 4, 1, 2, 3, 4, 2, 1, 2, 4, 1, 2, 3, 4, 1, 2, 3, 4, 1, 3, 1, 2, 3, 4], \"Freq\": [0.6014019250869751, 0.2081775963306427, 0.16191589832305908, 0.02313084341585636, 0.15963368117809296, 0.7981683611869812, 0.8241553902626038, 0.08436212688684464, 0.33744850754737854, 0.5624141693115234, 0.7885111570358276, 0.9145604968070984, 0.13389818370342255, 0.7364400625228882, 0.10042364150285721, 0.03347454592585564, 0.8315744400024414, 0.9320633411407471, 0.9248657822608948, 0.7878049612045288, 0.9417417645454407, 0.8260341286659241, 0.8233989477157593, 0.9091970920562744, 0.04329510033130646, 0.04329510033130646, 0.17115885019302368, 0.26896390318870544, 0.513476550579071, 0.04890252649784088, 0.8199241757392883, 0.160371795296669, 0.5880299210548401, 0.0801858976483345, 0.160371795296669, 0.9615564942359924, 0.8930279612541199, 0.6907370090484619, 0.1594008505344391, 0.05313361808657646, 0.10626723617315292, 0.8599225282669067, 0.7883570790290833, 0.8872076869010925, 0.9472118020057678, 0.7123749852180481, 0.7974011898040771, 0.9820528030395508, 0.45121192932128906, 0.04230111837387085, 0.45121192932128906, 0.05640149116516113, 0.2320973128080368, 0.7543162703514099, 0.7942599058151245, 0.01839188113808632, 0.6069320440292358, 0.22070257365703583, 0.16552692651748657, 0.8227024674415588, 0.20495957136154175, 0.819838285446167, 0.3903202712535858, 0.6199204325675964, 0.9197837710380554, 0.20167523622512817, 0.12100514024496078, 0.24201028048992157, 0.40335047245025635, 0.2971178889274597, 0.14855894446372986, 0.5199562907218933, 0.037139736115932465, 0.9752225279808044, 0.21259227395057678, 0.7086408734321594, 0.2365887314081192, 0.0473177470266819, 0.0473177470266819, 0.6624484062194824, 0.2963024079799652, 0.0987674668431282, 0.5926048159599304, 0.7140480875968933, 0.9895185828208923, 0.10789461433887482, 0.21578922867774963, 0.6473677158355713, 0.9332804083824158, 0.08484367281198502, 0.1610555350780487, 0.7086443901062012, 0.12884443998336792, 0.03221110999584198, 0.8047780990600586, 0.13875484466552734, 0.02775096893310547, 0.27617117762565613, 0.25644466280937195, 0.33535072207450867, 0.13808558881282806, 0.9133961200714111, 0.7249671816825867, 0.7606215476989746, 0.23605497181415558, 0.7427853345870972, 0.1856963336467743, 0.03713926672935486, 0.7944162487983704, 0.22174513339996338, 0.2494632750749588, 0.41577214002609253, 0.11087256669998169, 0.7881407141685486, 0.7938231825828552, 0.9428279399871826, 0.04218606278300285, 0.0843721255660057, 0.6327909231185913, 0.2531163692474365, 0.8254624009132385, 0.8824742436408997, 0.08824742585420609, 0.9407059550285339, 0.8135571479797363, 0.9503779411315918, 0.04751889407634735, 0.49059638381004333, 0.22578583657741547, 0.18397364020347595, 0.10313674062490463, 0.8132839798927307, 0.40317806601524353, 0.5644493103027344, 0.7879449129104614, 0.26197701692581177, 0.5821711421012878, 0.029108555987477303, 0.11643422394990921, 0.46474140882492065, 0.36891844868659973, 0.1245698630809784, 0.04312033951282501, 0.27635690569877625, 0.6448327898979187, 0.06141264736652374, 0.03070632368326187, 0.08210958540439606, 0.615821897983551, 0.12316437810659409, 0.16421917080879211, 0.8414482474327087, 0.10518103092908859, 0.9096142053604126, 0.1727670282125473, 0.6910681128501892, 0.5270407795906067, 0.36892855167388916, 0.08784012496471405, 0.01756802573800087, 0.9245345592498779, 0.24578019976615906, 0.682722806930542, 0.05461782217025757, 0.027308911085128784, 0.33877480030059814, 0.33877480030059814, 0.3048973083496094, 0.016938740387558937, 0.1549045741558075, 0.07745228707790375, 0.7745228409767151, 0.10398178547620773, 0.23395900428295135, 0.493913471698761, 0.1559726744890213, 0.9076179265975952, 0.8131723999977112, 0.940639078617096, 0.024118950590491295, 0.024118950590491295, 0.024118950590491295, 0.8830061554908752, 0.8754254579544067, 0.2253865897655487, 0.07512886077165604, 0.6761597394943237, 0.07512886077165604, 0.7288678884506226, 0.20174022018909454, 0.06507749110460281, 0.006507749203592539, 0.7723264694213867, 0.15446530282497406, 0.8846536874771118, 0.41000035405158997, 0.2773531675338745, 0.21705901622772217, 0.10852950811386108, 0.963570237159729, 0.06611834466457367, 0.13223668932914734, 0.39671003818511963, 0.39671003818511963, 0.8146083354949951, 0.1551634818315506, 0.8236809968948364, 0.09277865290641785, 0.6779978275299072, 0.14273639023303986, 0.08564183115959167, 0.25720715522766113, 0.20209135115146637, 0.36743882298469543, 0.18371941149234772, 0.7196983098983765, 0.3072875440120697, 0.16546252369880676, 0.047275006771087646, 0.44911256432533264, 0.9527033567428589, 0.9430683851242065, 0.21355536580085754, 0.7626977562904358, 0.5071384906768799, 0.08571355044841766, 0.3999965488910675, 0.007142795715481043, 0.9393325448036194, 0.22528672218322754, 0.6758601665496826, 0.09276512265205383, 0.013252160511910915, 0.7942321300506592, 0.11346173286437988, 0.9929525852203369, 0.7548727989196777, 0.1617584526538849, 0.026959743350744247, 0.053919486701488495, 0.16433057188987732, 0.8216528296470642, 0.8386796712875366, 0.9735652804374695, 0.9255257844924927, 0.8270859718322754, 0.7134516835212708, 0.9489995837211609, 0.27221107482910156, 0.3538743853569031, 0.19054774940013885, 0.19054774940013885, 0.8269622921943665, 0.7879477143287659, 0.9252747297286987, 0.2599087357521057, 0.6497718691825867, 0.9014972448348999, 0.7966228723526001, 0.9226003289222717, 0.9249813556671143, 0.9605978727340698, 0.16572362184524536, 0.14204882085323334, 0.26042285561561584, 0.4261464774608612, 0.9170615673065186, 0.24958598613739014, 0.17471018433570862, 0.32446178793907166, 0.2745445668697357, 0.6677277684211731, 0.06550399959087372, 0.06550399959087372, 0.8515519499778748, 0.46822747588157654, 0.44593092799186707, 0.06688964366912842, 0.8254327774047852, 0.1942194700241089, 0.24288441240787506, 0.4416080117225647, 0.2870452105998993, 0.022080400958657265, 0.823354959487915, 0.8525534272193909, 0.8819653391838074, 0.9017988443374634, 0.9090893864631653, 0.9485468864440918, 0.03794187679886818, 0.10943184047937393, 0.054715920239686966, 0.054715920239686966, 0.7660228610038757, 0.21415702998638153, 0.28108111023902893, 0.4015444219112396, 0.10707851499319077, 0.9693452715873718, 0.12289119511842728, 0.7987927794456482, 0.06144559755921364, 0.9257068037986755, 0.8160102963447571, 0.03056439198553562, 0.9169317483901978, 0.03056439198553562, 0.16458770632743835, 0.5407881736755371, 0.25863784551620483, 0.02351253107190132, 0.0766177549958229, 0.689559817314148, 0.22985327243804932, 0.7249873876571655, 0.8331378698348999, 0.10414223372936249, 0.9108721017837524, 0.9244000911712646, 0.3698905110359192, 0.5548357963562012, 0.9490480422973633, 0.9390537142753601, 0.8620766997337341, 0.9755715131759644, 0.8252073526382446, 0.8481599688529968, 0.8131504654884338, 0.21210330724716187, 0.7423616051673889, 0.8246294260025024, 0.942737877368927, 0.23694317042827606, 0.3685782551765442, 0.3422512412071228, 0.026327019557356834, 0.7888994812965393, 0.15418794751167297, 0.7401021718978882, 0.09251277148723602, 0.030837589874863625, 0.34755346179008484, 0.08341282606124878, 0.51437908411026, 0.06951069086790085, 0.24095430970191956, 0.325288325548172, 0.3373360335826874, 0.09638172388076782, 0.7878749966621399, 0.07351839542388916, 0.07351839542388916, 0.8087023496627808, 0.22185084223747253, 0.013050049543380737, 0.7438528537750244, 0.013050049543380737, 0.2563810348510742, 0.2262185662984848, 0.44942086935043335, 0.06635744124650955, 0.945163905620575, 0.07238904386758804, 0.8686684966087341, 0.07238904386758804, 0.9408515691757202, 0.8049087524414062, 0.11498696357011795, 0.5375365018844604, 0.37826642394065857, 0.07963503152132034, 0.019908757880330086, 0.9468547701835632, 0.8206145167350769, 0.3116323947906494, 0.6622188091278076, 0.1775934398174286, 0.23679126799106598, 0.23679126799106598, 0.3551868796348572, 0.018695075064897537, 0.5047670006752014, 0.1495606005191803, 0.31781625747680664, 0.2908185124397278, 0.10905694961547852, 0.2544662058353424, 0.3635231554508209, 0.14469805359840393, 0.5374498963356018, 0.31006723642349243, 0.08509709686040878, 0.8935195803642273, 0.7933387160301208, 0.638736367225647, 0.060547493398189545, 0.8476648926734924, 0.060547493398189545, 0.10931346565485, 0.14575128257274628, 0.6558808088302612, 0.07287564128637314, 0.34984174370765686, 0.5830695629119873, 0.9227280020713806, 0.948339581489563, 0.761500895023346, 0.16922242939472198, 0.08461121469736099, 0.5905798077583313, 0.036911237984895706, 0.25837865471839905, 0.11073371767997742, 0.15035758912563324, 0.7517879605293274, 0.8272591233253479, 0.8282186388969421, 0.13803644478321075, 0.5269608497619629, 0.3850867748260498, 0.06080317869782448, 0.020267724990844727, 0.7134402990341187, 0.4065985083580017, 0.16263940930366516, 0.12197954952716827, 0.28461894392967224, 0.6800305843353271, 0.04250191152095795, 0.2550114691257477, 0.04250191152095795, 0.8131404519081116, 0.549078106880188, 0.3229871094226837, 0.06459742039442062, 0.03229871019721031, 0.9912622570991516, 0.0039492519572377205, 0.0039492519572377205, 0.0039492519572377205, 0.9826471209526062, 0.08133096992969513, 0.16266193985939026, 0.731978714466095, 0.20875336229801178, 0.6784484386444092, 0.052188340574502945, 0.052188340574502945, 0.12186839431524277, 0.060934197157621384, 0.18280258774757385, 0.6093419790267944, 0.7880988717079163, 0.9370317459106445, 0.23390138149261475, 0.4996984004974365, 0.1275825798511505, 0.1488463431596756], \"Term\": [\"\\uac00\\uc0ac\", \"\\uac00\\uc0ac\", \"\\uac00\\uc0ac\", \"\\uac00\\uc0ac\", \"\\uac00\\uc218\", \"\\uac00\\uc218\", \"\\uac00\\uc6b0\", \"\\uac04\\uc9c0\", \"\\uac04\\uc9c0\", \"\\uac04\\uc9c0\", \"\\uac10\\ud0c4\", \"\\uac1c\\uac04\", \"\\uac1c\\uc778\", \"\\uac1c\\uc778\", \"\\uac1c\\uc778\", \"\\uac1c\\uc778\", \"\\uac70\\ub098\", \"\\uac70\\ubd81\\uc120\", \"\\uac70\\uc65c\", \"\\uac74\\uac00\", \"\\uac78\\uc74c\", \"\\uac8c\\uc824\", \"\\uacb0\\uacfc\", \"\\uacb0\\uc2b9\", \"\\uacb0\\uc2b9\", \"\\uacb0\\uc2b9\", \"\\uacc4\\uc18d\", \"\\uacc4\\uc18d\", \"\\uacc4\\uc18d\", \"\\uacc4\\uc18d\", \"\\uacfc\\ud559\", \"\\uad00\\uac1d\", \"\\uad00\\uac1d\", \"\\uad00\\uac1d\", \"\\uad00\\uac1d\", \"\\uad6c\\ub3c4\", \"\\uad6c\\uc131\", \"\\uad6d\\ud799\", \"\\uad6d\\ud799\", \"\\uad6d\\ud799\", \"\\uad6d\\ud799\", \"\\uadf8\\ub808\\uc774\\uc2a4\", \"\\uae08\\ub3c4\", \"\\uae09\\uc2dd\", \"\\uae30\\ub3c5\\uad50\", \"\\uae30\\ub7c9\", \"\\uae30\\ud615\", \"\\ub144\\uc6d4\", \"\\ub178\\ub798\", \"\\ub178\\ub798\", \"\\ub178\\ub798\", \"\\ub178\\ub798\", \"\\ub204\\uac00\", \"\\ub204\\uac00\", \"\\ub2e4\\ub2e4\\ub2e4\", \"\\ub2e4\\uc2dc\", \"\\ub2e4\\uc2dc\", \"\\ub2e4\\uc2dc\", \"\\ub2e4\\uc2dc\", \"\\ub2ec\\ub77c\", \"\\ub2ee\\uc74c\", \"\\ub2ee\\uc74c\", \"\\ub304\\uc11c\", \"\\ub304\\uc11c\", \"\\ub304\\uc2a4\", \"\\ub313\\uae00\", \"\\ub313\\uae00\", \"\\ub313\\uae00\", \"\\ub313\\uae00\", \"\\ub354\\ube14\", \"\\ub354\\ube14\", \"\\ub354\\ube14\", \"\\ub354\\ube14\", \"\\ub355\\ubd84\", \"\\ub370\\uc774\\ub370\\uc774\", \"\\ub370\\uc774\\ub370\\uc774\", \"\\ub3c4\\ub07c\", \"\\ub3c4\\ub07c\", \"\\ub3c4\\ub07c\", \"\\ub3c4\\ub07c\", \"\\ub3c8\\uac00\\uc2a4\", \"\\ub3c8\\uac00\\uc2a4\", \"\\ub3c8\\uac00\\uc2a4\", \"\\ub3c8\\uac00\\uc4f0\", \"\\ub3c8\\uae4c\\uc2a4\", \"\\ub3fc\\uc9c0\", \"\\ub3fc\\uc9c0\", \"\\ub3fc\\uc9c0\", \"\\ub4c0\\uc2f1\", \"\\ub4c0\\uc2f1\", \"\\ub54c\\ubb38\", \"\\ub54c\\ubb38\", \"\\ub54c\\ubb38\", \"\\ub54c\\ubb38\", \"\\ub77c\\uc774\\ube0c\", \"\\ub77c\\uc774\\ube0c\", \"\\ub77c\\uc774\\ube0c\", \"\\ub798\\ud37c\", \"\\ub798\\ud37c\", \"\\ub798\\ud37c\", \"\\ub798\\ud37c\", \"\\ub7f0\\uac00\", \"\\ub808\\uac8c\", \"\\ub808\\ub4dc\", \"\\ub808\\ub4dc\", \"\\ub808\\ub514\", \"\\ub808\\ub514\", \"\\ub808\\ub514\", \"\\ub808\\uc54c\", \"\\ub808\\uc804\\ub4dc\", \"\\ub808\\uc804\\ub4dc\", \"\\ub808\\uc804\\ub4dc\", \"\\ub808\\uc804\\ub4dc\", \"\\ub9ac\\uc9c0\", \"\\ub9c8\\uc624\", \"\\ub9c8\\uc774\\ud06c\\ub85c\", \"\\ub9c8\\uc9c0\\ub9c9\", \"\\ub9c8\\uc9c0\\ub9c9\", \"\\ub9c8\\uc9c0\\ub9c9\", \"\\ub9c8\\uc9c0\\ub9c9\", \"\\ub9cc\\uc57d\", \"\\ub9cc\\uc6d0\", \"\\ub9cc\\uc6d0\", \"\\uba58\\ud0c8\", \"\\uba5c\\ub85c\\ub514\", \"\\ubaa8\\uc790\", \"\\ubaa8\\uc790\", \"\\ubb34\\ub300\", \"\\ubb34\\ub300\", \"\\ubb34\\ub300\", \"\\ubb34\\ub300\", \"\\ubb3c\\uc5b4\", \"\\ubb54\\uac00\", \"\\ubb54\\uac00\", \"\\ubbf8\\ub300\", \"\\ubbf8\\uc5ed\", \"\\ubbf8\\uc5ed\", \"\\ubbf8\\uc5ed\", \"\\ubbf8\\uc5ed\", \"\\ubc14\\ube44\", \"\\ubc14\\ube44\", \"\\ubc14\\ube44\", \"\\ubc14\\ube44\", \"\\ubc14\\uc2a4\\ucf54\", \"\\ubc14\\uc2a4\\ucf54\", \"\\ubc14\\uc2a4\\ucf54\", \"\\ubc14\\uc2a4\\ucf54\", \"\\ubc15\\uc7ac\\ubc94\", \"\\ubc15\\uc7ac\\ubc94\", \"\\ubc15\\uc7ac\\ubc94\", \"\\ubc15\\uc7ac\\ubc94\", \"\\ubc18\\uc751\", \"\\ubc18\\uc751\", \"\\ubc1c\\uc131\", \"\\ubc8c\\uc368\", \"\\ubc8c\\uc368\", \"\\ubcf4\\uace0\", \"\\ubcf4\\uace0\", \"\\ubcf4\\uace0\", \"\\ubcf4\\uace0\", \"\\ubcf4\\uc774\", \"\\ubcfc\\ub54c\", \"\\ubcfc\\ub54c\", \"\\ubcfc\\ub54c\", \"\\ubcfc\\ub54c\", \"\\ubd80\\ubd84\", \"\\ubd80\\ubd84\", \"\\ubd80\\ubd84\", \"\\ubd80\\ubd84\", \"\\ubd80\\uc815\", \"\\ubd80\\uc815\", \"\\ubd80\\uc815\", \"\\ubd84\\uc704\\uae30\", \"\\ubd84\\uc704\\uae30\", \"\\ubd84\\uc704\\uae30\", \"\\ubd84\\uc704\\uae30\", \"\\ubd84\\ucd08\", \"\\ube14\\ub799\", \"\\ube44\\ud2b8\", \"\\ube44\\ud2b8\", \"\\ube44\\ud2b8\", \"\\ube44\\ud2b8\", \"\\ube60\\ub3cc\\uc774\", \"\\ube61\\ube61\\uc774\", \"\\uc0ac\\uae30\", \"\\uc0ac\\uae30\", \"\\uc0ac\\uae30\", \"\\uc0ac\\uae30\", \"\\uc0ac\\ub78c\", \"\\uc0ac\\ub78c\", \"\\uc0ac\\ub78c\", \"\\uc0ac\\ub78c\", \"\\uc0b4\\uc774\", \"\\uc0b4\\uc774\", \"\\uc0b4\\uc9dd\", \"\\uc0dd\\uac01\", \"\\uc0dd\\uac01\", \"\\uc0dd\\uac01\", \"\\uc0dd\\uac01\", \"\\uc124\\ub9c8\", \"\\uc138\\uba74\", \"\\uc138\\uba74\", \"\\uc138\\uba74\", \"\\uc138\\uba74\", \"\\uc138\\ubbf8\", \"\\uc138\\ubbf8\", \"\\uc139\\uc2dc\", \"\\uc18c\\ub984\", \"\\uc18c\\ub984\", \"\\uc18c\\ub984\", \"\\uc18c\\ub984\", \"\\uc18c\\ub9ac\", \"\\uc18c\\ub9ac\", \"\\uc18c\\ub9ac\", \"\\uc18c\\ub9ac\", \"\\uc190\\uac00\\ub77d\", \"\\uc1fc\\ubbf8\\ub354\\uba38\\ub2c8\", \"\\uc1fc\\ubbf8\\ub354\\uba38\\ub2c8\", \"\\uc1fc\\ubbf8\\ub354\\uba38\\ub2c8\", \"\\uc1fc\\ubbf8\\ub354\\uba38\\ub2c8\", \"\\uc218\\ub3c4\", \"\\uc218\\ud37c\", \"\\uc21c\\uac04\", \"\\uc21c\\uac04\", \"\\uc2a4\\uc719\\uc2a4\", \"\\uc2a4\\uc719\\uc2a4\", \"\\uc2a4\\uc719\\uc2a4\", \"\\uc2a4\\uc719\\uc2a4\", \"\\uc2b9\\ub9ac\", \"\\uc2dc\\uc98c\", \"\\uc2dc\\uc98c\", \"\\uc2dc\\uc98c\", \"\\uc2dc\\uc98c\", \"\\uc2e0\\ubd84\", \"\\uc2e0\\ubd84\", \"\\uc2e4\\ub208\", \"\\uc2e4\\ub825\", \"\\uc2e4\\ub825\", \"\\uc2e4\\ub825\", \"\\uc2e4\\ub825\", \"\\uc2f8\\uc6c0\", \"\\uc2f8\\uc6c0\", \"\\uc308\\ub514\", \"\\uc378\\ub124\\uc77c\", \"\\uc378\\ub12c\", \"\\uc528\\ubc1c\", \"\\uc544\\uac00\", \"\\uc544\\uc545\", \"\\uc544\\uc774\\ub3cc\", \"\\uc544\\uc774\\ub3cc\", \"\\uc544\\uc774\\ub3cc\", \"\\uc544\\uc774\\ub3cc\", \"\\uc544\\uce68\", \"\\uc545\\ub9c8\", \"\\uc5b4\\ub3c4\", \"\\uc5b4\\ub514\", \"\\uc5b4\\ub514\", \"\\uc5b8\\uae09\", \"\\uc5b8\\ud589\", \"\\uc5c5\\uc801\", \"\\uc5d0\\ubc14\", \"\\uc5d0\\uc774\", \"\\uc5ec\\uae30\", \"\\uc5ec\\uae30\", \"\\uc5ec\\uae30\", \"\\uc5ec\\uae30\", \"\\uc5ec\\ub7ec\\ubd84\", \"\\uc5ed\\ub300\", \"\\uc5ed\\ub300\", \"\\uc5ed\\ub300\", \"\\uc5ed\\ub300\", \"\\uc5ed\\uc0ac\\uc0c1\", \"\\uc5ed\\uc2dc\", \"\\uc5ed\\uc2dc\", \"\\uc5ed\\uc2dc\", \"\\uc5f0\\uacb0\\uace0\\ub9ac\", \"\\uc5f0\\uacb0\\uace0\\ub9ac\", \"\\uc5f0\\uacb0\\uace0\\ub9ac\", \"\\uc5f0\\ucd9c\", \"\\uc5f0\\ucd9c\", \"\\uc601\\uc0c1\", \"\\uc601\\uc0c1\", \"\\uc601\\uc0c1\", \"\\uc601\\uc0c1\", \"\\uc608\\uc0c1\", \"\\uc624\\ube60\", \"\\uc624\\uc2dc\", \"\\uc640\\uc911\", \"\\uc65c\\ucf00\", \"\\uc67c\\ucabd\", \"\\uc67c\\ucabd\", \"\\uc694\\uc998\", \"\\uc694\\uc998\", \"\\uc694\\uc998\", \"\\uc694\\uc998\", \"\\uc6b0\\uc2b9\", \"\\uc6b0\\uc2b9\", \"\\uc6b0\\uc2b9\", \"\\uc6b0\\uc2b9\", \"\\uc6d0\\uc7ac\", \"\\uc719\\uc2a4\", \"\\uc719\\uc2a4\", \"\\uc719\\uc2a4\", \"\\uc740\\uadfc\", \"\\uc740\\uc560\", \"\\uc74c\\uc6d0\", \"\\uc74c\\uc6d0\", \"\\uc74c\\uc6d0\", \"\\uc774\\uac74\", \"\\uc774\\uac74\", \"\\uc774\\uac74\", \"\\uc774\\uac74\", \"\\uc774\\uace1\", \"\\uc774\\uace1\", \"\\uc774\\uace1\", \"\\uc774\\ub178\", \"\\uc774\\ub984\", \"\\uc774\\ub984\", \"\\uc778\\uae30\\ud22c\\ud45c\", \"\\uc778\\ubb3c\", \"\\uc778\\uc0dd\", \"\\uc778\\uc0dd\", \"\\uc77c\\uc624\", \"\\uc77c\\uc774\", \"\\uc790\\ub9ac\", \"\\uc790\\ub9c9\", \"\\uc798\\ub9cc\", \"\\uc7a5\\uc131\\uaddc\", \"\\uc800\\uc2a4\\ub514\\uc2a4\", \"\\uc804\\uc728\", \"\\uc804\\uc728\", \"\\uc804\\uc758\", \"\\uc804\\uc774\", \"\\uc815\\ub3c4\", \"\\uc815\\ub3c4\", \"\\uc815\\ub3c4\", \"\\uc815\\ub3c4\", \"\\uc815\\uc0c1\", \"\\uc870\\uba85\", \"\\uc870\\uba85\", \"\\uc870\\uba85\", \"\\uc870\\uba85\", \"\\uc874\\ub098\", \"\\uc874\\ub098\", \"\\uc874\\ub098\", \"\\uc874\\ub098\", \"\\uc9c0\\uae08\", \"\\uc9c0\\uae08\", \"\\uc9c0\\uae08\", \"\\uc9c0\\uae08\", \"\\uc9c0\\ub124\", \"\\uc9c0\\ub9ac\", \"\\uc9c0\\ub9ac\", \"\\uc9c0\\ub9ac\", \"\\uc9c0\\ucf54\", \"\\uc9c0\\ucf54\", \"\\uc9c0\\ucf54\", \"\\uc9c0\\ucf54\", \"\\uc9c4\\uc9dc\", \"\\uc9c4\\uc9dc\", \"\\uc9c4\\uc9dc\", \"\\uc9c4\\uc9dc\", \"\\uc9dd\\uc9dd\", \"\\uca50\\ub2e4\", \"\\uca50\\ub2e4\", \"\\uca50\\ub2e4\", \"\\ucc38\\uac00\", \"\\ucc38\\uac00\\uc790\", \"\\ucc38\\uac00\\uc790\", \"\\ucc98\\uc74c\", \"\\ucc98\\uc74c\", \"\\ucc98\\uc74c\", \"\\ucc98\\uc74c\", \"\\ucc9c\\uc7ac\", \"\\uccb4\\uc778\", \"\\uccb4\\ud06c\", \"\\uccb4\\ud06c\", \"\\ucd1b\\ubd88\", \"\\ucd1b\\ubd88\", \"\\ucd1b\\ubd88\", \"\\ucd1b\\ubd88\", \"\\ucd5c\\uace0\", \"\\ucd5c\\uace0\", \"\\ucd5c\\uace0\", \"\\ucd5c\\uace0\", \"\\ucd5c\\uba74\", \"\\ucd5c\\uba74\", \"\\ucd5c\\uba74\", \"\\ucd5c\\uba74\", \"\\ucd9c\\uc11d\", \"\\ucd9c\\uc11d\", \"\\ucd9c\\uc11d\", \"\\ucd9c\\uccb5\", \"\\ucd9c\\uccb5\", \"\\uce58\\uacfc\\uc758\\uc0ac\", \"\\uce58\\uc988\", \"\\uce59\\ucd09\", \"\\uce59\\ucd09\", \"\\uce59\\ucd09\", \"\\uce74\\uba54\\ub77c\", \"\\uce74\\uba54\\ub77c\", \"\\uce74\\uba54\\ub77c\", \"\\uce74\\uba54\\ub77c\", \"\\ucf54\\ub85c\\ub098\", \"\\ucf54\\ub85c\\ub098\", \"\\ud0c0\\uace0\", \"\\ud0c0\\uc774\\ubc0d\", \"\\ud0dc\\ud48d\", \"\\ud0dc\\ud48d\", \"\\ud0dc\\ud48d\", \"\\ud30c\\uc774\\ub110\", \"\\ud30c\\uc774\\ub110\", \"\\ud30c\\uc774\\ub110\", \"\\ud30c\\uc774\\ub110\", \"\\ud30c\\ud2b8\", \"\\ud30c\\ud2b8\", \"\\ud3ec\\uc2a4\", \"\\ud3ec\\uc5d0\\ubc84\", \"\\ud3ec\\uc5d0\\ubc84\", \"\\ud45c\\uc815\", \"\\ud45c\\uc815\", \"\\ud45c\\uc815\", \"\\ud45c\\uc815\", \"\\ud48d\\uc120\", \"\\ud53c\\ucc98\\ub9c1\", \"\\ud53c\\ucc98\\ub9c1\", \"\\ud53c\\ucc98\\ub9c1\", \"\\ud53c\\ucc98\\ub9c1\", \"\\ud53c\\uccd0\\ub9c1\", \"\\ud53c\\uccd0\\ub9c1\", \"\\ud53c\\uccd0\\ub9c1\", \"\\ud53c\\uccd0\\ub9c1\", \"\\ud558\\ub098\\ub2d8\", \"\\ud55c\\ubc88\", \"\\ud55c\\ubc88\", \"\\ud55c\\ubc88\", \"\\ud55c\\ubc88\", \"\\ud589\\uc8fc\", \"\\ud589\\uc8fc\", \"\\ud589\\uc8fc\", \"\\ud589\\uc8fc\", \"\\ud615\\ub2d8\", \"\\ud615\\uc8fc\", \"\\ud615\\uc8fc\", \"\\ud615\\uc8fc\", \"\\ud638\\uc751\", \"\\ud638\\uc751\", \"\\ud638\\uc751\", \"\\ud638\\uc751\", \"\\ud63c\\uc790\", \"\\ud63c\\uc790\", \"\\ud63c\\uc790\", \"\\ud63c\\uc790\", \"\\ud6c4\\uc2dc\", \"\\ud751\\uc6b0\", \"\\ud799\\ud569\", \"\\ud799\\ud569\", \"\\ud799\\ud569\", \"\\ud799\\ud569\"]}, \"R\": 30, \"lambda.step\": 0.01, \"plot.opts\": {\"xlab\": \"PC1\", \"ylab\": \"PC2\"}, \"topic.order\": [2, 3, 1, 4]};\n",
       "\n",
       "function LDAvis_load_lib(url, callback){\n",
       "  var s = document.createElement('script');\n",
       "  s.src = url;\n",
       "  s.async = true;\n",
       "  s.onreadystatechange = s.onload = callback;\n",
       "  s.onerror = function(){console.warn(\"failed to load library \" + url);};\n",
       "  document.getElementsByTagName(\"head\")[0].appendChild(s);\n",
       "}\n",
       "\n",
       "if(typeof(LDAvis) !== \"undefined\"){\n",
       "   // already loaded: just create the visualization\n",
       "   !function(LDAvis){\n",
       "       new LDAvis(\"#\" + \"ldavis_el17820173505691194498634758\", ldavis_el17820173505691194498634758_data);\n",
       "   }(LDAvis);\n",
       "}else if(typeof define === \"function\" && define.amd){\n",
       "   // require.js is available: use it to load d3/LDAvis\n",
       "   require.config({paths: {d3: \"https://cdnjs.cloudflare.com/ajax/libs/d3/3.5.5/d3.min\"}});\n",
       "   require([\"d3\"], function(d3){\n",
       "      window.d3 = d3;\n",
       "      LDAvis_load_lib(\"https://cdn.rawgit.com/bmabey/pyLDAvis/files/ldavis.v1.0.0.js\", function(){\n",
       "        new LDAvis(\"#\" + \"ldavis_el17820173505691194498634758\", ldavis_el17820173505691194498634758_data);\n",
       "      });\n",
       "    });\n",
       "}else{\n",
       "    // require.js not available: dynamically load d3 & LDAvis\n",
       "    LDAvis_load_lib(\"https://cdnjs.cloudflare.com/ajax/libs/d3/3.5.5/d3.min.js\", function(){\n",
       "         LDAvis_load_lib(\"https://cdn.rawgit.com/bmabey/pyLDAvis/files/ldavis.v1.0.0.js\", function(){\n",
       "                 new LDAvis(\"#\" + \"ldavis_el17820173505691194498634758\", ldavis_el17820173505691194498634758_data);\n",
       "            })\n",
       "         });\n",
       "}\n",
       "</script>"
      ],
      "text/plain": [
       "PreparedData(topic_coordinates=              x         y  topics  cluster       Freq\n",
       "topic                                                \n",
       "1     -0.092199  0.072566       1        1  31.680492\n",
       "2     -0.018557  0.009618       2        1  29.549753\n",
       "0     -0.030036 -0.107944       3        1  23.946936\n",
       "3      0.140792  0.025760       4        1  14.822820, topic_info=     Term        Freq       Total Category  logprob  loglift\n",
       "877    행주  253.000000  253.000000  Default  30.0000  30.0000\n",
       "1514  돈까스   70.000000   70.000000  Default  29.0000  29.0000\n",
       "217   스윙스  280.000000  280.000000  Default  28.0000  28.0000\n",
       "982    지코   76.000000   76.000000  Default  27.0000  27.0000\n",
       "64     사람  153.000000  153.000000  Default  26.0000  26.0000\n",
       "...   ...         ...         ...      ...      ...      ...\n",
       "1      바비    9.050797  208.718216   Topic4  -5.5077  -1.2291\n",
       "172    우승    7.592996   74.711533   Topic4  -5.6834  -0.3774\n",
       "104    지금    7.595436   83.003288   Topic4  -5.6830  -0.4823\n",
       "17     래퍼    6.626760   50.693195   Topic4  -5.8195  -0.1257\n",
       "90     관객    6.281912   37.413063   Topic4  -5.8729   0.1247\n",
       "\n",
       "[283 rows x 6 columns], token_table=      Topic      Freq Term\n",
       "term                      \n",
       "89        1  0.601402   가사\n",
       "89        2  0.208178   가사\n",
       "89        3  0.161916   가사\n",
       "89        4  0.023131   가사\n",
       "398       2  0.159634   가수\n",
       "...     ...       ...  ...\n",
       "2444      3  0.937032   흑우\n",
       "61        1  0.233901   힙합\n",
       "61        2  0.499698   힙합\n",
       "61        3  0.127583   힙합\n",
       "61        4  0.148846   힙합\n",
       "\n",
       "[459 rows x 3 columns], R=30, lambda_step=0.01, plot_opts={'xlab': 'PC1', 'ylab': 'PC2'}, topic_order=[2, 3, 1, 4])"
      ]
     },
     "execution_count": 53,
     "metadata": {},
     "output_type": "execute_result"
    }
   ],
   "source": [
    "import pyLDAvis\n",
    "import pyLDAvis.gensim\n",
    "\n",
    "pyLDAvis.enable_notebook()\n",
    "vis = pyLDAvis.gensim.prepare(ldamodel,corpus,dictionary)\n",
    "vis"
   ]
  },
  {
   "cell_type": "code",
   "execution_count": null,
   "metadata": {},
   "outputs": [],
   "source": []
  }
 ],
 "metadata": {
  "kernelspec": {
   "display_name": "Python 3",
   "language": "python",
   "name": "python3"
  },
  "language_info": {
   "codemirror_mode": {
    "name": "ipython",
    "version": 3
   },
   "file_extension": ".py",
   "mimetype": "text/x-python",
   "name": "python",
   "nbconvert_exporter": "python",
   "pygments_lexer": "ipython3",
   "version": "3.7.6"
  }
 },
 "nbformat": 4,
 "nbformat_minor": 4
}
