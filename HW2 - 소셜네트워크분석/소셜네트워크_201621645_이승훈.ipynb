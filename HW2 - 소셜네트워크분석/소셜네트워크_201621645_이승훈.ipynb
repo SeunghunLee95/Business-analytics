{
 "cells": [
  {
   "cell_type": "markdown",
   "metadata": {},
   "source": [
    "### 소셜네트워크 분석 개요"
   ]
  },
  {
   "cell_type": "markdown",
   "metadata": {},
   "source": [
    "+ 네트워크 : 각각의 객체들이 상호 연결된 구조 \n",
    "+ 구성요소 : 노드(Node, vertex), 링크(link,edge)\n",
    "+ 노드 : 고유한 속성을 가지고 있는 행위자 \n",
    "+ 링크 : 노드들간의 관계\n",
    "#### => 네트워크는 복수의 노드들이 연결된 구조 "
   ]
  },
  {
   "cell_type": "markdown",
   "metadata": {},
   "source": [
    "### 네트워크의 이론의 기초"
   ]
  },
  {
   "cell_type": "markdown",
   "metadata": {},
   "source": [
    "### 네트워크 그래프 : 객체들 간의 네트워크 관계 모델을 수학적으로 표현된 그래프\n",
    "+ 노드들은 링크로 연결되어 있음 \n",
    "\n",
    "#### 무방향 네트워크 : 서로 방향성이 없음(예를들어 책, 논문의 공저자, 네트워크, 페이스북 친구관계 네트워크 등)\n",
    "#### 방향 네트워크 : 방향성이 있음(예를들어 하이퍼링크 네트워크, 트위터 리트윗, 팔로잉 네트워크 등)"
   ]
  },
  {
   "cell_type": "code",
   "execution_count": 3,
   "metadata": {},
   "outputs": [],
   "source": [
    "# 라이브러리 추가 \n",
    "import numpy as np\n",
    "import pandas as pd\n",
    "import re\n",
    "import networkx as nx\n",
    "import matplotlib.pyplot as plt"
   ]
  },
  {
   "cell_type": "code",
   "execution_count": 42,
   "metadata": {},
   "outputs": [],
   "source": [
    "#  kove라는 파일을 가져옵니다  \n",
    "df = pd.read_csv('featuring.csv',encoding='CP949')"
   ]
  },
  {
   "cell_type": "code",
   "execution_count": 43,
   "metadata": {},
   "outputs": [
    {
     "data": {
      "text/html": [
       "<div>\n",
       "<style scoped>\n",
       "    .dataframe tbody tr th:only-of-type {\n",
       "        vertical-align: middle;\n",
       "    }\n",
       "\n",
       "    .dataframe tbody tr th {\n",
       "        vertical-align: top;\n",
       "    }\n",
       "\n",
       "    .dataframe thead th {\n",
       "        text-align: right;\n",
       "    }\n",
       "</style>\n",
       "<table border=\"1\" class=\"dataframe\">\n",
       "  <thead>\n",
       "    <tr style=\"text-align: right;\">\n",
       "      <th></th>\n",
       "      <th>from</th>\n",
       "      <th>to</th>\n",
       "    </tr>\n",
       "  </thead>\n",
       "  <tbody>\n",
       "    <tr>\n",
       "      <th>0</th>\n",
       "      <td>아이유</td>\n",
       "      <td>G-DRAGON</td>\n",
       "    </tr>\n",
       "    <tr>\n",
       "      <th>1</th>\n",
       "      <td>에픽하이</td>\n",
       "      <td>아이유</td>\n",
       "    </tr>\n",
       "    <tr>\n",
       "      <th>2</th>\n",
       "      <td>에픽하이</td>\n",
       "      <td>오혁</td>\n",
       "    </tr>\n",
       "    <tr>\n",
       "      <th>3</th>\n",
       "      <td>아이유</td>\n",
       "      <td>오혁</td>\n",
       "    </tr>\n",
       "    <tr>\n",
       "      <th>4</th>\n",
       "      <td>HIGH4</td>\n",
       "      <td>아이유</td>\n",
       "    </tr>\n",
       "    <tr>\n",
       "      <th>5</th>\n",
       "      <td>에픽하이</td>\n",
       "      <td>MINO</td>\n",
       "    </tr>\n",
       "    <tr>\n",
       "      <th>6</th>\n",
       "      <td>에픽하이</td>\n",
       "      <td>사이먼 도미닉</td>\n",
       "    </tr>\n",
       "    <tr>\n",
       "      <th>7</th>\n",
       "      <td>에픽하이</td>\n",
       "      <td>더콰이엇</td>\n",
       "    </tr>\n",
       "    <tr>\n",
       "      <th>8</th>\n",
       "      <td>에픽하이</td>\n",
       "      <td>수현</td>\n",
       "    </tr>\n",
       "    <tr>\n",
       "      <th>9</th>\n",
       "      <td>MINO</td>\n",
       "      <td>사이먼 도미닉</td>\n",
       "    </tr>\n",
       "    <tr>\n",
       "      <th>10</th>\n",
       "      <td>MINO</td>\n",
       "      <td>더콰이엇</td>\n",
       "    </tr>\n",
       "    <tr>\n",
       "      <th>11</th>\n",
       "      <td>사이먼 도미닉</td>\n",
       "      <td>더콰이엇</td>\n",
       "    </tr>\n",
       "  </tbody>\n",
       "</table>\n",
       "</div>"
      ],
      "text/plain": [
       "       from        to\n",
       "0       아이유  G-DRAGON\n",
       "1      에픽하이       아이유\n",
       "2      에픽하이        오혁\n",
       "3       아이유        오혁\n",
       "4     HIGH4       아이유\n",
       "5      에픽하이      MINO\n",
       "6      에픽하이   사이먼 도미닉\n",
       "7      에픽하이      더콰이엇\n",
       "8      에픽하이        수현\n",
       "9      MINO   사이먼 도미닉\n",
       "10     MINO      더콰이엇\n",
       "11  사이먼 도미닉      더콰이엇"
      ]
     },
     "execution_count": 43,
     "metadata": {},
     "output_type": "execute_result"
    }
   ],
   "source": [
    "df # 데이터 파일을 보면 다음과 같다는 것을 알 수 있습니다. "
   ]
  },
  {
   "cell_type": "code",
   "execution_count": 87,
   "metadata": {},
   "outputs": [
    {
     "name": "stdout",
     "output_type": "stream",
     "text": [
      "Name: \n",
      "Type: Graph\n",
      "Number of nodes: 9\n",
      "Number of edges: 12\n",
      "Average degree:   2.6667\n"
     ]
    }
   ],
   "source": [
    "G_symmetric = nx.Graph()\n",
    "\n",
    "G_symmetric.add_edge('IU',  'G-DRAGON')\n",
    "G_symmetric.add_edge('Epik High',  'IU')\n",
    "G_symmetric.add_edge('Epik High',  'Oh Hyuk')\n",
    "G_symmetric.add_edge('IU',  'Oh Hyuk')\n",
    "G_symmetric.add_edge('HIGH4',   'IU')\n",
    "G_symmetric.add_edge('Epik High','MINO')\n",
    "G_symmetric.add_edge('Epik High',  'Simon Dominic')\n",
    "G_symmetric.add_edge('Epik High',  'The Quiett')\n",
    "G_symmetric.add_edge('Epik High',  'Soo hyun')\n",
    "G_symmetric.add_edge('MINO',  'Simon Dominic')\n",
    "G_symmetric.add_edge('MINO',  'The Quiett')\n",
    "G_symmetric.add_edge('Simon Dominic',  'The Quiett')\n",
    "\n",
    "print(nx.info(G_symmetric)) "
   ]
  },
  {
   "cell_type": "markdown",
   "metadata": {},
   "source": [
    "#### 네트워크 시각화"
   ]
  },
  {
   "cell_type": "code",
   "execution_count": 88,
   "metadata": {
    "scrolled": true
   },
   "outputs": [
    {
     "data": {
      "image/png": "[encoded data removed]",
      "text/plain": [
       "<Figure size 432x432 with 1 Axes>"
      ]
     },
     "metadata": {},
     "output_type": "display_data"
    }
   ],
   "source": [
    "plt.figure(figsize=(6,6))\n",
    "nx.draw_networkx(G_symmetric); # 한글깨짐을 해결하지 못하였습니다 \n",
    "# 영어로 바꾸어진행하였습니다"
   ]
  },
  {
   "cell_type": "code",
   "execution_count": null,
   "metadata": {},
   "outputs": [],
   "source": []
  }
 ],
 "metadata": {
  "kernelspec": {
   "display_name": "Python 3",
   "language": "python",
   "name": "python3"
  },
  "language_info": {
   "codemirror_mode": {
    "name": "ipython",
    "version": 3
   },
   "file_extension": ".py",
   "mimetype": "text/x-python",
   "name": "python",
   "nbconvert_exporter": "python",
   "pygments_lexer": "ipython3",
   "version": "3.7.6"
  }
 },
 "nbformat": 4,
 "nbformat_minor": 4
}
