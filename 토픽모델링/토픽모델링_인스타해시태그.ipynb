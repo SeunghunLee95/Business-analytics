{
 "cells": [
  {
   "cell_type": "code",
   "execution_count": 9,
   "metadata": {},
   "outputs": [],
   "source": [
    "import pandas as pd\n",
    "\n",
    "insta = pd.read_csv('insta_hiphop1.csv')\n",
    "\n",
    "insta = insta['해시태그']\n",
    "\n",
    "text = list(insta)\n",
    "\n"
   ]
  },
  {
   "cell_type": "code",
   "execution_count": 10,
   "metadata": {},
   "outputs": [],
   "source": [
    "from konlpy.tag import Okt #konlpy에서 Twitter 형태소 분석기를 import\n",
    "twitter_tag = Okt()\n",
    "\n",
    "from sklearn.feature_extraction.text import CountVectorizer\n",
    "\n",
    "vec = CountVectorizer(tokenizer=twitter_tag.nouns, #우선은 명사만 사용\n",
    "                      decode_error ='ignore', \n",
    "                      max_df=0.5, #너무 자주 나타나는 단어는 제외, 책에서는 0.15를 사용\n",
    "                      #min_df = 3, #3개 미만의 문서에서 나타난 단어는 제외, 여기서는 max_features를 1000으로 제한하므로 별 필요 없음\n",
    "                      max_features = 1000) #적당한 대상 단어 수를 선택\n",
    "review_cv = vec.fit_transform(text)"
   ]
  },
  {
   "cell_type": "code",
   "execution_count": 11,
   "metadata": {},
   "outputs": [
    {
     "data": {
      "text/plain": [
       "(1382, 1000)"
      ]
     },
     "execution_count": 11,
     "metadata": {},
     "output_type": "execute_result"
    }
   ],
   "source": [
    "review_cv.shape"
   ]
  },
  {
   "cell_type": "code",
   "execution_count": 12,
   "metadata": {},
   "outputs": [],
   "source": [
    "from sklearn.decomposition import LatentDirichletAllocation\n",
    "\n",
    "lda = LatentDirichletAllocation(n_components = 10, #추출할 topic의 수를 지정\n",
    "                                max_iter=25, #max_iter는 최종 모형에서는 5,000~10,000번 시도한다고 알려져 있음\n",
    "                                topic_word_prior= 0.1, doc_topic_prior=1.0,\n",
    "                                #topic_word_prior: beta, doc_topic_prior: alpha\n",
    "                                #일반적으로 beta는 0.1로 고정하고 alpha를 50/topic의 수 근처의 값을 시도\n",
    "                                #alpha와 beta는 낮은 값을 사용할수록 특정 토픽들이 두드러지도록 하는 효과가 있다고 합\n",
    "                                learning_method='batch', #'batch'는 'online'에 비해 더 성능이 좋고 느림, 현재는 default\n",
    "                                n_jobs= -1, #사용 processor 수, None이면 1, -1이면 모두 사용\n",
    "                                random_state=0)\n",
    "\n",
    "review_topics = lda.fit_transform(review_cv)"
   ]
  },
  {
   "cell_type": "code",
   "execution_count": 13,
   "metadata": {},
   "outputs": [
    {
     "name": "stdout",
     "output_type": "stream",
     "text": [
      "topic-word distribution dimension: (10, 1000)\n",
      "document-topic distribution dimenstion (1382, 10)\n"
     ]
    }
   ],
   "source": [
    "print('topic-word distribution dimension:', lda.components_.shape)\n",
    "print('document-topic distribution dimenstion', review_topics.shape)"
   ]
  },
  {
   "cell_type": "code",
   "execution_count": 14,
   "metadata": {},
   "outputs": [],
   "source": [
    "def print_top_words(model, feature_names, n_top_words):\n",
    "    for topic_idx, topic in enumerate(model.components_):\n",
    "        print(\"Topic #%d: \" % topic_idx, end='')\n",
    "        print(\", \".join([feature_names[i] for i in topic.argsort()[:-n_top_words - 1:-1]]))\n",
    "        #print(\", \".join([feature_names[i]+'('+str(topic[i])+')' for i in topic.argsort()[:-n_top_words - 1:-1]]))\n",
    "        # 위 slicing에서 맨 뒤 -1은 역순을 의미, 역순으로 했을 때 처음부터 n_top_words까지\n",
    "    print()"
   ]
  },
  {
   "cell_type": "code",
   "execution_count": 15,
   "metadata": {},
   "outputs": [
    {
     "name": "stdout",
     "output_type": "stream",
     "text": [
      "Topic #0: 음악, 힙합, 추천, 노래, 그램, 스타, 랩, 알앤비, 외힙, 리스트\n",
      "Topic #1: 힙합, 한국, 비, 콘서트, 래퍼, 아티스트, 국힙, 공연, 뮤지션, 음악\n",
      "Topic #2: 음반, 그램, 스타, 음악, 수집, 힙합, 술집, 블랙뮤직, 감성, 영등포\n",
      "Topic #3: 힙합, 음악, 비트, 레슨, 앨범, 멜론, 작곡, 일러스트레이터, 메이커, 프로\n",
      "Topic #4: 추천, 음악, 힙합, 오늘, 곡, 선곡, 한국, 표, 커뮤니티, 국내\n",
      "Topic #5: 힙합, 맛집, 클럽, 음악, 이태원, 펍, 핫, 진주, 홍대, 술집\n",
      "Topic #6: 힙합, 랩, 그램, 뮤직, 스타, 일리, 데, 맞팔, 선팔, 소통\n",
      "Topic #7: 음악, 힙합, 래퍼, 사운드클라우드, 일러스트, 존, 앤, 사진, 리듬, 앨범커버\n",
      "Topic #8: 그램, 일상, 패션, 스타, 소통, 음, 카페, 스트릿, 여행, 데\n",
      "Topic #9: 네일, 힙합, 공연, 네일아트, 레코, 힙합댄스, 일리네어, 뮤지컬, 힙합플레이야, 스트릿\n",
      "\n"
     ]
    }
   ],
   "source": [
    "print_top_words(lda,vec.get_feature_names(), 10)"
   ]
  },
  {
   "cell_type": "code",
   "execution_count": 16,
   "metadata": {},
   "outputs": [
    {
     "data": {
      "text/plain": [
       "['포스터',\n",
       " '사운드클라우드',\n",
       " '앨범자켓',\n",
       " '아트워크',\n",
       " '포스터',\n",
       " '디자인',\n",
       " '그래픽',\n",
       " '포토샵',\n",
       " '사진',\n",
       " '앨범커버',\n",
       " '힙합',\n",
       " '일러스트',\n",
       " '앨범아트',\n",
       " '디지털',\n",
       " '아트']"
      ]
     },
     "execution_count": 16,
     "metadata": {},
     "output_type": "execute_result"
    }
   ],
   "source": [
    "twitter_tag.nouns(text[1])"
   ]
  },
  {
   "cell_type": "code",
   "execution_count": 17,
   "metadata": {},
   "outputs": [],
   "source": [
    "def tokenizer(str):\n",
    "    return [token for token in twitter_tag.nouns(str) if len(token) > 1]"
   ]
  },
  {
   "cell_type": "code",
   "execution_count": 18,
   "metadata": {},
   "outputs": [
    {
     "data": {
      "text/plain": [
       "['포스터',\n",
       " '사운드클라우드',\n",
       " '앨범자켓',\n",
       " '아트워크',\n",
       " '포스터',\n",
       " '디자인',\n",
       " '그래픽',\n",
       " '포토샵',\n",
       " '사진',\n",
       " '앨범커버',\n",
       " '힙합',\n",
       " '일러스트',\n",
       " '앨범아트',\n",
       " '디지털',\n",
       " '아트']"
      ]
     },
     "execution_count": 18,
     "metadata": {},
     "output_type": "execute_result"
    }
   ],
   "source": [
    "tokenizer(text[1])"
   ]
  },
  {
   "cell_type": "code",
   "execution_count": 19,
   "metadata": {},
   "outputs": [],
   "source": [
    "#count vector 새로 생성\n",
    "vec = CountVectorizer(tokenizer=tokenizer, decode_error ='ignore', \n",
    "                      max_df=0.5, max_features = 1000) #너무 자주 나타나는 단어는 제외\n",
    "review_cv = vec.fit_transform(text)"
   ]
  },
  {
   "cell_type": "code",
   "execution_count": 20,
   "metadata": {},
   "outputs": [
    {
     "name": "stdout",
     "output_type": "stream",
     "text": [
      "Topic #0: 일상, 그램, 스타, 소통, 힐링, 친구, 여행, 불금, 맞이, 연말\n",
      "Topic #1: 힙합, 음악, 무비스타, 김봉현, 비보잉, 도시락, 도산, 환상, 서브컬처, 캘리포니아\n",
      "Topic #2: 스타, 그램, 음악, 힙합, 셀카, 그니, 싱잉랩, 사운드, 소주, 한잔\n",
      "Topic #3: 음악, 힙합, 운동, 엘릭서, 관리, 장마, 시작, 스트리트, 팝송, 남자\n",
      "Topic #4: 뮤직, 힙합, 영상, 스트레스, 기분, 헬리오스, 플로, 소니, 라운지, 힙플\n",
      "Topic #5: 힙합, 사운드클라우드, 포스터, 앨범자켓, 힙스피, 디지털, 음악, 와인, 생맥주, 쇼핑\n",
      "Topic #6: 댄스, 하우스, 힙합, 배틀, 장르, 힙합댄스, 댄스배틀, 캐슬, 클라우드, 하우스음악\n",
      "Topic #7: 공연, 힙합, 레코, 힙합댄스, 일리네어, 뮤지컬, 하이, 데이트, 하이라이트, 힙합플레이야\n",
      "Topic #8: 힙합, 음악, 노래, 최신, 예스, 장미, 듀오, 합정동, 화지, 스타\n",
      "Topic #9: 클럽, 이태원, 힙합, 파티, 오피, 할로윈, 바자, 와디, 부평, 해쉬\n",
      "Topic #10: 힙합, 음악, 박재범, 포항, 인디음악, 동아리, 가요, 헤어스타일, 뚝섬역, 경북\n",
      "Topic #11: 음반, 수집, 그램, 스타, 블랙뮤직, 구매, 정리, 수집가, 세대, 코디\n",
      "Topic #12: 에픽하이, 음악, 하남, 뮤직스타, 타블로, 미사, 광주, 소통, 강일, 지구\n",
      "Topic #13: 힙합, 음악, 그림, 감성, 랩퍼, 새벽, 노엘, 직장인, 스윙스, 크라프트\n",
      "Topic #14: 음악, 부산, 커뮤니티, 모임, 크라운, 미디, 호진, 프로, 헤르츠, 김포\n",
      "Topic #15: 음악, 추천, 노래, 알앤비, 외힙, 띵곡, 플레이, 리스트, 스타, 기록\n",
      "Topic #16: 오늘, 선곡, 리스트, 플레이, 국내, 한국, 투데이, 팔로알토, 보이, 창모\n",
      "Topic #17: 힙합, 서울, 음악, 셀피, 예술원, 입구, 소울, 뚝딱, 김농밀, 랩핑\n",
      "Topic #18: 음악, 힙합, 신곡, 가사, 비보이, 지펑크, 크리에이터, 고등학생, 디제잉, 스타\n",
      "Topic #19: 음악, 힙합, 환영, 트러블, 더블, 재키, 레디, 다이나믹듀오, 한요, 슬리피\n",
      "Topic #20: 패션, 음원, 발매, 팔로우, 일리, 소통, 반사, 앨범, 티디, 오오\n",
      "Topic #21: 힙합, 음악, 쇼미더머니, 일만, 다이어트, 클래스, 나뭇잎, 코리아, 가라사대, 커피\n",
      "Topic #22: 힙합, 음악, 루피, 프로듀서, 연남동, 예약, 메킷레, 러브, 남매, 필수\n",
      "Topic #23: 그램, 스타, 리듬, 힙합, 클래식, 흑인음악, 음악, 최고, 투어, 화요일\n",
      "Topic #24: 술집, 영등포, 맛집, 레이스, 분위기, 혼술, 감성, 제주, 가정, 메뉴\n",
      "Topic #25: 래퍼, 힙합, 무대, 그린플러그드, 수퍼, 염따, 질라, 덕질, 씨잼, 주석\n",
      "Topic #26: 음악, 인스타, 힙합, 트랩, 피플, 파이, 주말, 저스디스, 그때, 무료\n",
      "Topic #27: 힙합, 음악, 학원, 입시, 스트릿댄스, 행복, 댄스, 월드, 타이거, 에이펙\n",
      "Topic #28: 노래, 음악, 힙합, 상가, 송도신도시, 창작, 다슬러, 추천, 가라사대, 코리아\n",
      "Topic #29: 멜론, 일러스트레이터, 밴드, 사진, 일러스트, 앨범커버, 앨범아트, 콜라보, 수면, 진담\n",
      "Topic #30: 힙합, 음악, 차붐, 작사, 나이키, 잭슨, 매니아, 곡예사, 거울, 농구\n",
      "Topic #31: 진주, 인스타그램, 맥주, 하대동, 파머스, 힙합, 행사, 축제, 피처링, 힙덕\n",
      "Topic #32: 힙합, 음악, 지니, 육아, 시절, 지뮤페, 베이식, 아스타, 크리스마스, 대디\n",
      "Topic #33: 힙합, 앨범, 연극, 엘피, 빈티, 나스, 크루, 올드스쿨, 베이, 인테리어\n",
      "Topic #34: 네일, 네일아트, 스트릿, 디자인, 유니크, 여름, 가을, 수제, 일리, 패션\n",
      "Topic #35: 추천, 한국, 노래, 바이브, 힙합, 잠실, 찬양, 예수님, 던말릭, 주일\n",
      "Topic #36: 힙합, 음악, 디제이, 페스트, 아프리카, 그레이, 팝핀, 오버, 이재영, 크럼\n",
      "Topic #37: 앨범, 헤럴드, 녹음, 소통, 래퍼, 메이킹, 듀싱, 슬랭, 우린, 멜론\n",
      "Topic #38: 힙합, 음악, 이센스, 벅스, 감상, 이방인, 댄서, 중고, 걸스, 로우\n",
      "Topic #39: 한국, 콘서트, 아티스트, 국힙, 힙합, 뮤지션, 래퍼, 공연, 버저, 뮤직페스티벌\n",
      "Topic #40: 힙합, 페스티벌, 레전드, 힙합플레이야, 기리보이, 힙플쇼, 한국, 스웨거, 마이크, 느낌\n",
      "Topic #41: 일리, 그램, 맞팔, 선팔, 소통, 덕후, 뮤직, 스타, 스타벅스, 아트워크\n",
      "Topic #42: 힙합, 음악, 댓글, 그램, 취저, 가라사대, 코리아, 직딩, 커피, 광코\n",
      "Topic #43: 음악, 힙합, 작곡, 앰비션, 빈지노, 하늘, 메타, 고딩, 성빈, 키오\n",
      "Topic #44: 동해, 술집, 여행, 동해시, 강원도, 감성, 코스, 칵테일, 맛집, 버거\n",
      "Topic #45: 카페, 스트릿, 반사, 여자, 스타일, 서면, 사랑, 맞팔, 분위기, 중독\n",
      "Topic #46: 레슨, 음악, 힙합, 프로, 기타, 김해, 취미, 한국, 외동, 내외동\n",
      "Topic #47: 비트, 힙합, 메이커, 힙플페, 전시회, 스냅, 제작, 길거리, 지망, 음악\n",
      "Topic #48: 커버, 힙합, 블루스, 조광일, 디지털싱글, 일러스트, 레트로, 페인, 하프, 티거\n",
      "Topic #49: 맛집, 홍대, 피자, 상수, 합정, 칵테일, 힙합, 피맥, 범계, 맛스타\n",
      "\n"
     ]
    }
   ],
   "source": [
    "#topic modeling 수행\n",
    "lda = LatentDirichletAllocation(n_components = 50, max_iter=25, \n",
    "                                topic_word_prior= 0.1, doc_topic_prior=1.0,\n",
    "                                learning_method='batch',\n",
    "                                n_jobs= -1,\n",
    "                                random_state=0)\n",
    "review_topics = lda.fit_transform(review_cv)\n",
    "print_top_words(lda,vec.get_feature_names(), 10)"
   ]
  },
  {
   "cell_type": "code",
   "execution_count": 21,
   "metadata": {},
   "outputs": [
    {
     "name": "stdout",
     "output_type": "stream",
     "text": [
      "topic-word distribution dimension: (50, 1000)\n",
      "Cluster label: [1 0 2 1 1 1 1 1 0 1 0 1 1 0 1 3 1 0 0 1 1 0 0 2 1 1 1 0 1 1 0 1 0 0 1 4 0\n",
      " 1 1 1 0 2 0 1 1 1 1 1 1 1]\n"
     ]
    }
   ],
   "source": [
    "from sklearn.cluster import KMeans\n",
    "\n",
    "kmeans = KMeans(n_clusters=5) #5개 클러스터로 분류\n",
    "kmeans.fit(lda.components_)\n",
    "\n",
    "print('topic-word distribution dimension:', lda.components_.shape)\n",
    "print('Cluster label:', kmeans.labels_)"
   ]
  },
  {
   "cell_type": "code",
   "execution_count": 22,
   "metadata": {},
   "outputs": [
    {
     "name": "stdout",
     "output_type": "stream",
     "text": [
      "TSNE dimension: (50, 2)\n"
     ]
    },
    {
     "data": {
      "text/plain": [
       "array([-40.744553  ,  95.167694  , -42.200085  , -20.985012  ,\n",
       "       -87.26691   , -16.024757  , -13.700886  ,  19.80216   ,\n",
       "        57.872368  , -34.43855   ,  35.856503  ,   1.2997669 ,\n",
       "       -36.88772   ,  37.14574   ,  45.115253  , -34.856575  ,\n",
       "       -67.295364  ,  18.522667  ,  23.77178   ,   1.2031106 ,\n",
       "        16.99919   ,  88.89209   ,  16.139456  , -33.664577  ,\n",
       "       -32.84914   , -69.89692   ,  24.137709  ,  27.273108  ,\n",
       "       -13.09077   ,   6.273808  ,  72.96753   , -43.171432  ,\n",
       "        50.494312  ,  69.92873   , -93.91473   ,  32.677162  ,\n",
       "         7.9966125 , -53.288296  ,  -0.12575768,  71.12169   ,\n",
       "       108.11507   , -66.23569   ,  50.569416  ,  -8.34423   ,\n",
       "        -3.8216333 , -59.276615  , -18.830057  , -58.050354  ,\n",
       "       -25.18461   , -13.856693  ], dtype=float32)"
      ]
     },
     "execution_count": 22,
     "metadata": {},
     "output_type": "execute_result"
    }
   ],
   "source": [
    "from sklearn.manifold import TSNE\n",
    "tsne = TSNE(n_components=2, random_state=42)\n",
    "tsne_review = tsne.fit_transform(lda.components_)\n",
    "print('TSNE dimension:', tsne_review.shape)\n",
    "tsne_review[:,0]"
   ]
  },
  {
   "cell_type": "code",
   "execution_count": 23,
   "metadata": {},
   "outputs": [],
   "source": [
    "%matplotlib inline\n",
    "import matplotlib.pyplot as plt\n",
    "from matplotlib import font_manager, rc\n",
    "font_name = font_manager.FontProperties(fname=\"c:/Windows/Fonts/malgun.ttf\").get_name()\n",
    "rc('font', family=font_name)\n",
    "import matplotlib as mpl\n",
    "\n",
    "# 그래프에서 마이너스 폰트 깨지는 문제에 대한 대처\n",
    "mpl.rcParams['axes.unicode_minus'] = False"
   ]
  },
  {
   "cell_type": "code",
   "execution_count": 24,
   "metadata": {},
   "outputs": [
    {
     "data": {
      "image/png": "[encoded data removed]",
      "text/plain": [
       "<Figure size 432x288 with 1 Axes>"
      ]
     },
     "metadata": {
      "needs_background": "light"
     },
     "output_type": "display_data"
    },
    {
     "data": {
      "image/png": "[encoded data removed]",
      "text/plain": [
       "<Figure size 1080x720 with 1 Axes>"
      ]
     },
     "metadata": {
      "needs_background": "light"
     },
     "output_type": "display_data"
    }
   ],
   "source": [
    "colors = {0:'blue', 1:'yellow', 2:'red', 3:'green', 4:'purple'}\n",
    "x1 = tsne_review[:,0]\n",
    "x2 = tsne_review[:,1]\n",
    "plt.scatter(x1, x2)\n",
    "\n",
    "plt.figure(figsize=(15,10))\n",
    "plt.xlim(min(x1), max(x1))\n",
    "plt.ylim(min(x2), max(x2))\n",
    "for i in range(len(x1)):\n",
    "#    plt.text(X1_lsi[i], X2_lsi[i], sample_label[i],\n",
    "#            color = colors[sample_label[i]])\n",
    "    plt.text(x1[i], x2[i], kmeans.labels_[i],\n",
    "            color = colors[kmeans.labels_[i]])\n",
    "\n",
    "#for word, pos in df.iterrows():\n",
    "#    ax.annotate(word, pos, fontsize=30)\n",
    "plt.show()\n",
    "\n",
    "#아래 결과를 보면 각 topic들이 고르게 분포하고 있어, 클러스터링이 별로 의미 없음을 알 수 있음"
   ]
  },
  {
   "cell_type": "code",
   "execution_count": 25,
   "metadata": {},
   "outputs": [
    {
     "data": {
      "text/plain": [
       "246.23535564148415"
      ]
     },
     "execution_count": 25,
     "metadata": {},
     "output_type": "execute_result"
    }
   ],
   "source": [
    "lda.perplexity(review_cv)"
   ]
  },
  {
   "cell_type": "code",
   "execution_count": 26,
   "metadata": {},
   "outputs": [
    {
     "name": "stdout",
     "output_type": "stream",
     "text": [
      "Topic #0: 그램, 스타, 일상, 진주, 음악, 소통, 힙합, 인스타그램, 힐링, 친구\n",
      "Topic #1: 래퍼, 힙합, 비트, 아티스트, 콘서트, 뮤지션, 국힙, 한국, 버저, 맥주\n",
      "Topic #2: 스타, 그램, 음악, 힙합, 셀카, 던말릭, 쿤스트, 해방촌, 그니, 베놈\n",
      "Topic #3: 힙합, 추천, 한국, 음악, 라이브, 퇴근, 팝송, 프리스타일, 스트리트, 넋업샨\n",
      "Topic #4: 그램, 뮤직, 일리, 맞팔, 선팔, 소통, 덕후, 스타, 스타벅스, 힙합\n",
      "Topic #5: 힙합, 무대, 음악, 한국, 그린플러그드, 국힙, 래퍼, 힙스피, 예약, 은어\n",
      "Topic #6: 힙합, 음악, 댄스, 하우스, 배틀, 장르, 뮤직, 힙합댄스, 힙플페, 댄스배틀\n",
      "Topic #7: 공연, 힙합, 페스티벌, 레코, 힙합댄스, 일리네어, 뮤지컬, 힙합플레이야, 콘서트, 하이\n",
      "Topic #8: 추천, 노래, 힙합, 음악, 염따, 한국, 최신, 역사, 질라, 예스\n",
      "Topic #9: 힙합, 클럽, 이태원, 디제이, 음악, 파티, 바이브, 오피, 할로윈, 잠실\n",
      "Topic #10: 음악, 힙합, 스타, 그램, 메이커, 벅스, 원재, 박재범, 운동, 기분\n",
      "Topic #11: 음반, 스타, 그램, 수집, 블랙뮤직, 힙합, 구매, 정리, 수집가, 앰비션\n",
      "Topic #12: 음악, 힙합, 에픽하이, 작곡, 그램, 하남, 뮤직스타, 타블로, 스타, 미사\n",
      "Topic #13: 네일, 네일아트, 디자인, 스트릿, 유니크, 여름, 일리, 가을, 수제, 패션\n",
      "Topic #14: 음악, 레슨, 부산, 커뮤니티, 프로, 일러스트레이터, 밴드, 그림, 메이킹, 사랑\n",
      "Topic #15: 음악, 노래, 알앤비, 외힙, 띵곡, 플레이, 리스트, 기록, 외국, 리뷰\n",
      "Topic #16: 오늘, 선곡, 한국, 리스트, 플레이, 국내, 힙합, 이센스, 팔로알토, 투데이\n",
      "Topic #17: 힙합, 음악, 홍대, 서울, 셀피, 예술원, 그램, 피플, 트랩, 스타\n",
      "Topic #18: 사운드클라우드, 힙합, 카페, 음악, 일러스트, 사진, 신곡, 앨범커버, 스타, 앨범아트\n",
      "Topic #19: 힙합, 여행, 동해, 감성, 술집, 헤럴드, 음악, 칵테일, 녹음, 동해시\n",
      "Topic #20: 패션, 힙합, 반사, 스트릿, 소통, 팔로우, 일리, 여자, 서면, 스타일\n",
      "Topic #21: 힙합, 앨범, 음원, 멜론, 발매, 지니, 음악, 뮤직, 랩퍼, 슬랭\n",
      "Topic #22: 음악, 힙합, 그램, 노래, 스타, 루피, 추천, 국힙, 프로듀서, 뮤직페스티벌\n",
      "Topic #23: 힙합, 음악, 리듬, 블루스, 스타, 그램, 클래식, 기리보이, 연남동, 키드\n",
      "Topic #24: 맛집, 술집, 영등포, 커버, 인스타, 레이스, 분위기, 혼술, 파머스, 제주\n",
      "\n"
     ]
    },
    {
     "data": {
      "text/plain": [
       "190.43873135530148"
      ]
     },
     "execution_count": 26,
     "metadata": {},
     "output_type": "execute_result"
    }
   ],
   "source": [
    "#topic modeling 수행\n",
    "lda = LatentDirichletAllocation(n_components = 25, max_iter=25, \n",
    "                                topic_word_prior= 0.1, doc_topic_prior=2.0,\n",
    "                                learning_method='batch',\n",
    "                                n_jobs= -1,\n",
    "                                random_state=0)\n",
    "review_topics = lda.fit_transform(review_cv)\n",
    "print_top_words(lda,vec.get_feature_names(), 10)\n",
    "lda.perplexity(review_cv)"
   ]
  },
  {
   "cell_type": "code",
   "execution_count": 27,
   "metadata": {},
   "outputs": [
    {
     "name": "stdout",
     "output_type": "stream",
     "text": [
      "Topic #0: 음악, 추천, 힙합, 노래, 그램, 스타, 알앤비, 외힙, 플레이, 리스트\n",
      "Topic #1: 힙합, 음악, 앨범, 비트, 음원, 래퍼, 멜론, 작곡, 헤럴드, 커버\n",
      "Topic #2: 네일, 스트릿, 네일아트, 디자인, 카페, 유니크, 서울, 패션, 일리, 여름\n",
      "Topic #3: 음악, 힙합, 사랑, 리듬, 루피, 반사, 블루스, 우린, 크리스천, 기리보이\n",
      "Topic #4: 그램, 힙합, 스타, 음반, 일리, 뮤직, 맞팔, 소통, 선팔, 음악\n",
      "Topic #5: 술집, 맛집, 일상, 패션, 사운드클라우드, 홍대, 여행, 감성, 동해, 영등포\n",
      "Topic #6: 힙합, 음악, 댄스, 뮤직, 하우스, 배틀, 장르, 힙합댄스, 기타, 김해\n",
      "Topic #7: 힙합, 공연, 음악, 추천, 레코, 부산, 힙합댄스, 일리네어, 뮤지컬, 레슨\n",
      "Topic #8: 힙합, 한국, 래퍼, 콘서트, 국힙, 아티스트, 공연, 뮤지션, 페스티벌, 음악\n",
      "Topic #9: 힙합, 오늘, 선곡, 추천, 클럽, 이태원, 음악, 한국, 디제이, 리스트\n",
      "\n"
     ]
    },
    {
     "data": {
      "text/plain": [
       "118.62262462937454"
      ]
     },
     "execution_count": 27,
     "metadata": {},
     "output_type": "execute_result"
    }
   ],
   "source": [
    "#topic modeling 수행\n",
    "lda = LatentDirichletAllocation(n_components = 10, max_iter=25, \n",
    "                                topic_word_prior= 0.1, doc_topic_prior=1.0,\n",
    "                                learning_method='batch',\n",
    "                                n_jobs= -1,\n",
    "                                random_state=0)\n",
    "review_topics = lda.fit_transform(review_cv)\n",
    "print_top_words(lda,vec.get_feature_names(), 10)\n",
    "lda.perplexity(review_cv)"
   ]
  },
  {
   "cell_type": "code",
   "execution_count": 28,
   "metadata": {},
   "outputs": [
    {
     "name": "stdout",
     "output_type": "stream",
     "text": [
      "Topic #0: 음악, 힙합, 스타, 그램, 추천, 노래, 알앤비, 외힙, 리스트, 플레이\n",
      "Topic #1: 힙합, 음악, 래퍼, 앨범, 비트, 콘서트, 아티스트, 국힙, 한국, 뮤지션\n",
      "Topic #2: 네일, 패션, 스트릿, 홍대, 네일아트, 맛집, 카페, 일상, 일리, 디자인\n",
      "Topic #3: 힙합, 추천, 음악, 한국, 노래, 사운드클라우드, 레슨, 프로, 듀싱, 사랑\n",
      "Topic #4: 힙합, 그램, 스타, 음악, 뮤직, 음반, 일리, 소통, 맞팔, 선팔\n",
      "Topic #5: 힙합, 공연, 술집, 맛집, 레코, 힙합댄스, 감성, 동해, 일리네어, 뮤지컬\n",
      "Topic #6: 힙합, 음악, 오늘, 선곡, 댄스, 디제이, 한국, 국내, 플레이, 리스트\n",
      "\n"
     ]
    },
    {
     "data": {
      "text/plain": [
       "113.57361091575676"
      ]
     },
     "execution_count": 28,
     "metadata": {},
     "output_type": "execute_result"
    }
   ],
   "source": [
    "#topic modeling 수행\n",
    "lda = LatentDirichletAllocation(n_components = 7, max_iter=25, \n",
    "                                topic_word_prior= 0.1, doc_topic_prior=1.0,\n",
    "                                learning_method='batch',\n",
    "                                n_jobs= -1,\n",
    "                                random_state=0)\n",
    "review_topics = lda.fit_transform(review_cv)\n",
    "print_top_words(lda,vec.get_feature_names(), 10)\n",
    "lda.perplexity(review_cv)"
   ]
  },
  {
   "cell_type": "code",
   "execution_count": null,
   "metadata": {},
   "outputs": [],
   "source": []
  }
 ],
 "metadata": {
  "kernelspec": {
   "display_name": "Python 3",
   "language": "python",
   "name": "python3"
  },
  "language_info": {
   "codemirror_mode": {
    "name": "ipython",
    "version": 3
   },
   "file_extension": ".py",
   "mimetype": "text/x-python",
   "name": "python",
   "nbconvert_exporter": "python",
   "pygments_lexer": "ipython3",
   "version": "3.7.6"
  }
 },
 "nbformat": 4,
 "nbformat_minor": 4
}
