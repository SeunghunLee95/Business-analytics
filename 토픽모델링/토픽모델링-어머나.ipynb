{
 "cells": [
  {
   "cell_type": "code",
   "execution_count": 1,
   "metadata": {},
   "outputs": [],
   "source": [
    "import numpy as np\n",
    "import pandas as pd\n",
    "import re \n",
    "import matplotlib.pyplot as plt\n",
    "\n",
    "etc = pd.read_csv('youtube_trot4.csv',encoding='utf-8')\n"
   ]
  },
  {
   "cell_type": "code",
   "execution_count": 2,
   "metadata": {},
   "outputs": [
    {
     "data": {
      "text/plain": [
       "459"
      ]
     },
     "execution_count": 2,
     "metadata": {},
     "output_type": "execute_result"
    }
   ],
   "source": [
    "len(etc)"
   ]
  },
  {
   "cell_type": "code",
   "execution_count": 3,
   "metadata": {},
   "outputs": [
    {
     "data": {
      "text/html": [
       "<div>\n",
       "<style scoped>\n",
       "    .dataframe tbody tr th:only-of-type {\n",
       "        vertical-align: middle;\n",
       "    }\n",
       "\n",
       "    .dataframe tbody tr th {\n",
       "        vertical-align: top;\n",
       "    }\n",
       "\n",
       "    .dataframe thead th {\n",
       "        text-align: right;\n",
       "    }\n",
       "</style>\n",
       "<table border=\"1\" class=\"dataframe\">\n",
       "  <thead>\n",
       "    <tr style=\"text-align: right;\">\n",
       "      <th></th>\n",
       "      <th>Unnamed: 0</th>\n",
       "      <th>ID</th>\n",
       "      <th>Comment</th>\n",
       "    </tr>\n",
       "  </thead>\n",
       "  <tbody>\n",
       "    <tr>\n",
       "      <th>0</th>\n",
       "      <td>0</td>\n",
       "      <td>김바리</td>\n",
       "      <td>죽어가는한국트로트다시일으킨게장윤정,박현빈아닌가,,</td>\n",
       "    </tr>\n",
       "    <tr>\n",
       "      <th>1</th>\n",
       "      <td>1</td>\n",
       "      <td>arambae</td>\n",
       "      <td>와24살이라니....저어린나이에전국이본인노래로들썩이면어떤기분일까.</td>\n",
       "    </tr>\n",
       "    <tr>\n",
       "      <th>2</th>\n",
       "      <td>2</td>\n",
       "      <td>호호롤로로로이</td>\n",
       "      <td>이러니,,도연우군이우리엄마장윤정이라고동네방네소문내고다니지ㅋㅋㅋㅋㅋㅋㅋㅋㅋ연우너무귀여...</td>\n",
       "    </tr>\n",
       "  </tbody>\n",
       "</table>\n",
       "</div>"
      ],
      "text/plain": [
       "   Unnamed: 0       ID                                            Comment\n",
       "0           0      김바리                        죽어가는한국트로트다시일으킨게장윤정,박현빈아닌가,,\n",
       "1           1  arambae               와24살이라니....저어린나이에전국이본인노래로들썩이면어떤기분일까.\n",
       "2           2  호호롤로로로이  이러니,,도연우군이우리엄마장윤정이라고동네방네소문내고다니지ㅋㅋㅋㅋㅋㅋㅋㅋㅋ연우너무귀여..."
      ]
     },
     "execution_count": 3,
     "metadata": {},
     "output_type": "execute_result"
    }
   ],
   "source": [
    "etc.head(3)"
   ]
  },
  {
   "cell_type": "code",
   "execution_count": 4,
   "metadata": {},
   "outputs": [
    {
     "data": {
      "text/plain": [
       "['죽어가는한국트로트다시일으킨게장윤정,박현빈아닌가,,', '와24살이라니....저어린나이에전국이본인노래로들썩이면어떤기분일까.']"
      ]
     },
     "execution_count": 4,
     "metadata": {},
     "output_type": "execute_result"
    }
   ],
   "source": [
    "etc2=list(etc.Comment)\n",
    "etc2[0:2]"
   ]
  },
  {
   "cell_type": "code",
   "execution_count": 5,
   "metadata": {},
   "outputs": [
    {
     "data": {
      "text/plain": [
       "['죽어가는한국트로트다시일으킨게장윤정박현빈아닌가']"
      ]
     },
     "execution_count": 5,
     "metadata": {},
     "output_type": "execute_result"
    }
   ],
   "source": [
    "from string import punctuation\n",
    "def strip_punctuation(s):\n",
    "    return ''.join(c for c in s if c not in punctuation)\n",
    "\n",
    "clean_title = []\n",
    "for sent in etc2:\n",
    "    clean = strip_punctuation(sent)\n",
    "    clean_title.append(clean)\n",
    "    \n",
    "clean_title[0:1]"
   ]
  },
  {
   "cell_type": "code",
   "execution_count": 6,
   "metadata": {},
   "outputs": [],
   "source": [
    "from konlpy.tag import Okt #konlpy에서 Twitter 형태소 분석기를 import\n",
    "twitter_tag = Okt()"
   ]
  },
  {
   "cell_type": "code",
   "execution_count": 7,
   "metadata": {},
   "outputs": [],
   "source": [
    "import time\n",
    "import datetime\n",
    "start = time.time()"
   ]
  },
  {
   "cell_type": "code",
   "execution_count": 8,
   "metadata": {},
   "outputs": [
    {
     "name": "stdout",
     "output_type": "stream",
     "text": [
      "0:00:48\n"
     ]
    }
   ],
   "source": [
    "dataset = []\n",
    "for i in range(len(clean_title)):\n",
    "    dataset.append(twitter_tag.nouns(re.sub('[^가-힣a-zA-Z\\s]','',clean_title[i])))\n",
    "\n",
    "\n",
    "sec = time.time()-start\n",
    "times = str(datetime.timedelta(seconds=sec)).split(\".\")\n",
    "times=times[0]\n",
    "print(times)"
   ]
  },
  {
   "cell_type": "code",
   "execution_count": 9,
   "metadata": {},
   "outputs": [],
   "source": [
    "from gensim import corpora, models \n",
    "import gensim"
   ]
  },
  {
   "cell_type": "code",
   "execution_count": 10,
   "metadata": {},
   "outputs": [],
   "source": [
    "high_score_reviews = dataset"
   ]
  },
  {
   "cell_type": "code",
   "execution_count": 11,
   "metadata": {},
   "outputs": [],
   "source": [
    "high_score_reviews = [[y for y in x if not len(y)==1]\n",
    "                       for x in high_score_reviews]\n",
    "dictionary = corpora.Dictionary(high_score_reviews)\n",
    "corpus=[dictionary.doc2bow(text) for text in high_score_reviews]"
   ]
  },
  {
   "cell_type": "code",
   "execution_count": 12,
   "metadata": {},
   "outputs": [],
   "source": [
    "import matplotlib.pyplot as plt\n",
    "from gensim.models import CoherenceModel\n",
    "\n",
    "coherence_values=[]\n",
    "for i in range(2,15):\n",
    "    ldamodel = gensim.models.LdaModel(corpus,num_topics=i, id2word=dictionary)\n",
    "    coherence_model_lda = CoherenceModel(model=ldamodel, texts=high_score_reviews,dictionary=dictionary,topn=10)\n",
    "    coherence_lda = coherence_model_lda.get_coherence()\n",
    "    coherence_values.append(coherence_lda)"
   ]
  },
  {
   "cell_type": "code",
   "execution_count": 13,
   "metadata": {},
   "outputs": [
    {
     "data": {
      "image/png": "[encoded data removed]",
      "text/plain": [
       "<Figure size 432x288 with 1 Axes>"
      ]
     },
     "metadata": {
      "needs_background": "light"
     },
     "output_type": "display_data"
    }
   ],
   "source": [
    "x = range(2,15)\n",
    "plt.plot(x,coherence_values)\n",
    "plt.xlabel('number of topics')\n",
    "plt.ylabel('coherence score')\n",
    "plt.show()"
   ]
  },
  {
   "cell_type": "code",
   "execution_count": 14,
   "metadata": {},
   "outputs": [],
   "source": [
    "import matplotlib.pyplot as plt\n",
    "perplexity_values=[]\n",
    "for i in range(2,20):\n",
    "    ldamodel=gensim.models.ldamodel.LdaModel(corpus,num_topics=i, id2word=dictionary)\n",
    "    perplexity_values.append(ldamodel.log_perplexity(corpus))"
   ]
  },
  {
   "cell_type": "code",
   "execution_count": 15,
   "metadata": {},
   "outputs": [
    {
     "data": {
      "image/png": "[encoded data removed]",
      "text/plain": [
       "<Figure size 432x288 with 1 Axes>"
      ]
     },
     "metadata": {
      "needs_background": "light"
     },
     "output_type": "display_data"
    }
   ],
   "source": [
    "x=range(2,20)\n",
    "plt.plot(x,perplexity_values)\n",
    "plt.xlabel('number of topics')\n",
    "plt.ylabel('perplexity score')\n",
    "plt.show()"
   ]
  },
  {
   "cell_type": "code",
   "execution_count": 16,
   "metadata": {},
   "outputs": [],
   "source": [
    "ldamodel = gensim.models.ldamodel.LdaModel(corpus, num_topics=4,alpha=0.2,id2word = dictionary)"
   ]
  },
  {
   "cell_type": "code",
   "execution_count": 17,
   "metadata": {},
   "outputs": [
    {
     "data": {
      "text/plain": [
       "[(0,\n",
       "  '0.071*\"장윤정\" + 0.053*\"노래\" + 0.019*\"지금\" + 0.014*\"진짜\" + 0.014*\"윤정\" + 0.014*\"어머나\" + 0.010*\"그때\" + 0.009*\"생각\" + 0.009*\"요즘\" + 0.008*\"가수\" + 0.008*\"얼굴\" + 0.007*\"트로트\" + 0.007*\"주현미\" + 0.006*\"송가\" + 0.006*\"명곡\" + 0.005*\"시절\" + 0.005*\"사랑\" + 0.005*\"인생\" + 0.004*\"트롯\" + 0.004*\"연우\"'),\n",
       " (1,\n",
       "  '0.041*\"어머나\" + 0.034*\"장윤정\" + 0.030*\"노래\" + 0.015*\"지금\" + 0.015*\"진짜\" + 0.014*\"얼굴\" + 0.014*\"가수\" + 0.012*\"트로트\" + 0.010*\"나이\" + 0.009*\"학년\" + 0.009*\"정말\" + 0.008*\"초딩\" + 0.007*\"완전\" + 0.005*\"가창력\" + 0.005*\"이스\" + 0.005*\"이곡\" + 0.005*\"가요\" + 0.005*\"엄마\" + 0.005*\"어른\" + 0.005*\"행사\"'),\n",
       " (2,\n",
       "  '0.032*\"노래\" + 0.023*\"지금\" + 0.022*\"진짜\" + 0.018*\"어머나\" + 0.015*\"장윤정\" + 0.014*\"목소리\" + 0.013*\"트로트\" + 0.009*\"세월\" + 0.008*\"서프라이즈\" + 0.008*\"살이\" + 0.007*\"정도\" + 0.006*\"정말\" + 0.006*\"생각\" + 0.006*\"콧소리\" + 0.006*\"소리\" + 0.006*\"자체\" + 0.006*\"창법\" + 0.006*\"연우\" + 0.006*\"인기\" + 0.005*\"나이\"'),\n",
       " (3,\n",
       "  '0.024*\"엄마\" + 0.024*\"트롯\" + 0.022*\"장윤정\" + 0.021*\"트로트\" + 0.016*\"어머나\" + 0.015*\"연우\" + 0.015*\"진짜\" + 0.011*\"노래\" + 0.011*\"사랑\" + 0.009*\"지금\" + 0.009*\"윤정\" + 0.008*\"최고\" + 0.007*\"서프라이즈\" + 0.007*\"그때\" + 0.006*\"느낌\" + 0.006*\"자체\" + 0.006*\"생각\" + 0.006*\"모습\" + 0.006*\"미스터\" + 0.006*\"부모\"')]"
      ]
     },
     "execution_count": 17,
     "metadata": {},
     "output_type": "execute_result"
    }
   ],
   "source": [
    "ldamodel.print_topics(num_words=20)"
   ]
  },
  {
   "cell_type": "code",
   "execution_count": 18,
   "metadata": {},
   "outputs": [
    {
     "data": {
      "text/html": [
       "\n",
       "<link rel=\"stylesheet\" type=\"text/css\" href=\"https://cdn.rawgit.com/bmabey/pyLDAvis/files/ldavis.v1.0.0.css\">\n",
       "\n",
       "\n",
       "<div id=\"ldavis_el2374824821203619282047474420\"></div>\n",
       "<script type=\"text/javascript\">\n",
       "\n",
       "var ldavis_el2374824821203619282047474420_data = {\"mdsDat\": {\"x\": [-0.032356880216478555, -0.0836309482412754, 0.05731868084616442, 0.058669147611589555], \"y\": [0.08413011475847972, -0.053993334023886466, 0.01867979314760673, -0.0488165738822], \"topics\": [1, 2, 3, 4], \"cluster\": [1, 1, 1, 1], \"Freq\": [30.9845027923584, 25.28822135925293, 22.909914016723633, 20.817365646362305]}, \"tinfo\": {\"Term\": [\"\\uc5c4\\ub9c8\", \"\\ud2b8\\ub86f\", \"\\uc7a5\\uc724\\uc815\", \"\\uc5b4\\uba38\\ub098\", \"\\ub178\\ub798\", \"\\ubaa9\\uc18c\\ub9ac\", \"\\ud559\\ub144\", \"\\uc5bc\\uad74\", \"\\uc815\\ub9d0\", \"\\uc5f0\\uc6b0\", \"\\uc0ac\\ub791\", \"\\uc11c\\ud504\\ub77c\\uc774\\uc988\", \"\\ucc3d\\ubc95\", \"\\ud2b8\\ub85c\\ud2b8\", \"\\ucf67\\uc18c\\ub9ac\", \"\\uc790\\uccb4\", \"\\ucd08\\ub529\", \"\\ubbf8\\uc2a4\\ud130\", \"\\uc774\\uc2a4\", \"\\uc0b4\\uc774\", \"\\uc8fc\\ud604\\ubbf8\", \"\\uc138\\uc6d4\", \"\\ubd80\\ubaa8\", \"\\ub290\\ub08c\", \"\\uc2dc\\uc808\", \"\\uc18c\\ub9ac\", \"\\uba85\\uace1\", \"\\uc1a1\\uac00\", \"\\ub3c4\\uacbd\\uc644\", \"\\uc815\\ub3c4\", \"\\uc778\\uc0dd\", \"\\uba74\\uc11c\", \"\\ub358\\ub370\", \"\\ucf00\\uc774\\uc2a4\", \"\\uc774\\ubaa8\", \"\\uba85\\uace1\", \"\\uc5c4\\uc815\\ud654\", \"\\uac10\\uc815\", \"\\uc874\\uacbd\", \"\\uc5e0\\ube44\\uc528\", \"\\uae40\\uc591\", \"\\uc870\\uba85\", \"\\uc90c\\ub9c8\", \"\\uc544\\uc90c\\ub9c8\", \"\\ubd88\\uc138\\ucd9c\", \"\\uc548\\ub098\", \"\\ucd08\\ub54c\", \"\\ud559\\uc6d0\", \"\\uc1a1\\uac00\", \"\\uc8fc\\ud604\\ubbf8\", \"\\ubaa8\\ub4e0\", \"\\uc774\\uc608\", \"\\ucd08\\ud63c\", \"\\uc790\\ub791\", \"\\uc6d0\\uc8fc\\uace0\", \"\\uacf5\\uc5f0\\uc7a5\", \"\\uad00\\uc2ec\", \"\\uc77c\\uac70\\uc218\\uc77c\\ud22c\\uc871\", \"\\uc57c\\uc678\", \"\\uc2b5\\uae30\", \"\\uc694\\uc998\", \"\\uc7a5\\uc724\\uc815\", \"\\ubcf4\\uae30\", \"\\ub178\\ub798\", \"\\uc724\\uc815\", \"\\uadf8\\ub54c\", \"\\uc2dc\\uc808\", \"\\uc9c0\\uae08\", \"\\uc0dd\\uac01\", \"\\uc9c4\\uc9dc\", \"\\uc5bc\\uad74\", \"\\uac00\\uc218\", \"\\uc5b4\\uba38\\ub098\", \"\\ubcf8\\uc778\", \"\\uc804\\uc774\", \"\\uc0ac\\ub791\", \"\\ub370\\ubdd4\", \"\\ud2b8\\ub85c\\ud2b8\", \"\\uc778\\uae30\", \"\\uac00\\uc0ac\", \"\\ubaa8\\uc2b5\", \"\\ud2b8\\ub86f\", \"\\uc5f0\\uc6b0\", \"\\ud559\\ub144\", \"\\uc774\\uc2a4\", \"\\ub304\\uc2a4\", \"\\uc5bc\\ub9c8\\ub098\", \"\\ub178\\uc18c\", \"\\ub0a8\\ub140\", \"\\ub204\\ub098\", \"\\uc140\\ud504\", \"\\uc19c\\uc0ac\\ud0d5\", \"\\uc138\\uc0c1\", \"\\ubc1c\\uc74c\", \"\\ud604\\uc7ac\", \"\\ud55c\\ubc88\", \"\\uc0c1\\ud0dc\", \"\\ub098\\ucd08\", \"\\uadf8\\ub300\\ub85c\", \"\\uc0c1\\ud07c\", \"\\uc774\\uace1\", \"\\ucd08\\ub529\", \"\\ubd88\\ubb38\", \"\\uc138\\ub300\", \"\\uac00\\uc704\\ubc14\\uc704\\ubcf4\", \"\\uac8c\\uc784\\uae30\", \"\\ubb38\\ubc29\\uad6c\", \"\\ubc29\\ubd80\", \"\\uba54\\ub4e4\\ub9ac\", \"\\ub2ed\\uaf2c\\uce58\", \"\\ubc84\\uc2a4\\ube44\", \"\\uc11c\\uc190\", \"\\ub9e4\\uc77c\\uc5c4\\ub9c8\", \"\\ubca8\\uc18c\\ub9ac\", \"\\uac00\\ucc3d\\ub825\", \"\\uac00\\uc694\", \"\\uce5c\\uad6c\", \"\\uc815\\ub9d0\", \"\\uc5bc\\uad74\", \"\\uc5b4\\uba38\\ub098\", \"\\ub098\\uc774\", \"\\uac00\\uc218\", \"\\ub178\\ub798\\ubc29\", \"\\uc644\\uc804\", \"\\uc7a5\\uc724\\uc815\", \"\\ub178\\ub798\", \"\\uc9c4\\uc9dc\", \"\\uc9c0\\uae08\", \"\\uc5b4\\ub978\", \"\\ud2b8\\ub85c\\ud2b8\", \"\\ud589\\uc0ac\", \"\\uadf8\\ub0e5\", \"\\ud578\\ub4dc\\ud3f0\", \"\\uc5c4\\ub9c8\", \"\\uc694\\uc998\", \"\\ucd5c\\uace0\", \"\\ubbf8\\uc2a4\\ud130\", \"\\uac70\\uc9d3\", \"\\uc9c4\\uc2e4\", \"\\uc751\\uc6d0\", \"\\uc2dc\\uc791\", \"\\ucd5c\\uc560\", \"\\ube48\\uc190\", \"\\uc5c4\\ub9c8\", \"\\uc544\\ub4e4\", \"\\ubd80\\ubaa8\", \"\\ud2b8\\ub86f\", \"\\ub290\\ub08c\", \"\\uc54c\\ub9ac\", \"\\uccad\\uc18c\\ub144\", \"\\ub2e4\\uc0ac\", \"\\ub9c8\\ub2d8\", \"\\uc544\\ub9ac\", \"\\ucd5c\\ucd08\", \"\\ubb49\\ud14c\\uae30\", \"\\uc5d0\\uc9c0\", \"\\ud30c\\ud2f0\", \"\\ub098\\ud6c8\\uc544\", \"\\uc2dc\\ubc1c\", \"\\ub098\\uc911\", \"\\ub9db\\uae54\", \"\\ube44\\uc8fc\\ub958\", \"\\uc804\\ud5a5\", \"\\uc8fc\\ub958\", \"\\uc81c\\uc758\", \"\\ud4e8\\uc804\", \"\\ub3c4\\ud558\", \"\\uc5f0\\uc6b0\", \"\\uc0ac\\ub791\", \"\\ub3c4\\uacbd\\uc644\", \"\\ub2f9\\uc2e0\", \"\\ub300\\uc0c1\", \"\\ub144\\ub300\", \"\\uae30\\uc5b5\", \"\\uc720\\uce58\\uc6d0\", \"\\ud2b8\\ub85c\\ud2b8\", \"\\ubcc4\\ub85c\", \"\\ud310\\ubc15\\uc774\", \"\\uc5f0\\ub839\", \"\\ud6c4\\ubc30\", \"\\ucd5c\\uace0\", \"\\uc790\\uccb4\", \"\\uc11c\\ud504\\ub77c\\uc774\\uc988\", \"\\ub9c8\\uc2a4\\ud130\", \"\\ucc98\\uc74c\", \"\\ubaa8\\uc2b5\", \"\\uc9c4\\uc9dc\", \"\\uc2dc\\uc808\", \"\\uc7a5\\uc724\\uc815\", \"\\uc5b4\\uba38\\ub098\", \"\\uc724\\uc815\", \"\\uadf8\\ub54c\", \"\\ub2f9\\uc2dc\", \"\\uc9c0\\uae08\", \"\\uc644\\uc804\", \"\\ub178\\ub798\", \"\\uc0dd\\uac01\", \"\\uac00\\uc218\", \"\\ucc3d\\ubc95\", \"\\uac00\\uc815\", \"\\ub798\\ubbf8\", \"\\ub3d9\\ub144\\ubc30\", \"\\uadf8\\ub550\", \"\\uc5b4\\ub3c4\", \"\\uc2e0\\uc778\\uc2dc\\uc808\", \"\\ubaa9\\uc18c\\ub9ac\", \"\\ucf67\\uc18c\\ub9ac\", \"\\uc57d\\uac04\", \"\\uc601\\uc0c1\", \"\\uad6c\\uc124\\uc218\", \"\\uc778\\uc2dd\", \"\\uace0\\uc800\", \"\\ucc38\\uc5b4\", \"\\ub370\\uc774\", \"\\ud45c\\ud604\", \"\\ud328\\uac00\\ub9dd\\uc2e0\", \"\\ubd80\\uc871\\ud568\", \"\\uac08\\ub300\", \"\\ub550\\uc880\", \"\\ub3c4\\ubaa8\", \"\\ubc30\\ub824\", \"\\uba87\\uc0b4\", \"\\ud638\\uc758\\ud638\\uc2dd\", \"\\uc5ec\\uc0ac\", \"\\ubbf8\\ub178\", \"\\uc774\\uc2ed\", \"\\uc11c\\uc9c0\", \"\\ubc95\\uc9c0\", \"\\uc18c\\ub9ac\", \"\\uc0b4\\uc774\", \"\\ucd9c\\uc5f0\", \"\\uc138\\uc6d4\", \"\\uc5d8\\uc9c0\", \"\\uc815\\ub3c4\", \"\\uad6d\\ubbfc\", \"\\ubc8c\\uc368\", \"\\uac74\\ubc29\", \"\\uc9c0\\uae08\", \"\\uc11c\\ud504\\ub77c\\uc774\\uc988\", \"\\uc790\\uccb4\", \"\\uc9c4\\uc9dc\", \"\\ub300\\ubc15\", \"\\ub2e4\\uc2dc\", \"\\ud788\\ud2b8\", \"\\uc778\\uae30\", \"\\ub178\\ub798\", \"\\uc0ac\\ub78c\", \"\\uc0b4\\ub54c\", \"\\ud2b8\\ub85c\\ud2b8\", \"\\uc5b4\\uba38\\ub098\", \"\\uc815\\ub9d0\", \"\\uc2e0\\ub4dc\\ub86c\", \"\\uc7a5\\uc724\\uc815\", \"\\uc0dd\\uac01\", \"\\uae08\\uc740\", \"\\ub098\\uc774\", \"\\uc5f0\\uc6b0\", \"\\ub2f9\\uc2dc\", \"\\uc724\\uc815\", \"\\ubc15\\ud604\\ube48\", \"\\uac00\\uc218\"], \"Freq\": [17.0, 17.0, 83.0, 47.0, 72.0, 8.0, 5.0, 14.0, 8.0, 14.0, 10.0, 8.0, 3.0, 27.0, 4.0, 6.0, 6.0, 3.0, 3.0, 6.0, 6.0, 7.0, 4.0, 4.0, 6.0, 4.0, 5.0, 5.0, 4.0, 6.0, 3.137239694595337, 2.4100096225738525, 2.409308433532715, 2.4073808193206787, 2.403419017791748, 4.139071464538574, 1.6691118478775024, 1.668971300125122, 1.6688449382781982, 1.6688750982284546, 1.6668565273284912, 1.666329264640808, 1.6658315658569336, 1.6637170314788818, 1.6632235050201416, 1.6627070903778076, 1.5976999998092651, 1.579749584197998, 4.1976799964904785, 4.500040531158447, 1.4887545108795166, 1.4852944612503052, 1.4481409788131714, 2.4038009643554688, 0.9275656342506409, 0.9275314807891846, 0.927511990070343, 0.927497148513794, 0.9274746775627136, 0.9274613261222839, 5.734817981719971, 47.60588455200195, 2.233699321746826, 35.870182037353516, 9.609021186828613, 6.722452640533447, 3.562206268310547, 12.764288902282715, 6.016289234161377, 9.630962371826172, 5.3784871101379395, 5.606241226196289, 9.198274612426758, 2.4104554653167725, 2.39473032951355, 3.397803544998169, 2.4114482402801514, 4.887234687805176, 2.4114134311676025, 2.318450450897217, 2.4123287200927734, 2.9352927207946777, 2.7264819145202637, 4.986742973327637, 2.9277396202087402, 2.2413084506988525, 2.241330146789551, 2.240713357925415, 2.2395212650299072, 2.582580804824829, 1.5524786710739136, 1.5524060726165771, 1.5519227981567383, 1.5513200759887695, 1.5500855445861816, 1.5496296882629395, 1.546315312385559, 1.5461639165878296, 1.5427864789962769, 1.5384668111801147, 2.9268739223480225, 4.3129048347473145, 1.8402799367904663, 1.3503941297531128, 0.8629622459411621, 0.8628984689712524, 0.8629034757614136, 0.8628402352333069, 0.8628027439117432, 0.8627822399139404, 0.8627710342407227, 0.8627482056617737, 0.8627297282218933, 1.2796120643615723, 2.9332475662231445, 2.9229912757873535, 2.0360782146453857, 4.9789299964904785, 7.757070541381836, 22.75094985961914, 5.677908897399902, 7.548322677612305, 2.4654059410095215, 3.8724091053009033, 18.598482131958008, 16.57180404663086, 8.006058692932129, 8.02786636352539, 2.689403772354126, 6.42100191116333, 2.61073899269104, 2.399507999420166, 2.0987913608551025, 2.823241949081421, 2.285935640335083, 2.2418100833892822, 2.8342268466949463, 1.5236668586730957, 1.5235569477081299, 1.5233765840530396, 1.5202579498291016, 1.5169777870178223, 1.5137032270431519, 12.210165977478027, 1.901012659072876, 2.8253955841064453, 11.780773162841797, 3.231623888015747, 0.8467158675193787, 0.8467205166816711, 0.8466615080833435, 0.8466530442237854, 0.8466112017631531, 0.8466147780418396, 0.8466072678565979, 0.8465782403945923, 0.8465290069580078, 0.8465321660041809, 0.8465105295181274, 0.846487283706665, 0.8464565277099609, 0.8464105725288391, 0.8463891744613647, 0.8463128805160522, 0.8462839722633362, 0.8462763428688049, 2.8162970542907715, 7.591127872467041, 5.333583831787109, 2.6045024394989014, 2.1996214389801025, 1.532213568687439, 1.5225507020950317, 1.522087812423706, 2.433659553527832, 10.322026252746582, 1.523455262184143, 1.5224086046218872, 1.179057240486145, 2.0365500450134277, 4.081695079803467, 2.951124906539917, 3.5524680614471436, 1.4557647705078125, 2.2002570629119873, 2.8717854022979736, 7.371376037597656, 2.4807848930358887, 10.864351272583008, 7.765599250793457, 4.320976257324219, 3.3693506717681885, 2.512578010559082, 4.70870304107666, 2.6395907402038574, 5.395931243896484, 2.8854236602783203, 2.209385633468628, 2.8363709449768066, 1.5145463943481445, 1.513820767402649, 1.5133763551712036, 1.510353684425354, 1.5083566904067993, 1.5065600872039795, 6.18831205368042, 2.853708028793335, 1.392473816871643, 1.3445587158203125, 0.8415013551712036, 0.8414762020111084, 0.8414772152900696, 0.8414254784584045, 0.8413991332054138, 0.8413532972335815, 0.8413457274436951, 0.8413270115852356, 0.8413097858428955, 0.8413085341453552, 0.8412778377532959, 0.8412870168685913, 0.8412444591522217, 0.8412086367607117, 0.8411609530448914, 0.841158390045166, 0.841133177280426, 0.8411291241645813, 0.841126561164856, 2.852440118789673, 3.515528917312622, 1.5868511199951172, 3.9690134525299072, 1.510875940322876, 3.3015363216400146, 1.5068811178207397, 1.5051684379577637, 1.1707522869110107, 10.260461807250977, 3.531552314758301, 2.8521244525909424, 9.803417205810547, 2.1829886436462402, 2.1751508712768555, 2.1794216632843018, 2.5709028244018555, 14.630865097045898, 2.441504716873169, 2.1876349449157715, 5.986860752105713, 8.222649574279785, 2.868025541305542, 2.18095064163208, 6.674296855926514, 2.8587806224823, 2.1827127933502197, 2.4629886150360107, 2.5947585105895996, 2.090956687927246, 2.434244155883789, 1.7953304052352905, 2.194208860397339], \"Total\": [17.0, 17.0, 83.0, 47.0, 72.0, 8.0, 5.0, 14.0, 8.0, 14.0, 10.0, 8.0, 3.0, 27.0, 4.0, 6.0, 6.0, 3.0, 3.0, 6.0, 6.0, 7.0, 4.0, 4.0, 6.0, 4.0, 5.0, 5.0, 4.0, 6.0, 3.6637351512908936, 2.9229676723480225, 2.922877788543701, 2.9226880073547363, 2.9223153591156006, 5.114729881286621, 2.180725574493408, 2.1807496547698975, 2.180671453475952, 2.180715322494507, 2.180471420288086, 2.180510997772217, 2.1804404258728027, 2.180237293243408, 2.180232524871826, 2.1801364421844482, 2.1745221614837646, 2.1729543209075928, 5.7831597328186035, 6.493595123291016, 2.1681389808654785, 2.167886257171631, 2.1614887714385986, 3.6001393795013428, 1.4384979009628296, 1.4384934902191162, 1.4384902715682983, 1.438499093055725, 1.4384772777557373, 1.4384677410125732, 9.346931457519531, 83.74301147460938, 3.588305711746216, 72.46878051757812, 17.790283203125, 12.125177383422852, 6.412307262420654, 35.761322021484375, 13.413369178771973, 34.81181335449219, 14.844098091125488, 17.55815887451172, 47.93747329711914, 4.274720191955566, 4.302621364593506, 10.455815315246582, 4.9478607177734375, 27.617124557495117, 6.296914100646973, 5.63445520401001, 7.688442230224609, 17.2164363861084, 14.482233047485352, 5.531132698059082, 3.4589333534240723, 2.768171548843384, 2.7682223320007324, 2.7682600021362305, 2.768266439437866, 3.4528486728668213, 2.0775253772735596, 2.0775222778320312, 2.077596664428711, 2.077615261077881, 2.0775599479675293, 2.077549934387207, 2.0775365829467773, 2.07761549949646, 2.0775303840637207, 2.077770233154297, 4.200907230377197, 6.255960941314697, 2.759366989135742, 2.0737686157226562, 1.3868908882141113, 1.3868800401687622, 1.3868927955627441, 1.3868801593780518, 1.386879801750183, 1.386851191520691, 1.386865496635437, 1.3868803977966309, 1.3868587017059326, 2.0724360942840576, 4.94329833984375, 4.943554401397705, 3.4380359649658203, 8.966793060302734, 14.844098091125488, 47.93747329711914, 11.758023262023926, 17.55815887451172, 4.886715888977051, 9.023027420043945, 83.74301147460938, 72.46878051757812, 34.81181335449219, 35.761322021484375, 5.612375259399414, 27.617124557495117, 5.615066051483154, 5.474491119384766, 4.230880260467529, 17.117769241333008, 9.346931457519531, 10.385825157165527, 3.407153367996216, 2.0517518520355225, 2.0517799854278564, 2.0517797470092773, 2.05183482170105, 2.0519421100616455, 2.0520176887512207, 17.117769241333008, 2.7352395057678223, 4.098875522613525, 17.2164363861084, 4.787874698638916, 1.3739604949951172, 1.37397301197052, 1.3739619255065918, 1.3739491701126099, 1.3739370107650757, 1.3739475011825562, 1.373969554901123, 1.3739686012268066, 1.373948097229004, 1.3739538192749023, 1.3739535808563232, 1.3739358186721802, 1.3739758729934692, 1.3739680051803589, 1.3739463090896606, 1.3739519119262695, 1.3739540576934814, 1.3739427328109741, 4.772725582122803, 14.482233047485352, 10.455815315246582, 4.916868686676025, 4.1886420249938965, 2.742251396179199, 2.7289843559265137, 2.728743553161621, 4.837541103363037, 27.617124557495117, 2.793835401535034, 2.7938966751098633, 2.049952745437622, 4.144317150115967, 10.385825157165527, 6.826358795166016, 8.937150955200195, 2.7935521602630615, 4.852504253387451, 7.688442230224609, 34.81181335449219, 6.412307262420654, 83.74301147460938, 47.93747329711914, 17.790283203125, 12.125177383422852, 6.921639919281006, 35.761322021484375, 9.023027420043945, 72.46878051757812, 13.413369178771973, 17.55815887451172, 3.391155958175659, 2.0433008670806885, 2.0432872772216797, 2.0433197021484375, 2.043384075164795, 2.0435097217559814, 2.043574333190918, 8.846878051757812, 4.081243515014648, 2.046375274658203, 2.044506549835205, 1.369753360748291, 1.369744062423706, 1.3697471618652344, 1.3697500228881836, 1.3697240352630615, 1.3697373867034912, 1.369743824005127, 1.369724988937378, 1.3697208166122437, 1.3697540760040283, 1.3697071075439453, 1.369739294052124, 1.3697304725646973, 1.3697333335876465, 1.3697384595870972, 1.3697447776794434, 1.3697175979614258, 1.3697195053100586, 1.3697378635406494, 4.823508262634277, 6.156630992889404, 2.7205867767333984, 7.592709541320801, 2.721177816390991, 6.887747287750244, 2.7341933250427246, 2.785855531692505, 2.0680878162384033, 35.761322021484375, 8.937150955200195, 6.826358795166016, 34.81181335449219, 4.814820289611816, 4.827883720397949, 4.8794450759887695, 6.296914100646973, 72.46878051757812, 6.223456382751465, 5.45408821105957, 27.617124557495117, 47.93747329711914, 8.966793060302734, 5.507248878479004, 83.74301147460938, 13.413369178771973, 6.940526962280273, 11.758023262023926, 14.482233047485352, 6.921639919281006, 17.790283203125, 4.850276470184326, 17.55815887451172], \"Category\": [\"Default\", \"Default\", \"Default\", \"Default\", \"Default\", \"Default\", \"Default\", \"Default\", \"Default\", \"Default\", \"Default\", \"Default\", \"Default\", \"Default\", \"Default\", \"Default\", \"Default\", \"Default\", \"Default\", \"Default\", \"Default\", \"Default\", \"Default\", \"Default\", \"Default\", \"Default\", \"Default\", \"Default\", \"Default\", \"Default\", \"Topic1\", \"Topic1\", \"Topic1\", \"Topic1\", \"Topic1\", \"Topic1\", \"Topic1\", \"Topic1\", \"Topic1\", \"Topic1\", \"Topic1\", \"Topic1\", \"Topic1\", \"Topic1\", \"Topic1\", \"Topic1\", \"Topic1\", \"Topic1\", \"Topic1\", \"Topic1\", \"Topic1\", \"Topic1\", \"Topic1\", \"Topic1\", \"Topic1\", \"Topic1\", \"Topic1\", \"Topic1\", \"Topic1\", \"Topic1\", \"Topic1\", \"Topic1\", \"Topic1\", \"Topic1\", \"Topic1\", \"Topic1\", \"Topic1\", \"Topic1\", \"Topic1\", \"Topic1\", \"Topic1\", \"Topic1\", \"Topic1\", \"Topic1\", \"Topic1\", \"Topic1\", \"Topic1\", \"Topic1\", \"Topic1\", \"Topic1\", \"Topic1\", \"Topic1\", \"Topic1\", \"Topic2\", \"Topic2\", \"Topic2\", \"Topic2\", \"Topic2\", \"Topic2\", \"Topic2\", \"Topic2\", \"Topic2\", \"Topic2\", \"Topic2\", \"Topic2\", \"Topic2\", \"Topic2\", \"Topic2\", \"Topic2\", \"Topic2\", \"Topic2\", \"Topic2\", \"Topic2\", \"Topic2\", \"Topic2\", \"Topic2\", \"Topic2\", \"Topic2\", \"Topic2\", \"Topic2\", \"Topic2\", \"Topic2\", \"Topic2\", \"Topic2\", \"Topic2\", \"Topic2\", \"Topic2\", \"Topic2\", \"Topic2\", \"Topic2\", \"Topic2\", \"Topic2\", \"Topic2\", \"Topic2\", \"Topic2\", \"Topic2\", \"Topic2\", \"Topic2\", \"Topic2\", \"Topic2\", \"Topic2\", \"Topic2\", \"Topic2\", \"Topic2\", \"Topic2\", \"Topic2\", \"Topic3\", \"Topic3\", \"Topic3\", \"Topic3\", \"Topic3\", \"Topic3\", \"Topic3\", \"Topic3\", \"Topic3\", \"Topic3\", \"Topic3\", \"Topic3\", \"Topic3\", \"Topic3\", \"Topic3\", \"Topic3\", \"Topic3\", \"Topic3\", \"Topic3\", \"Topic3\", \"Topic3\", \"Topic3\", \"Topic3\", \"Topic3\", \"Topic3\", \"Topic3\", \"Topic3\", \"Topic3\", \"Topic3\", \"Topic3\", \"Topic3\", \"Topic3\", \"Topic3\", \"Topic3\", \"Topic3\", \"Topic3\", \"Topic3\", \"Topic3\", \"Topic3\", \"Topic3\", \"Topic3\", \"Topic3\", \"Topic3\", \"Topic3\", \"Topic3\", \"Topic3\", \"Topic3\", \"Topic3\", \"Topic3\", \"Topic3\", \"Topic3\", \"Topic3\", \"Topic3\", \"Topic3\", \"Topic3\", \"Topic3\", \"Topic3\", \"Topic3\", \"Topic3\", \"Topic3\", \"Topic3\", \"Topic3\", \"Topic4\", \"Topic4\", \"Topic4\", \"Topic4\", \"Topic4\", \"Topic4\", \"Topic4\", \"Topic4\", \"Topic4\", \"Topic4\", \"Topic4\", \"Topic4\", \"Topic4\", \"Topic4\", \"Topic4\", \"Topic4\", \"Topic4\", \"Topic4\", \"Topic4\", \"Topic4\", \"Topic4\", \"Topic4\", \"Topic4\", \"Topic4\", \"Topic4\", \"Topic4\", \"Topic4\", \"Topic4\", \"Topic4\", \"Topic4\", \"Topic4\", \"Topic4\", \"Topic4\", \"Topic4\", \"Topic4\", \"Topic4\", \"Topic4\", \"Topic4\", \"Topic4\", \"Topic4\", \"Topic4\", \"Topic4\", \"Topic4\", \"Topic4\", \"Topic4\", \"Topic4\", \"Topic4\", \"Topic4\", \"Topic4\", \"Topic4\", \"Topic4\", \"Topic4\", \"Topic4\", \"Topic4\", \"Topic4\", \"Topic4\", \"Topic4\", \"Topic4\", \"Topic4\", \"Topic4\", \"Topic4\", \"Topic4\", \"Topic4\"], \"logprob\": [30.0, 29.0, 28.0, 27.0, 26.0, 25.0, 24.0, 23.0, 22.0, 21.0, 20.0, 19.0, 18.0, 17.0, 16.0, 15.0, 14.0, 13.0, 12.0, 11.0, 10.0, 9.0, 8.0, 7.0, 6.0, 5.0, 4.0, 3.0, 2.0, 1.0, -5.370200157165527, -5.633900165557861, -5.634200096130371, -5.635000228881836, -5.63670015335083, -5.093100070953369, -6.001299858093262, -6.001399993896484, -6.001399993896484, -6.001399993896484, -6.002600193023682, -6.002900123596191, -6.003200054168701, -6.004499912261963, -6.004799842834473, -6.005099773406982, -6.045000076293945, -6.056300163269043, -5.078999996185303, -5.009500026702881, -6.115600109100342, -6.1178998947143555, -6.1433000564575195, -5.636499881744385, -6.588799953460693, -6.588799953460693, -6.588799953460693, -6.588799953460693, -6.588900089263916, -6.588900089263916, -4.767000198364258, -2.650599956512451, -5.70989990234375, -2.9337000846862793, -4.250899791717529, -4.608099937438965, -5.243199825286865, -3.966900110244751, -4.719099998474121, -4.248600006103516, -4.831200122833252, -4.789700031280518, -4.29449987411499, -5.633699893951416, -5.6402997970581055, -5.29040002822876, -5.633299827575684, -4.9268999099731445, -5.633299827575684, -5.672699928283691, -5.632999897003174, -5.436800003051758, -5.510499954223633, -4.70359992980957, -5.236199855804443, -5.503399848937988, -5.503300189971924, -5.503600120544434, -5.504199981689453, -5.361599922180176, -5.87060022354126, -5.87060022354126, -5.8709001541137695, -5.871300220489502, -5.872099876403809, -5.872399806976318, -5.874499797821045, -5.874599933624268, -5.876800060272217, -5.8796000480651855, -5.236499786376953, -4.848800182342529, -5.700500011444092, -6.010000228881836, -6.457799911499023, -6.457900047302246, -6.457900047302246, -6.457900047302246, -6.458000183105469, -6.458000183105469, -6.458000183105469, -6.458000183105469, -6.458099842071533, -6.063899993896484, -5.234300136566162, -5.237800121307373, -5.599400043487549, -4.7052001953125, -4.2617998123168945, -3.185800075531006, -4.573800086975098, -4.289100170135498, -5.408100128173828, -4.956500053405762, -3.3873000144958496, -3.502700090408325, -4.230199813842773, -4.227499961853027, -5.321100234985352, -4.450799942016602, -5.350800037384033, -5.435100078582764, -5.5690999031066895, -5.272500038146973, -5.48360013961792, -5.5030999183654785, -5.169899940490723, -5.790500164031982, -5.790599822998047, -5.7906999588012695, -5.792799949645996, -5.794899940490723, -5.797100067138672, -3.709399938583374, -5.569300174713135, -5.172999858856201, -3.7451999187469482, -5.038700103759766, -6.377999782562256, -6.377999782562256, -6.3780999183654785, -6.3780999183654785, -6.378200054168701, -6.378200054168701, -6.378200054168701, -6.378200054168701, -6.378300189971924, -6.378300189971924, -6.378300189971924, -6.378300189971924, -6.378300189971924, -6.378399848937988, -6.378399848937988, -6.378499984741211, -6.378499984741211, -6.378600120544434, -5.176199913024902, -4.184700012207031, -4.537600040435791, -5.25439977645874, -5.423399925231934, -5.784900188446045, -5.791299819946289, -5.791600227355957, -5.322199821472168, -3.8773999214172363, -5.7906999588012695, -5.791399955749512, -6.046899795532227, -5.500400066375732, -4.805099964141846, -5.129499912261963, -4.943999767303467, -5.836100101470947, -5.423099994659424, -5.156700134277344, -4.214000225067139, -5.303100109100342, -3.826200008392334, -4.161900043487549, -4.748199939727783, -4.9969000816345215, -5.290299892425537, -4.662199974060059, -5.241000175476074, -4.526000022888184, -5.1519999504089355, -5.418900012969971, -5.073299884796143, -5.700699806213379, -5.701200008392334, -5.701499938964844, -5.703499794006348, -5.704800128936768, -5.705999851226807, -4.2932000160217285, -5.067200183868408, -5.784800052642822, -5.819799900054932, -6.288400173187256, -6.28849983215332, -6.28849983215332, -6.28849983215332, -6.288599967956543, -6.288599967956543, -6.288599967956543, -6.288599967956543, -6.288700103759766, -6.288700103759766, -6.288700103759766, -6.288700103759766, -6.288700103759766, -6.28879976272583, -6.28879976272583, -6.28879976272583, -6.288899898529053, -6.288899898529053, -6.288899898529053, -5.067699909210205, -4.858699798583984, -5.654099941253662, -4.737299919128418, -5.703199863433838, -4.921500205993652, -5.7058000564575195, -5.706999778747559, -5.958199977874756, -3.787600040435791, -4.854100227355957, -5.067800045013428, -3.8331000804901123, -5.33519983291626, -5.338799953460693, -5.3368000984191895, -5.171599864959717, -3.4326999187469482, -5.223199844360352, -5.333000183105469, -4.326300144195557, -4.008999824523926, -5.06220006942749, -5.336100101470947, -4.217599868774414, -5.065499782562256, -5.335299968719482, -5.2144999504089355, -5.162399768829346, -5.378200054168701, -5.226200103759766, -5.530700206756592, -5.329999923706055], \"loglift\": [30.0, 29.0, 28.0, 27.0, 26.0, 25.0, 24.0, 23.0, 22.0, 21.0, 20.0, 19.0, 18.0, 17.0, 16.0, 15.0, 14.0, 13.0, 12.0, 11.0, 10.0, 9.0, 8.0, 7.0, 6.0, 5.0, 4.0, 3.0, 2.0, 1.0, 1.0164999961853027, 0.9786999821662903, 0.9785000085830688, 0.9776999950408936, 0.9761999845504761, 0.9599999785423279, 0.9042999744415283, 0.90420001745224, 0.90420001745224, 0.90420001745224, 0.9031000137329102, 0.9027000069618225, 0.9024999737739563, 0.9013000130653381, 0.9010000228881836, 0.9006999731063843, 0.8633999824523926, 0.8529000282287598, 0.8513000011444092, 0.8050000071525574, 0.795799970626831, 0.7935000061988831, 0.7712000012397766, 0.767799973487854, 0.7329000234603882, 0.7329000234603882, 0.7328000068664551, 0.7328000068664551, 0.7328000068664551, 0.7328000068664551, 0.6832000017166138, 0.6068999767303467, 0.697700023651123, 0.4684000015258789, 0.5557000041007996, 0.5819000005722046, 0.5838000178337097, 0.14149999618530273, 0.3698999881744385, -0.11330000311136246, 0.15649999678134918, 0.029999999329447746, -0.47920000553131104, 0.598800003528595, 0.5856999754905701, 0.04769999906420708, 0.453000009059906, -0.5601000189781189, 0.2117999941110611, 0.28369998931884766, 0.012600000016391277, -0.5974000096321106, -0.498199999332428, 1.2711999416351318, 1.2080999612808228, 1.163699984550476, 1.163699984550476, 1.1634000539779663, 1.1628999710083008, 1.0844000577926636, 1.0835000276565552, 1.0835000276565552, 1.0830999612808228, 1.0827000141143799, 1.0819000005722046, 1.0816999673843384, 1.0794999599456787, 1.0793999433517456, 1.0772000551223755, 1.0743000507354736, 1.0134999752044678, 1.0029000043869019, 0.9696999788284302, 0.945900022983551, 0.9003999829292297, 0.9003000259399414, 0.9003000259399414, 0.9002000093460083, 0.9002000093460083, 0.9002000093460083, 0.9002000093460083, 0.9000999927520752, 0.9000999927520752, 0.8927000164985657, 0.8529000282287598, 0.849399983882904, 0.8510000109672546, 0.7864999771118164, 0.7257999777793884, 0.6294999718666077, 0.6468999981880188, 0.5306000113487244, 0.6906999945640564, 0.5289000272750854, -0.1298000067472458, -0.1005999967455864, -0.09489999711513519, -0.11909999698400497, 0.63919997215271, -0.08399999886751175, 0.609000027179718, 0.550000011920929, 0.673799991607666, -0.42739999294281006, -0.033399999141693115, -0.1582999974489212, 1.2894999980926514, 1.1759999990463257, 1.1758999824523926, 1.1757999658584595, 1.173699975013733, 1.1714999675750732, 1.1692999601364136, 1.1358000040054321, 1.1097999811172485, 1.1015000343322754, 1.0942000150680542, 1.0805000066757202, 0.9894999861717224, 0.9894999861717224, 0.9894000291824341, 0.9894000291824341, 0.9894000291824341, 0.9894000291824341, 0.9894000291824341, 0.989300012588501, 0.989300012588501, 0.989300012588501, 0.989300012588501, 0.989300012588501, 0.9891999959945679, 0.9890999794006348, 0.9890999794006348, 0.9890000224113464, 0.9890000224113464, 0.9890000224113464, 0.9460999965667725, 0.8277000188827515, 0.8004999756813049, 0.8381999731063843, 0.8295000195503235, 0.8914999961853027, 0.8901000022888184, 0.8898000121116638, 0.7865999937057495, 0.4893999993801117, 0.8672000169754028, 0.8665000200271606, 0.9204999804496765, 0.7631000280380249, 0.5396999716758728, 0.6349999904632568, 0.5509999990463257, 0.8217999935150146, 0.682699978351593, 0.4887999892234802, -0.07880000025033951, 0.5239999890327454, -0.5687000155448914, -0.3465999960899353, 0.058400001376867294, 0.19300000369548798, 0.4602999985218048, -0.5539000034332275, 0.2443999946117401, -1.123900055885315, -0.06300000101327896, -0.5992000102996826, 1.3906999826431274, 1.2698999643325806, 1.2695000171661377, 1.2691999673843384, 1.2670999765396118, 1.2656999826431274, 1.2645000219345093, 1.2120000123977661, 1.2115999460220337, 1.184399962425232, 1.1503000259399414, 1.082200050354004, 1.082200050354004, 1.082200050354004, 1.0821000337600708, 1.0821000337600708, 1.0820000171661377, 1.0820000171661377, 1.0820000171661377, 1.0820000171661377, 1.0820000171661377, 1.0820000171661377, 1.0819000005722046, 1.0819000005722046, 1.0819000005722046, 1.0817999839782715, 1.0817999839782715, 1.0817999839782715, 1.0817999839782715, 1.0817999839782715, 1.044100046157837, 1.0089999437332153, 1.0303000211715698, 0.9207000136375427, 0.9810000061988831, 0.8339999914169312, 0.9735999703407288, 0.9537000060081482, 1.0003999471664429, 0.3208000063896179, 0.6409000158309937, 0.6966999769210815, 0.30219998955726624, 0.7784000039100647, 0.7720999717712402, 0.7634000182151794, 0.6736000180244446, -0.03060000017285347, 0.6337000131607056, 0.6557999849319458, 0.04050000011920929, -0.19359999895095825, 0.429500013589859, 0.6431000232696533, -0.960099995136261, 0.023499999195337296, 0.41260001063346863, 0.006200000178068876, -0.15000000596046448, 0.3723999857902527, -0.4196000099182129, 0.5755000114440918, -0.5102999806404114]}, \"token.table\": {\"Topic\": [1, 2, 3, 4, 1, 2, 3, 4, 1, 2, 2, 4, 1, 2, 4, 1, 3, 4, 2, 4, 1, 1, 4, 2, 4, 2, 3, 4, 2, 1, 2, 3, 4, 4, 1, 2, 3, 4, 3, 4, 1, 1, 2, 3, 4, 3, 2, 3, 2, 3, 4, 1, 2, 3, 4, 1, 2, 3, 2, 2, 3, 4, 3, 1, 2, 3, 4, 2, 1, 2, 3, 4, 1, 2, 3, 1, 3, 4, 2, 3, 2, 1, 1, 3, 4, 4, 1, 3, 4, 2, 3, 4, 4, 4, 4, 3, 1, 3, 3, 2, 2, 1, 1, 2, 4, 1, 1, 2, 3, 4, 1, 2, 3, 4, 2, 3, 4, 3, 1, 2, 4, 2, 2, 4, 2, 1, 4, 4, 2, 1, 3, 1, 3, 1, 3, 4, 2, 3, 4, 2, 1, 3, 3, 1, 2, 3, 4, 1, 3, 4, 2, 3, 4, 1, 2, 3, 4, 2, 2, 1, 2, 3, 4, 2, 4, 1, 3, 4, 2, 2, 1, 2, 3, 4, 2, 1, 2, 4, 2, 1, 4, 1, 3, 3, 1, 3, 1, 2, 3, 4, 4, 3, 3, 1, 1, 3, 1, 4, 4, 1, 2, 4, 1, 2, 3, 4, 1, 2, 3, 2, 1, 2, 3, 4, 1, 3, 3, 4, 1, 4, 3, 1, 2, 3, 4, 4, 1, 2, 3, 4, 1, 2, 4, 1, 1, 2, 3, 4, 1, 2, 3, 4, 3, 1, 2, 1, 2, 4, 1, 1, 3, 4, 1, 4, 1, 1, 3, 1, 3, 4, 1, 2, 3, 4, 1, 2, 3, 1, 2, 3, 4, 1, 2, 4, 3, 1, 1, 3, 1, 3, 1, 1, 2, 3, 4, 3, 1, 2, 3, 4, 4, 4, 1, 2, 3, 3, 1, 2, 4, 1, 1, 1, 2, 3, 4, 3, 3, 3, 4, 2, 4, 1, 2, 4, 1, 2, 3, 4, 1, 2, 3, 4, 3, 1, 3, 4, 4, 3, 2, 1, 2, 1, 2, 3, 1, 2, 3, 2, 4, 1, 3, 4, 1, 3, 4], \"Freq\": [0.3549588918685913, 0.17747944593429565, 0.3549588918685913, 0.17747944593429565, 0.34172147512435913, 0.4556286334991455, 0.11390715837478638, 0.11390715837478638, 0.4045672118663788, 0.606850802898407, 0.7210372686386108, 0.9788084030151367, 0.40458816289901733, 0.6068822741508484, 0.7300757765769958, 0.9171158075332642, 0.9747767448425293, 0.4835384488105774, 0.7210428714752197, 0.7300617694854736, 0.6951717138290405, 0.6951732635498047, 0.7300584316253662, 0.3657386004924774, 0.7314772009849548, 0.3653307557106018, 0.3653307557106018, 0.1826653778553009, 0.9626814723014832, 0.5773111581802368, 0.0824730172753334, 0.2474190592765808, 0.0824730172753334, 0.978768527507782, 0.28816255927085876, 0.28816255927085876, 0.14408127963542938, 0.28816255927085876, 0.7329380512237549, 0.36646902561187744, 0.917232871055603, 0.17009662091732025, 0.5102898478507996, 0.17009662091732025, 0.17009662091732025, 0.727836012840271, 0.9626420140266418, 0.7278264760971069, 0.7224738001823425, 0.7328733801841736, 0.3664366900920868, 0.4967656433582306, 0.234583780169487, 0.06899522989988327, 0.2069856822490692, 0.20463640987873077, 0.40927281975746155, 0.20463640987873077, 0.7224754691123962, 0.8688477873802185, 0.6265828013420105, 0.20886093378067017, 0.7278221845626831, 0.2071300894021988, 0.2071300894021988, 0.2071300894021988, 0.4142601788043976, 0.7210578918457031, 0.2889488637447357, 0.14447443187236786, 0.43342331051826477, 0.2889488637447357, 0.23874086141586304, 0.23874086141586304, 0.4774817228317261, 0.20769207179546356, 0.4153841435909271, 0.4153841435909271, 0.36466386914253235, 0.7293277382850647, 0.7224985957145691, 0.6842571496963501, 0.40421509742736816, 0.20210754871368408, 0.40421509742736816, 0.7300740480422974, 0.406762957572937, 0.6101444363594055, 0.7300831079483032, 0.20952388644218445, 0.628571629524231, 0.20952388644218445, 0.9787993431091309, 0.7300580739974976, 0.9788148999214172, 0.7278289794921875, 0.35796719789505005, 0.35796719789505005, 0.727814793586731, 0.7210540175437927, 0.7210429906845093, 0.6842361092567444, 0.7820549607276917, 0.1955137401819229, 0.7300706505775452, 0.4612250328063965, 0.26013070344924927, 0.26013070344924927, 0.3901960849761963, 0.13006535172462463, 0.11303422600030899, 0.11303422600030899, 0.11303422600030899, 0.6782053709030151, 0.7210362553596497, 0.7278181910514832, 0.7300630211830139, 0.8805004358291626, 0.20617380738258362, 0.41234761476516724, 0.41234761476516724, 0.9626421332359314, 0.721042811870575, 0.7300659418106079, 0.7210504412651062, 0.35895615816116333, 0.7179123163223267, 0.73006671667099, 0.48252391815185547, 0.35793089866638184, 0.7158617973327637, 0.557366132736206, 0.278683066368103, 0.4678668677806854, 0.2339334338903427, 0.2339334338903427, 0.24396935105323792, 0.7319080233573914, 0.7300735712051392, 0.7248039245605469, 0.9173333644866943, 0.7278189659118652, 0.9746504426002502, 0.16068241000175476, 0.16068241000175476, 0.3213648200035095, 0.3213648200035095, 0.2869216799736023, 0.47820279002189636, 0.19128111004829407, 0.36669740080833435, 0.36669740080833435, 0.36669740080833435, 0.16242650151252747, 0.16242650151252747, 0.16242650151252747, 0.6497060060501099, 0.9625703692436218, 0.9626786112785339, 0.44731491804122925, 0.14910496771335602, 0.22365745902061462, 0.22365745902061462, 0.7210426926612854, 0.7300764918327332, 0.22378496825695038, 0.44756993651390076, 0.44756993651390076, 0.4822138845920563, 0.9626507759094238, 0.2634105682373047, 0.13170528411865234, 0.13170528411865234, 0.5268211364746094, 0.9626837968826294, 0.20731797814369202, 0.20731797814369202, 0.6219539642333984, 0.962685227394104, 0.691663384437561, 0.17291584610939026, 0.6951841711997986, 0.7278266549110413, 0.9747373461723328, 0.6238003969192505, 0.31190019845962524, 0.1815788596868515, 0.1815788596868515, 0.1815788596868515, 0.363157719373703, 0.9786773920059204, 0.7311974167823792, 0.7278354167938232, 0.917331337928772, 0.917373776435852, 0.7278229594230652, 0.6951795816421509, 0.48866891860961914, 0.9787083268165588, 0.35635536909103394, 0.5345330238342285, 0.17817768454551697, 0.18774455785751343, 0.47979167103767395, 0.16688404977321625, 0.16688404977321625, 0.336834192276001, 0.5389347076416016, 0.1347336769104004, 0.7224853038787842, 0.05841882526874542, 0.17525647580623627, 0.7010259032249451, 0.05841882526874542, 0.917125940322876, 0.7278186678886414, 0.36748793721199036, 0.7349758744239807, 0.9171302318572998, 0.7300663590431213, 0.48781612515449524, 0.20715036988258362, 0.1381002515554428, 0.5524010062217712, 0.20715036988258362, 0.48911556601524353, 0.22165510058403015, 0.4433102011680603, 0.33248263597488403, 0.11082755029201508, 0.641921877861023, 0.2139739692211151, 0.10698698461055756, 0.6951695680618286, 0.2067165970802307, 0.2067165970802307, 0.4134331941604614, 0.2067165970802307, 0.5621045827865601, 0.056210458278656006, 0.22484183311462402, 0.11242091655731201, 0.9747635126113892, 0.23804381489753723, 0.7141314744949341, 0.6843888163566589, 0.8673194050788879, 0.7300775051116943, 0.4612788259983063, 0.31761589646339417, 0.15880794823169708, 0.47642382979393005, 0.818836510181427, 0.7300633788108826, 0.6951690316200256, 0.5555340647697449, 0.27776703238487244, 0.14649097621440887, 0.4394729435443878, 0.4394729435443878, 0.5731821656227112, 0.2268846035003662, 0.13135424256324768, 0.08358906209468842, 0.4648329019546509, 0.4648329019546509, 0.7278304696083069, 0.14518535137176514, 0.14518535137176514, 0.2903707027435303, 0.4355560541152954, 0.11152259260416031, 0.557612955570221, 0.3345677852630615, 0.7278263568878174, 0.9172161817550659, 0.9171487092971802, 0.7278274893760681, 0.7699894905090332, 0.3079957962036133, 0.9172458648681641, 0.3635212481021881, 0.22370538115501404, 0.13981586694717407, 0.27963173389434814, 0.9747633934020996, 0.2872588038444519, 0.229807049036026, 0.20108117163181305, 0.2872588038444519, 0.7300602197647095, 0.8846541047096252, 0.2060791552066803, 0.4121583104133606, 0.4121583104133606, 0.7278163433074951, 0.15984754264354706, 0.6393901705741882, 0.15984754264354706, 0.9197422862052917, 0.462644100189209, 0.19257016479969025, 0.19257016479969025, 0.3851403295993805, 0.19257016479969025, 0.9746863842010498, 0.7278298735618591, 0.367567777633667, 0.735135555267334, 0.5817275047302246, 0.2908637523651123, 0.6843015551567078, 0.24502335488796234, 0.7350701093673706, 0.18104708194732666, 0.21725650131702423, 0.3620941638946533, 0.21725650131702423, 0.17425209283828735, 0.05808402970433235, 0.6970083713531494, 0.05808402970433235, 0.7278295159339905, 0.3579230308532715, 0.715846061706543, 0.7300634980201721, 0.7300669550895691, 0.7278323769569397, 0.9039739966392517, 0.920405924320221, 0.9626724123954773, 0.2363574355840683, 0.4727148711681366, 0.2363574355840683, 0.35618460178375244, 0.5342769026756287, 0.17809230089187622, 0.9626677632331848, 0.730069100856781, 0.2412942796945572, 0.4825885593891144, 0.2412942796945572, 0.40988266468048096, 0.20494133234024048, 0.40988266468048096], \"Term\": [\"\\uac00\\uc0ac\", \"\\uac00\\uc0ac\", \"\\uac00\\uc0ac\", \"\\uac00\\uc0ac\", \"\\uac00\\uc218\", \"\\uac00\\uc218\", \"\\uac00\\uc218\", \"\\uac00\\uc218\", \"\\uac00\\uc694\", \"\\uac00\\uc694\", \"\\uac00\\uc704\\ubc14\\uc704\\ubcf4\", \"\\uac00\\uc815\", \"\\uac00\\ucc3d\\ub825\", \"\\uac00\\ucc3d\\ub825\", \"\\uac08\\ub300\", \"\\uac10\\uc815\", \"\\uac70\\uc9d3\", \"\\uac74\\ubc29\", \"\\uac8c\\uc784\\uae30\", \"\\uace0\\uc800\", \"\\uacf5\\uc5f0\\uc7a5\", \"\\uad00\\uc2ec\", \"\\uad6c\\uc124\\uc218\", \"\\uad6d\\ubbfc\", \"\\uad6d\\ubbfc\", \"\\uadf8\\ub0e5\", \"\\uadf8\\ub0e5\", \"\\uadf8\\ub0e5\", \"\\uadf8\\ub300\\ub85c\", \"\\uadf8\\ub54c\", \"\\uadf8\\ub54c\", \"\\uadf8\\ub54c\", \"\\uadf8\\ub54c\", \"\\uadf8\\ub550\", \"\\uae08\\uc740\", \"\\uae08\\uc740\", \"\\uae08\\uc740\", \"\\uae08\\uc740\", \"\\uae30\\uc5b5\", \"\\uae30\\uc5b5\", \"\\uae40\\uc591\", \"\\ub098\\uc774\", \"\\ub098\\uc774\", \"\\ub098\\uc774\", \"\\ub098\\uc774\", \"\\ub098\\uc911\", \"\\ub098\\ucd08\", \"\\ub098\\ud6c8\\uc544\", \"\\ub0a8\\ub140\", \"\\ub144\\ub300\", \"\\ub144\\ub300\", \"\\ub178\\ub798\", \"\\ub178\\ub798\", \"\\ub178\\ub798\", \"\\ub178\\ub798\", \"\\ub178\\ub798\\ubc29\", \"\\ub178\\ub798\\ubc29\", \"\\ub178\\ub798\\ubc29\", \"\\ub178\\uc18c\", \"\\ub204\\ub098\", \"\\ub290\\ub08c\", \"\\ub290\\ub08c\", \"\\ub2e4\\uc0ac\", \"\\ub2e4\\uc2dc\", \"\\ub2e4\\uc2dc\", \"\\ub2e4\\uc2dc\", \"\\ub2e4\\uc2dc\", \"\\ub2ed\\uaf2c\\uce58\", \"\\ub2f9\\uc2dc\", \"\\ub2f9\\uc2dc\", \"\\ub2f9\\uc2dc\", \"\\ub2f9\\uc2dc\", \"\\ub2f9\\uc2e0\", \"\\ub2f9\\uc2e0\", \"\\ub2f9\\uc2e0\", \"\\ub300\\ubc15\", \"\\ub300\\ubc15\", \"\\ub300\\ubc15\", \"\\ub300\\uc0c1\", \"\\ub300\\uc0c1\", \"\\ub304\\uc2a4\", \"\\ub358\\ub370\", \"\\ub370\\ubdd4\", \"\\ub370\\ubdd4\", \"\\ub370\\ubdd4\", \"\\ub370\\uc774\", \"\\ub3c4\\uacbd\\uc644\", \"\\ub3c4\\uacbd\\uc644\", \"\\ub3c4\\ubaa8\", \"\\ub3c4\\ud558\", \"\\ub3c4\\ud558\", \"\\ub3c4\\ud558\", \"\\ub3d9\\ub144\\ubc30\", \"\\ub550\\uc880\", \"\\ub798\\ubbf8\", \"\\ub9c8\\ub2d8\", \"\\ub9c8\\uc2a4\\ud130\", \"\\ub9c8\\uc2a4\\ud130\", \"\\ub9db\\uae54\", \"\\ub9e4\\uc77c\\uc5c4\\ub9c8\", \"\\uba54\\ub4e4\\ub9ac\", \"\\uba74\\uc11c\", \"\\uba85\\uace1\", \"\\uba85\\uace1\", \"\\uba87\\uc0b4\", \"\\ubaa8\\ub4e0\", \"\\ubaa8\\uc2b5\", \"\\ubaa8\\uc2b5\", \"\\ubaa8\\uc2b5\", \"\\ubaa8\\uc2b5\", \"\\ubaa9\\uc18c\\ub9ac\", \"\\ubaa9\\uc18c\\ub9ac\", \"\\ubaa9\\uc18c\\ub9ac\", \"\\ubaa9\\uc18c\\ub9ac\", \"\\ubb38\\ubc29\\uad6c\", \"\\ubb49\\ud14c\\uae30\", \"\\ubbf8\\ub178\", \"\\ubbf8\\uc2a4\\ud130\", \"\\ubc15\\ud604\\ube48\", \"\\ubc15\\ud604\\ube48\", \"\\ubc15\\ud604\\ube48\", \"\\ubc1c\\uc74c\", \"\\ubc29\\ubd80\", \"\\ubc30\\ub824\", \"\\ubc84\\uc2a4\\ube44\", \"\\ubc8c\\uc368\", \"\\ubc8c\\uc368\", \"\\ubc95\\uc9c0\", \"\\ubca8\\uc18c\\ub9ac\", \"\\ubcc4\\ub85c\", \"\\ubcc4\\ub85c\", \"\\ubcf4\\uae30\", \"\\ubcf4\\uae30\", \"\\ubcf8\\uc778\", \"\\ubcf8\\uc778\", \"\\ubcf8\\uc778\", \"\\ubd80\\ubaa8\", \"\\ubd80\\ubaa8\", \"\\ubd80\\uc871\\ud568\", \"\\ubd88\\ubb38\", \"\\ubd88\\uc138\\ucd9c\", \"\\ube44\\uc8fc\\ub958\", \"\\ube48\\uc190\", \"\\uc0ac\\ub78c\", \"\\uc0ac\\ub78c\", \"\\uc0ac\\ub78c\", \"\\uc0ac\\ub78c\", \"\\uc0ac\\ub791\", \"\\uc0ac\\ub791\", \"\\uc0ac\\ub791\", \"\\uc0b4\\ub54c\", \"\\uc0b4\\ub54c\", \"\\uc0b4\\ub54c\", \"\\uc0b4\\uc774\", \"\\uc0b4\\uc774\", \"\\uc0b4\\uc774\", \"\\uc0b4\\uc774\", \"\\uc0c1\\ud07c\", \"\\uc0c1\\ud0dc\", \"\\uc0dd\\uac01\", \"\\uc0dd\\uac01\", \"\\uc0dd\\uac01\", \"\\uc0dd\\uac01\", \"\\uc11c\\uc190\", \"\\uc11c\\uc9c0\", \"\\uc11c\\ud504\\ub77c\\uc774\\uc988\", \"\\uc11c\\ud504\\ub77c\\uc774\\uc988\", \"\\uc11c\\ud504\\ub77c\\uc774\\uc988\", \"\\uc138\\ub300\", \"\\uc138\\uc0c1\", \"\\uc138\\uc6d4\", \"\\uc138\\uc6d4\", \"\\uc138\\uc6d4\", \"\\uc138\\uc6d4\", \"\\uc140\\ud504\", \"\\uc18c\\ub9ac\", \"\\uc18c\\ub9ac\", \"\\uc18c\\ub9ac\", \"\\uc19c\\uc0ac\\ud0d5\", \"\\uc1a1\\uac00\", \"\\uc1a1\\uac00\", \"\\uc2b5\\uae30\", \"\\uc2dc\\ubc1c\", \"\\uc2dc\\uc791\", \"\\uc2dc\\uc808\", \"\\uc2dc\\uc808\", \"\\uc2e0\\ub4dc\\ub86c\", \"\\uc2e0\\ub4dc\\ub86c\", \"\\uc2e0\\ub4dc\\ub86c\", \"\\uc2e0\\ub4dc\\ub86c\", \"\\uc2e0\\uc778\\uc2dc\\uc808\", \"\\uc544\\ub4e4\", \"\\uc544\\ub9ac\", \"\\uc544\\uc90c\\ub9c8\", \"\\uc548\\ub098\", \"\\uc54c\\ub9ac\", \"\\uc57c\\uc678\", \"\\uc57d\\uac04\", \"\\uc5b4\\ub3c4\", \"\\uc5b4\\ub978\", \"\\uc5b4\\ub978\", \"\\uc5b4\\ub978\", \"\\uc5b4\\uba38\\ub098\", \"\\uc5b4\\uba38\\ub098\", \"\\uc5b4\\uba38\\ub098\", \"\\uc5b4\\uba38\\ub098\", \"\\uc5bc\\uad74\", \"\\uc5bc\\uad74\", \"\\uc5bc\\uad74\", \"\\uc5bc\\ub9c8\\ub098\", \"\\uc5c4\\ub9c8\", \"\\uc5c4\\ub9c8\", \"\\uc5c4\\ub9c8\", \"\\uc5c4\\ub9c8\", \"\\uc5c4\\uc815\\ud654\", \"\\uc5d0\\uc9c0\", \"\\uc5d8\\uc9c0\", \"\\uc5d8\\uc9c0\", \"\\uc5e0\\ube44\\uc528\", \"\\uc5ec\\uc0ac\", \"\\uc5f0\\ub839\", \"\\uc5f0\\uc6b0\", \"\\uc5f0\\uc6b0\", \"\\uc5f0\\uc6b0\", \"\\uc5f0\\uc6b0\", \"\\uc601\\uc0c1\", \"\\uc644\\uc804\", \"\\uc644\\uc804\", \"\\uc644\\uc804\", \"\\uc644\\uc804\", \"\\uc694\\uc998\", \"\\uc694\\uc998\", \"\\uc694\\uc998\", \"\\uc6d0\\uc8fc\\uace0\", \"\\uc720\\uce58\\uc6d0\", \"\\uc720\\uce58\\uc6d0\", \"\\uc720\\uce58\\uc6d0\", \"\\uc720\\uce58\\uc6d0\", \"\\uc724\\uc815\", \"\\uc724\\uc815\", \"\\uc724\\uc815\", \"\\uc724\\uc815\", \"\\uc751\\uc6d0\", \"\\uc774\\uace1\", \"\\uc774\\uace1\", \"\\uc774\\ubaa8\", \"\\uc774\\uc2a4\", \"\\uc774\\uc2ed\", \"\\uc774\\uc608\", \"\\uc778\\uae30\", \"\\uc778\\uae30\", \"\\uc778\\uae30\", \"\\uc778\\uc0dd\", \"\\uc778\\uc2dd\", \"\\uc77c\\uac70\\uc218\\uc77c\\ud22c\\uc871\", \"\\uc790\\ub791\", \"\\uc790\\ub791\", \"\\uc790\\uccb4\", \"\\uc790\\uccb4\", \"\\uc790\\uccb4\", \"\\uc7a5\\uc724\\uc815\", \"\\uc7a5\\uc724\\uc815\", \"\\uc7a5\\uc724\\uc815\", \"\\uc7a5\\uc724\\uc815\", \"\\uc804\\uc774\", \"\\uc804\\uc774\", \"\\uc804\\ud5a5\", \"\\uc815\\ub3c4\", \"\\uc815\\ub3c4\", \"\\uc815\\ub3c4\", \"\\uc815\\ub3c4\", \"\\uc815\\ub9d0\", \"\\uc815\\ub9d0\", \"\\uc815\\ub9d0\", \"\\uc81c\\uc758\", \"\\uc870\\uba85\", \"\\uc874\\uacbd\", \"\\uc8fc\\ub958\", \"\\uc8fc\\ud604\\ubbf8\", \"\\uc8fc\\ud604\\ubbf8\", \"\\uc90c\\ub9c8\", \"\\uc9c0\\uae08\", \"\\uc9c0\\uae08\", \"\\uc9c0\\uae08\", \"\\uc9c0\\uae08\", \"\\uc9c4\\uc2e4\", \"\\uc9c4\\uc9dc\", \"\\uc9c4\\uc9dc\", \"\\uc9c4\\uc9dc\", \"\\uc9c4\\uc9dc\", \"\\ucc38\\uc5b4\", \"\\ucc3d\\ubc95\", \"\\ucc98\\uc74c\", \"\\ucc98\\uc74c\", \"\\ucc98\\uc74c\", \"\\uccad\\uc18c\\ub144\", \"\\ucd08\\ub529\", \"\\ucd08\\ub529\", \"\\ucd08\\ub529\", \"\\ucd08\\ub54c\", \"\\ucd08\\ud63c\", \"\\ucd5c\\uace0\", \"\\ucd5c\\uace0\", \"\\ucd5c\\uace0\", \"\\ucd5c\\uace0\", \"\\ucd5c\\uc560\", \"\\ucd5c\\ucd08\", \"\\ucd9c\\uc5f0\", \"\\ucd9c\\uc5f0\", \"\\uce5c\\uad6c\", \"\\uce5c\\uad6c\", \"\\ucf00\\uc774\\uc2a4\", \"\\ucf67\\uc18c\\ub9ac\", \"\\ucf67\\uc18c\\ub9ac\", \"\\ud2b8\\ub85c\\ud2b8\", \"\\ud2b8\\ub85c\\ud2b8\", \"\\ud2b8\\ub85c\\ud2b8\", \"\\ud2b8\\ub85c\\ud2b8\", \"\\ud2b8\\ub86f\", \"\\ud2b8\\ub86f\", \"\\ud2b8\\ub86f\", \"\\ud2b8\\ub86f\", \"\\ud30c\\ud2f0\", \"\\ud310\\ubc15\\uc774\", \"\\ud310\\ubc15\\uc774\", \"\\ud328\\uac00\\ub9dd\\uc2e0\", \"\\ud45c\\ud604\", \"\\ud4e8\\uc804\", \"\\ud559\\ub144\", \"\\ud559\\uc6d0\", \"\\ud55c\\ubc88\", \"\\ud578\\ub4dc\\ud3f0\", \"\\ud578\\ub4dc\\ud3f0\", \"\\ud578\\ub4dc\\ud3f0\", \"\\ud589\\uc0ac\", \"\\ud589\\uc0ac\", \"\\ud589\\uc0ac\", \"\\ud604\\uc7ac\", \"\\ud638\\uc758\\ud638\\uc2dd\", \"\\ud6c4\\ubc30\", \"\\ud6c4\\ubc30\", \"\\ud6c4\\ubc30\", \"\\ud788\\ud2b8\", \"\\ud788\\ud2b8\", \"\\ud788\\ud2b8\"]}, \"R\": 30, \"lambda.step\": 0.01, \"plot.opts\": {\"xlab\": \"PC1\", \"ylab\": \"PC2\"}, \"topic.order\": [1, 2, 4, 3]};\n",
       "\n",
       "function LDAvis_load_lib(url, callback){\n",
       "  var s = document.createElement('script');\n",
       "  s.src = url;\n",
       "  s.async = true;\n",
       "  s.onreadystatechange = s.onload = callback;\n",
       "  s.onerror = function(){console.warn(\"failed to load library \" + url);};\n",
       "  document.getElementsByTagName(\"head\")[0].appendChild(s);\n",
       "}\n",
       "\n",
       "if(typeof(LDAvis) !== \"undefined\"){\n",
       "   // already loaded: just create the visualization\n",
       "   !function(LDAvis){\n",
       "       new LDAvis(\"#\" + \"ldavis_el2374824821203619282047474420\", ldavis_el2374824821203619282047474420_data);\n",
       "   }(LDAvis);\n",
       "}else if(typeof define === \"function\" && define.amd){\n",
       "   // require.js is available: use it to load d3/LDAvis\n",
       "   require.config({paths: {d3: \"https://cdnjs.cloudflare.com/ajax/libs/d3/3.5.5/d3.min\"}});\n",
       "   require([\"d3\"], function(d3){\n",
       "      window.d3 = d3;\n",
       "      LDAvis_load_lib(\"https://cdn.rawgit.com/bmabey/pyLDAvis/files/ldavis.v1.0.0.js\", function(){\n",
       "        new LDAvis(\"#\" + \"ldavis_el2374824821203619282047474420\", ldavis_el2374824821203619282047474420_data);\n",
       "      });\n",
       "    });\n",
       "}else{\n",
       "    // require.js not available: dynamically load d3 & LDAvis\n",
       "    LDAvis_load_lib(\"https://cdnjs.cloudflare.com/ajax/libs/d3/3.5.5/d3.min.js\", function(){\n",
       "         LDAvis_load_lib(\"https://cdn.rawgit.com/bmabey/pyLDAvis/files/ldavis.v1.0.0.js\", function(){\n",
       "                 new LDAvis(\"#\" + \"ldavis_el2374824821203619282047474420\", ldavis_el2374824821203619282047474420_data);\n",
       "            })\n",
       "         });\n",
       "}\n",
       "</script>"
      ],
      "text/plain": [
       "PreparedData(topic_coordinates=              x         y  topics  cluster       Freq\n",
       "topic                                                \n",
       "0     -0.032357  0.084130       1        1  30.984503\n",
       "1     -0.083631 -0.053993       2        1  25.288221\n",
       "3      0.057319  0.018680       3        1  22.909914\n",
       "2      0.058669 -0.048817       4        1  20.817366, topic_info=    Term       Freq      Total Category  logprob  loglift\n",
       "12    엄마  17.000000  17.000000  Default  30.0000  30.0000\n",
       "204   트롯  17.000000  17.000000  Default  29.0000  29.0000\n",
       "2    장윤정  83.000000  83.000000  Default  28.0000  28.0000\n",
       "59   어머나  47.000000  47.000000  Default  27.0000  27.0000\n",
       "6     노래  72.000000  72.000000  Default  26.0000  26.0000\n",
       "..   ...        ...        ...      ...      ...      ...\n",
       "13    연우   2.594759  14.482233   Topic4  -5.1624  -0.1500\n",
       "18    당시   2.090957   6.921640   Topic4  -5.3782   0.3724\n",
       "224   윤정   2.434244  17.790283   Topic4  -5.2262  -0.4196\n",
       "1    박현빈   1.795330   4.850276   Topic4  -5.5307   0.5755\n",
       "202   가수   2.194209  17.558159   Topic4  -5.3300  -0.5103\n",
       "\n",
       "[261 rows x 6 columns], token_table=      Topic      Freq Term\n",
       "term                      \n",
       "92        1  0.354959   가사\n",
       "92        2  0.177479   가사\n",
       "92        3  0.354959   가사\n",
       "92        4  0.177479   가사\n",
       "202       1  0.341721   가수\n",
       "...     ...       ...  ...\n",
       "722       3  0.482589   후배\n",
       "722       4  0.241294   후배\n",
       "70        1  0.409883   히트\n",
       "70        3  0.204941   히트\n",
       "70        4  0.409883   히트\n",
       "\n",
       "[345 rows x 3 columns], R=30, lambda_step=0.01, plot_opts={'xlab': 'PC1', 'ylab': 'PC2'}, topic_order=[1, 2, 4, 3])"
      ]
     },
     "execution_count": 18,
     "metadata": {},
     "output_type": "execute_result"
    }
   ],
   "source": [
    "import pyLDAvis\n",
    "import pyLDAvis.gensim\n",
    "\n",
    "pyLDAvis.enable_notebook()\n",
    "vis = pyLDAvis.gensim.prepare(ldamodel,corpus,dictionary)\n",
    "vis"
   ]
  },
  {
   "cell_type": "code",
   "execution_count": null,
   "metadata": {},
   "outputs": [],
   "source": []
  }
 ],
 "metadata": {
  "kernelspec": {
   "display_name": "Python 3",
   "language": "python",
   "name": "python3"
  },
  "language_info": {
   "codemirror_mode": {
    "name": "ipython",
    "version": 3
   },
   "file_extension": ".py",
   "mimetype": "text/x-python",
   "name": "python",
   "nbconvert_exporter": "python",
   "pygments_lexer": "ipython3",
   "version": "3.7.6"
  }
 },
 "nbformat": 4,
 "nbformat_minor": 4
}
