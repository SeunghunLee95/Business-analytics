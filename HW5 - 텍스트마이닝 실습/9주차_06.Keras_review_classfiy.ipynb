{
 "cells": [
  {
   "cell_type": "markdown",
   "metadata": {},
   "source": [
    "# Keras embedding을 이용한 문서 분류 "
   ]
  },
  {
   "cell_type": "code",
   "execution_count": 1,
   "metadata": {},
   "outputs": [
    {
     "name": "stdout",
     "output_type": "stream",
     "text": [
      "Reviews count: 2000\n",
      "Length of the first review: 4043\n",
      "Labels: {'neg', 'pos'}\n"
     ]
    }
   ],
   "source": [
    "from nltk.corpus import movie_reviews\n",
    "fileids = movie_reviews.fileids() #movie review data에서 file id를 가져옴\n",
    "reviews = [movie_reviews.raw(fileid) for fileid in fileids] #file id를 이용해 raw text file을 가져옴\n",
    "categories = [movie_reviews.categories(fileid)[0] for fileid in fileids] \n",
    "#file id를 이용해 label로 사용할 category 즉 positive와 negative 정보를 순서대로 가져옴\n",
    "\n",
    "print('Reviews count:', len(reviews))\n",
    "print('Length of the first review:', len(reviews[0]))\n",
    "print('Labels:', set(categories))"
   ]
  },
  {
   "cell_type": "code",
   "execution_count": 3,
   "metadata": {},
   "outputs": [
    {
     "name": "stderr",
     "output_type": "stream",
     "text": [
      "Using TensorFlow backend.\n",
      "C:\\Users\\User\\anaconda3\\lib\\site-packages\\tensorflow\\python\\framework\\dtypes.py:516: FutureWarning: Passing (type, 1) or '1type' as a synonym of type is deprecated; in a future version of numpy, it will be understood as (type, (1,)) / '(1,)type'.\n",
      "  _np_qint8 = np.dtype([(\"qint8\", np.int8, 1)])\n",
      "C:\\Users\\User\\anaconda3\\lib\\site-packages\\tensorflow\\python\\framework\\dtypes.py:517: FutureWarning: Passing (type, 1) or '1type' as a synonym of type is deprecated; in a future version of numpy, it will be understood as (type, (1,)) / '(1,)type'.\n",
      "  _np_quint8 = np.dtype([(\"quint8\", np.uint8, 1)])\n",
      "C:\\Users\\User\\anaconda3\\lib\\site-packages\\tensorflow\\python\\framework\\dtypes.py:518: FutureWarning: Passing (type, 1) or '1type' as a synonym of type is deprecated; in a future version of numpy, it will be understood as (type, (1,)) / '(1,)type'.\n",
      "  _np_qint16 = np.dtype([(\"qint16\", np.int16, 1)])\n",
      "C:\\Users\\User\\anaconda3\\lib\\site-packages\\tensorflow\\python\\framework\\dtypes.py:519: FutureWarning: Passing (type, 1) or '1type' as a synonym of type is deprecated; in a future version of numpy, it will be understood as (type, (1,)) / '(1,)type'.\n",
      "  _np_quint16 = np.dtype([(\"quint16\", np.uint16, 1)])\n",
      "C:\\Users\\User\\anaconda3\\lib\\site-packages\\tensorflow\\python\\framework\\dtypes.py:520: FutureWarning: Passing (type, 1) or '1type' as a synonym of type is deprecated; in a future version of numpy, it will be understood as (type, (1,)) / '(1,)type'.\n",
      "  _np_qint32 = np.dtype([(\"qint32\", np.int32, 1)])\n",
      "C:\\Users\\User\\anaconda3\\lib\\site-packages\\tensorflow\\python\\framework\\dtypes.py:525: FutureWarning: Passing (type, 1) or '1type' as a synonym of type is deprecated; in a future version of numpy, it will be understood as (type, (1,)) / '(1,)type'.\n",
      "  np_resource = np.dtype([(\"resource\", np.ubyte, 1)])\n",
      "C:\\Users\\User\\anaconda3\\lib\\site-packages\\tensorboard\\compat\\tensorflow_stub\\dtypes.py:541: FutureWarning: Passing (type, 1) or '1type' as a synonym of type is deprecated; in a future version of numpy, it will be understood as (type, (1,)) / '(1,)type'.\n",
      "  _np_qint8 = np.dtype([(\"qint8\", np.int8, 1)])\n",
      "C:\\Users\\User\\anaconda3\\lib\\site-packages\\tensorboard\\compat\\tensorflow_stub\\dtypes.py:542: FutureWarning: Passing (type, 1) or '1type' as a synonym of type is deprecated; in a future version of numpy, it will be understood as (type, (1,)) / '(1,)type'.\n",
      "  _np_quint8 = np.dtype([(\"quint8\", np.uint8, 1)])\n",
      "C:\\Users\\User\\anaconda3\\lib\\site-packages\\tensorboard\\compat\\tensorflow_stub\\dtypes.py:543: FutureWarning: Passing (type, 1) or '1type' as a synonym of type is deprecated; in a future version of numpy, it will be understood as (type, (1,)) / '(1,)type'.\n",
      "  _np_qint16 = np.dtype([(\"qint16\", np.int16, 1)])\n",
      "C:\\Users\\User\\anaconda3\\lib\\site-packages\\tensorboard\\compat\\tensorflow_stub\\dtypes.py:544: FutureWarning: Passing (type, 1) or '1type' as a synonym of type is deprecated; in a future version of numpy, it will be understood as (type, (1,)) / '(1,)type'.\n",
      "  _np_quint16 = np.dtype([(\"quint16\", np.uint16, 1)])\n",
      "C:\\Users\\User\\anaconda3\\lib\\site-packages\\tensorboard\\compat\\tensorflow_stub\\dtypes.py:545: FutureWarning: Passing (type, 1) or '1type' as a synonym of type is deprecated; in a future version of numpy, it will be understood as (type, (1,)) / '(1,)type'.\n",
      "  _np_qint32 = np.dtype([(\"qint32\", np.int32, 1)])\n",
      "C:\\Users\\User\\anaconda3\\lib\\site-packages\\tensorboard\\compat\\tensorflow_stub\\dtypes.py:550: FutureWarning: Passing (type, 1) or '1type' as a synonym of type is deprecated; in a future version of numpy, it will be understood as (type, (1,)) / '(1,)type'.\n",
      "  np_resource = np.dtype([(\"resource\", np.ubyte, 1)])\n"
     ]
    },
    {
     "name": "stdout",
     "output_type": "stream",
     "text": [
      "num of tokens: 43296\n"
     ]
    }
   ],
   "source": [
    "from keras.preprocessing.text import Tokenizer\n",
    "\n",
    "max_words = 10000\n",
    "\n",
    "tokenizer = Tokenizer(num_words=max_words)\n",
    "tokenizer.fit_on_texts(reviews)\n",
    "\n",
    "X = tokenizer.texts_to_sequences(reviews)\n",
    "# 일반적으로 0이면 unknown, 즉 전체단어의 수가 10000개 - num_words가 넘을 경우, index가 10000-1(for unknown)을 넘어가는 단어는 0으로 처리함\n",
    "#onehot_train = tokenizer.texts_to_matrix(X_train, mode='binary')\n",
    "\n",
    "print('num of tokens:', len(tokenizer.word_index))"
   ]
  },
  {
   "cell_type": "code",
   "execution_count": 4,
   "metadata": {},
   "outputs": [
    {
     "data": {
      "text/plain": [
       "(2000, 10000)"
      ]
     },
     "execution_count": 4,
     "metadata": {},
     "output_type": "execute_result"
    }
   ],
   "source": [
    "bow = tokenizer.texts_to_matrix(reviews, mode='binary')\n",
    "bow.shape"
   ]
  },
  {
   "cell_type": "code",
   "execution_count": 5,
   "metadata": {},
   "outputs": [
    {
     "name": "stdout",
     "output_type": "stream",
     "text": [
      "[  38    1  328   52   20  769   52   20   52   20    2    4  910  114\n",
      "   52   20 5277    4 1386  171    8  632    3   63    4    9    6  321\n",
      "   25 1957  143   18 2926  120  301  254    5 9489    2   15  150  143\n",
      "    3  102   16   44   35    9   91    6  256  103    1  164 2851  100\n",
      "    3  100  208   18   72  259    4 4077   42   82    2   94   45    6\n",
      "   14  247  954  353   37  613  294   14  133  801    5 3146   16    9\n",
      "  138    5  257    5 3146    9  308  313   64  369  493  226    3   75\n",
      "   36   86  171  439 2795   46   56 1747    7    1 5675   25   92    1\n",
      " 1280  204    6    8    1 4078    3   18  158 5676   19 1711   38   14\n",
      "   39   62  175 4079   63    4    9   40   21    1  268   84  212   39\n",
      "   35    4    1   82    8  197  442    5   86    2   98  251    4  261\n",
      "   16    9  137  248    1   86    1   15   35    8   43  439   18  618\n",
      "    1 1486  311   11  121   38   14    6    8   34  167  245   86  276\n",
      "    8    1  161    6   55    9   56  141   36   20  284    1  801    5\n",
      " 2016  169  145    4 2329   18  570  963 7840  426  221   28 3863   12\n",
      "   41 1430  226  457    1   26    6   50 1684 3592 1123   62   72    9\n",
      "   52   20  101 3024   33    3   62  120  118   27   36   20   75   62\n",
      "   92  437    5   83    9  100    3  100  208   96   41  665  132  316\n",
      "  114 3288 1044 2440   55   35    4    1  159  149    7    1   26  682\n",
      "    1  929  874   14   15  221   28   64  123    3    9   42  491    3\n",
      "    9  336   52 8856   69    2  271  875  948  301 6461   26    7  128\n",
      " 1102   16   18  618    1 2852 1325    8 1729    9   55    2  289  431\n",
      "   11   98 1326   68   86   43  261    1  209   20  271   61   12    1\n",
      "   63  204  187 2594   50  675    5   22  388    1 2109  164   74    8\n",
      "   17  197    7  258 1034   57    7    2  113 5278   16  106  954 5279\n",
      "  130   40    5   27 1543   33  181  457    1  339   15    3  175   32\n",
      "   34  621   33 1526  898    1   15  116 1993   85    9  116 2476   37\n",
      " 1471    9 1358    3    9  648  271 7098   12   63    4   64  400    2\n",
      "  271  690  324    3 1994    5   35    4    1    8  770  141    9  657\n",
      "    3   21    1   84   14    6   25    2  295   46  948 1649  731   37\n",
      "   50    5  177    8   84   85  371    6  682 6792    8    1  521    6\n",
      "  137 1132   11    1  440    9   71 3210  460   76  174  714    3   32\n",
      "   69 1487   19    1 7443  193  194 1045 2853    9 3980 4204  504   28\n",
      "    2 2214    4 7099 1003  640 1211  302 1446 1315  314 1211  302    1\n",
      " 2518 1853  302    1 2518 7100  749  302  341 4203  302  302 8855  302\n",
      "  302    1  485 1853  302 4341    4 3864 1022  302]\n"
     ]
    }
   ],
   "source": [
    "from keras import preprocessing\n",
    "\n",
    "maxlen = 500\n",
    "\n",
    "X = preprocessing.sequence.pad_sequences(X, maxlen=maxlen, truncating='pre')\n",
    "print(X[0])"
   ]
  },
  {
   "cell_type": "code",
   "execution_count": 6,
   "metadata": {},
   "outputs": [
    {
     "name": "stdout",
     "output_type": "stream",
     "text": [
      "[1, 1, 1, 1, 1, 1, 1, 1, 1, 1]\n"
     ]
    }
   ],
   "source": [
    "label_dict = {'pos':0, 'neg':1}\n",
    "y = [label_dict[c] for c in categories]\n",
    "print(y[:10])"
   ]
  },
  {
   "cell_type": "code",
   "execution_count": 7,
   "metadata": {},
   "outputs": [
    {
     "name": "stdout",
     "output_type": "stream",
     "text": [
      "Train set count: 1600\n",
      "Test set count: 400\n",
      "Test samples: [1, 0, 0, 1, 0, 0, 1, 1, 1, 1, 0, 0, 1, 1, 0, 1, 1, 0, 0, 0]\n"
     ]
    }
   ],
   "source": [
    "from sklearn.model_selection import train_test_split #sklearn에서 제공하는 split 함수를 사용\n",
    "X_train, X_test, y_train, y_test = train_test_split(X, y, test_size=0.2, random_state=10)\n",
    "\n",
    "print('Train set count:', len(X_train))\n",
    "print('Test set count:', len(X_test))\n",
    "print('Test samples:', y_test[:20])"
   ]
  },
  {
   "cell_type": "code",
   "execution_count": 8,
   "metadata": {},
   "outputs": [
    {
     "name": "stdout",
     "output_type": "stream",
     "text": [
      "WARNING:tensorflow:From C:\\Users\\User\\anaconda3\\lib\\site-packages\\tensorflow\\python\\ops\\nn_impl.py:180: add_dispatch_support.<locals>.wrapper (from tensorflow.python.ops.array_ops) is deprecated and will be removed in a future version.\n",
      "Instructions for updating:\n",
      "Use tf.where in 2.0, which has the same broadcast rule as np.where\n",
      "Model: \"sequential_1\"\n",
      "_________________________________________________________________\n",
      "Layer (type)                 Output Shape              Param #   \n",
      "=================================================================\n",
      "embedding_1 (Embedding)      (None, 500, 32)           320000    \n",
      "_________________________________________________________________\n",
      "flatten_1 (Flatten)          (None, 16000)             0         \n",
      "_________________________________________________________________\n",
      "dense_1 (Dense)              (None, 1)                 16001     \n",
      "=================================================================\n",
      "Total params: 336,001\n",
      "Trainable params: 336,001\n",
      "Non-trainable params: 0\n",
      "_________________________________________________________________\n",
      "WARNING:tensorflow:From C:\\Users\\User\\anaconda3\\lib\\site-packages\\keras\\backend\\tensorflow_backend.py:422: The name tf.global_variables is deprecated. Please use tf.compat.v1.global_variables instead.\n",
      "\n",
      "Train on 1280 samples, validate on 320 samples\n",
      "Epoch 1/30\n",
      "1280/1280 [==============================] - 1s 689us/step - loss: 0.6935 - acc: 0.5063 - val_loss: 0.6926 - val_acc: 0.5344\n",
      "Epoch 2/30\n",
      "1280/1280 [==============================] - 0s 345us/step - loss: 0.6392 - acc: 0.8938 - val_loss: 0.6912 - val_acc: 0.5156\n",
      "Epoch 3/30\n",
      "1280/1280 [==============================] - 0s 335us/step - loss: 0.5962 - acc: 0.9453 - val_loss: 0.6890 - val_acc: 0.5188\n",
      "Epoch 4/30\n",
      "1280/1280 [==============================] - 0s 334us/step - loss: 0.5503 - acc: 0.9578 - val_loss: 0.6861 - val_acc: 0.5406\n",
      "Epoch 5/30\n",
      "1280/1280 [==============================] - 0s 333us/step - loss: 0.5004 - acc: 0.9789 - val_loss: 0.6822 - val_acc: 0.5437\n",
      "Epoch 6/30\n",
      "1280/1280 [==============================] - 0s 310us/step - loss: 0.4486 - acc: 0.9805 - val_loss: 0.6773 - val_acc: 0.5750\n",
      "Epoch 7/30\n",
      "1280/1280 [==============================] - 0s 268us/step - loss: 0.3956 - acc: 0.9961 - val_loss: 0.6713 - val_acc: 0.5875\n",
      "Epoch 8/30\n",
      "1280/1280 [==============================] - 0s 282us/step - loss: 0.3448 - acc: 0.9930 - val_loss: 0.6644 - val_acc: 0.5813\n",
      "Epoch 9/30\n",
      "1280/1280 [==============================] - 0s 299us/step - loss: 0.2957 - acc: 0.9977 - val_loss: 0.6568 - val_acc: 0.5969\n",
      "Epoch 10/30\n",
      "1280/1280 [==============================] - 0s 301us/step - loss: 0.2512 - acc: 0.9953 - val_loss: 0.6496 - val_acc: 0.6187\n",
      "Epoch 11/30\n",
      "1280/1280 [==============================] - 0s 303us/step - loss: 0.2108 - acc: 0.9984 - val_loss: 0.6408 - val_acc: 0.6313\n",
      "Epoch 12/30\n",
      "1280/1280 [==============================] - 0s 297us/step - loss: 0.1757 - acc: 0.9984 - val_loss: 0.6331 - val_acc: 0.6375\n",
      "Epoch 13/30\n",
      "1280/1280 [==============================] - 0s 317us/step - loss: 0.1454 - acc: 0.9977 - val_loss: 0.6283 - val_acc: 0.6438\n",
      "Epoch 14/30\n",
      "1280/1280 [==============================] - 0s 354us/step - loss: 0.1195 - acc: 1.0000 - val_loss: 0.6174 - val_acc: 0.6594\n",
      "Epoch 15/30\n",
      "1280/1280 [==============================] - 0s 369us/step - loss: 0.0976 - acc: 1.0000 - val_loss: 0.6107 - val_acc: 0.6719\n",
      "Epoch 16/30\n",
      "1280/1280 [==============================] - 1s 392us/step - loss: 0.0795 - acc: 1.0000 - val_loss: 0.6040 - val_acc: 0.6750\n",
      "Epoch 17/30\n",
      "1280/1280 [==============================] - 0s 300us/step - loss: 0.0644 - acc: 1.0000 - val_loss: 0.5970 - val_acc: 0.6906\n",
      "Epoch 18/30\n",
      "1280/1280 [==============================] - 0s 285us/step - loss: 0.0521 - acc: 1.0000 - val_loss: 0.5924 - val_acc: 0.6812\n",
      "Epoch 19/30\n",
      "1280/1280 [==============================] - 0s 276us/step - loss: 0.0417 - acc: 1.0000 - val_loss: 0.5868 - val_acc: 0.6906\n",
      "Epoch 20/30\n",
      "1280/1280 [==============================] - 0s 359us/step - loss: 0.0337 - acc: 1.0000 - val_loss: 0.5825 - val_acc: 0.6938\n",
      "Epoch 21/30\n",
      "1280/1280 [==============================] - 0s 353us/step - loss: 0.0269 - acc: 1.0000 - val_loss: 0.5758 - val_acc: 0.6906\n",
      "Epoch 22/30\n",
      "1280/1280 [==============================] - 0s 316us/step - loss: 0.0216 - acc: 1.0000 - val_loss: 0.5722 - val_acc: 0.6906\n",
      "Epoch 23/30\n",
      "1280/1280 [==============================] - 0s 292us/step - loss: 0.0171 - acc: 1.0000 - val_loss: 0.5682 - val_acc: 0.6906\n",
      "Epoch 24/30\n",
      "1280/1280 [==============================] - 0s 318us/step - loss: 0.0137 - acc: 1.0000 - val_loss: 0.5654 - val_acc: 0.7094\n",
      "Epoch 25/30\n",
      "1280/1280 [==============================] - 0s 351us/step - loss: 0.0108 - acc: 1.0000 - val_loss: 0.5625 - val_acc: 0.7000\n",
      "Epoch 26/30\n",
      "1280/1280 [==============================] - 0s 325us/step - loss: 0.0086 - acc: 1.0000 - val_loss: 0.5584 - val_acc: 0.7063\n",
      "Epoch 27/30\n",
      "1280/1280 [==============================] - 0s 371us/step - loss: 0.0068 - acc: 1.0000 - val_loss: 0.5551 - val_acc: 0.7094\n",
      "Epoch 28/30\n",
      "1280/1280 [==============================] - 0s 303us/step - loss: 0.0054 - acc: 1.0000 - val_loss: 0.5551 - val_acc: 0.7063\n",
      "Epoch 29/30\n",
      "1280/1280 [==============================] - 0s 315us/step - loss: 0.0043 - acc: 1.0000 - val_loss: 0.5540 - val_acc: 0.7094\n",
      "Epoch 30/30\n",
      "1280/1280 [==============================] - 0s 256us/step - loss: 0.0034 - acc: 1.0000 - val_loss: 0.5514 - val_acc: 0.7156\n"
     ]
    }
   ],
   "source": [
    "from keras.models import Sequential\n",
    "from keras.layers import Flatten, Dense, Embedding\n",
    "\n",
    "model = Sequential()\n",
    "model.add(Embedding(max_words, 32, input_length=maxlen))\n",
    "model.add(Flatten())\n",
    "model.add(Dense(1, activation='sigmoid'))\n",
    "model.compile(optimizer='rmsprop', loss='binary_crossentropy', metrics=['acc'])\n",
    "model.summary()\n",
    "\n",
    "history = model.fit(X_train, y_train, \n",
    "                    epochs=30,\n",
    "                    batch_size=256,\n",
    "                    validation_split=0.2)"
   ]
  },
  {
   "cell_type": "code",
   "execution_count": 9,
   "metadata": {},
   "outputs": [
    {
     "data": {
      "image/png": "[encoded data removed]",
      "text/plain": [
       "<Figure size 432x288 with 1 Axes>"
      ]
     },
     "metadata": {
      "needs_background": "light"
     },
     "output_type": "display_data"
    }
   ],
   "source": [
    "%matplotlib inline\n",
    "import matplotlib.pyplot as plt\n",
    "\n",
    "history_dict = history.history\n",
    "loss = history_dict['loss']\n",
    "val_loss = history_dict['val_loss']\n",
    "\n",
    "epochs = range(1, len(loss) + 1)\n",
    "\n",
    "plt.plot(epochs, loss, 'bo', label='Training loss')\n",
    "plt.plot(epochs, val_loss, 'r', label='Validation loss')\n",
    "plt.title('Training and validation loss')\n",
    "plt.xlabel('Epochs')\n",
    "plt.ylabel('Loss')\n",
    "plt.legend()\n",
    "\n",
    "plt.show()"
   ]
  },
  {
   "cell_type": "code",
   "execution_count": 10,
   "metadata": {},
   "outputs": [
    {
     "name": "stdout",
     "output_type": "stream",
     "text": [
      "400/400 [==============================] - 0s 180us/step\n",
      "[0.5627283751964569, 0.7124999761581421]\n"
     ]
    }
   ],
   "source": [
    "score = model.evaluate(X_test, y_test)\n",
    "print(score)"
   ]
  },
  {
   "cell_type": "code",
   "execution_count": 11,
   "metadata": {},
   "outputs": [
    {
     "name": "stdout",
     "output_type": "stream",
     "text": [
      "Model: \"sequential_2\"\n",
      "_________________________________________________________________\n",
      "Layer (type)                 Output Shape              Param #   \n",
      "=================================================================\n",
      "embedding_2 (Embedding)      (None, None, 32)          320000    \n",
      "_________________________________________________________________\n",
      "lstm_1 (LSTM)                (None, 32)                8320      \n",
      "_________________________________________________________________\n",
      "dense_2 (Dense)              (None, 1)                 33        \n",
      "=================================================================\n",
      "Total params: 328,353\n",
      "Trainable params: 328,353\n",
      "Non-trainable params: 0\n",
      "_________________________________________________________________\n"
     ]
    }
   ],
   "source": [
    "from keras.layers import SimpleRNN, LSTM\n",
    "\n",
    "model = Sequential()\n",
    "model.add(Embedding(max_words, 32))\n",
    "#model.add(SimpleRNN(32))\n",
    "model.add(LSTM(32))\n",
    "model.add(Dense(1, activation='sigmoid'))\n",
    "model.summary()"
   ]
  },
  {
   "cell_type": "code",
   "execution_count": 13,
   "metadata": {},
   "outputs": [
    {
     "name": "stdout",
     "output_type": "stream",
     "text": [
      "Train on 1280 samples, validate on 320 samples\n",
      "Epoch 1/30\n",
      "1280/1280 [==============================] - 15s 11ms/step - loss: 0.6926 - acc: 0.5156 - val_loss: 0.6917 - val_acc: 0.5688\n",
      "Epoch 2/30\n",
      "1280/1280 [==============================] - 10s 8ms/step - loss: 0.6848 - acc: 0.6680 - val_loss: 0.6876 - val_acc: 0.6062\n",
      "Epoch 3/30\n",
      "1280/1280 [==============================] - 10s 8ms/step - loss: 0.6589 - acc: 0.7594 - val_loss: 0.6708 - val_acc: 0.6156\n",
      "Epoch 4/30\n",
      "1280/1280 [==============================] - 9s 7ms/step - loss: 0.6057 - acc: 0.7453 - val_loss: 0.6570 - val_acc: 0.6250\n",
      "Epoch 5/30\n",
      "1280/1280 [==============================] - 9s 7ms/step - loss: 0.5388 - acc: 0.8234 - val_loss: 0.6244 - val_acc: 0.6719\n",
      "Epoch 6/30\n",
      "1280/1280 [==============================] - 12s 9ms/step - loss: 0.4874 - acc: 0.8219 - val_loss: 0.6198 - val_acc: 0.7188\n",
      "Epoch 7/30\n",
      "1280/1280 [==============================] - 11s 9ms/step - loss: 0.4481 - acc: 0.9062 - val_loss: 0.5457 - val_acc: 0.7656\n",
      "Epoch 8/30\n",
      "1280/1280 [==============================] - 12s 9ms/step - loss: 0.3572 - acc: 0.9250 - val_loss: 0.4919 - val_acc: 0.7719\n",
      "Epoch 9/30\n",
      "1280/1280 [==============================] - 11s 9ms/step - loss: 0.3781 - acc: 0.8930 - val_loss: 0.5730 - val_acc: 0.7031\n",
      "Epoch 10/30\n",
      "1280/1280 [==============================] - 10s 8ms/step - loss: 0.2964 - acc: 0.9469 - val_loss: 0.5777 - val_acc: 0.7094\n",
      "Epoch 11/30\n",
      "1280/1280 [==============================] - 10s 8ms/step - loss: 0.2409 - acc: 0.9570 - val_loss: 0.6041 - val_acc: 0.6969\n",
      "Epoch 12/30\n",
      "1280/1280 [==============================] - 11s 9ms/step - loss: 0.2849 - acc: 0.9367 - val_loss: 0.5091 - val_acc: 0.7625\n",
      "Epoch 13/30\n",
      "1280/1280 [==============================] - 12s 9ms/step - loss: 0.1948 - acc: 0.9516 - val_loss: 0.5212 - val_acc: 0.7625\n",
      "Epoch 14/30\n",
      "1280/1280 [==============================] - 17s 14ms/step - loss: 0.1977 - acc: 0.9906 - val_loss: 0.8735 - val_acc: 0.6719\n",
      "Epoch 15/30\n",
      "1280/1280 [==============================] - 15s 12ms/step - loss: 0.2399 - acc: 0.9367 - val_loss: 0.4727 - val_acc: 0.7875\n",
      "Epoch 16/30\n",
      "1280/1280 [==============================] - 12s 9ms/step - loss: 0.1183 - acc: 0.9922 - val_loss: 0.4638 - val_acc: 0.8125\n",
      "Epoch 17/30\n",
      "1280/1280 [==============================] - 10s 8ms/step - loss: 0.0988 - acc: 0.9937 - val_loss: 0.5260 - val_acc: 0.7781\n",
      "Epoch 18/30\n",
      "1280/1280 [==============================] - 10s 8ms/step - loss: 0.2283 - acc: 0.9250 - val_loss: 0.5603 - val_acc: 0.7281\n",
      "Epoch 19/30\n",
      "1280/1280 [==============================] - 11s 8ms/step - loss: 0.2333 - acc: 0.9734 - val_loss: 0.4899 - val_acc: 0.7844\n",
      "Epoch 20/30\n",
      "1280/1280 [==============================] - 11s 8ms/step - loss: 0.0942 - acc: 0.9977 - val_loss: 0.5051 - val_acc: 0.7781\n",
      "Epoch 21/30\n",
      "1280/1280 [==============================] - 11s 8ms/step - loss: 0.0674 - acc: 0.9977 - val_loss: 0.5419 - val_acc: 0.7750\n",
      "Epoch 22/30\n",
      "1280/1280 [==============================] - 10s 8ms/step - loss: 0.0610 - acc: 0.9969 - val_loss: 0.5497 - val_acc: 0.7750\n",
      "Epoch 23/30\n",
      "1280/1280 [==============================] - 11s 8ms/step - loss: 0.1319 - acc: 0.9789 - val_loss: 0.5421 - val_acc: 0.7563\n",
      "Epoch 24/30\n",
      "1280/1280 [==============================] - 11s 8ms/step - loss: 0.0841 - acc: 0.9977 - val_loss: 0.4519 - val_acc: 0.8094\n",
      "Epoch 25/30\n",
      "1280/1280 [==============================] - 10s 8ms/step - loss: 0.1007 - acc: 0.9812 - val_loss: 0.4572 - val_acc: 0.7969\n",
      "Epoch 26/30\n",
      "1280/1280 [==============================] - 10s 8ms/step - loss: 0.0471 - acc: 1.0000 - val_loss: 0.5304 - val_acc: 0.8000\n",
      "Epoch 27/30\n",
      "1280/1280 [==============================] - 9s 7ms/step - loss: 0.0386 - acc: 0.9992 - val_loss: 0.5996 - val_acc: 0.7875\n",
      "Epoch 28/30\n",
      "1280/1280 [==============================] - 10s 8ms/step - loss: 0.0360 - acc: 0.9992 - val_loss: 0.6052 - val_acc: 0.7875\n",
      "Epoch 29/30\n",
      "1280/1280 [==============================] - 15s 12ms/step - loss: 0.0321 - acc: 0.9992 - val_loss: 0.5638 - val_acc: 0.8000\n",
      "Epoch 30/30\n",
      "1280/1280 [==============================] - 13s 10ms/step - loss: 0.0294 - acc: 1.0000 - val_loss: 0.6850 - val_acc: 0.7656\n"
     ]
    }
   ],
   "source": [
    "model.compile(optimizer='rmsprop', loss='binary_crossentropy', metrics=['acc'])\n",
    "\n",
    "history = model.fit(X_train, y_train, \n",
    "                    epochs=30,\n",
    "                    batch_size=256,\n",
    "                    validation_split=0.2)"
   ]
  },
  {
   "cell_type": "code",
   "execution_count": 14,
   "metadata": {},
   "outputs": [
    {
     "data": {
      "image/png": "[encoded data removed]",
      "text/plain": [
       "<Figure size 432x288 with 1 Axes>"
      ]
     },
     "metadata": {
      "needs_background": "light"
     },
     "output_type": "display_data"
    }
   ],
   "source": [
    "history_dict = history.history\n",
    "loss = history_dict['loss']\n",
    "val_loss = history_dict['val_loss']\n",
    "\n",
    "epochs = range(1, len(loss) + 1)\n",
    "\n",
    "plt.plot(epochs, loss, 'bo', label='Training loss')\n",
    "plt.plot(epochs, val_loss, 'r', label='Validation loss')\n",
    "plt.title('Training and validation loss')\n",
    "plt.xlabel('Epochs')\n",
    "plt.ylabel('Loss')\n",
    "plt.legend()\n",
    "\n",
    "plt.show()"
   ]
  },
  {
   "cell_type": "code",
   "execution_count": 15,
   "metadata": {},
   "outputs": [
    {
     "data": {
      "image/png": "[encoded data removed]",
      "text/plain": [
       "<Figure size 432x288 with 1 Axes>"
      ]
     },
     "metadata": {
      "needs_background": "light"
     },
     "output_type": "display_data"
    }
   ],
   "source": [
    "history_dict = history.history\n",
    "acc = history_dict['acc']\n",
    "val_acc = history_dict['val_acc']\n",
    "\n",
    "epochs = range(1, len(acc) + 1)\n",
    "\n",
    "plt.plot(epochs, acc, 'bo', label='Training acc')\n",
    "plt.plot(epochs, val_acc, 'r', label='Validation acc')\n",
    "plt.title('Training and validation acc')\n",
    "plt.xlabel('Epochs')\n",
    "plt.ylabel('Accuracy')\n",
    "plt.legend()\n",
    "\n",
    "plt.show()"
   ]
  },
  {
   "cell_type": "code",
   "execution_count": 16,
   "metadata": {},
   "outputs": [
    {
     "name": "stdout",
     "output_type": "stream",
     "text": [
      "400/400 [==============================] - 2s 4ms/step\n",
      "[0.6672368836402893, 0.762499988079071]\n"
     ]
    }
   ],
   "source": [
    "score = model.evaluate(X_test, y_test)\n",
    "print(score)"
   ]
  },
  {
   "cell_type": "markdown",
   "metadata": {},
   "source": [
    "#### 문제점: train set의 크기가 너무 작다\n",
    "해결방안: train set을 충분히 늘리거나, pre-trained embedding vector를 사용"
   ]
  },
  {
   "cell_type": "markdown",
   "metadata": {},
   "source": [
    "### pre-trained embedding을 사용"
   ]
  },
  {
   "cell_type": "code",
   "execution_count": 19,
   "metadata": {},
   "outputs": [
    {
     "name": "stdout",
     "output_type": "stream",
     "text": [
      "Num of word vectors: 400000\n"
     ]
    }
   ],
   "source": [
    "glove_dir = './glove.6B/'\n",
    "import os\n",
    "import numpy as np\n",
    "\n",
    "embeddings_index = {}\n",
    "f = open(os.path.join(glove_dir, 'glove.6B.100d.txt'), encoding='utf8')\n",
    "for line in f:\n",
    "    values = line.split()\n",
    "    word = values[0]\n",
    "    coefs = np.asarray(values[1:], dtype='float32')\n",
    "    embeddings_index[word] = coefs\n",
    "f.close()\n",
    "\n",
    "print('Num of word vectors:', len(embeddings_index))"
   ]
  },
  {
   "cell_type": "code",
   "execution_count": 20,
   "metadata": {},
   "outputs": [
    {
     "data": {
      "text/plain": [
       "43296"
      ]
     },
     "execution_count": 20,
     "metadata": {},
     "output_type": "execute_result"
    }
   ],
   "source": [
    "# 처음 데이터를 생성할 때 사용한 tokenizer에서 word_index를 추출\n",
    "# 이 word_index에 맞게 glove로부터 해당하는 word vector를 가져옴\n",
    "word_index = tokenizer.word_index\n",
    "len(word_index)"
   ]
  },
  {
   "cell_type": "code",
   "execution_count": 21,
   "metadata": {},
   "outputs": [],
   "source": [
    "#embedding matrix를 생성: word_index에서 max_words 만큼의 단어에 대해 glove의 embeddings_index를 추출하여 matrix 생성\n",
    "#추출한 matrix는 embedding 층의 weight로 고정해서 사용함\n",
    "\n",
    "embedding_dim = 100 # glove의 vector dimension\n",
    "embedding_matrix = np.zeros((max_words, embedding_dim))\n",
    "for word, i in word_index.items():\n",
    "    if i < max_words:\n",
    "        embedding_vector = embeddings_index.get(word)\n",
    "        if embedding_vector is not None:\n",
    "            embedding_matrix[i] = embedding_vector"
   ]
  },
  {
   "cell_type": "code",
   "execution_count": 22,
   "metadata": {},
   "outputs": [],
   "source": [
    "from keras.models import Sequential\n",
    "from keras.layers import Flatten, Dense, Embedding\n",
    "from keras.layers import SimpleRNN, LSTM\n",
    "\n",
    "model = Sequential()\n",
    "model.add(Embedding(max_words, embedding_dim))\n",
    "#model.add(SimpleRNN(32))\n",
    "model.add(LSTM(32))\n",
    "model.add(Dense(1, activation='sigmoid'))"
   ]
  },
  {
   "cell_type": "code",
   "execution_count": 23,
   "metadata": {},
   "outputs": [
    {
     "name": "stdout",
     "output_type": "stream",
     "text": [
      "Model: \"sequential_3\"\n",
      "_________________________________________________________________\n",
      "Layer (type)                 Output Shape              Param #   \n",
      "=================================================================\n",
      "embedding_3 (Embedding)      (None, None, 100)         1000000   \n",
      "_________________________________________________________________\n",
      "lstm_2 (LSTM)                (None, 32)                17024     \n",
      "_________________________________________________________________\n",
      "dense_3 (Dense)              (None, 1)                 33        \n",
      "=================================================================\n",
      "Total params: 1,017,057\n",
      "Trainable params: 17,057\n",
      "Non-trainable params: 1,000,000\n",
      "_________________________________________________________________\n"
     ]
    }
   ],
   "source": [
    "model.layers[0].set_weights([embedding_matrix])\n",
    "model.layers[0].trainable = False #값을 고정\n",
    "model.summary()"
   ]
  },
  {
   "cell_type": "code",
   "execution_count": 24,
   "metadata": {},
   "outputs": [
    {
     "name": "stdout",
     "output_type": "stream",
     "text": [
      "Train on 1280 samples, validate on 320 samples\n",
      "Epoch 1/30\n",
      "1280/1280 [==============================] - 15s 12ms/step - loss: 0.7040 - acc: 0.4945 - val_loss: 0.6872 - val_acc: 0.5562\n",
      "Epoch 2/30\n",
      "1280/1280 [==============================] - 14s 11ms/step - loss: 0.6781 - acc: 0.5813 - val_loss: 0.6797 - val_acc: 0.5813\n",
      "Epoch 3/30\n",
      "1280/1280 [==============================] - 15s 11ms/step - loss: 0.6632 - acc: 0.6062 - val_loss: 0.6625 - val_acc: 0.6062\n",
      "Epoch 4/30\n",
      "1280/1280 [==============================] - 12s 10ms/step - loss: 0.6299 - acc: 0.6625 - val_loss: 0.6557 - val_acc: 0.6094\n",
      "Epoch 5/30\n",
      "1280/1280 [==============================] - 13s 10ms/step - loss: 0.6270 - acc: 0.6484 - val_loss: 0.7524 - val_acc: 0.5469\n",
      "Epoch 6/30\n",
      "1280/1280 [==============================] - 12s 9ms/step - loss: 0.6336 - acc: 0.6500 - val_loss: 0.6599 - val_acc: 0.5969\n",
      "Epoch 7/30\n",
      "1280/1280 [==============================] - 11s 8ms/step - loss: 0.6225 - acc: 0.6719 - val_loss: 0.6320 - val_acc: 0.6531\n",
      "Epoch 8/30\n",
      "1280/1280 [==============================] - 11s 9ms/step - loss: 0.6087 - acc: 0.6766 - val_loss: 0.6188 - val_acc: 0.6594\n",
      "Epoch 9/30\n",
      "1280/1280 [==============================] - 12s 9ms/step - loss: 0.5869 - acc: 0.7039 - val_loss: 0.6096 - val_acc: 0.6750\n",
      "Epoch 10/30\n",
      "1280/1280 [==============================] - 15s 12ms/step - loss: 0.5545 - acc: 0.7328 - val_loss: 0.6427 - val_acc: 0.6250\n",
      "Epoch 11/30\n",
      "1280/1280 [==============================] - 11s 9ms/step - loss: 0.6258 - acc: 0.6430 - val_loss: 0.6470 - val_acc: 0.6250\n",
      "Epoch 12/30\n",
      "1280/1280 [==============================] - 11s 8ms/step - loss: 0.6166 - acc: 0.6586 - val_loss: 0.6323 - val_acc: 0.6156\n",
      "Epoch 13/30\n",
      "1280/1280 [==============================] - 11s 9ms/step - loss: 0.6079 - acc: 0.6625 - val_loss: 0.6393 - val_acc: 0.6250\n",
      "Epoch 14/30\n",
      "1280/1280 [==============================] - 11s 8ms/step - loss: 0.5767 - acc: 0.6977 - val_loss: 0.5963 - val_acc: 0.6687\n",
      "Epoch 15/30\n",
      "1280/1280 [==============================] - 11s 9ms/step - loss: 0.5276 - acc: 0.7375 - val_loss: 0.5609 - val_acc: 0.7250\n",
      "Epoch 16/30\n",
      "1280/1280 [==============================] - 11s 9ms/step - loss: 0.4961 - acc: 0.7664 - val_loss: 0.5582 - val_acc: 0.7250\n",
      "Epoch 17/30\n",
      "1280/1280 [==============================] - 11s 9ms/step - loss: 0.4718 - acc: 0.7750 - val_loss: 0.5213 - val_acc: 0.7750\n",
      "Epoch 18/30\n",
      "1280/1280 [==============================] - 11s 9ms/step - loss: 0.4649 - acc: 0.7898 - val_loss: 0.5216 - val_acc: 0.7812\n",
      "Epoch 19/30\n",
      "1280/1280 [==============================] - 11s 9ms/step - loss: 0.4406 - acc: 0.7992 - val_loss: 0.5043 - val_acc: 0.7594\n",
      "Epoch 20/30\n",
      "1280/1280 [==============================] - 13s 10ms/step - loss: 0.4094 - acc: 0.8211 - val_loss: 0.5874 - val_acc: 0.7094\n",
      "Epoch 21/30\n",
      "1280/1280 [==============================] - 11s 9ms/step - loss: 0.4539 - acc: 0.7820 - val_loss: 0.5227 - val_acc: 0.7563\n",
      "Epoch 22/30\n",
      "1280/1280 [==============================] - 11s 8ms/step - loss: 0.4152 - acc: 0.8203 - val_loss: 0.4929 - val_acc: 0.7875\n",
      "Epoch 23/30\n",
      "1280/1280 [==============================] - 11s 9ms/step - loss: 0.3868 - acc: 0.8305 - val_loss: 0.5152 - val_acc: 0.7531\n",
      "Epoch 24/30\n",
      "1280/1280 [==============================] - 12s 9ms/step - loss: 0.3564 - acc: 0.8359 - val_loss: 0.4749 - val_acc: 0.7844\n",
      "Epoch 25/30\n",
      "1280/1280 [==============================] - 11s 9ms/step - loss: 0.3369 - acc: 0.8625 - val_loss: 0.4685 - val_acc: 0.7875\n",
      "Epoch 26/30\n",
      "1280/1280 [==============================] - 12s 9ms/step - loss: 0.3077 - acc: 0.8742 - val_loss: 0.4572 - val_acc: 0.7844\n",
      "Epoch 27/30\n",
      "1280/1280 [==============================] - 11s 9ms/step - loss: 0.2929 - acc: 0.8773 - val_loss: 0.4659 - val_acc: 0.7906\n",
      "Epoch 28/30\n",
      "1280/1280 [==============================] - 11s 9ms/step - loss: 0.2677 - acc: 0.8906 - val_loss: 0.4569 - val_acc: 0.7937\n",
      "Epoch 29/30\n",
      "1280/1280 [==============================] - 11s 9ms/step - loss: 0.2556 - acc: 0.8930 - val_loss: 0.4580 - val_acc: 0.7969\n",
      "Epoch 30/30\n",
      "1280/1280 [==============================] - 11s 9ms/step - loss: 0.2450 - acc: 0.9047 - val_loss: 0.4709 - val_acc: 0.7969\n"
     ]
    }
   ],
   "source": [
    "from keras import optimizers\n",
    "#rmsprop = optimizers.RMSprop(lr=0.0001, rho=0.9, epsilon=None, decay=0.0) #default lr은 0.001\n",
    "#rmsprop = optimizers.RMSprop(lr=0.005) #default lr은 0.001\n",
    "adam = optimizers.Adam(lr=0.005) #default lr은 0.001\n",
    "\n",
    "# pre-train이 되어 있으므로 적은 수의 test set으로도 학습이 가능\n",
    "model.compile(optimizer=adam, loss='binary_crossentropy', metrics=['acc'])\n",
    "\n",
    "history = model.fit(X_train, y_train, \n",
    "                    epochs=30,\n",
    "                    batch_size=256,\n",
    "                    validation_split=0.2) \n",
    "#model.save_weights('pre_trained_glove_model.h5')"
   ]
  },
  {
   "cell_type": "code",
   "execution_count": 25,
   "metadata": {},
   "outputs": [
    {
     "data": {
      "image/png": "[encoded data removed]",
      "text/plain": [
       "<Figure size 432x288 with 1 Axes>"
      ]
     },
     "metadata": {
      "needs_background": "light"
     },
     "output_type": "display_data"
    }
   ],
   "source": [
    "history_dict = history.history\n",
    "acc = history_dict['acc']\n",
    "val_acc = history_dict['val_acc']\n",
    "\n",
    "epochs = range(1, len(acc) + 1)\n",
    "\n",
    "plt.plot(epochs, acc, 'bo', label='Training acc')\n",
    "plt.plot(epochs, val_acc, 'r', label='Validation acc')\n",
    "plt.title('Training and validation acc')\n",
    "plt.xlabel('Epochs')\n",
    "plt.ylabel('Accuracy')\n",
    "plt.legend()\n",
    "\n",
    "plt.show()"
   ]
  },
  {
   "cell_type": "code",
   "execution_count": 26,
   "metadata": {},
   "outputs": [
    {
     "name": "stdout",
     "output_type": "stream",
     "text": [
      "400/400 [==============================] - 2s 5ms/step\n",
      "[0.5206716060638428, 0.7699999809265137]\n"
     ]
    }
   ],
   "source": [
    "score = model.evaluate(X_test, y_test)\n",
    "print(score)"
   ]
  },
  {
   "cell_type": "markdown",
   "metadata": {},
   "source": [
    "### glove를 사용하지 않으면서 좀 더 정교한 모형을 사용하여 학습\n",
    "\n",
    "+ optimizer를 정교하게 조정하고, regularizer를 추가"
   ]
  },
  {
   "cell_type": "code",
   "execution_count": 27,
   "metadata": {},
   "outputs": [
    {
     "name": "stdout",
     "output_type": "stream",
     "text": [
      "Model: \"sequential_4\"\n",
      "_________________________________________________________________\n",
      "Layer (type)                 Output Shape              Param #   \n",
      "=================================================================\n",
      "embedding_4 (Embedding)      (None, None, 32)          320000    \n",
      "_________________________________________________________________\n",
      "lstm_3 (LSTM)                (None, 32)                8320      \n",
      "_________________________________________________________________\n",
      "dense_4 (Dense)              (None, 1)                 33        \n",
      "=================================================================\n",
      "Total params: 328,353\n",
      "Trainable params: 328,353\n",
      "Non-trainable params: 0\n",
      "_________________________________________________________________\n"
     ]
    }
   ],
   "source": [
    "from keras.layers import SimpleRNN, LSTM\n",
    "from keras import regularizers\n",
    "\n",
    "model = Sequential()\n",
    "model.add(Embedding(max_words, 32))\n",
    "#model.add(SimpleRNN(32))\n",
    "model.add(LSTM(32))\n",
    "#model.add(Dense(32, kernel_regularizer=regularizers.l2(0.01)))\n",
    "model.add(Dense(1, activation='sigmoid', kernel_regularizer=regularizers.l2(0.1))) #0.01을 먼저 시도했음\n",
    "\n",
    "model.summary()"
   ]
  },
  {
   "cell_type": "code",
   "execution_count": 28,
   "metadata": {},
   "outputs": [
    {
     "name": "stdout",
     "output_type": "stream",
     "text": [
      "Train on 1280 samples, validate on 320 samples\n",
      "Epoch 1/30\n",
      "1280/1280 [==============================] - 12s 10ms/step - loss: 0.8097 - acc: 0.5266 - val_loss: 0.7790 - val_acc: 0.5844\n",
      "Epoch 2/30\n",
      "1280/1280 [==============================] - 12s 10ms/step - loss: 0.8109 - acc: 0.6398 - val_loss: 0.7673 - val_acc: 0.5094\n",
      "Epoch 3/30\n",
      "1280/1280 [==============================] - 13s 10ms/step - loss: 0.7191 - acc: 0.6445 - val_loss: 0.7363 - val_acc: 0.5938\n",
      "Epoch 4/30\n",
      "1280/1280 [==============================] - 13s 10ms/step - loss: 0.6466 - acc: 0.7594 - val_loss: 0.7213 - val_acc: 0.5875\n",
      "Epoch 5/30\n",
      "1280/1280 [==============================] - 12s 10ms/step - loss: 0.5677 - acc: 0.8242 - val_loss: 0.6934 - val_acc: 0.6656\n",
      "Epoch 6/30\n",
      "1280/1280 [==============================] - 11s 9ms/step - loss: 0.4758 - acc: 0.8844 - val_loss: 0.6681 - val_acc: 0.7188\n",
      "Epoch 7/30\n",
      "1280/1280 [==============================] - 12s 9ms/step - loss: 0.4110 - acc: 0.9320 - val_loss: 0.7137 - val_acc: 0.6656\n",
      "Epoch 8/30\n",
      "1280/1280 [==============================] - 12s 9ms/step - loss: 0.3411 - acc: 0.9367 - val_loss: 0.7079 - val_acc: 0.6875\n",
      "Epoch 9/30\n",
      "1280/1280 [==============================] - 11s 9ms/step - loss: 0.2835 - acc: 0.9539 - val_loss: 0.8392 - val_acc: 0.6062\n",
      "Epoch 10/30\n",
      "1280/1280 [==============================] - 12s 9ms/step - loss: 0.2643 - acc: 0.9688 - val_loss: 0.7648 - val_acc: 0.6844\n",
      "Epoch 11/30\n",
      "1280/1280 [==============================] - 11s 8ms/step - loss: 0.2028 - acc: 0.9859 - val_loss: 0.8301 - val_acc: 0.6594\n",
      "Epoch 12/30\n",
      "1280/1280 [==============================] - 11s 9ms/step - loss: 0.2514 - acc: 0.9516 - val_loss: 0.7395 - val_acc: 0.6469\n",
      "Epoch 13/30\n",
      "1280/1280 [==============================] - 12s 9ms/step - loss: 0.2224 - acc: 0.9789 - val_loss: 0.7745 - val_acc: 0.7000\n",
      "Epoch 14/30\n",
      "1280/1280 [==============================] - 11s 9ms/step - loss: 0.1665 - acc: 0.9914 - val_loss: 0.8023 - val_acc: 0.6969\n",
      "Epoch 15/30\n",
      "1280/1280 [==============================] - 13s 10ms/step - loss: 0.1519 - acc: 0.9922 - val_loss: 0.8168 - val_acc: 0.6938\n",
      "Epoch 16/30\n",
      "1280/1280 [==============================] - 12s 10ms/step - loss: 0.1657 - acc: 0.9875 - val_loss: 0.8332 - val_acc: 0.6938\n",
      "Epoch 17/30\n",
      "1280/1280 [==============================] - 12s 10ms/step - loss: 0.1371 - acc: 0.9945 - val_loss: 0.8625 - val_acc: 0.6781\n",
      "Epoch 18/30\n",
      "1280/1280 [==============================] - 12s 9ms/step - loss: 0.1501 - acc: 0.9867 - val_loss: 0.9498 - val_acc: 0.6000\n",
      "Epoch 19/30\n",
      "1280/1280 [==============================] - 11s 9ms/step - loss: 0.1955 - acc: 0.9719 - val_loss: 0.8308 - val_acc: 0.6844\n",
      "Epoch 20/30\n",
      "1280/1280 [==============================] - 12s 9ms/step - loss: 0.1229 - acc: 0.9984 - val_loss: 0.8445 - val_acc: 0.6938\n",
      "Epoch 21/30\n",
      "1280/1280 [==============================] - 11s 9ms/step - loss: 0.1166 - acc: 0.9992 - val_loss: 0.8588 - val_acc: 0.7063\n",
      "Epoch 22/30\n",
      "1280/1280 [==============================] - 11s 9ms/step - loss: 0.1198 - acc: 0.9977 - val_loss: 0.8677 - val_acc: 0.7000\n",
      "Epoch 23/30\n",
      "1280/1280 [==============================] - 11s 9ms/step - loss: 0.1970 - acc: 0.9602 - val_loss: 0.7738 - val_acc: 0.6812\n",
      "Epoch 24/30\n",
      "1280/1280 [==============================] - 13s 10ms/step - loss: 0.1217 - acc: 0.9953 - val_loss: 0.8360 - val_acc: 0.6969\n",
      "Epoch 25/30\n",
      "1280/1280 [==============================] - 12s 9ms/step - loss: 0.1161 - acc: 0.9977 - val_loss: 0.8372 - val_acc: 0.7000\n",
      "Epoch 26/30\n",
      "1280/1280 [==============================] - 12s 9ms/step - loss: 0.1071 - acc: 1.0000 - val_loss: 0.8329 - val_acc: 0.6938\n",
      "Epoch 27/30\n",
      "1280/1280 [==============================] - 11s 9ms/step - loss: 0.1034 - acc: 1.0000 - val_loss: 0.8482 - val_acc: 0.6938\n",
      "Epoch 28/30\n",
      "1280/1280 [==============================] - 9s 7ms/step - loss: 0.1014 - acc: 0.9992 - val_loss: 0.9321 - val_acc: 0.6562\n",
      "Epoch 29/30\n",
      "1280/1280 [==============================] - 9s 7ms/step - loss: 0.1617 - acc: 0.9758 - val_loss: 0.8600 - val_acc: 0.6969\n",
      "Epoch 30/30\n",
      "1280/1280 [==============================] - 9s 7ms/step - loss: 0.1005 - acc: 0.9992 - val_loss: 0.8655 - val_acc: 0.6969\n"
     ]
    }
   ],
   "source": [
    "from keras import optimizers\n",
    "#adam = optimizers.Adam(lr=0.005) #default lr은 0.001\n",
    "rmsprop = optimizers.RMSprop(lr=0.005) #default lr은 0.001\n",
    "\n",
    "model.compile(optimizer=rmsprop, loss='binary_crossentropy', metrics=['acc']) \n",
    "#lr 조절 없고 l2=0.01일 때 test 0.775 나옴\n",
    "\n",
    "history = model.fit(X_train, y_train, \n",
    "                    epochs=30,\n",
    "                    batch_size=256,\n",
    "                    validation_split=0.2) "
   ]
  },
  {
   "cell_type": "code",
   "execution_count": 29,
   "metadata": {},
   "outputs": [
    {
     "name": "stdout",
     "output_type": "stream",
     "text": [
      "400/400 [==============================] - 1s 3ms/step\n",
      "[0.8489889550209045, 0.6899999976158142]\n"
     ]
    }
   ],
   "source": [
    "score = model.evaluate(X_test, y_test)\n",
    "print(score)"
   ]
  },
  {
   "cell_type": "code",
   "execution_count": null,
   "metadata": {},
   "outputs": [],
   "source": []
  }
 ],
 "metadata": {
  "kernelspec": {
   "display_name": "Python 3",
   "language": "python",
   "name": "python3"
  },
  "language_info": {
   "codemirror_mode": {
    "name": "ipython",
    "version": 3
   },
   "file_extension": ".py",
   "mimetype": "text/x-python",
   "name": "python",
   "nbconvert_exporter": "python",
   "pygments_lexer": "ipython3",
   "version": "3.7.6"
  }
 },
 "nbformat": 4,
 "nbformat_minor": 4
}
