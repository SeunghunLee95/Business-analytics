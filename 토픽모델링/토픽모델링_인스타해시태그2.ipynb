{
 "cells": [
  {
   "cell_type": "code",
   "execution_count": 1,
   "metadata": {},
   "outputs": [],
   "source": [
    "import numpy as np\n",
    "import pandas as pd\n",
    "import re \n",
    "import matplotlib.pyplot as plt"
   ]
  },
  {
   "cell_type": "code",
   "execution_count": 4,
   "metadata": {},
   "outputs": [],
   "source": [
    "etc = pd.read_csv('insta_hiphop1.csv',encoding='utf-8')"
   ]
  },
  {
   "cell_type": "code",
   "execution_count": 5,
   "metadata": {},
   "outputs": [
    {
     "data": {
      "text/plain": [
       "1382"
      ]
     },
     "execution_count": 5,
     "metadata": {},
     "output_type": "execute_result"
    }
   ],
   "source": [
    "len(etc)"
   ]
  },
  {
   "cell_type": "code",
   "execution_count": 6,
   "metadata": {},
   "outputs": [
    {
     "data": {
      "text/html": [
       "<div>\n",
       "<style scoped>\n",
       "    .dataframe tbody tr th:only-of-type {\n",
       "        vertical-align: middle;\n",
       "    }\n",
       "\n",
       "    .dataframe tbody tr th {\n",
       "        vertical-align: top;\n",
       "    }\n",
       "\n",
       "    .dataframe thead th {\n",
       "        text-align: right;\n",
       "    }\n",
       "</style>\n",
       "<table border=\"1\" class=\"dataframe\">\n",
       "  <thead>\n",
       "    <tr style=\"text-align: right;\">\n",
       "      <th></th>\n",
       "      <th>Unnamed: 0</th>\n",
       "      <th>날짜</th>\n",
       "      <th>월</th>\n",
       "      <th>일</th>\n",
       "      <th>계정</th>\n",
       "      <th>좋아요</th>\n",
       "      <th>해시태그</th>\n",
       "      <th>링크</th>\n",
       "    </tr>\n",
       "  </thead>\n",
       "  <tbody>\n",
       "    <tr>\n",
       "      <th>0</th>\n",
       "      <td>0</td>\n",
       "      <td>2020.10.03 13:39</td>\n",
       "      <td>10</td>\n",
       "      <td>3</td>\n",
       "      <td>lookatsoo.kr</td>\n",
       "      <td>81</td>\n",
       "      <td>['디지털아트', '앨범아트', 'graphicdesign', 'hiphop', '...</td>\n",
       "      <td>https://www.instagram.com/p/CF3kdtvHF0g/</td>\n",
       "    </tr>\n",
       "    <tr>\n",
       "      <th>1</th>\n",
       "      <td>1</td>\n",
       "      <td>2020.09.09 15:09</td>\n",
       "      <td>9</td>\n",
       "      <td>9</td>\n",
       "      <td>lookatsoo.kr</td>\n",
       "      <td>76</td>\n",
       "      <td>['artwork', '포스터', '사운드클라우드', '앨범자켓', '아트워크', ...</td>\n",
       "      <td>https://www.instagram.com/p/CE57wjrHDA1/</td>\n",
       "    </tr>\n",
       "    <tr>\n",
       "      <th>2</th>\n",
       "      <td>2</td>\n",
       "      <td>2020.08.28 13:51</td>\n",
       "      <td>8</td>\n",
       "      <td>28</td>\n",
       "      <td>lookatsoo.kr</td>\n",
       "      <td>114</td>\n",
       "      <td>['앨범자켓', '힙합', '디지털아트', '포스터디자인', 'hiphop', '사...</td>\n",
       "      <td>https://www.instagram.com/p/CEa5MbwH9BQ/</td>\n",
       "    </tr>\n",
       "  </tbody>\n",
       "</table>\n",
       "</div>"
      ],
      "text/plain": [
       "   Unnamed: 0                날짜   월   일            계정  좋아요  \\\n",
       "0           0  2020.10.03 13:39  10   3  lookatsoo.kr   81   \n",
       "1           1  2020.09.09 15:09   9   9  lookatsoo.kr   76   \n",
       "2           2  2020.08.28 13:51   8  28  lookatsoo.kr  114   \n",
       "\n",
       "                                                해시태그  \\\n",
       "0  ['디지털아트', '앨범아트', 'graphicdesign', 'hiphop', '...   \n",
       "1  ['artwork', '포스터', '사운드클라우드', '앨범자켓', '아트워크', ...   \n",
       "2  ['앨범자켓', '힙합', '디지털아트', '포스터디자인', 'hiphop', '사...   \n",
       "\n",
       "                                         링크  \n",
       "0  https://www.instagram.com/p/CF3kdtvHF0g/  \n",
       "1  https://www.instagram.com/p/CE57wjrHDA1/  \n",
       "2  https://www.instagram.com/p/CEa5MbwH9BQ/  "
      ]
     },
     "execution_count": 6,
     "metadata": {},
     "output_type": "execute_result"
    }
   ],
   "source": [
    "etc.head(3)"
   ]
  },
  {
   "cell_type": "code",
   "execution_count": 7,
   "metadata": {},
   "outputs": [
    {
     "data": {
      "text/plain": [
       "[\"['디지털아트', '앨범아트', 'graphicdesign', 'hiphop', '사운드클라우드', 'photoshop', '포스터', 'soundcloud', 'artwork', '포스터디자인', '앨범커버', '일러스트', '포토샵', '힙합', '아트워크', 'albumcover', '사진', '앨범자켓', 'photo', 'illustration', '그래픽']\",\n",
       " \"['artwork', '포스터', '사운드클라우드', '앨범자켓', '아트워크', '포스터디자인', 'photo', '그래픽', 'soundcloud', '포토샵', 'hiphop', '사진', '앨범커버', '힙합', 'albumcover', '일러스트', 'graphicdesign', '앨범아트', '디지털아트', 'illustration', 'photoshop']\"]"
      ]
     },
     "execution_count": 7,
     "metadata": {},
     "output_type": "execute_result"
    }
   ],
   "source": [
    "etc2=list(etc.해시태그)\n",
    "etc2[0:2]"
   ]
  },
  {
   "cell_type": "code",
   "execution_count": 9,
   "metadata": {},
   "outputs": [
    {
     "data": {
      "text/plain": [
       "['디지털아트 앨범아트 graphicdesign hiphop 사운드클라우드 photoshop 포스터 soundcloud artwork 포스터디자인 앨범커버 일러스트 포토샵 힙합 아트워크 albumcover 사진 앨범자켓 photo illustration 그래픽']"
      ]
     },
     "execution_count": 9,
     "metadata": {},
     "output_type": "execute_result"
    }
   ],
   "source": [
    "from string import punctuation\n",
    "def strip_punctuation(s):\n",
    "    return ''.join(c for c in s if c not in punctuation)\n",
    "\n",
    "clean_title = []\n",
    "for sent in etc2:\n",
    "    clean = strip_punctuation(sent)\n",
    "    clean_title.append(clean)\n",
    "    \n",
    "clean_title[0:1]"
   ]
  },
  {
   "cell_type": "code",
   "execution_count": 11,
   "metadata": {},
   "outputs": [],
   "source": [
    "from konlpy.tag import Kkma\n",
    "kkma = Kkma()"
   ]
  },
  {
   "cell_type": "code",
   "execution_count": 12,
   "metadata": {},
   "outputs": [],
   "source": [
    "import time\n",
    "import datetime\n",
    "start = time.time()"
   ]
  },
  {
   "cell_type": "code",
   "execution_count": 14,
   "metadata": {},
   "outputs": [
    {
     "name": "stdout",
     "output_type": "stream",
     "text": [
      "0:06:52\n"
     ]
    }
   ],
   "source": [
    "dataset = []\n",
    "for i in range(len(clean_title)):\n",
    "    dataset.append(kkma.nouns(re.sub('[^가-힣a-zA-Z\\s]','',clean_title[i])))\n",
    "    \n",
    "sec = time.time()-start\n",
    "times = str(datetime.timedelta(seconds=sec)).split(\".\")\n",
    "times=times[0]\n",
    "print(times)"
   ]
  },
  {
   "cell_type": "code",
   "execution_count": 15,
   "metadata": {},
   "outputs": [],
   "source": [
    "from gensim import corpora, models \n",
    "import gensim"
   ]
  },
  {
   "cell_type": "code",
   "execution_count": 17,
   "metadata": {},
   "outputs": [],
   "source": [
    "high_score_reviews = dataset"
   ]
  },
  {
   "cell_type": "code",
   "execution_count": 19,
   "metadata": {},
   "outputs": [],
   "source": [
    "high_score_reviews = [[y for y in x if not len(y)==1]\n",
    "                       for x in high_score_reviews]\n",
    "dictionary = corpora.Dictionary(high_score_reviews)\n",
    "corpus=[dictionary.doc2bow(text) for text in high_score_reviews]"
   ]
  },
  {
   "cell_type": "code",
   "execution_count": 24,
   "metadata": {},
   "outputs": [],
   "source": [
    "import matplotlib.pyplot as plt\n",
    "from gensim.models import CoherenceModel\n",
    "\n",
    "coherence_values=[]\n",
    "for i in range(2,15):\n",
    "    ldamodel = gensim.models.LdaModel(corpus,num_topics=i, id2word=dictionary)\n",
    "    coherence_model_lda = CoherenceModel(model=ldamodel, texts=high_score_reviews,dictionary=dictionary,topn=10)\n",
    "    coherence_lda = coherence_model_lda.get_coherence()\n",
    "    coherence_values.append(coherence_lda)\n"
   ]
  },
  {
   "cell_type": "code",
   "execution_count": 25,
   "metadata": {},
   "outputs": [
    {
     "data": {
      "image/png": "[encoded data removed]",
      "text/plain": [
       "<Figure size 432x288 with 1 Axes>"
      ]
     },
     "metadata": {
      "needs_background": "light"
     },
     "output_type": "display_data"
    }
   ],
   "source": [
    "x = range(2,15)\n",
    "plt.plot(x,coherence_values)\n",
    "plt.xlabel('number of topics')\n",
    "plt.ylabel('coherence score')\n",
    "plt.show()"
   ]
  },
  {
   "cell_type": "code",
   "execution_count": 30,
   "metadata": {},
   "outputs": [],
   "source": [
    "import matplotlib.pyplot as plt\n",
    "perplexity_values=[]\n",
    "for i in range(2,20):\n",
    "    ldamodel=gensim.models.ldamodel.LdaModel(corpus,num_topics=i, id2word=dictionary)\n",
    "    perplexity_values.append(ldamodel.log_perplexity(corpus))"
   ]
  },
  {
   "cell_type": "code",
   "execution_count": 31,
   "metadata": {},
   "outputs": [
    {
     "data": {
      "image/png": "[encoded data removed]",
      "text/plain": [
       "<Figure size 432x288 with 1 Axes>"
      ]
     },
     "metadata": {
      "needs_background": "light"
     },
     "output_type": "display_data"
    }
   ],
   "source": [
    "x=range(2,20)\n",
    "plt.plot(x,perplexity_values)\n",
    "plt.xlabel('number of topics')\n",
    "plt.ylabel('perplexity score')\n",
    "plt.show()"
   ]
  },
  {
   "cell_type": "code",
   "execution_count": 59,
   "metadata": {},
   "outputs": [],
   "source": [
    "ldamodel = gensim.models.ldamodel.LdaModel(corpus, num_topics=4,alpha=0.1,id2word = dictionary)"
   ]
  },
  {
   "cell_type": "code",
   "execution_count": 60,
   "metadata": {},
   "outputs": [
    {
     "data": {
      "text/plain": [
       "[(0,\n",
       "  '0.043*\"힙합\" + 0.042*\"음악\" + 0.040*\"힙합음악\" + 0.012*\"래퍼\" + 0.012*\"그램\" + 0.011*\"한국\" + 0.010*\"노래\" + 0.008*\"한국힙합\" + 0.008*\"스타\" + 0.007*\"추천\" + 0.007*\"뮤직\" + 0.006*\"앨범\" + 0.005*\"티스트\" + 0.005*\"비트\" + 0.005*\"스트\" + 0.005*\"뮤지션\" + 0.004*\"공연\" + 0.004*\"데일리\" + 0.004*\"와이\" + 0.004*\"커버\"'),\n",
       " (1,\n",
       "  '0.042*\"힙합\" + 0.037*\"음악\" + 0.035*\"힙합음악\" + 0.020*\"그램\" + 0.015*\"스타\" + 0.013*\"한국\" + 0.012*\"추천\" + 0.011*\"한국힙합\" + 0.010*\"뮤직\" + 0.007*\"플레이\" + 0.007*\"데일리\" + 0.007*\"공연\" + 0.006*\"래퍼\" + 0.006*\"힙합뮤직\" + 0.006*\"힙합공연\" + 0.006*\"음악추천\" + 0.006*\"국힙\" + 0.006*\"힙합스타그램\" + 0.006*\"힙합콘서트\" + 0.006*\"와이\"'),\n",
       " (2,\n",
       "  '0.046*\"힙합\" + 0.045*\"음악\" + 0.042*\"힙합음악\" + 0.035*\"그램\" + 0.024*\"스타\" + 0.021*\"추천\" + 0.020*\"노래\" + 0.016*\"국힙\" + 0.015*\"음악스타그램\" + 0.015*\"노래추천\" + 0.015*\"플레이\" + 0.015*\"외힙\" + 0.014*\"리스트\" + 0.014*\"플레이리스트\" + 0.014*\"힙합음악추천\" + 0.014*\"기록\" + 0.014*\"외국\" + 0.014*\"외국힙합\" + 0.014*\"노래스타그램\" + 0.014*\"음악기록\"'),\n",
       " (3,\n",
       "  '0.029*\"힙합\" + 0.020*\"그램\" + 0.018*\"음악\" + 0.018*\"스타\" + 0.017*\"힙합음악\" + 0.013*\"뮤직\" + 0.013*\"데일리\" + 0.008*\"패션\" + 0.007*\"스트릿\" + 0.007*\"유니\" + 0.007*\"데일리룩\" + 0.007*\"힙합스타그램\" + 0.006*\"공연\" + 0.006*\"추천\" + 0.006*\"카페\" + 0.006*\"수집\" + 0.006*\"음반수집\" + 0.006*\"소통\" + 0.006*\"음반\" + 0.005*\"페스티벌\"')]"
      ]
     },
     "execution_count": 60,
     "metadata": {},
     "output_type": "execute_result"
    }
   ],
   "source": [
    "ldamodel.print_topics(num_words=20)"
   ]
  },
  {
   "cell_type": "code",
   "execution_count": 61,
   "metadata": {},
   "outputs": [
    {
     "data": {
      "text/html": [
       "\n",
       "<link rel=\"stylesheet\" type=\"text/css\" href=\"https://cdn.rawgit.com/bmabey/pyLDAvis/files/ldavis.v1.0.0.css\">\n",
       "\n",
       "\n",
       "<div id=\"ldavis_el2263628058886323926236854929\"></div>\n",
       "<script type=\"text/javascript\">\n",
       "\n",
       "var ldavis_el2263628058886323926236854929_data = {\"mdsDat\": {\"x\": [0.1111882280835592, -0.005255418605837349, -0.13800551319552223, 0.03207270371780029], \"y\": [-0.0724705037310455, 0.03590148305063991, -0.041590727978125686, 0.07815974865853115], \"topics\": [1, 2, 3, 4], \"cluster\": [1, 1, 1, 1], \"Freq\": [32.64918899536133, 26.713314056396484, 20.432205200195312, 20.205289840698242]}, \"tinfo\": {\"Term\": [\"\\uae30\\ub85d\", \"\\uc678\\ud799\", \"\\uc678\\uad6d\", \"\\uc678\\uad6d\\ud799\\ud569\", \"\\uc74c\\uc545\\uae30\\ub85d\", \"\\ub178\\ub798\\uc2a4\\ud0c0\\uadf8\\ub7a8\", \"\\uc74c\\uc545\\ub9ac\\ubdf0\", \"\\ub9ac\\ubdf0\", \"\\uc54c\\uc564\\ube44\", \"\\ub178\\ub798\\ucd94\\ucc9c\", \"\\ud799\\ud569\\uc74c\\uc545\\ucd94\\ucc9c\", \"\\ub178\\ub798\", \"\\ub9ac\\uc2a4\\ud2b8\", \"\\ud50c\\ub808\\uc774\\ub9ac\\uc2a4\\ud2b8\", \"\\uad6d\\ud799\", \"\\uc74c\\uc545\\uc2a4\\ud0c0\\uadf8\\ub7a8\", \"\\ub370\\uc77c\\ub9ac\\ub8e9\", \"\\uc720\\ub2c8\", \"\\ub370\\uc77c\\ub9ac\", \"\\ud328\\uc158\", \"\\uc74c\\uc545\", \"\\ud799\\ud569\\uc74c\\uc545\", \"\\uc2a4\\ud2b8\\ub9bf\\ud328\\uc158\", \"\\uc2a4\\ud2b8\\ub9bf\", \"\\ud55c\\uad6d\", \"\\uc564\\ube44\", \"\\ub798\\ud37c\", \"\\uce74\\ud398\", \"\\ud50c\\ub808\\uc774\", \"\\ud558\\uc774\\uc5b4\", \"\\uae30\\ub85d\", \"\\uc678\\uad6d\", \"\\uc678\\uad6d\\ud799\\ud569\", \"\\uc74c\\uc545\\uae30\\ub85d\", \"\\uc54c\\uc564\\ube44\", \"\\uc678\\ud799\", \"\\ub178\\ub798\\uc2a4\\ud0c0\\uadf8\\ub7a8\", \"\\uc74c\\uc545\\ub9ac\\ubdf0\", \"\\ub9ac\\ubdf0\", \"\\uc564\\ube44\", \"\\uce90\\uc2ac\", \"\\ud074\\ub77c\\uc6b0\\ub4dc\\uce90\\uc2ac\", \"\\ud558\\uc6b0\\uc2a4\\ub304\\uc2a4\", \"\\ud558\\uc6b0\\uc2a4\\ubba4\\uc9c1\", \"\\uc2f1\\uae00\\uc568\\ubc94\", \"\\uc5f0\\uc2b5\", \"\\ud558\\uc6b0\\uc2a4\\uc74c\\uc545\", \"\\ud2f0\\uc2a4\", \"\\ud799\\ud569\\uc74c\\uc545\\ucd94\\ucc9c\", \"\\uc911\\ub3c5\", \"\\ub178\\ub798\\ucd94\\ucc9c\", \"\\uc7a5\\ub974\", \"\\ud658\\uc601\", \"\\ud558\\uba74\\ub9de\\ud314\", \"\\ud558\\uba74\", \"\\uc5ec\\ud589\\uae30\", \"\\uc2dc\\uac04\", \"\\uce5c\\uad6c\", \"\\ud2b8\\ub808\\ub4dc\\ub9c8\\ud06c\", \"\\ud2b8\\ub808\\ub4dc\", \"\\uc74c\\uc545\\uc2a4\\ud0c0\\uadf8\\ub7a8\", \"\\ub9ac\\uc2a4\\ud2b8\", \"\\ud50c\\ub808\\uc774\\ub9ac\\uc2a4\\ud2b8\", \"\\uad6d\\ud799\", \"\\ub178\\ub798\", \"\\ud50c\\ub808\\uc774\", \"\\ud799\\ud569\\uc568\\ubc94\", \"\\ucd94\\ucc9c\", \"\\uadf8\\ub7a8\", \"\\ud799\\ud569\\ucd94\\ucc9c\", \"\\uc2a4\\ud0c0\", \"\\uc74c\\uc545\", \"\\ud799\\ud569\\uc74c\\uc545\", \"\\ud799\\ud569\", \"\\uc568\\ubc94\", \"\\ub798\\ud37c\", \"\\ud074\\ub77c\\uc6b0\\ub4dc\", \"\\ubb34\\ub300\", \"\\uc74c\\uc545\\ucd94\\ucc9c\", \"\\ubba4\\uc9c1\", \"\\uc624\\ud53c\", \"\\uc624\\ud4f8\", \"\\ubd80\\uc0b0\\ucee4\\ubba4\\ub2c8\\ud2f0\\ud504\\ub85c\", \"\\ud5e4\\ub974\\uce20\", \"\\ud1a0\\uc694\\uc77c\\uc624\\ud6c4\\uc2dc\", \"\\uc624\\ud6c4\", \"\\ud06c\\ub77c\\uc6b4\\ud38d\", \"\\ubd80\\uc0b0\\uc74c\\uc545\\ucee4\\ubba4\\ub2c8\\ud2f0\", \"\\uc624\\ud504\\ub8e8\\ud2b8\\ud398\\uc2a4\\ud2b8\", \"\\ud799\\ud569\\ud074\\ub7fd\", \"\\ub514\\uc81c\\uc774\\ud30c\\ud2f0\", \"\\ud558\\ub2e4\", \"\\uc624\\ud53c\\uc6c0\", \"\\uc774\\uc57c\\uae30\\ud558\\ub2e4\", \"\\uc74c\\uc545\\ucee4\\ubba4\\ub2c8\\ud2f0\", \"\\uc11c\\uba74\\ud06c\\ub77c\\uc6b4\\ud38d\", \"\\uc74c\\uc545\\ud0d0\\uad6c\", \"\\ud0d0\\uad6c\", \"\\uadf8\\ub808\\uc774\", \"\\uc774\\ud0dc\\uc6d0\\ud799\\ud569\\ud074\\ub7fd\", \"\\ub514\\uc81c\\uc774\", \"\\ucf54\\ub514\", \"\\uc870\\uad11\", \"\\uc624\\ud53c\\uc6c0\\ud074\\ub7fd\", \"\\uc11c\\uba74\\uc74c\\uc545\\ucee4\\ubba4\\ub2c8\\ud2f0\", \"\\ud560\\ub85c\\uc708\", \"\\ucee4\\ubba4\\ub2c8\\ud2f0\\ubaa8\\uc784\\ucd94\\ucc9c\", \"\\ud558\\ub298\", \"\\ud074\\ub7fd\\uacf5\\uc5f0\", \"\\uc774\\ud0dc\\uc6d0\\uc624\\ud53c\\uc6c0\", \"\\ud06c\\ub77c\\uc6b4\", \"\\ud1a0\\uc694\\uc77c\", \"\\ud30c\\uc774\", \"\\ud799\\ud569\\ub178\\ub798\", \"\\uc120\\uace1\\ud45c\", \"\\ubaa8\\uc784\", \"\\ucee4\\ubba4\\ub2c8\\ud2f0\", \"\\ucd94\\ucc9c\\uace1\", \"\\uad6d\\ub0b4\\ud799\\ud569\", \"\\uc774\\ud0dc\\uc6d0\", \"\\ud55c\\uad6d\\ud799\\ud569\", \"\\ud799\\ud569\\ubba4\\uc9c0\\uc158\", \"\\ud799\\ud569\\ub355\\ud6c4\", \"\\ud55c\\uad6d\", \"\\uc120\\uace1\", \"\\uc74c\\uc545\\ucd94\\ucc9c\", \"\\ubba4\\uc9c0\\uc158\", \"\\ud799\\ud569\", \"\\uc624\\ub298\", \"\\ud799\\ud569\\uc74c\\uc545\", \"\\uc74c\\uc545\", \"\\uc2a4\\ud2b8\", \"\\ud799\\ud569\\ubba4\\uc9c1\", \"\\uc640\\uc774\", \"\\ud2f0\\uc2a4\\ud2b8\", \"\\ud799\\ud569\\uacf5\\uc5f0\", \"\\ub370\\uc77c\\ub9ac\\uadf8\\ub7a8\", \"\\uadf8\\ub7a8\", \"\\ud799\\ud569\\ucf58\\uc11c\\ud2b8\", \"\\ubba4\\uc9c1\", \"\\uc2a4\\ud0c0\", \"\\ucd94\\ucc9c\", \"\\ud799\\ud569\\uc2a4\\ud0c0\\uadf8\\ub7a8\", \"\\ube44\\uc640\\uc774\", \"\\uacf5\\uc5f0\", \"\\ub370\\uc77c\\ub9ac\", \"\\ucf58\\uc11c\\ud2b8\", \"\\ud50c\\ub808\\uc774\", \"\\ub798\\ud37c\", \"\\uad6d\\ud799\", \"\\uc77c\\uc0c1\", \"\\uc568\\ubc94\", \"\\ud50c\\ub808\\uc774\\ub9ac\\uc2a4\\ud2b8\", \"\\ub9ac\\uc2a4\\ud2b8\", \"\\uc190\\ud1b1\", \"\\uc2a4\\uc640\", \"\\ud638\\ubc15\", \"\\uc2a4\\ud2b8\\ub9bf\\uc6e8\\uc5b4\", \"\\uc77c\\ubcf8\", \"\\ub9c8\\ube14\", \"\\uc778\\uc870\\uc190\\ud1b1\", \"\\uc720\\ub2c8\\ud06c\", \"\\ub2c8\\ud06c\", \"\\uc77c\\ud301\", \"\\uc778\\uc870\", \"\\uc2a4\\ud1a4\", \"\\uc77c\\ub514\\uc790\\uc778\", \"\\uc77c\\uc544\\ud2b8\\ub514\\uc790\\uc778\", \"\\uc6e8\\uc5b4\", \"\\uc6d0\\ud1a4\", \"\\ub3c4\\ub11b\", \"\\ub3d9\\ud574\", \"\\uc624\\uc624\\ud2f0\\ub514\", \"\\uac15\\uc6d0\\ub3c4\\uc5ec\\ud589\", \"\\ub3d9\\ud574\\ud38d\", \"\\ub3d9\\ud574\\uce75\\ud14c\\uc77c\", \"\\uac15\\uc6d0\", \"\\ub3d9\\ud574\\uc5ec\\ud589\", \"\\uac15\\uc6d0\\ub3c4\", \"\\ub3d9\\ud574\\ubc14\", \"\\uac15\\uc6d0\\ub3c4\\uc5ec\\ud589\\ucf54\\uc2a4\", \"\\ub3d9\\ud574\\uc220\\uc9d1\", \"\\uc720\\ub2c8\", \"\\ubbff\\uc74c\", \"\\ub370\\uc77c\\ub9ac\\ub8e9\", \"\\uc2a4\\ud2b8\\ub9bf\\ud328\\uc158\", \"\\uc74c\\ubc18\\uad6c\\ub9e4\", \"\\uad6c\\ub9e4\", \"\\ub300\\ud559\\ub85c\", \"\\ube14\\ub799\\ubba4\\uc9c1\\uc218\\uc9d1\", \"\\uc815\\ub9ac\", \"\\uc218\\uc9d1\\uac00\", \"\\uc74c\\ubc18\\uc815\\ub9ac\", \"\\uc18c\\uadf9\\uc7a5\", \"\\ud328\\uc158\", \"\\uc2a4\\ud2b8\\ub9bf\", \"\\uac00\\uc744\", \"\\ud558\\uc774\\uc5b4\", \"\\ud558\\uc774\\uc5b4\\ubba4\\uc9c1\", \"\\ub370\\uc77c\\ub9ac\", \"\\uce74\\ud398\", \"\\ubba4\\uc9c1\", \"\\ud799\\ud569\", \"\\uc2a4\\ud0c0\", \"\\uadf8\\ub7a8\", \"\\uc218\\uc9d1\", \"\\uc74c\\ubc18\\uc218\\uc9d1\", \"\\uc74c\\uc545\", \"\\uc77c\\ub9ac\", \"\\ud799\\ud569\\uc74c\\uc545\", \"\\ud799\\ud569\\uc2a4\\ud0c0\\uadf8\\ub7a8\", \"\\uc74c\\ubc18\", \"\\uacf5\\uc5f0\", \"\\uc18c\\ud1b5\", \"\\ud398\\uc2a4\\ud2f0\\ubc8c\", \"\\ud799\\ud569\\ud50c\\ub808\\uc774\", \"\\ud558\\uc774\\ub77c\\uc774\\ud2b8\\ub808\\ucf54\\uc988\", \"\\ud558\\uc774\\ub77c\\uc774\\ud2b8\", \"\\ud799\\ud569\\ube44\\ud2b8\", \"\\ub304\\uc2a4\", \"\\ucd94\\ucc9c\", \"\\ucf58\\uc11c\\ud2b8\", \"\\ud799\\ud569\\uacf5\\uc5f0\", \"\\ud50c\\ub808\\uc774\", \"\\ud799\\ud569\\ucf58\\uc11c\\ud2b8\", \"\\uc74c\\uc545\\uc2a4\\ud0c0\\uadf8\\ub7a8\", \"\\uc0ac\\uc6b4\\ub4dc\\ud074\\ub77c\\uc6b0\\ub4dc\\ub798\\ud37c\", \"\\ud799\\uc2a4\\ud53c\", \"\\ud799\\uc2a4\", \"\\ub808\\uac8c\\uc74c\\uc545\", \"\\uba54\\uc774\\ud0b9\", \"\\ube44\\ud2b8\\uba54\\uc774\\ud0b9\", \"\\uc77c\\ub7ec\\uc2a4\\ud2b8\\ub808\\uc774\\ud130\\ud638\\uc9c4\", \"\\uc2a4\\ud1a0\\ub9ac\\ud154\\ub7ec\", \"\\uae40\\ub18d\\ubc00\", \"\\ubbf8\\ub2c8\", \"\\ubbf8\\ub2c8\\uc568\\ubc94\", \"\\ub808\\uc774\\ud130\", \"\\ud638\\uc9c4\", \"\\uc218\\uba74\\uc9c4\\ub2f4\", \"\\uc9c4\\ub2f4\", \"\\uc77c\\ub7ec\\uc2a4\\ud2b8\\ub808\\uc774\\ud130\", \"\\uc218\\uba74\", \"\\uc2a4\\ud1a0\\ub9ac\", \"\\ubc34\\ub4dc\\ud799\\ud569\", \"\\uac15\\uc77c\\uc9c0\\uad6c\", \"\\ubbf8\\uc0ac\\uc220\\uc9d1\", \"\\ud558\\ub0a8\\ud56b\\ud50c\", \"\\ube44\\ud2b8\\uba54\\uc774\\ud0b9\\ub808\\uc2a8\", \"\\ud799\\ud569\\ub808\\uc2a8\", \"\\uac15\\uc77c\", \"\\ubd80\\uc0b0\\ubba4\\uc9c0\\uc158\", \"\\uac15\\ubcc0\", \"\\ud504\\ub85c\\ub4c0\\uc2f1\\ub808\\uc2a8\\uc624\\ud508\", \"\\ud0a4\\uc624\", \"\\ub178\\ub798\\ub9db\\uc9d1\", \"\\uc591\\uc8fc\\ub9db\\uc9d1\", \"\\uc77c\\ub7ec\\uc2a4\\ud2b8\", \"\\uadf8\\ub9bc\", \"\\ub7ec\\uc2a4\\ud2b8\", \"\\ub808\\uac8c\", \"\\ud799\\ud569\\ud504\\ub85c\\ub4c0\\uc2f1\", \"\\ub4c0\\uc2f1\", \"\\ucf5c\\ub77c\", \"\\uc608\\uc220\\uc6d0\", \"\\ud55c\\uad6d\\uc608\\uc220\\uc6d0\", \"\\ubc84\\uc800\\ube44\\ud2b8\\ud398\\uc2a4\\ud2f0\\ubc8c\", \"\\ubc84\\uc800\\ube44\\ud2b8\", \"\\ud799\\ud569\\uace1\\ucd94\\ucc9c\", \"\\ud799\\ud569\\ub178\\ub798\\ucd94\\ucc9c\", \"\\ucee4\\ubc84\", \"\\ud55c\\uad6d\\ud799\\ud569\\ucd94\\ucc9c\", \"\\uc74c\\uc545\", \"\\ud799\\ud569\\uc74c\\uc545\", \"\\ud799\\ud569\", \"\\ub798\\ud37c\", \"\\ud55c\\uad6d\", \"\\ud799\\ud569\\ucd94\\ucc9c\\uace1\", \"\\ud55c\\uad6d\\ud799\\ud569\", \"\\ub178\\ub798\", \"\\ud2f0\\uc2a4\\ud2b8\", \"\\uc2a4\\ud2b8\", \"\\uc2a4\\ud0c0\\uc77c\", \"\\ube44\\ud2b8\", \"\\ubba4\\uc9c0\\uc158\", \"\\uadf8\\ub7a8\", \"\\ubba4\\uc9c1\", \"\\uc568\\ubc94\", \"\\ube44\\uc640\\uc774\", \"\\uc640\\uc774\", \"\\ucd94\\ucc9c\", \"\\uc2a4\\ud0c0\", \"\\uc624\\ub298\", \"\\uacf5\\uc5f0\", \"\\ucf58\\uc11c\\ud2b8\", \"\\ub370\\uc77c\\ub9ac\", \"\\ud799\\ud569\\ucf58\\uc11c\\ud2b8\", \"\\ud799\\ud569\\uacf5\\uc5f0\", \"\\ub178\\ub798\\ucd94\\ucc9c\", \"\\ud074\\ub77c\\uc6b0\\ub4dc\", \"\\uc0ac\\uc6b4\\ub4dc\", \"\\ud799\\ud569\\ucd94\\ucc9c\", \"\\uad6d\\ud799\"], \"Freq\": [55.0, 59.0, 54.0, 54.0, 54.0, 55.0, 46.0, 46.0, 37.0, 77.0, 68.0, 117.0, 75.0, 75.0, 94.0, 83.0, 20.0, 20.0, 72.0, 32.0, 449.0, 425.0, 15.0, 30.0, 93.0, 22.0, 88.0, 25.0, 97.0, 15.0, 54.989627838134766, 54.197120666503906, 54.19618225097656, 54.18716812133789, 36.726112365722656, 58.14466094970703, 54.19462585449219, 45.4616584777832, 45.45664978027344, 20.254804611206055, 5.491012096405029, 5.460648536682129, 5.448426723480225, 5.431895732879639, 3.374945640563965, 3.3743319511413574, 5.380923271179199, 3.327510356903076, 55.32487869262695, 3.8136980533599854, 61.1866455078125, 6.204596519470215, 3.7383229732513428, 4.949090957641602, 4.910630702972412, 3.0420303344726562, 3.0281567573547363, 4.241763114929199, 3.006063938140869, 2.9916863441467285, 61.418365478515625, 55.58285903930664, 55.3896484375, 65.23234558105469, 78.59494018554688, 58.61543655395508, 17.82773780822754, 83.19409942626953, 138.9979705810547, 36.90280532836914, 94.86487579345703, 179.88189697265625, 169.44590759277344, 183.47349548339844, 32.618804931640625, 33.739707946777344, 17.170719146728516, 10.1132173538208, 15.359886169433594, 23.103485107421875, 4.755655288696289, 3.8492507934570312, 3.828050136566162, 3.826263666152954, 3.8235347270965576, 3.8228468894958496, 3.822554111480713, 3.81927490234375, 3.687842607498169, 5.150702953338623, 2.944192886352539, 2.9439797401428223, 2.943892240524292, 2.9434916973114014, 2.925386667251587, 2.916318655014038, 2.9097561836242676, 2.9069883823394775, 2.9043354988098145, 4.946471691131592, 11.153937339782715, 3.4376609325408936, 6.1356658935546875, 2.038388729095459, 2.038344621658325, 2.0383262634277344, 2.038302183151245, 2.038309097290039, 2.038297414779663, 2.038252830505371, 4.733024597167969, 4.731977939605713, 3.3197717666625977, 6.2599921226501465, 12.510807037353516, 3.8242688179016113, 3.824573516845703, 11.757572174072266, 10.19461441040039, 10.926884651184082, 36.42317581176758, 15.455496788024902, 9.675824165344238, 40.975616455078125, 12.022660255432129, 19.844234466552734, 18.488248825073242, 136.8741455078125, 15.829445838928223, 115.54995727539062, 119.92981719970703, 17.400096893310547, 20.72132682800293, 18.74889373779297, 16.75212287902832, 20.237510681152344, 16.036048889160156, 66.44867706298828, 18.771709442138672, 31.841278076171875, 48.437374114990234, 39.88023376464844, 19.327987670898438, 15.383333206176758, 21.223642349243164, 21.66756248474121, 17.144367218017578, 22.2634220123291, 21.213735580444336, 19.578516006469727, 14.499679565429688, 15.85692310333252, 15.652860641479492, 15.517583847045898, 8.553229331970215, 8.552809715270996, 8.552416801452637, 8.552314758300781, 8.55233097076416, 8.552191734313965, 8.552148818969727, 8.552027702331543, 8.55184555053711, 8.55185604095459, 8.551763534545898, 8.551669120788574, 8.551465034484863, 8.551361083984375, 8.55120849609375, 8.550901412963867, 8.550472259521484, 8.387221336364746, 6.049628734588623, 4.333085536956787, 4.315946578979492, 4.315824031829834, 4.315526008605957, 4.315210342407227, 4.309409141540527, 4.298178672790527, 4.291411876678467, 4.291522026062012, 17.17336654663086, 3.5464022159576416, 17.10575294494629, 12.677756309509277, 7.6902689933776855, 9.59492301940918, 9.670459747314453, 7.6086745262146, 7.6083598136901855, 7.586389541625977, 7.511151313781738, 8.750871658325195, 20.844175338745117, 18.568605422973633, 8.55293083190918, 11.352350234985352, 11.255961418151855, 31.796916961669922, 15.304913520812988, 32.28179168701172, 72.73248291015625, 43.83642578125, 49.13359069824219, 14.910338401794434, 14.806390762329102, 44.66729736328125, 11.51434326171875, 41.424346923828125, 16.856355667114258, 14.027145385742188, 16.19330596923828, 14.49655532836914, 13.478239059448242, 10.966169357299805, 9.6466703414917, 9.608782768249512, 9.942137718200684, 11.395912170410156, 15.754816055297852, 11.852949142456055, 11.714446067810059, 12.281989097595215, 10.881978988647461, 11.135533332824707, 4.099738597869873, 3.411344289779663, 3.411015748977661, 3.410410165786743, 7.459798812866211, 7.452985763549805, 5.278008937835693, 2.6088056564331055, 2.6085851192474365, 2.60836124420166, 2.6082818508148193, 7.197006702423096, 5.147493362426758, 4.500195026397705, 4.494931221008301, 6.391152858734131, 4.383768558502197, 4.355880260467529, 4.313931941986084, 1.8061418533325195, 1.8060832023620605, 1.8060681819915771, 1.8060123920440674, 1.8060020208358765, 1.8059923648834229, 1.8059707880020142, 1.8059433698654175, 1.805942177772522, 1.8059226274490356, 1.8059104681015015, 1.8059121370315552, 7.325993537902832, 4.578213691711426, 8.797686576843262, 3.410468816757202, 3.4111168384552, 3.4111196994781494, 5.282588005065918, 5.373462677001953, 5.376274108886719, 3.2617132663726807, 3.251277446746826, 6.776597023010254, 6.716790199279785, 10.204038619995117, 7.582787036895752, 104.7285385131836, 99.0194091796875, 107.24113464355469, 28.71095848083496, 26.351213455200195, 7.410348415374756, 19.227935791015625, 23.984603881835938, 11.61160659790039, 11.580101013183594, 7.505511283874512, 11.608221054077148, 11.349841117858887, 28.64186668395996, 17.70506477355957, 14.374053001403809, 10.180802345275879, 10.561044692993164, 17.915306091308594, 18.8819580078125, 9.35962963104248, 10.94992446899414, 10.043231010437012, 10.91356372833252, 9.422494888305664, 9.099559783935547, 9.369967460632324, 8.355198860168457, 8.221412658691406, 8.500296592712402, 8.439048767089844], \"Total\": [55.0, 59.0, 54.0, 54.0, 54.0, 55.0, 46.0, 46.0, 37.0, 77.0, 68.0, 117.0, 75.0, 75.0, 94.0, 83.0, 20.0, 20.0, 72.0, 32.0, 449.0, 425.0, 15.0, 30.0, 93.0, 22.0, 88.0, 25.0, 97.0, 15.0, 55.625823974609375, 54.83330154418945, 54.83238983154297, 54.82344055175781, 37.36223602294922, 59.70349884033203, 55.73661804199219, 46.918365478515625, 46.91841506958008, 22.39276885986328, 6.395514965057373, 6.395679950714111, 6.396232604980469, 6.39599609375, 4.0109758377075195, 4.0106306076049805, 6.396395683288574, 4.0122809410095215, 68.12507629394531, 4.808716297149658, 77.95466613769531, 7.992867469787598, 4.8657917976379395, 6.480990886688232, 6.4798583984375, 4.014769554138184, 4.0147786140441895, 5.651608943939209, 4.015222549438477, 4.015021324157715, 83.30953216552734, 75.87017059326172, 75.87499237060547, 94.69087982177734, 117.66050720214844, 97.07498931884766, 27.027908325195312, 156.74444580078125, 283.22210693359375, 63.579132080078125, 206.0206298828125, 449.2075500488281, 425.4396057128906, 500.3212890625, 68.27398681640625, 88.09232330322266, 35.367835998535156, 16.345565795898438, 40.64540100097656, 104.9316177368164, 5.3637213706970215, 4.4573187828063965, 4.455616474151611, 4.455515384674072, 4.454876899719238, 4.4546308517456055, 4.454686164855957, 4.454100608825684, 4.442291259765625, 6.207013130187988, 3.5522499084472656, 3.5520341396331787, 3.5519540309906006, 3.551548480987549, 3.5500903129577637, 3.5487821102142334, 3.5474586486816406, 3.5475118160247803, 3.549021005630493, 6.191588401794434, 14.111770629882812, 4.425414562225342, 7.942455768585205, 2.6464438438415527, 2.6463961601257324, 2.64638090133667, 2.6463541984558105, 2.6463639736175537, 2.646352529525757, 2.6463069915771484, 6.155806064605713, 6.163915157318115, 4.3943562507629395, 8.725210189819336, 18.31859016418457, 5.248953819274902, 5.257663726806641, 18.230592727661133, 15.63064193725586, 17.313457489013672, 77.33145141601562, 27.431598663330078, 15.60384750366211, 93.13883972167969, 20.656206130981445, 40.64540100097656, 37.434444427490234, 500.3212890625, 31.51140594482422, 425.4396057128906, 449.2075500488281, 36.502540588378906, 47.33475875854492, 41.484947204589844, 35.63410949707031, 46.83140182495117, 34.9301643371582, 283.22210693359375, 46.61547088623047, 104.9316177368164, 206.0206298828125, 156.74444580078125, 52.49204635620117, 36.280487060546875, 62.27414321899414, 72.6098861694336, 48.05582809448242, 97.07498931884766, 88.09232330322266, 94.69087982177734, 36.41465377807617, 68.27398681640625, 75.87499237060547, 75.87017059326172, 9.179171562194824, 9.178752899169922, 9.178365707397461, 9.178262710571289, 9.178282737731934, 9.178140640258789, 9.178094863891602, 9.17797565460205, 9.17779541015625, 9.177811622619629, 9.177713394165039, 9.177620887756348, 9.17741870880127, 9.177312850952148, 9.177165985107422, 9.176850318908691, 9.176424026489258, 9.17238998413086, 6.675575256347656, 5.004910469055176, 5.003805160522461, 5.004250526428223, 5.0042009353637695, 5.003986358642578, 5.003913402557373, 5.0026421546936035, 5.002632141113281, 5.002839088439941, 20.10643768310547, 4.1723432540893555, 20.21979522705078, 15.054291725158691, 9.156559944152832, 11.637979507446289, 11.791353225708008, 9.147363662719727, 9.152063369750977, 9.155377388000488, 9.151402473449707, 10.96609878540039, 32.61273193359375, 30.666902542114258, 10.774012565612793, 15.968953132629395, 15.97716999053955, 72.6098861694336, 25.070829391479492, 104.9316177368164, 500.3212890625, 206.0206298828125, 283.22210693359375, 31.17592430114746, 31.217571258544922, 449.2075500488281, 18.340171813964844, 425.4396057128906, 52.49204635620117, 37.87574768066406, 62.27414321899414, 47.19340896606445, 40.57716751098633, 21.169198989868164, 14.33306884765625, 14.348998069763184, 16.844772338867188, 33.15896224975586, 156.74444580078125, 48.05582809448242, 46.83140182495117, 97.07498931884766, 46.61547088623047, 83.30953216552734, 4.846500396728516, 4.045233249664307, 4.044915199279785, 4.044349193572998, 8.926562309265137, 8.927569389343262, 6.504533767700195, 3.2426841259002686, 3.2424702644348145, 3.2422432899475098, 3.2421655654907227, 8.974350929260254, 6.517016887664795, 5.700500965118408, 5.7044830322265625, 8.171967506408691, 5.7085347175598145, 5.713784217834473, 5.715945243835449, 2.44001841545105, 2.4399590492248535, 2.4399445056915283, 2.4398903846740723, 2.439879894256592, 2.4398696422576904, 2.4398491382598877, 2.4398207664489746, 2.4398207664489746, 2.4398016929626465, 2.439786911010742, 2.439789295196533, 10.675840377807617, 6.500178337097168, 13.184720039367676, 4.875388145446777, 4.950786590576172, 4.950811386108398, 8.102952003479004, 8.30776596069336, 8.313745498657227, 4.847725868225098, 4.844889163970947, 11.515323638916016, 11.513301849365234, 19.099645614624023, 14.125879287719727, 449.2075500488281, 425.4396057128906, 500.3212890625, 88.09232330322266, 93.13883972167969, 14.922698020935059, 77.33145141601562, 117.66050720214844, 35.63410949707031, 36.502540588378906, 16.167621612548828, 39.093666076660156, 37.434444427490234, 283.22210693359375, 104.9316177368164, 68.27398681640625, 36.280487060546875, 41.484947204589844, 156.74444580078125, 206.0206298828125, 31.51140594482422, 62.27414321899414, 48.05582809448242, 72.6098861694336, 46.61547088623047, 46.83140182495117, 77.95466613769531, 35.367835998535156, 30.704395294189453, 63.579132080078125, 94.69087982177734], \"Category\": [\"Default\", \"Default\", \"Default\", \"Default\", \"Default\", \"Default\", \"Default\", \"Default\", \"Default\", \"Default\", \"Default\", \"Default\", \"Default\", \"Default\", \"Default\", \"Default\", \"Default\", \"Default\", \"Default\", \"Default\", \"Default\", \"Default\", \"Default\", \"Default\", \"Default\", \"Default\", \"Default\", \"Default\", \"Default\", \"Default\", \"Topic1\", \"Topic1\", \"Topic1\", \"Topic1\", \"Topic1\", \"Topic1\", \"Topic1\", \"Topic1\", \"Topic1\", \"Topic1\", \"Topic1\", \"Topic1\", \"Topic1\", \"Topic1\", \"Topic1\", \"Topic1\", \"Topic1\", \"Topic1\", \"Topic1\", \"Topic1\", \"Topic1\", \"Topic1\", \"Topic1\", \"Topic1\", \"Topic1\", \"Topic1\", \"Topic1\", \"Topic1\", \"Topic1\", \"Topic1\", \"Topic1\", \"Topic1\", \"Topic1\", \"Topic1\", \"Topic1\", \"Topic1\", \"Topic1\", \"Topic1\", \"Topic1\", \"Topic1\", \"Topic1\", \"Topic1\", \"Topic1\", \"Topic1\", \"Topic1\", \"Topic1\", \"Topic1\", \"Topic1\", \"Topic1\", \"Topic1\", \"Topic2\", \"Topic2\", \"Topic2\", \"Topic2\", \"Topic2\", \"Topic2\", \"Topic2\", \"Topic2\", \"Topic2\", \"Topic2\", \"Topic2\", \"Topic2\", \"Topic2\", \"Topic2\", \"Topic2\", \"Topic2\", \"Topic2\", \"Topic2\", \"Topic2\", \"Topic2\", \"Topic2\", \"Topic2\", \"Topic2\", \"Topic2\", \"Topic2\", \"Topic2\", \"Topic2\", \"Topic2\", \"Topic2\", \"Topic2\", \"Topic2\", \"Topic2\", \"Topic2\", \"Topic2\", \"Topic2\", \"Topic2\", \"Topic2\", \"Topic2\", \"Topic2\", \"Topic2\", \"Topic2\", \"Topic2\", \"Topic2\", \"Topic2\", \"Topic2\", \"Topic2\", \"Topic2\", \"Topic2\", \"Topic2\", \"Topic2\", \"Topic2\", \"Topic2\", \"Topic2\", \"Topic2\", \"Topic2\", \"Topic2\", \"Topic2\", \"Topic2\", \"Topic2\", \"Topic2\", \"Topic2\", \"Topic2\", \"Topic2\", \"Topic2\", \"Topic2\", \"Topic2\", \"Topic2\", \"Topic2\", \"Topic2\", \"Topic2\", \"Topic2\", \"Topic2\", \"Topic2\", \"Topic2\", \"Topic3\", \"Topic3\", \"Topic3\", \"Topic3\", \"Topic3\", \"Topic3\", \"Topic3\", \"Topic3\", \"Topic3\", \"Topic3\", \"Topic3\", \"Topic3\", \"Topic3\", \"Topic3\", \"Topic3\", \"Topic3\", \"Topic3\", \"Topic3\", \"Topic3\", \"Topic3\", \"Topic3\", \"Topic3\", \"Topic3\", \"Topic3\", \"Topic3\", \"Topic3\", \"Topic3\", \"Topic3\", \"Topic3\", \"Topic3\", \"Topic3\", \"Topic3\", \"Topic3\", \"Topic3\", \"Topic3\", \"Topic3\", \"Topic3\", \"Topic3\", \"Topic3\", \"Topic3\", \"Topic3\", \"Topic3\", \"Topic3\", \"Topic3\", \"Topic3\", \"Topic3\", \"Topic3\", \"Topic3\", \"Topic3\", \"Topic3\", \"Topic3\", \"Topic3\", \"Topic3\", \"Topic3\", \"Topic3\", \"Topic3\", \"Topic3\", \"Topic3\", \"Topic3\", \"Topic3\", \"Topic3\", \"Topic3\", \"Topic3\", \"Topic3\", \"Topic3\", \"Topic3\", \"Topic3\", \"Topic3\", \"Topic3\", \"Topic3\", \"Topic3\", \"Topic3\", \"Topic4\", \"Topic4\", \"Topic4\", \"Topic4\", \"Topic4\", \"Topic4\", \"Topic4\", \"Topic4\", \"Topic4\", \"Topic4\", \"Topic4\", \"Topic4\", \"Topic4\", \"Topic4\", \"Topic4\", \"Topic4\", \"Topic4\", \"Topic4\", \"Topic4\", \"Topic4\", \"Topic4\", \"Topic4\", \"Topic4\", \"Topic4\", \"Topic4\", \"Topic4\", \"Topic4\", \"Topic4\", \"Topic4\", \"Topic4\", \"Topic4\", \"Topic4\", \"Topic4\", \"Topic4\", \"Topic4\", \"Topic4\", \"Topic4\", \"Topic4\", \"Topic4\", \"Topic4\", \"Topic4\", \"Topic4\", \"Topic4\", \"Topic4\", \"Topic4\", \"Topic4\", \"Topic4\", \"Topic4\", \"Topic4\", \"Topic4\", \"Topic4\", \"Topic4\", \"Topic4\", \"Topic4\", \"Topic4\", \"Topic4\", \"Topic4\", \"Topic4\", \"Topic4\", \"Topic4\", \"Topic4\", \"Topic4\", \"Topic4\", \"Topic4\", \"Topic4\", \"Topic4\", \"Topic4\", \"Topic4\", \"Topic4\", \"Topic4\", \"Topic4\", \"Topic4\", \"Topic4\", \"Topic4\", \"Topic4\", \"Topic4\", \"Topic4\"], \"logprob\": [30.0, 29.0, 28.0, 27.0, 26.0, 25.0, 24.0, 23.0, 22.0, 21.0, 20.0, 19.0, 18.0, 17.0, 16.0, 15.0, 14.0, 13.0, 12.0, 11.0, 10.0, 9.0, 8.0, 7.0, 6.0, 5.0, 4.0, 3.0, 2.0, 1.0, -4.284200191497803, -4.298699855804443, -4.298699855804443, -4.298900127410889, -4.68779993057251, -4.228400230407715, -4.298699855804443, -4.474400043487549, -4.474599838256836, -5.282899856567383, -6.588200092315674, -6.593699932098389, -6.5960001945495605, -6.598999977111816, -7.074900150299072, -7.075099945068359, -6.608500003814697, -7.089099884033203, -4.27810001373291, -6.952700138092041, -4.1774001121521, -6.466000080108643, -6.972700119018555, -6.6921000480651855, -6.699900150299072, -7.178800106048584, -7.1834001541137695, -6.84630012512207, -7.190700054168701, -7.195499897003174, -4.173600196838379, -4.273399829864502, -4.276899814605713, -4.113399982452393, -3.927000045776367, -4.220300197601318, -5.410600185394287, -3.8701000213623047, -3.3568999767303467, -4.683000087738037, -3.7388999462127686, -3.0989999771118164, -3.158799886703491, -3.079200029373169, -4.806399822235107, -4.772600173950195, -5.4481000900268555, -5.977499961853027, -5.559599876403809, -5.151299953460693, -6.531300067901611, -6.742800235748291, -6.748300075531006, -6.748799800872803, -6.749499797821045, -6.74970006942749, -6.74970006942749, -6.7505998611450195, -6.785600185394287, -6.451499938964844, -7.010799884796143, -7.010900020599365, -7.010900020599365, -7.011099815368652, -7.017199993133545, -7.020299911499023, -7.022600173950195, -7.023499965667725, -7.024499893188477, -6.492000102996826, -5.678899765014648, -6.855899810791016, -6.276500225067139, -7.378499984741211, -7.378499984741211, -7.378499984741211, -7.378499984741211, -7.378499984741211, -7.378499984741211, -7.378600120544434, -6.536099910736084, -6.536300182342529, -6.8907999992370605, -6.256499767303467, -5.5640997886657715, -6.749300003051758, -6.749199867248535, -5.626200199127197, -5.768799781799316, -5.699399948120117, -4.495500087738037, -5.352700233459473, -5.821000099182129, -4.377699851989746, -5.603899955749512, -5.102700233459473, -5.173500061035156, -3.171600103378296, -5.328800201416016, -3.3410000801086426, -3.3036999702453613, -5.2342000007629395, -5.059500217437744, -5.1595001220703125, -5.27209997177124, -5.083099842071533, -5.315800189971924, -3.894200086593628, -5.158299922943115, -4.629899978637695, -4.210400104522705, -4.404799938201904, -5.1290998458862305, -5.357399940490723, -5.0355000495910645, -5.014800071716309, -5.249000072479248, -4.98769998550415, -5.035999774932861, -5.116199970245361, -5.416500091552734, -5.327099800109863, -5.340000152587891, -5.348700046539307, -5.676300048828125, -5.676300048828125, -5.676400184631348, -5.676400184631348, -5.676400184631348, -5.676400184631348, -5.676400184631348, -5.676400184631348, -5.676499843597412, -5.676499843597412, -5.676499843597412, -5.676499843597412, -5.676499843597412, -5.676499843597412, -5.676499843597412, -5.676599979400635, -5.676599979400635, -5.695899963378906, -6.022600173950195, -6.356299877166748, -6.360300064086914, -6.360300064086914, -6.360400199890137, -6.360499858856201, -6.361800193786621, -6.3643999099731445, -6.366000175476074, -6.366000175476074, -4.9791998863220215, -6.556700229644775, -4.9832000732421875, -5.282800197601318, -5.782700061798096, -5.561399936676025, -5.553500175476074, -5.793300151824951, -5.793399810791016, -5.796299934387207, -5.80620002746582, -5.653500080108643, -4.7855000495910645, -4.901100158691406, -5.676300048828125, -5.393199920654297, -5.401700019836426, -4.3632001876831055, -5.094399929046631, -4.348100185394287, -3.535799980163574, -4.042099952697754, -3.928100109100342, -5.12060022354126, -5.127500057220459, -4.023399829864502, -5.379000186920166, -4.098700046539307, -4.997900009155273, -5.181600093841553, -5.038000106811523, -5.14870023727417, -5.221499919891357, -5.427800178527832, -5.556000232696533, -5.559899806976318, -5.5258002281188965, -5.389400005340576, -5.065499782562256, -5.349999904632568, -5.361800193786621, -5.314499855041504, -5.435500144958496, -5.412499904632568, -6.4004998207092285, -6.5843000411987305, -6.584400177001953, -6.58459997177124, -5.8018999099731445, -5.802800178527832, -6.147900104522705, -6.852499961853027, -6.85260009765625, -6.852700233459473, -6.852700233459473, -5.837800025939941, -6.172900199890137, -6.307300090789795, -6.308499813079834, -5.956500053405762, -6.333499908447266, -6.339900016784668, -6.349599838256836, -7.220200061798096, -7.220300197601318, -7.220300197601318, -7.220300197601318, -7.220300197601318, -7.220300197601318, -7.220300197601318, -7.220399856567383, -7.220399856567383, -7.220399856567383, -7.220399856567383, -7.220399856567383, -5.820000171661377, -6.29010009765625, -5.63700008392334, -6.58459997177124, -6.584400177001953, -6.584400177001953, -6.146999835968018, -6.130000114440918, -6.12939977645874, -6.629199981689453, -6.632400035858154, -5.8979997634887695, -5.906799793243408, -5.488699913024902, -5.785600185394287, -3.160099983215332, -3.216099977493286, -3.136399984359741, -4.45419979095459, -4.539899826049805, -5.808599948883057, -4.855100154876709, -4.633999824523926, -5.359399795532227, -5.362199783325195, -5.79580020904541, -5.3597002029418945, -5.382199764251709, -4.456600189208984, -4.937600135803223, -5.145999908447266, -5.490900039672852, -5.4542999267578125, -4.92579984664917, -4.873199939727783, -5.574999809265137, -5.418099880218506, -5.504499912261963, -5.42140007019043, -5.568299770355225, -5.6031999588012695, -5.57390022277832, -5.688600063323975, -5.704699993133545, -5.671299934387207, -5.678599834442139], \"loglift\": [30.0, 29.0, 28.0, 27.0, 26.0, 25.0, 24.0, 23.0, 22.0, 21.0, 20.0, 19.0, 18.0, 17.0, 16.0, 15.0, 14.0, 13.0, 12.0, 11.0, 10.0, 9.0, 8.0, 7.0, 6.0, 5.0, 4.0, 3.0, 2.0, 1.0, 1.107800006866455, 1.107699990272522, 1.107699990272522, 1.107699990272522, 1.1022000312805176, 1.092900037765503, 1.0913000106811523, 1.0878000259399414, 1.0877000093460083, 1.0190000534057617, 0.9668999910354614, 0.9613000154495239, 0.9589999914169312, 0.9559999704360962, 0.9466999769210815, 0.9466000199317932, 0.9465000033378601, 0.932200014591217, 0.9111999869346619, 0.887499988079071, 0.8772000074386597, 0.866100013256073, 0.8557999730110168, 0.8496999740600586, 0.8421000242233276, 0.8418999910354614, 0.8373000025749207, 0.8324000239372253, 0.8299000263214111, 0.8251000046730042, 0.8144999742507935, 0.8082000017166138, 0.8047000169754028, 0.7466999888420105, 0.7159000039100647, 0.6148999929428101, 0.7031999826431274, 0.48590001463890076, 0.4075999855995178, 0.5753999948501587, 0.34380000829696655, 0.20419999957084656, 0.1987999975681305, 0.11620000004768372, 0.3806999921798706, 0.15960000455379486, 0.3968000113964081, 0.63919997215271, 0.1462000012397766, -0.39399999380111694, 1.1996999979019165, 1.17330002784729, 1.1682000160217285, 1.167799949645996, 1.167199969291687, 1.167099952697754, 1.1670000553131104, 1.166200041770935, 1.1339000463485718, 1.1334999799728394, 1.1323000192642212, 1.132200002670288, 1.132200002670288, 1.132200002670288, 1.1265000104904175, 1.1237000226974487, 1.1217999458312988, 1.12090003490448, 1.1195000410079956, 1.0954999923706055, 1.0848000049591064, 1.0673999786376953, 1.061900019645691, 1.059000015258789, 1.058899998664856, 1.058899998664856, 1.058899998664856, 1.058899998664856, 1.058899998664856, 1.058899998664856, 1.0571999549865723, 1.0556000471115112, 1.0396000146865845, 0.9879999756813049, 0.9387000203132629, 1.0032999515533447, 1.0017999410629272, 0.8813999891281128, 0.8925999999046326, 0.8597999811172485, 0.5670999884605408, 0.7462999820709229, 0.8421000242233276, 0.49889999628067017, 0.7788000106811523, 0.6029999852180481, 0.6146000027656555, 0.023800000548362732, 0.6315000057220459, 0.016599999740719795, -0.0006000000284984708, 0.5791000127792358, 0.49390000104904175, 0.5257999897003174, 0.5651999711990356, 0.48100000619888306, 0.5414999723434448, -0.1298000067472458, 0.41040000319480896, 0.1274999976158142, -0.12770000100135803, -0.048700001090765, 0.32089999318122864, 0.4620000123977661, 0.243599995970726, 0.11069999635219574, 0.28929999470710754, -0.1525000035762787, -0.10369999706745148, -0.25619998574256897, 0.3991999924182892, -0.13989999890327454, -0.25839999318122864, -0.2669999897480011, 1.5174000263214111, 1.5174000263214111, 1.5174000263214111, 1.5174000263214111, 1.5174000263214111, 1.5174000263214111, 1.5174000263214111, 1.5174000263214111, 1.5174000263214111, 1.5174000263214111, 1.5174000263214111, 1.5174000263214111, 1.5174000263214111, 1.5174000263214111, 1.5174000263214111, 1.5174000263214111, 1.5174000263214111, 1.4986000061035156, 1.4895999431610107, 1.4438999891281128, 1.4401999711990356, 1.4400999546051025, 1.440000057220459, 1.440000057220459, 1.438599944114685, 1.4363000392913818, 1.4347000122070312, 1.4347000122070312, 1.430400013923645, 1.4255000352859497, 1.420799970626831, 1.416200041770935, 1.4134999513626099, 1.3949999809265137, 1.389799952507019, 1.4039000272750854, 1.4033000469207764, 1.4000999927520752, 1.3904999494552612, 1.3624000549316406, 1.1404000520706177, 1.086300015449524, 1.357200026512146, 1.2467999458312988, 1.2378000020980835, 0.7623000144958496, 1.094499945640564, 0.4092999994754791, -0.34040001034736633, 0.04050000011920929, -0.16359999775886536, 0.8504999876022339, 0.8421000242233276, -0.7202000021934509, 1.1225999593734741, -0.7411999702453613, 0.45210000872612, 0.5946999788284302, 0.2410999983549118, 0.4077000021934509, 0.48590001463890076, 0.9302999973297119, 1.1921000480651855, 1.1871000528335571, 1.0607999563217163, 0.5199999809265137, -0.7093999981880188, 0.1882999986410141, 0.20229999721050262, -0.47929999232292175, 0.133200004696846, -0.4244000017642975, 1.4319000244140625, 1.4287999868392944, 1.4287999868392944, 1.4286999702453613, 1.419700026512146, 1.4186999797821045, 1.3903000354766846, 1.381700038909912, 1.381700038909912, 1.381700038909912, 1.381700038909912, 1.378499984741211, 1.3632999658584595, 1.3628000020980835, 1.3609000444412231, 1.3533999919891357, 1.3351999521255493, 1.3279000520706177, 1.3178000450134277, 1.2984000444412231, 1.2984000444412231, 1.2984000444412231, 1.2984000444412231, 1.2984000444412231, 1.2984000444412231, 1.2984000444412231, 1.2984000444412231, 1.2984000444412231, 1.2984000444412231, 1.2984000444412231, 1.2984000444412231, 1.2226999998092651, 1.2487000226974487, 1.194700002670288, 1.2418999671936035, 1.226699948310852, 1.226699948310852, 1.1713999509811401, 1.1634999513626099, 1.1633000373840332, 1.2029999494552612, 1.2002999782562256, 1.069000005722046, 1.0602999925613403, 0.9722999930381775, 0.9771000146865845, 0.14309999346733093, 0.14139999449253082, 0.05909999832510948, 0.4781000018119812, 0.33660000562667847, 0.8992000222206116, 0.20749999582767487, 0.008799999952316284, 0.4778999984264374, 0.4510999917984009, 0.8319000005722046, 0.38499999046325684, 0.4058000147342682, -0.6920999884605408, -0.18019999563694, 0.041099999099969864, 0.32839998602867126, 0.23109999299049377, -0.5697000026702881, -0.7904999852180481, 0.38530001044273376, -0.13899999856948853, 0.033799998462200165, -0.29589998722076416, 0.00039999998989515007, -0.03909999877214432, -0.5194000005722046, 0.15629999339580536, 0.2815999984741211, -0.4129999876022339, -0.8184999823570251]}, \"token.table\": {\"Topic\": [1, 3, 4, 4, 3, 3, 3, 3, 4, 4, 1, 2, 3, 4, 1, 3, 4, 1, 2, 3, 4, 1, 2, 3, 4, 1, 2, 3, 4, 2, 1, 2, 4, 1, 4, 1, 2, 3, 4, 4, 1, 2, 1, 2, 3, 4, 3, 2, 3, 1, 2, 3, 4, 1, 2, 3, 4, 1, 2, 3, 4, 2, 3, 3, 3, 3, 3, 3, 3, 3, 2, 4, 1, 2, 4, 2, 1, 2, 3, 4, 1, 2, 4, 3, 4, 4, 2, 4, 1, 4, 1, 2, 3, 4, 3, 2, 4, 1, 2, 1, 2, 3, 1, 2, 3, 4, 1, 2, 3, 4, 4, 4, 4, 3, 2, 4, 1, 4, 1, 4, 4, 2, 2, 1, 3, 1, 2, 3, 4, 1, 2, 3, 4, 2, 4, 4, 1, 2, 3, 4, 4, 2, 2, 1, 2, 3, 4, 1, 2, 3, 4, 2, 3, 1, 2, 3, 4, 3, 2, 4, 2, 4, 1, 2, 3, 4, 1, 3, 3, 1, 2, 3, 4, 1, 2, 3, 4, 2, 4, 4, 3, 1, 2, 3, 4, 1, 2, 3, 4, 3, 2, 3, 4, 1, 4, 1, 1, 1, 2, 4, 1, 2, 3, 4, 4, 1, 4, 1, 2, 4, 1, 2, 3, 4, 3, 2, 2, 2, 2, 2, 2, 1, 2, 3, 4, 1, 1, 1, 2, 3, 3, 2, 3, 4, 3, 1, 2, 3, 4, 1, 3, 1, 2, 3, 4, 1, 3, 1, 2, 3, 4, 1, 1, 4, 1, 2, 3, 4, 1, 2, 3, 4, 2, 2, 2, 1, 2, 3, 4, 2, 1, 2, 3, 3, 3, 1, 2, 4, 2, 4, 2, 4, 1, 2, 3, 4, 3, 1, 2, 3, 4, 3, 3, 1, 4, 1, 3, 2, 3, 4, 1, 4, 2, 4, 1, 2, 3, 4, 1, 2, 3, 4, 1, 2, 4, 1, 2, 3, 4, 1, 2, 4, 2, 1, 2, 3, 4, 2, 3, 1, 2, 3, 4, 1, 2, 4, 1, 2, 2, 1, 2, 3, 4, 1, 2, 4, 2, 1, 2, 2, 1, 4, 1, 4, 1, 1, 2, 3, 4, 2, 1, 2, 3, 4, 1, 2, 3, 4, 4, 1, 2, 3, 4, 1, 2, 3, 4, 4, 2, 2, 1, 2, 1, 2, 1, 4, 1, 4, 1, 4, 2, 3, 4, 2, 3, 4, 2, 3, 4, 2, 3, 4, 1, 2, 3, 4, 2, 4, 1, 2, 3, 4, 1, 2, 3, 4, 2, 2, 3, 2, 4, 1, 2, 4, 4, 1, 2, 3, 4, 1, 2, 3, 4, 1, 2, 3, 4, 1, 2, 1, 2, 3, 4, 1, 2, 3, 4, 4, 1, 2, 3, 4, 1, 2, 3, 4, 1, 2, 3, 4, 1, 2, 3, 4, 1, 2, 3, 4, 1, 2, 3, 4, 1, 2, 3, 4, 1, 2, 3, 4, 1, 2, 3, 4, 1, 2, 3, 4, 1, 2, 2, 4, 1, 2, 3, 4], \"Freq\": [0.09281592816114426, 0.8353433609008789, 0.09281592816114426, 0.8197323679924011, 0.7993283867835999, 0.7993743419647217, 0.7992150783538818, 0.7995790839195251, 0.8197159171104431, 0.8196659684181213, 0.22481240332126617, 0.33721861243247986, 0.2569284737110138, 0.17663832008838654, 0.08592557162046432, 0.8592556715011597, 0.08592557162046432, 0.12795379757881165, 0.6397690176963806, 0.06397689878940582, 0.19193069636821747, 0.6864441633224487, 0.2112135887145996, 0.010560679249465466, 0.08448543399572372, 0.49078088998794556, 0.23303265869617462, 0.17300909757614136, 0.10239313542842865, 0.8453035354614258, 0.15384192764759064, 0.15384192764759064, 0.7692096829414368, 0.9887493848800659, 0.9252204895019531, 0.6714232563972473, 0.08499028533697128, 0.04249514266848564, 0.20397667586803436, 0.8197436928749084, 0.9688424468040466, 0.01794152706861496, 0.7825060486793518, 0.07696781307458878, 0.01282796822488308, 0.11545171588659286, 0.9806276559829712, 0.16961582005023956, 0.8480790853500366, 0.3618931174278259, 0.21110431849956512, 0.3317353427410126, 0.09047327935695648, 0.11017783731222153, 0.30298903584480286, 0.4407113492488861, 0.15149451792240143, 0.20039986073970795, 0.45805680751800537, 0.20039986073970795, 0.11451420187950134, 0.1483694612979889, 0.8407602310180664, 0.9807742238044739, 0.8721827268600464, 0.7995774745941162, 0.7995460033416748, 0.7993627190589905, 0.7993205189704895, 0.7993916273117065, 0.20198708772659302, 0.605961263179779, 0.07086282968521118, 0.779491126537323, 0.14172565937042236, 0.8445351719856262, 0.3859587013721466, 0.23838625848293304, 0.04540690779685974, 0.3292000889778137, 0.0758453756570816, 0.22753611207008362, 0.6826083660125732, 0.20511187613010406, 0.6153356432914734, 0.7417756915092468, 0.11142867058515549, 0.7800006866455078, 0.9591116905212402, 0.021313592791557312, 0.7381029725074768, 0.21088656783103943, 0.02636082097887993, 0.03954123333096504, 0.9805907607078552, 0.11202520877122879, 0.7841764688491821, 0.19051414728164673, 0.7620565891265869, 0.6117867231369019, 0.12235734611749649, 0.18353600800037384, 0.16028019785881042, 0.4808405935764313, 0.05342673137784004, 0.2938470244407654, 0.21919037401676178, 0.3049605190753937, 0.3049605190753937, 0.1715402901172638, 0.925285279750824, 0.9253074526786804, 0.8196858763694763, 0.9586939215660095, 0.17494919896125793, 0.6997967958450317, 0.20640307664871216, 0.6192092299461365, 0.20628228783607483, 0.6188468933105469, 0.8197228312492371, 0.8980488777160645, 0.8977433443069458, 0.10932111740112305, 0.8745689392089844, 0.22050420939922333, 0.413445383310318, 0.0826890766620636, 0.27563026547431946, 0.20463673770427704, 0.23021632432937622, 0.2557959258556366, 0.30695509910583496, 0.11201257258653641, 0.7840880155563354, 0.8197089433670044, 0.39082351326942444, 0.3256862759590149, 0.03256862610578537, 0.26054900884628296, 0.825337827205658, 0.7557447552680969, 0.8453604578971863, 0.14523480832576752, 0.5809392333030701, 0.09682320058345795, 0.1936464011669159, 0.05458935350179672, 0.709661602973938, 0.05458935350179672, 0.16376806795597076, 0.18238025903701782, 0.8207111954689026, 0.3178409934043884, 0.1907045990228653, 0.29665160179138184, 0.1695151925086975, 0.9804806113243103, 0.17517630755901337, 0.7007052302360535, 0.17542317509651184, 0.8771159052848816, 0.16038016974925995, 0.2566082775592804, 0.48114049434661865, 0.09622810035943985, 0.10922542959451675, 0.873803436756134, 0.9805253744125366, 0.4611188769340515, 0.23298637568950653, 0.21357084810733795, 0.09222377091646194, 0.3711121082305908, 0.06185201555490494, 0.12370403110980988, 0.4948161244392395, 0.17501536011695862, 0.7000614404678345, 0.9251595139503479, 0.9806463122367859, 0.16437211632728577, 0.4657210111618042, 0.05479070544242859, 0.32874423265457153, 0.16304221749305725, 0.09782533347606659, 0.6195604801177979, 0.13043378293514252, 0.9805777072906494, 0.06642623990774155, 0.8635411262512207, 0.06642623990774155, 0.7472392320632935, 0.24907973408699036, 0.747947633266449, 0.9903047680854797, 0.8931454420089722, 0.04465727508068085, 0.04465727508068085, 0.4833466112613678, 0.23434987664222717, 0.07323433458805084, 0.20505613088607788, 0.8197429180145264, 0.7472409009933472, 0.24908030033111572, 0.7480120658874512, 0.24073860049247742, 0.6018465161323547, 0.15867270529270172, 0.5077526569366455, 0.06346908211708069, 0.2856108546257019, 0.898798942565918, 0.8974004983901978, 0.9004362225532532, 0.9321886301040649, 0.8446055054664612, 0.7557311058044434, 0.8979419469833374, 0.21694615483283997, 0.4579974412918091, 0.07231538742780685, 0.26515641808509827, 0.9848030209541321, 0.9848193526268005, 0.9714673757553101, 0.016749437898397446, 0.9807286262512207, 0.9806948900222778, 0.09947063028812408, 0.8455003499984741, 0.04973531514406204, 0.9806084036827087, 0.15841270983219147, 0.29042330384254456, 0.3696296811103821, 0.18481484055519104, 0.10921131819486618, 0.8736905455589294, 0.12813296914100647, 0.28829917311668396, 0.48049861192703247, 0.12813296914100647, 0.10927286744117737, 0.874182939529419, 0.40070563554763794, 0.2671370804309845, 0.10017640888690948, 0.23374496400356293, 0.9849801659584045, 0.9591127038002014, 0.021313615143299103, 0.7322091460227966, 0.0960274264216423, 0.1320377141237259, 0.03601028397679329, 0.3690454363822937, 0.4920606017112732, 0.02460302971303463, 0.1230151504278183, 0.8450489044189453, 0.8456758260726929, 0.8447019457817078, 0.17327561974525452, 0.6353439092636108, 0.05775853991508484, 0.11551707983016968, 0.755770206451416, 0.1615094393491745, 0.8075472116470337, 0.9806364178657532, 0.9805956482887268, 0.9806678891181946, 0.09366944432258606, 0.18733888864517212, 0.65568608045578, 0.12236955016851425, 0.7342172861099243, 0.15373891592025757, 0.7686945796012878, 0.16357535123825073, 0.10905022919178009, 0.6543014049530029, 0.10905022919178009, 0.9805755615234375, 0.27461472153663635, 0.38446059823036194, 0.24715325236320496, 0.05492294579744339, 0.9806792140007019, 0.9806259274482727, 0.7506693005561829, 0.12511155009269714, 0.10926497727632523, 0.8741198182106018, 0.7554338574409485, 0.12590564787387848, 0.12590564787387848, 0.8318228125572205, 0.20795570313930511, 0.1753007173538208, 0.7012028694152832, 0.5295243263244629, 0.25519245862960815, 0.10207698494195938, 0.11483660340309143, 0.05485285073518753, 0.6582342386245728, 0.05485285073518753, 0.21941140294075012, 0.7077630758285522, 0.17694076895713806, 0.17694076895713806, 0.15954796969890594, 0.15954796969890594, 0.5983048677444458, 0.07977398484945297, 0.7817978858947754, 0.7607941627502441, 0.19019854068756104, 0.7557567358016968, 0.10471398383378983, 0.26178497076034546, 0.05235699191689491, 0.5235699415206909, 0.6779025793075562, 0.22596752643585205, 0.18728217482566833, 0.3537552058696747, 0.24970956146717072, 0.20809130370616913, 0.24682362377643585, 0.12341181188821793, 0.617059051990509, 0.16244825720787048, 0.8122413158416748, 0.8979308009147644, 0.4806627035140991, 0.25446850061416626, 0.028274277225136757, 0.22619421780109406, 0.7817776799201965, 0.755757212638855, 0.8197387456893921, 0.8456631302833557, 0.16223454475402832, 0.8111727237701416, 0.8978923559188843, 0.7471940517425537, 0.24906468391418457, 0.7471566200256348, 0.24905219674110413, 0.7477043867111206, 0.1403149962425232, 0.47707098722457886, 0.05612599849700928, 0.33675599098205566, 0.6826938390731812, 0.12265148758888245, 0.15331435203552246, 0.6439203023910522, 0.09198861569166183, 0.1971552073955536, 0.3450216054916382, 0.3203772306442261, 0.0985776036977768, 0.8197323679924011, 0.6077775359153748, 0.22662891447544098, 0.12361577153205872, 0.041205257177352905, 0.7248765230178833, 0.21087317168712616, 0.02635914646089077, 0.03953871876001358, 0.8196907639503479, 0.7557539343833923, 0.8445864915847778, 0.771621823310852, 0.15432435274124146, 0.7714869379997253, 0.15429739654064178, 0.781710147857666, 0.1563420295715332, 0.7817390561103821, 0.15634781122207642, 0.781690239906311, 0.15633805096149445, 0.20907382667064667, 0.6969127655029297, 0.13938255608081818, 0.20930618047714233, 0.6976872682571411, 0.13953745365142822, 0.1878645420074463, 0.6888366341590881, 0.12524302303791046, 0.18776792287826538, 0.688482403755188, 0.12517862021923065, 0.17178654670715332, 0.4402030408382416, 0.09662993252277374, 0.27915313839912415, 0.2405654639005661, 0.6014136672019958, 0.18103888630867004, 0.46552857756614685, 0.10345079004764557, 0.24569563567638397, 0.070792056620121, 0.283168226480484, 0.070792056620121, 0.566336452960968, 0.7557491064071655, 0.897763729095459, 0.9805667400360107, 0.15344443917274475, 0.7672221660614014, 0.8220655918121338, 0.20551639795303345, 0.7416719198226929, 0.7416136264801025, 0.3657649755477905, 0.2738240361213684, 0.1459062397480011, 0.2138625830411911, 0.08684080839157104, 0.1736816167831421, 0.08684080839157104, 0.6078856587409973, 0.12811915576457977, 0.42706388235092163, 0.25623831152915955, 0.19217874109745026, 0.22922083735466003, 0.6876625418663025, 0.1737121194601059, 0.1737121194601059, 0.08685605973005295, 0.60799241065979, 0.12817351520061493, 0.6408675909042358, 0.12817351520061493, 0.12817351520061493, 0.8197124600410461, 0.14581723511219025, 0.5468146204948425, 0.03645430877804756, 0.2916344702243805, 0.338018000125885, 0.4436486065387726, 0.10563062131404877, 0.12675674259662628, 0.05936560034751892, 0.23746240139007568, 0.5936560034751892, 0.11873120069503784, 0.20955555140972137, 0.3619596064090729, 0.3238585889339447, 0.11430303007364273, 0.6659783124923706, 0.18499396741390228, 0.11099638044834137, 0.03699879348278046, 0.397236168384552, 0.27265915274620056, 0.09637090563774109, 0.23270048201084137, 0.807338535785675, 0.05871552973985672, 0.01467888243496418, 0.11743105947971344, 0.5819519758224487, 0.14155587553977966, 0.14155587553977966, 0.14155587553977966, 0.1340240240097046, 0.2680480480194092, 0.0670120120048523, 0.46908408403396606, 0.1716168373823166, 0.40759000182151794, 0.23597316443920135, 0.1930689513683319, 0.1611080914735794, 0.8055404424667358, 0.2019881010055542, 0.6059643030166626, 0.14171533286571503, 0.28343066573143005, 0.5196228623390198, 0.04723844304680824], \"Term\": [\"\\uac00\\uc744\", \"\\uac00\\uc744\", \"\\uac00\\uc744\", \"\\uac15\\ubcc0\", \"\\uac15\\uc6d0\", \"\\uac15\\uc6d0\\ub3c4\", \"\\uac15\\uc6d0\\ub3c4\\uc5ec\\ud589\", \"\\uac15\\uc6d0\\ub3c4\\uc5ec\\ud589\\ucf54\\uc2a4\", \"\\uac15\\uc77c\", \"\\uac15\\uc77c\\uc9c0\\uad6c\", \"\\uacf5\\uc5f0\", \"\\uacf5\\uc5f0\", \"\\uacf5\\uc5f0\", \"\\uacf5\\uc5f0\", \"\\uad6c\\ub9e4\", \"\\uad6c\\ub9e4\", \"\\uad6c\\ub9e4\", \"\\uad6d\\ub0b4\\ud799\\ud569\", \"\\uad6d\\ub0b4\\ud799\\ud569\", \"\\uad6d\\ub0b4\\ud799\\ud569\", \"\\uad6d\\ub0b4\\ud799\\ud569\", \"\\uad6d\\ud799\", \"\\uad6d\\ud799\", \"\\uad6d\\ud799\", \"\\uad6d\\ud799\", \"\\uadf8\\ub7a8\", \"\\uadf8\\ub7a8\", \"\\uadf8\\ub7a8\", \"\\uadf8\\ub7a8\", \"\\uadf8\\ub808\\uc774\", \"\\uadf8\\ub9bc\", \"\\uadf8\\ub9bc\", \"\\uadf8\\ub9bc\", \"\\uae30\\ub85d\", \"\\uae40\\ub18d\\ubc00\", \"\\ub178\\ub798\", \"\\ub178\\ub798\", \"\\ub178\\ub798\", \"\\ub178\\ub798\", \"\\ub178\\ub798\\ub9db\\uc9d1\", \"\\ub178\\ub798\\uc2a4\\ud0c0\\uadf8\\ub7a8\", \"\\ub178\\ub798\\uc2a4\\ud0c0\\uadf8\\ub7a8\", \"\\ub178\\ub798\\ucd94\\ucc9c\", \"\\ub178\\ub798\\ucd94\\ucc9c\", \"\\ub178\\ub798\\ucd94\\ucc9c\", \"\\ub178\\ub798\\ucd94\\ucc9c\", \"\\ub2c8\\ud06c\", \"\\ub300\\ud559\\ub85c\", \"\\ub300\\ud559\\ub85c\", \"\\ub304\\uc2a4\", \"\\ub304\\uc2a4\", \"\\ub304\\uc2a4\", \"\\ub304\\uc2a4\", \"\\ub370\\uc77c\\ub9ac\", \"\\ub370\\uc77c\\ub9ac\", \"\\ub370\\uc77c\\ub9ac\", \"\\ub370\\uc77c\\ub9ac\", \"\\ub370\\uc77c\\ub9ac\\uadf8\\ub7a8\", \"\\ub370\\uc77c\\ub9ac\\uadf8\\ub7a8\", \"\\ub370\\uc77c\\ub9ac\\uadf8\\ub7a8\", \"\\ub370\\uc77c\\ub9ac\\uadf8\\ub7a8\", \"\\ub370\\uc77c\\ub9ac\\ub8e9\", \"\\ub370\\uc77c\\ub9ac\\ub8e9\", \"\\ub3c4\\ub11b\", \"\\ub3d9\\ud574\", \"\\ub3d9\\ud574\\ubc14\", \"\\ub3d9\\ud574\\uc220\\uc9d1\", \"\\ub3d9\\ud574\\uc5ec\\ud589\", \"\\ub3d9\\ud574\\uce75\\ud14c\\uc77c\", \"\\ub3d9\\ud574\\ud38d\", \"\\ub4c0\\uc2f1\", \"\\ub4c0\\uc2f1\", \"\\ub514\\uc81c\\uc774\", \"\\ub514\\uc81c\\uc774\", \"\\ub514\\uc81c\\uc774\", \"\\ub514\\uc81c\\uc774\\ud30c\\ud2f0\", \"\\ub798\\ud37c\", \"\\ub798\\ud37c\", \"\\ub798\\ud37c\", \"\\ub798\\ud37c\", \"\\ub7ec\\uc2a4\\ud2b8\", \"\\ub7ec\\uc2a4\\ud2b8\", \"\\ub7ec\\uc2a4\\ud2b8\", \"\\ub808\\uac8c\", \"\\ub808\\uac8c\", \"\\ub808\\uac8c\\uc74c\\uc545\", \"\\ub808\\uc774\\ud130\", \"\\ub808\\uc774\\ud130\", \"\\ub9ac\\ubdf0\", \"\\ub9ac\\ubdf0\", \"\\ub9ac\\uc2a4\\ud2b8\", \"\\ub9ac\\uc2a4\\ud2b8\", \"\\ub9ac\\uc2a4\\ud2b8\", \"\\ub9ac\\uc2a4\\ud2b8\", \"\\ub9c8\\ube14\", \"\\uba54\\uc774\\ud0b9\", \"\\uba54\\uc774\\ud0b9\", \"\\ubaa8\\uc784\", \"\\ubaa8\\uc784\", \"\\ubb34\\ub300\", \"\\ubb34\\ub300\", \"\\ubb34\\ub300\", \"\\ubba4\\uc9c0\\uc158\", \"\\ubba4\\uc9c0\\uc158\", \"\\ubba4\\uc9c0\\uc158\", \"\\ubba4\\uc9c0\\uc158\", \"\\ubba4\\uc9c1\", \"\\ubba4\\uc9c1\", \"\\ubba4\\uc9c1\", \"\\ubba4\\uc9c1\", \"\\ubbf8\\ub2c8\", \"\\ubbf8\\ub2c8\\uc568\\ubc94\", \"\\ubbf8\\uc0ac\\uc220\\uc9d1\", \"\\ubbff\\uc74c\", \"\\ubc34\\ub4dc\\ud799\\ud569\", \"\\ubc34\\ub4dc\\ud799\\ud569\", \"\\ubc84\\uc800\\ube44\\ud2b8\", \"\\ubc84\\uc800\\ube44\\ud2b8\", \"\\ubc84\\uc800\\ube44\\ud2b8\\ud398\\uc2a4\\ud2f0\\ubc8c\", \"\\ubc84\\uc800\\ube44\\ud2b8\\ud398\\uc2a4\\ud2f0\\ubc8c\", \"\\ubd80\\uc0b0\\ubba4\\uc9c0\\uc158\", \"\\ubd80\\uc0b0\\uc74c\\uc545\\ucee4\\ubba4\\ub2c8\\ud2f0\", \"\\ubd80\\uc0b0\\ucee4\\ubba4\\ub2c8\\ud2f0\\ud504\\ub85c\", \"\\ube14\\ub799\\ubba4\\uc9c1\\uc218\\uc9d1\", \"\\ube14\\ub799\\ubba4\\uc9c1\\uc218\\uc9d1\", \"\\ube44\\uc640\\uc774\", \"\\ube44\\uc640\\uc774\", \"\\ube44\\uc640\\uc774\", \"\\ube44\\uc640\\uc774\", \"\\ube44\\ud2b8\", \"\\ube44\\ud2b8\", \"\\ube44\\ud2b8\", \"\\ube44\\ud2b8\", \"\\ube44\\ud2b8\\uba54\\uc774\\ud0b9\", \"\\ube44\\ud2b8\\uba54\\uc774\\ud0b9\", \"\\ube44\\ud2b8\\uba54\\uc774\\ud0b9\\ub808\\uc2a8\", \"\\uc0ac\\uc6b4\\ub4dc\", \"\\uc0ac\\uc6b4\\ub4dc\", \"\\uc0ac\\uc6b4\\ub4dc\", \"\\uc0ac\\uc6b4\\ub4dc\", \"\\uc0ac\\uc6b4\\ub4dc\\ud074\\ub77c\\uc6b0\\ub4dc\\ub798\\ud37c\", \"\\uc11c\\uba74\\uc74c\\uc545\\ucee4\\ubba4\\ub2c8\\ud2f0\", \"\\uc11c\\uba74\\ud06c\\ub77c\\uc6b4\\ud38d\", \"\\uc120\\uace1\", \"\\uc120\\uace1\", \"\\uc120\\uace1\", \"\\uc120\\uace1\", \"\\uc120\\uace1\\ud45c\", \"\\uc120\\uace1\\ud45c\", \"\\uc120\\uace1\\ud45c\", \"\\uc120\\uace1\\ud45c\", \"\\uc18c\\uadf9\\uc7a5\", \"\\uc18c\\uadf9\\uc7a5\", \"\\uc18c\\ud1b5\", \"\\uc18c\\ud1b5\", \"\\uc18c\\ud1b5\", \"\\uc18c\\ud1b5\", \"\\uc190\\ud1b1\", \"\\uc218\\uba74\", \"\\uc218\\uba74\", \"\\uc218\\uba74\\uc9c4\\ub2f4\", \"\\uc218\\uba74\\uc9c4\\ub2f4\", \"\\uc218\\uc9d1\", \"\\uc218\\uc9d1\", \"\\uc218\\uc9d1\", \"\\uc218\\uc9d1\", \"\\uc218\\uc9d1\\uac00\", \"\\uc218\\uc9d1\\uac00\", \"\\uc2a4\\uc640\", \"\\uc2a4\\ud0c0\", \"\\uc2a4\\ud0c0\", \"\\uc2a4\\ud0c0\", \"\\uc2a4\\ud0c0\", \"\\uc2a4\\ud0c0\\uc77c\", \"\\uc2a4\\ud0c0\\uc77c\", \"\\uc2a4\\ud0c0\\uc77c\", \"\\uc2a4\\ud0c0\\uc77c\", \"\\uc2a4\\ud1a0\\ub9ac\", \"\\uc2a4\\ud1a0\\ub9ac\", \"\\uc2a4\\ud1a0\\ub9ac\\ud154\\ub7ec\", \"\\uc2a4\\ud1a4\", \"\\uc2a4\\ud2b8\", \"\\uc2a4\\ud2b8\", \"\\uc2a4\\ud2b8\", \"\\uc2a4\\ud2b8\", \"\\uc2a4\\ud2b8\\ub9bf\", \"\\uc2a4\\ud2b8\\ub9bf\", \"\\uc2a4\\ud2b8\\ub9bf\", \"\\uc2a4\\ud2b8\\ub9bf\", \"\\uc2a4\\ud2b8\\ub9bf\\uc6e8\\uc5b4\", \"\\uc2a4\\ud2b8\\ub9bf\\ud328\\uc158\", \"\\uc2a4\\ud2b8\\ub9bf\\ud328\\uc158\", \"\\uc2a4\\ud2b8\\ub9bf\\ud328\\uc158\", \"\\uc2dc\\uac04\", \"\\uc2dc\\uac04\", \"\\uc2f1\\uae00\\uc568\\ubc94\", \"\\uc54c\\uc564\\ube44\", \"\\uc564\\ube44\", \"\\uc564\\ube44\", \"\\uc564\\ube44\", \"\\uc568\\ubc94\", \"\\uc568\\ubc94\", \"\\uc568\\ubc94\", \"\\uc568\\ubc94\", \"\\uc591\\uc8fc\\ub9db\\uc9d1\", \"\\uc5ec\\ud589\\uae30\", \"\\uc5ec\\ud589\\uae30\", \"\\uc5f0\\uc2b5\", \"\\uc608\\uc220\\uc6d0\", \"\\uc608\\uc220\\uc6d0\", \"\\uc624\\ub298\", \"\\uc624\\ub298\", \"\\uc624\\ub298\", \"\\uc624\\ub298\", \"\\uc624\\uc624\\ud2f0\\ub514\", \"\\uc624\\ud4f8\", \"\\uc624\\ud504\\ub8e8\\ud2b8\\ud398\\uc2a4\\ud2b8\", \"\\uc624\\ud53c\", \"\\uc624\\ud53c\\uc6c0\", \"\\uc624\\ud53c\\uc6c0\\ud074\\ub7fd\", \"\\uc624\\ud6c4\", \"\\uc640\\uc774\", \"\\uc640\\uc774\", \"\\uc640\\uc774\", \"\\uc640\\uc774\", \"\\uc678\\uad6d\", \"\\uc678\\uad6d\\ud799\\ud569\", \"\\uc678\\ud799\", \"\\uc678\\ud799\", \"\\uc6d0\\ud1a4\", \"\\uc6e8\\uc5b4\", \"\\uc720\\ub2c8\", \"\\uc720\\ub2c8\", \"\\uc720\\ub2c8\", \"\\uc720\\ub2c8\\ud06c\", \"\\uc74c\\ubc18\", \"\\uc74c\\ubc18\", \"\\uc74c\\ubc18\", \"\\uc74c\\ubc18\", \"\\uc74c\\ubc18\\uad6c\\ub9e4\", \"\\uc74c\\ubc18\\uad6c\\ub9e4\", \"\\uc74c\\ubc18\\uc218\\uc9d1\", \"\\uc74c\\ubc18\\uc218\\uc9d1\", \"\\uc74c\\ubc18\\uc218\\uc9d1\", \"\\uc74c\\ubc18\\uc218\\uc9d1\", \"\\uc74c\\ubc18\\uc815\\ub9ac\", \"\\uc74c\\ubc18\\uc815\\ub9ac\", \"\\uc74c\\uc545\", \"\\uc74c\\uc545\", \"\\uc74c\\uc545\", \"\\uc74c\\uc545\", \"\\uc74c\\uc545\\uae30\\ub85d\", \"\\uc74c\\uc545\\ub9ac\\ubdf0\", \"\\uc74c\\uc545\\ub9ac\\ubdf0\", \"\\uc74c\\uc545\\uc2a4\\ud0c0\\uadf8\\ub7a8\", \"\\uc74c\\uc545\\uc2a4\\ud0c0\\uadf8\\ub7a8\", \"\\uc74c\\uc545\\uc2a4\\ud0c0\\uadf8\\ub7a8\", \"\\uc74c\\uc545\\uc2a4\\ud0c0\\uadf8\\ub7a8\", \"\\uc74c\\uc545\\ucd94\\ucc9c\", \"\\uc74c\\uc545\\ucd94\\ucc9c\", \"\\uc74c\\uc545\\ucd94\\ucc9c\", \"\\uc74c\\uc545\\ucd94\\ucc9c\", \"\\uc74c\\uc545\\ucee4\\ubba4\\ub2c8\\ud2f0\", \"\\uc74c\\uc545\\ud0d0\\uad6c\", \"\\uc774\\uc57c\\uae30\\ud558\\ub2e4\", \"\\uc774\\ud0dc\\uc6d0\", \"\\uc774\\ud0dc\\uc6d0\", \"\\uc774\\ud0dc\\uc6d0\", \"\\uc774\\ud0dc\\uc6d0\", \"\\uc774\\ud0dc\\uc6d0\\uc624\\ud53c\\uc6c0\", \"\\uc774\\ud0dc\\uc6d0\\ud799\\ud569\\ud074\\ub7fd\", \"\\uc774\\ud0dc\\uc6d0\\ud799\\ud569\\ud074\\ub7fd\", \"\\uc778\\uc870\", \"\\uc778\\uc870\\uc190\\ud1b1\", \"\\uc77c\\ub514\\uc790\\uc778\", \"\\uc77c\\ub7ec\\uc2a4\\ud2b8\", \"\\uc77c\\ub7ec\\uc2a4\\ud2b8\", \"\\uc77c\\ub7ec\\uc2a4\\ud2b8\", \"\\uc77c\\ub7ec\\uc2a4\\ud2b8\\ub808\\uc774\\ud130\", \"\\uc77c\\ub7ec\\uc2a4\\ud2b8\\ub808\\uc774\\ud130\", \"\\uc77c\\ub7ec\\uc2a4\\ud2b8\\ub808\\uc774\\ud130\\ud638\\uc9c4\", \"\\uc77c\\ub7ec\\uc2a4\\ud2b8\\ub808\\uc774\\ud130\\ud638\\uc9c4\", \"\\uc77c\\ub9ac\", \"\\uc77c\\ub9ac\", \"\\uc77c\\ub9ac\", \"\\uc77c\\ub9ac\", \"\\uc77c\\ubcf8\", \"\\uc77c\\uc0c1\", \"\\uc77c\\uc0c1\", \"\\uc77c\\uc0c1\", \"\\uc77c\\uc0c1\", \"\\uc77c\\uc544\\ud2b8\\ub514\\uc790\\uc778\", \"\\uc77c\\ud301\", \"\\uc7a5\\ub974\", \"\\uc7a5\\ub974\", \"\\uc815\\ub9ac\", \"\\uc815\\ub9ac\", \"\\uc870\\uad11\", \"\\uc870\\uad11\", \"\\uc870\\uad11\", \"\\uc911\\ub3c5\", \"\\uc911\\ub3c5\", \"\\uc9c4\\ub2f4\", \"\\uc9c4\\ub2f4\", \"\\ucd94\\ucc9c\", \"\\ucd94\\ucc9c\", \"\\ucd94\\ucc9c\", \"\\ucd94\\ucc9c\", \"\\ucd94\\ucc9c\\uace1\", \"\\ucd94\\ucc9c\\uace1\", \"\\ucd94\\ucc9c\\uace1\", \"\\ucd94\\ucc9c\\uace1\", \"\\uce5c\\uad6c\", \"\\uce5c\\uad6c\", \"\\uce5c\\uad6c\", \"\\uce74\\ud398\", \"\\uce74\\ud398\", \"\\uce74\\ud398\", \"\\uce74\\ud398\", \"\\uce90\\uc2ac\", \"\\ucee4\\ubba4\\ub2c8\\ud2f0\", \"\\ucee4\\ubba4\\ub2c8\\ud2f0\", \"\\ucee4\\ubba4\\ub2c8\\ud2f0\\ubaa8\\uc784\\ucd94\\ucc9c\", \"\\ucee4\\ubc84\", \"\\ucee4\\ubc84\", \"\\ucee4\\ubc84\", \"\\ucee4\\ubc84\", \"\\ucf54\\ub514\", \"\\ucf54\\ub514\", \"\\ucf58\\uc11c\\ud2b8\", \"\\ucf58\\uc11c\\ud2b8\", \"\\ucf58\\uc11c\\ud2b8\", \"\\ucf58\\uc11c\\ud2b8\", \"\\ucf5c\\ub77c\", \"\\ucf5c\\ub77c\", \"\\ucf5c\\ub77c\", \"\\ud06c\\ub77c\\uc6b4\", \"\\ud06c\\ub77c\\uc6b4\", \"\\ud06c\\ub77c\\uc6b4\\ud38d\", \"\\ud074\\ub77c\\uc6b0\\ub4dc\", \"\\ud074\\ub77c\\uc6b0\\ub4dc\", \"\\ud074\\ub77c\\uc6b0\\ub4dc\", \"\\ud074\\ub77c\\uc6b0\\ub4dc\", \"\\ud074\\ub77c\\uc6b0\\ub4dc\\uce90\\uc2ac\", \"\\ud074\\ub7fd\\uacf5\\uc5f0\", \"\\ud0a4\\uc624\", \"\\ud0d0\\uad6c\", \"\\ud1a0\\uc694\\uc77c\", \"\\ud1a0\\uc694\\uc77c\", \"\\ud1a0\\uc694\\uc77c\\uc624\\ud6c4\\uc2dc\", \"\\ud2b8\\ub808\\ub4dc\", \"\\ud2b8\\ub808\\ub4dc\", \"\\ud2b8\\ub808\\ub4dc\\ub9c8\\ud06c\", \"\\ud2b8\\ub808\\ub4dc\\ub9c8\\ud06c\", \"\\ud2f0\\uc2a4\", \"\\ud2f0\\uc2a4\\ud2b8\", \"\\ud2f0\\uc2a4\\ud2b8\", \"\\ud2f0\\uc2a4\\ud2b8\", \"\\ud2f0\\uc2a4\\ud2b8\", \"\\ud30c\\uc774\", \"\\ud328\\uc158\", \"\\ud328\\uc158\", \"\\ud328\\uc158\", \"\\ud328\\uc158\", \"\\ud398\\uc2a4\\ud2f0\\ubc8c\", \"\\ud398\\uc2a4\\ud2f0\\ubc8c\", \"\\ud398\\uc2a4\\ud2f0\\ubc8c\", \"\\ud398\\uc2a4\\ud2f0\\ubc8c\", \"\\ud504\\ub85c\\ub4c0\\uc2f1\\ub808\\uc2a8\\uc624\\ud508\", \"\\ud50c\\ub808\\uc774\", \"\\ud50c\\ub808\\uc774\", \"\\ud50c\\ub808\\uc774\", \"\\ud50c\\ub808\\uc774\", \"\\ud50c\\ub808\\uc774\\ub9ac\\uc2a4\\ud2b8\", \"\\ud50c\\ub808\\uc774\\ub9ac\\uc2a4\\ud2b8\", \"\\ud50c\\ub808\\uc774\\ub9ac\\uc2a4\\ud2b8\", \"\\ud50c\\ub808\\uc774\\ub9ac\\uc2a4\\ud2b8\", \"\\ud558\\ub0a8\\ud56b\\ud50c\", \"\\ud558\\ub298\", \"\\ud558\\ub2e4\", \"\\ud558\\uba74\", \"\\ud558\\uba74\", \"\\ud558\\uba74\\ub9de\\ud314\", \"\\ud558\\uba74\\ub9de\\ud314\", \"\\ud558\\uc6b0\\uc2a4\\ub304\\uc2a4\", \"\\ud558\\uc6b0\\uc2a4\\ub304\\uc2a4\", \"\\ud558\\uc6b0\\uc2a4\\ubba4\\uc9c1\", \"\\ud558\\uc6b0\\uc2a4\\ubba4\\uc9c1\", \"\\ud558\\uc6b0\\uc2a4\\uc74c\\uc545\", \"\\ud558\\uc6b0\\uc2a4\\uc74c\\uc545\", \"\\ud558\\uc774\\ub77c\\uc774\\ud2b8\", \"\\ud558\\uc774\\ub77c\\uc774\\ud2b8\", \"\\ud558\\uc774\\ub77c\\uc774\\ud2b8\", \"\\ud558\\uc774\\ub77c\\uc774\\ud2b8\\ub808\\ucf54\\uc988\", \"\\ud558\\uc774\\ub77c\\uc774\\ud2b8\\ub808\\ucf54\\uc988\", \"\\ud558\\uc774\\ub77c\\uc774\\ud2b8\\ub808\\ucf54\\uc988\", \"\\ud558\\uc774\\uc5b4\", \"\\ud558\\uc774\\uc5b4\", \"\\ud558\\uc774\\uc5b4\", \"\\ud558\\uc774\\uc5b4\\ubba4\\uc9c1\", \"\\ud558\\uc774\\uc5b4\\ubba4\\uc9c1\", \"\\ud558\\uc774\\uc5b4\\ubba4\\uc9c1\", \"\\ud55c\\uad6d\", \"\\ud55c\\uad6d\", \"\\ud55c\\uad6d\", \"\\ud55c\\uad6d\", \"\\ud55c\\uad6d\\uc608\\uc220\\uc6d0\", \"\\ud55c\\uad6d\\uc608\\uc220\\uc6d0\", \"\\ud55c\\uad6d\\ud799\\ud569\", \"\\ud55c\\uad6d\\ud799\\ud569\", \"\\ud55c\\uad6d\\ud799\\ud569\", \"\\ud55c\\uad6d\\ud799\\ud569\", \"\\ud55c\\uad6d\\ud799\\ud569\\ucd94\\ucc9c\", \"\\ud55c\\uad6d\\ud799\\ud569\\ucd94\\ucc9c\", \"\\ud55c\\uad6d\\ud799\\ud569\\ucd94\\ucc9c\", \"\\ud55c\\uad6d\\ud799\\ud569\\ucd94\\ucc9c\", \"\\ud560\\ub85c\\uc708\", \"\\ud5e4\\ub974\\uce20\", \"\\ud638\\ubc15\", \"\\ud638\\uc9c4\", \"\\ud638\\uc9c4\", \"\\ud658\\uc601\", \"\\ud658\\uc601\", \"\\ud799\\uc2a4\", \"\\ud799\\uc2a4\\ud53c\", \"\\ud799\\ud569\", \"\\ud799\\ud569\", \"\\ud799\\ud569\", \"\\ud799\\ud569\", \"\\ud799\\ud569\\uace1\\ucd94\\ucc9c\", \"\\ud799\\ud569\\uace1\\ucd94\\ucc9c\", \"\\ud799\\ud569\\uace1\\ucd94\\ucc9c\", \"\\ud799\\ud569\\uace1\\ucd94\\ucc9c\", \"\\ud799\\ud569\\uacf5\\uc5f0\", \"\\ud799\\ud569\\uacf5\\uc5f0\", \"\\ud799\\ud569\\uacf5\\uc5f0\", \"\\ud799\\ud569\\uacf5\\uc5f0\", \"\\ud799\\ud569\\ub178\\ub798\", \"\\ud799\\ud569\\ub178\\ub798\", \"\\ud799\\ud569\\ub178\\ub798\\ucd94\\ucc9c\", \"\\ud799\\ud569\\ub178\\ub798\\ucd94\\ucc9c\", \"\\ud799\\ud569\\ub178\\ub798\\ucd94\\ucc9c\", \"\\ud799\\ud569\\ub178\\ub798\\ucd94\\ucc9c\", \"\\ud799\\ud569\\ub355\\ud6c4\", \"\\ud799\\ud569\\ub355\\ud6c4\", \"\\ud799\\ud569\\ub355\\ud6c4\", \"\\ud799\\ud569\\ub355\\ud6c4\", \"\\ud799\\ud569\\ub808\\uc2a8\", \"\\ud799\\ud569\\ubba4\\uc9c0\\uc158\", \"\\ud799\\ud569\\ubba4\\uc9c0\\uc158\", \"\\ud799\\ud569\\ubba4\\uc9c0\\uc158\", \"\\ud799\\ud569\\ubba4\\uc9c0\\uc158\", \"\\ud799\\ud569\\ubba4\\uc9c1\", \"\\ud799\\ud569\\ubba4\\uc9c1\", \"\\ud799\\ud569\\ubba4\\uc9c1\", \"\\ud799\\ud569\\ubba4\\uc9c1\", \"\\ud799\\ud569\\ube44\\ud2b8\", \"\\ud799\\ud569\\ube44\\ud2b8\", \"\\ud799\\ud569\\ube44\\ud2b8\", \"\\ud799\\ud569\\ube44\\ud2b8\", \"\\ud799\\ud569\\uc2a4\\ud0c0\\uadf8\\ub7a8\", \"\\ud799\\ud569\\uc2a4\\ud0c0\\uadf8\\ub7a8\", \"\\ud799\\ud569\\uc2a4\\ud0c0\\uadf8\\ub7a8\", \"\\ud799\\ud569\\uc2a4\\ud0c0\\uadf8\\ub7a8\", \"\\ud799\\ud569\\uc568\\ubc94\", \"\\ud799\\ud569\\uc568\\ubc94\", \"\\ud799\\ud569\\uc568\\ubc94\", \"\\ud799\\ud569\\uc568\\ubc94\", \"\\ud799\\ud569\\uc74c\\uc545\", \"\\ud799\\ud569\\uc74c\\uc545\", \"\\ud799\\ud569\\uc74c\\uc545\", \"\\ud799\\ud569\\uc74c\\uc545\", \"\\ud799\\ud569\\uc74c\\uc545\\ucd94\\ucc9c\", \"\\ud799\\ud569\\uc74c\\uc545\\ucd94\\ucc9c\", \"\\ud799\\ud569\\uc74c\\uc545\\ucd94\\ucc9c\", \"\\ud799\\ud569\\uc74c\\uc545\\ucd94\\ucc9c\", \"\\ud799\\ud569\\ucd94\\ucc9c\", \"\\ud799\\ud569\\ucd94\\ucc9c\", \"\\ud799\\ud569\\ucd94\\ucc9c\", \"\\ud799\\ud569\\ucd94\\ucc9c\", \"\\ud799\\ud569\\ucd94\\ucc9c\\uace1\", \"\\ud799\\ud569\\ucd94\\ucc9c\\uace1\", \"\\ud799\\ud569\\ucd94\\ucc9c\\uace1\", \"\\ud799\\ud569\\ucd94\\ucc9c\\uace1\", \"\\ud799\\ud569\\ucf58\\uc11c\\ud2b8\", \"\\ud799\\ud569\\ucf58\\uc11c\\ud2b8\", \"\\ud799\\ud569\\ucf58\\uc11c\\ud2b8\", \"\\ud799\\ud569\\ucf58\\uc11c\\ud2b8\", \"\\ud799\\ud569\\ud074\\ub7fd\", \"\\ud799\\ud569\\ud074\\ub7fd\", \"\\ud799\\ud569\\ud504\\ub85c\\ub4c0\\uc2f1\", \"\\ud799\\ud569\\ud504\\ub85c\\ub4c0\\uc2f1\", \"\\ud799\\ud569\\ud50c\\ub808\\uc774\", \"\\ud799\\ud569\\ud50c\\ub808\\uc774\", \"\\ud799\\ud569\\ud50c\\ub808\\uc774\", \"\\ud799\\ud569\\ud50c\\ub808\\uc774\"]}, \"R\": 30, \"lambda.step\": 0.01, \"plot.opts\": {\"xlab\": \"PC1\", \"ylab\": \"PC2\"}, \"topic.order\": [3, 2, 4, 1]};\n",
       "\n",
       "function LDAvis_load_lib(url, callback){\n",
       "  var s = document.createElement('script');\n",
       "  s.src = url;\n",
       "  s.async = true;\n",
       "  s.onreadystatechange = s.onload = callback;\n",
       "  s.onerror = function(){console.warn(\"failed to load library \" + url);};\n",
       "  document.getElementsByTagName(\"head\")[0].appendChild(s);\n",
       "}\n",
       "\n",
       "if(typeof(LDAvis) !== \"undefined\"){\n",
       "   // already loaded: just create the visualization\n",
       "   !function(LDAvis){\n",
       "       new LDAvis(\"#\" + \"ldavis_el2263628058886323926236854929\", ldavis_el2263628058886323926236854929_data);\n",
       "   }(LDAvis);\n",
       "}else if(typeof define === \"function\" && define.amd){\n",
       "   // require.js is available: use it to load d3/LDAvis\n",
       "   require.config({paths: {d3: \"https://cdnjs.cloudflare.com/ajax/libs/d3/3.5.5/d3.min\"}});\n",
       "   require([\"d3\"], function(d3){\n",
       "      window.d3 = d3;\n",
       "      LDAvis_load_lib(\"https://cdn.rawgit.com/bmabey/pyLDAvis/files/ldavis.v1.0.0.js\", function(){\n",
       "        new LDAvis(\"#\" + \"ldavis_el2263628058886323926236854929\", ldavis_el2263628058886323926236854929_data);\n",
       "      });\n",
       "    });\n",
       "}else{\n",
       "    // require.js not available: dynamically load d3 & LDAvis\n",
       "    LDAvis_load_lib(\"https://cdnjs.cloudflare.com/ajax/libs/d3/3.5.5/d3.min.js\", function(){\n",
       "         LDAvis_load_lib(\"https://cdn.rawgit.com/bmabey/pyLDAvis/files/ldavis.v1.0.0.js\", function(){\n",
       "                 new LDAvis(\"#\" + \"ldavis_el2263628058886323926236854929\", ldavis_el2263628058886323926236854929_data);\n",
       "            })\n",
       "         });\n",
       "}\n",
       "</script>"
      ],
      "text/plain": [
       "PreparedData(topic_coordinates=              x         y  topics  cluster       Freq\n",
       "topic                                                \n",
       "2      0.111188 -0.072471       1        1  32.649189\n",
       "1     -0.005255  0.035901       2        1  26.713314\n",
       "3     -0.138006 -0.041591       3        1  20.432205\n",
       "0      0.032073  0.078160       4        1  20.205290, topic_info=      Term       Freq      Total Category  logprob  loglift\n",
       "1119    기록  55.000000  55.000000  Default  30.0000  30.0000\n",
       "720     외힙  59.000000  59.000000  Default  29.0000  29.0000\n",
       "1416    외국  54.000000  54.000000  Default  28.0000  28.0000\n",
       "1417  외국힙합  54.000000  54.000000  Default  27.0000  27.0000\n",
       "1418  음악기록  54.000000  54.000000  Default  26.0000  26.0000\n",
       "...    ...        ...        ...      ...      ...      ...\n",
       "288   노래추천   9.369967  77.954666   Topic4  -5.5739  -0.5194\n",
       "18    클라우드   8.355199  35.367836   Topic4  -5.6886   0.1563\n",
       "5      사운드   8.221413  30.704395   Topic4  -5.7047   0.2816\n",
       "114   힙합추천   8.500297  63.579132   Topic4  -5.6713  -0.4130\n",
       "662     국힙   8.439049  94.690880   Topic4  -5.6786  -0.8185\n",
       "\n",
       "[303 rows x 6 columns], token_table=      Topic      Freq    Term\n",
       "term                         \n",
       "350       1  0.092816      가을\n",
       "350       3  0.835343      가을\n",
       "350       4  0.092816      가을\n",
       "316       4  0.819732      강변\n",
       "2397      3  0.799328      강원\n",
       "...     ...       ...     ...\n",
       "134       4  0.605964  힙합프로듀싱\n",
       "117       1  0.141715   힙합플레이\n",
       "117       2  0.283431   힙합플레이\n",
       "117       3  0.519623   힙합플레이\n",
       "117       4  0.047238   힙합플레이\n",
       "\n",
       "[496 rows x 3 columns], R=30, lambda_step=0.01, plot_opts={'xlab': 'PC1', 'ylab': 'PC2'}, topic_order=[3, 2, 4, 1])"
      ]
     },
     "execution_count": 61,
     "metadata": {},
     "output_type": "execute_result"
    }
   ],
   "source": [
    "import pyLDAvis\n",
    "import pyLDAvis.gensim\n",
    "\n",
    "pyLDAvis.enable_notebook()\n",
    "vis = pyLDAvis.gensim.prepare(ldamodel,corpus,dictionary)\n",
    "vis"
   ]
  },
  {
   "cell_type": "code",
   "execution_count": 62,
   "metadata": {},
   "outputs": [
    {
     "data": {
      "text/html": [
       "<div>\n",
       "<style scoped>\n",
       "    .dataframe tbody tr th:only-of-type {\n",
       "        vertical-align: middle;\n",
       "    }\n",
       "\n",
       "    .dataframe tbody tr th {\n",
       "        vertical-align: top;\n",
       "    }\n",
       "\n",
       "    .dataframe thead th {\n",
       "        text-align: right;\n",
       "    }\n",
       "</style>\n",
       "<table border=\"1\" class=\"dataframe\">\n",
       "  <thead>\n",
       "    <tr style=\"text-align: right;\">\n",
       "      <th></th>\n",
       "      <th>0</th>\n",
       "      <th>1</th>\n",
       "    </tr>\n",
       "  </thead>\n",
       "  <tbody>\n",
       "    <tr>\n",
       "      <th>0</th>\n",
       "      <td>힙합</td>\n",
       "      <td>0.029135</td>\n",
       "    </tr>\n",
       "    <tr>\n",
       "      <th>1</th>\n",
       "      <td>그램</td>\n",
       "      <td>0.019682</td>\n",
       "    </tr>\n",
       "    <tr>\n",
       "      <th>2</th>\n",
       "      <td>음악</td>\n",
       "      <td>0.017893</td>\n",
       "    </tr>\n",
       "    <tr>\n",
       "      <th>3</th>\n",
       "      <td>스타</td>\n",
       "      <td>0.017560</td>\n",
       "    </tr>\n",
       "    <tr>\n",
       "      <th>4</th>\n",
       "      <td>힙합음악</td>\n",
       "      <td>0.016594</td>\n",
       "    </tr>\n",
       "    <tr>\n",
       "      <th>...</th>\n",
       "      <td>...</td>\n",
       "      <td>...</td>\n",
       "    </tr>\n",
       "    <tr>\n",
       "      <th>2471</th>\n",
       "      <td>에이체스</td>\n",
       "      <td>0.000084</td>\n",
       "    </tr>\n",
       "    <tr>\n",
       "      <th>2472</th>\n",
       "      <td>천안역</td>\n",
       "      <td>0.000084</td>\n",
       "    </tr>\n",
       "    <tr>\n",
       "      <th>2473</th>\n",
       "      <td>아이돌지망생</td>\n",
       "      <td>0.000084</td>\n",
       "    </tr>\n",
       "    <tr>\n",
       "      <th>2474</th>\n",
       "      <td>순두부치즈</td>\n",
       "      <td>0.000084</td>\n",
       "    </tr>\n",
       "    <tr>\n",
       "      <th>2475</th>\n",
       "      <td>제주흑돼지</td>\n",
       "      <td>0.000084</td>\n",
       "    </tr>\n",
       "  </tbody>\n",
       "</table>\n",
       "<p>2476 rows × 2 columns</p>\n",
       "</div>"
      ],
      "text/plain": [
       "           0         1\n",
       "0         힙합  0.029135\n",
       "1         그램  0.019682\n",
       "2         음악  0.017893\n",
       "3         스타  0.017560\n",
       "4       힙합음악  0.016594\n",
       "...      ...       ...\n",
       "2471    에이체스  0.000084\n",
       "2472     천안역  0.000084\n",
       "2473  아이돌지망생  0.000084\n",
       "2474   순두부치즈  0.000084\n",
       "2475   제주흑돼지  0.000084\n",
       "\n",
       "[2476 rows x 2 columns]"
      ]
     },
     "execution_count": 62,
     "metadata": {},
     "output_type": "execute_result"
    }
   ],
   "source": [
    "kk = ldamodel.show_topic(3,topn=80000)\n",
    "type(ldamodel.show_topic)\n",
    "kk2=pd.DataFrame(kk)\n",
    "kk2"
   ]
  },
  {
   "cell_type": "code",
   "execution_count": null,
   "metadata": {},
   "outputs": [],
   "source": []
  }
 ],
 "metadata": {
  "kernelspec": {
   "display_name": "Python 3",
   "language": "python",
   "name": "python3"
  },
  "language_info": {
   "codemirror_mode": {
    "name": "ipython",
    "version": 3
   },
   "file_extension": ".py",
   "mimetype": "text/x-python",
   "name": "python",
   "nbconvert_exporter": "python",
   "pygments_lexer": "ipython3",
   "version": "3.7.6"
  }
 },
 "nbformat": 4,
 "nbformat_minor": 4
}
